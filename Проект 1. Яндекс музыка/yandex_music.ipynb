{
 "cells": [
  {
   "cell_type": "markdown",
   "metadata": {
    "deletable": false,
    "editable": false,
    "id": "E0vqbgi9ay0H"
   },
   "source": [
    "# Яндекс Музыка"
   ]
  },
  {
   "cell_type": "markdown",
   "metadata": {
    "deletable": false,
    "editable": false,
    "id": "VUC88oWjTJw2"
   },
   "source": [
    "Сравнение Москвы и Петербурга окружено мифами. Например:\n",
    " * Москва — мегаполис, подчинённый жёсткому ритму рабочей недели;\n",
    " * Петербург — культурная столица, со своими вкусами.\n",
    "\n",
    "На данных Яндекс Музыки вы сравните поведение пользователей двух столиц.\n",
    "\n",
    "**Цель исследования** — проверьте три гипотезы:\n",
    "1. Активность пользователей зависит от дня недели. Причём в Москве и Петербурге это проявляется по-разному.\n",
    "2. В понедельник утром в Москве преобладают одни жанры, а в Петербурге — другие. Так же и вечером пятницы преобладают разные жанры — в зависимости от города.\n",
    "3. Москва и Петербург предпочитают разные жанры музыки. В Москве чаще слушают поп-музыку, в Петербурге — русский рэп.\n",
    "\n",
    "**Ход исследования**\n",
    "\n",
    "Данные о поведении пользователей вы получите из файла `yandex_music_project.csv`. О качестве данных ничего не известно. Поэтому перед проверкой гипотез понадобится обзор данных.\n",
    "\n",
    "Вы проверите данные на ошибки и оцените их влияние на исследование. Затем, на этапе предобработки вы поищете возможность исправить самые критичные ошибки данных.\n",
    "\n",
    "Таким образом, исследование пройдёт в три этапа:\n",
    " 1. Обзор данных.\n",
    " 2. Предобработка данных.\n",
    " 3. Проверка гипотез.\n",
    "\n"
   ]
  },
  {
   "cell_type": "markdown",
   "metadata": {
    "deletable": false,
    "editable": false,
    "id": "Ml1hmfXC_Zcs"
   },
   "source": [
    "## Обзор данных\n",
    "\n",
    "Составьте первое представление о данных Яндекс Музыки.\n",
    "\n",
    "\n"
   ]
  },
  {
   "cell_type": "markdown",
   "metadata": {
    "deletable": false,
    "editable": false,
    "id": "57eAOGIz_Zcs",
    "tags": [
     "start_task"
    ]
   },
   "source": [
    "**Задание 1**"
   ]
  },
  {
   "cell_type": "code",
   "execution_count": 1,
   "metadata": {
    "deletable": false,
    "id": "AXN7PHPN_Zcs"
   },
   "outputs": [],
   "source": [
    "import pandas as pd # импорт библиотеки pandas"
   ]
  },
  {
   "cell_type": "markdown",
   "metadata": {
    "deletable": false,
    "editable": false,
    "id": "SG23P8tt_Zcs",
    "tags": [
     "start_task"
    ]
   },
   "source": [
    "**Задание 2**"
   ]
  },
  {
   "cell_type": "code",
   "execution_count": 2,
   "metadata": {
    "deletable": false,
    "id": "fFVu7vqh_Zct"
   },
   "outputs": [],
   "source": [
    "df = pd.read_csv('/datasets/yandex_music_project.csv') # чтение файла с данными и сохранение в df"
   ]
  },
  {
   "cell_type": "markdown",
   "metadata": {
    "deletable": false,
    "editable": false,
    "id": "rDoOMd3uTqnZ",
    "tags": [
     "start_task"
    ]
   },
   "source": [
    "**Задание 3**"
   ]
  },
  {
   "cell_type": "code",
   "execution_count": 3,
   "metadata": {
    "deletable": false,
    "id": "oWTVX3gW_Zct"
   },
   "outputs": [
    {
     "name": "stdout",
     "output_type": "stream",
     "text": [
      "     userID                        Track            artist   genre  \\\n",
      "0  FFB692EC            Kamigata To Boots  The Mass Missile    rock   \n",
      "1  55204538  Delayed Because of Accident  Andreas Rönnberg    rock   \n",
      "2    20EC38            Funiculì funiculà       Mario Lanza     pop   \n",
      "3  A3DD03C9        Dragons in the Sunset        Fire + Ice    folk   \n",
      "4  E2DC1FAE                  Soul People        Space Echo   dance   \n",
      "5  842029A1                    Преданная         IMPERVTOR  rusrap   \n",
      "6  4CB90AA5                         True      Roman Messer   dance   \n",
      "7  F03E1C1F             Feeling This Way   Polina Griffith   dance   \n",
      "8  8FA1D3BE     И вновь продолжается бой               NaN  ruspop   \n",
      "9  E772D5C0                    Pessimist               NaN   dance   \n",
      "\n",
      "             City        time        Day  \n",
      "0  Saint-Petersburg  20:28:33  Wednesday  \n",
      "1            Moscow  14:07:09     Friday  \n",
      "2  Saint-Petersburg  20:58:07  Wednesday  \n",
      "3  Saint-Petersburg  08:37:09     Monday  \n",
      "4            Moscow  08:34:34     Monday  \n",
      "5  Saint-Petersburg  13:09:41     Friday  \n",
      "6            Moscow  13:00:07  Wednesday  \n",
      "7            Moscow  20:47:49  Wednesday  \n",
      "8            Moscow  09:17:40     Friday  \n",
      "9  Saint-Petersburg  21:20:49  Wednesday  \n"
     ]
    }
   ],
   "source": [
    "print (df.head(10)) # получение первых 10 строк таблицы df"
   ]
  },
  {
   "cell_type": "markdown",
   "metadata": {
    "deletable": false,
    "editable": false,
    "id": "EO73Kwic_Zct",
    "tags": [
     "start_task"
    ]
   },
   "source": [
    "**Задание 4**"
   ]
  },
  {
   "cell_type": "code",
   "execution_count": 4,
   "metadata": {
    "deletable": false,
    "id": "DSf2kIb-_Zct"
   },
   "outputs": [
    {
     "name": "stdout",
     "output_type": "stream",
     "text": [
      "<class 'pandas.core.frame.DataFrame'>\n",
      "RangeIndex: 65079 entries, 0 to 65078\n",
      "Data columns (total 7 columns):\n",
      " #   Column    Non-Null Count  Dtype \n",
      "---  ------    --------------  ----- \n",
      " 0     userID  65079 non-null  object\n",
      " 1   Track     63848 non-null  object\n",
      " 2   artist    57876 non-null  object\n",
      " 3   genre     63881 non-null  object\n",
      " 4     City    65079 non-null  object\n",
      " 5   time      65079 non-null  object\n",
      " 6   Day       65079 non-null  object\n",
      "dtypes: object(7)\n",
      "memory usage: 3.5+ MB\n"
     ]
    }
   ],
   "source": [
    "df.info() # получение общей информации о данных в таблице df"
   ]
  },
  {
   "cell_type": "markdown",
   "metadata": {
    "deletable": false,
    "editable": false,
    "id": "TaQ2Iwbr_Zct"
   },
   "source": [
    "Количество значений в столбцах различается. Значит, в данных есть пропущенные значения."
   ]
  },
  {
   "cell_type": "markdown",
   "metadata": {
    "deletable": false,
    "editable": false,
    "id": "4P0UCWzswgEm",
    "tags": [
     "start_task"
    ]
   },
   "source": [
    "**Задание 5**"
   ]
  },
  {
   "cell_type": "code",
   "execution_count": 5,
   "metadata": {
    "id": "c137-ZstwgEm"
   },
   "outputs": [],
   "source": [
    "#В названииях столбцов нет нижних подчеркиваний, названия лучше изменить на более понятные. Например, 'artist' на 'artist_name' и тд.# Напишите ваш ответ здесь комментарием. Не удаляйте символ #. Не меняйте тип этой ячейки на Markdown."
   ]
  },
  {
   "cell_type": "markdown",
   "metadata": {
    "deletable": false,
    "editable": false,
    "id": "MCB6-dXG_Zct"
   },
   "source": [
    "**Выводы**\n",
    "\n",
    "В каждой строке таблицы — данные о прослушанном треке. Часть колонок описывает саму композицию: название, исполнителя и жанр. Остальные данные рассказывают о пользователе: из какого он города, когда он слушал музыку.\n",
    "\n",
    "Предварительно можно утверждать, что данных достаточно для проверки гипотез. Но встречаются пропуски в данных, а в названиях колонок — расхождения с хорошим стилем.\n",
    "\n",
    "Чтобы двигаться дальше, нужно устранить проблемы в данных."
   ]
  },
  {
   "cell_type": "markdown",
   "metadata": {
    "deletable": false,
    "editable": false,
    "id": "SjYF6Ub9_Zct"
   },
   "source": [
    "## Предобработка данных"
   ]
  },
  {
   "cell_type": "markdown",
   "metadata": {
    "deletable": false,
    "editable": false,
    "id": "dIaKXr29_Zct",
    "tags": [
     "start_task"
    ]
   },
   "source": [
    "### Переименование столбцов\n",
    "\n",
    "**Задание 6**"
   ]
  },
  {
   "cell_type": "code",
   "execution_count": 6,
   "metadata": {
    "deletable": false,
    "id": "oKOTdF_Q_Zct"
   },
   "outputs": [
    {
     "data": {
      "text/plain": [
       "Index(['  userID', 'Track', 'artist', 'genre', '  City  ', 'time', 'Day'], dtype='object')"
      ]
     },
     "execution_count": 6,
     "metadata": {},
     "output_type": "execute_result"
    }
   ],
   "source": [
    "df.columns # перечень названий столбцов таблицы df"
   ]
  },
  {
   "cell_type": "markdown",
   "metadata": {
    "deletable": false,
    "editable": false,
    "id": "zj5534cv_Zct",
    "tags": [
     "start_task"
    ]
   },
   "source": [
    "**Задание 7**"
   ]
  },
  {
   "cell_type": "code",
   "execution_count": 7,
   "metadata": {
    "deletable": false,
    "id": "ISlFqs5y_Zct"
   },
   "outputs": [],
   "source": [
    "df = df.rename (columns={'  userID': 'user_id', 'Track': 'track', '  City  ': 'city', 'Day': 'day'})# переименование столбцов"
   ]
  },
  {
   "cell_type": "markdown",
   "metadata": {
    "deletable": false,
    "editable": false,
    "id": "1dqbh00J_Zct",
    "tags": [
     "start_task"
    ]
   },
   "source": [
    "**Задание 8**"
   ]
  },
  {
   "cell_type": "code",
   "execution_count": 8,
   "metadata": {
    "deletable": false,
    "id": "d4NOAmTW_Zct"
   },
   "outputs": [
    {
     "data": {
      "text/plain": [
       "Index(['user_id', 'track', 'artist', 'genre', 'city', 'time', 'day'], dtype='object')"
      ]
     },
     "execution_count": 8,
     "metadata": {},
     "output_type": "execute_result"
    }
   ],
   "source": [
    "df.columns # проверка результатов - перечень названий столбцов"
   ]
  },
  {
   "cell_type": "markdown",
   "metadata": {
    "deletable": false,
    "editable": false,
    "id": "5ISfbcfY_Zct",
    "tags": [
     "start_task"
    ]
   },
   "source": [
    "### Обработка пропущенных значений\n",
    "\n",
    "**Задание 9**"
   ]
  },
  {
   "cell_type": "code",
   "execution_count": 9,
   "metadata": {
    "deletable": false,
    "id": "RskX29qr_Zct"
   },
   "outputs": [
    {
     "data": {
      "text/plain": [
       "user_id       0\n",
       "track      1231\n",
       "artist     7203\n",
       "genre      1198\n",
       "city          0\n",
       "time          0\n",
       "day           0\n",
       "dtype: int64"
      ]
     },
     "execution_count": 9,
     "metadata": {},
     "output_type": "execute_result"
    }
   ],
   "source": [
    "df.isna().sum() # подсчёт пропусков"
   ]
  },
  {
   "cell_type": "markdown",
   "metadata": {
    "deletable": false,
    "editable": false,
    "id": "fSv2laPA_Zct",
    "tags": [
     "start_task"
    ]
   },
   "source": [
    "**Задание 10**"
   ]
  },
  {
   "cell_type": "code",
   "execution_count": 10,
   "metadata": {
    "deletable": false,
    "id": "KplB5qWs_Zct"
   },
   "outputs": [],
   "source": [
    "columns_to_replace = ['track', 'artist', 'genre']\n",
    "for column in columns_to_replace:\n",
    "    df[column] = df[column].fillna('unknown')\n",
    "     # замена пропущенных значений на 'unknown'"
   ]
  },
  {
   "cell_type": "markdown",
   "metadata": {
    "deletable": false,
    "editable": false,
    "id": "Ilsm-MZo_Zct",
    "tags": [
     "start_task"
    ]
   },
   "source": [
    "**Задание 11**"
   ]
  },
  {
   "cell_type": "code",
   "execution_count": 11,
   "metadata": {
    "deletable": false,
    "id": "Tq4nYRX4_Zct"
   },
   "outputs": [
    {
     "data": {
      "text/plain": [
       "user_id    0\n",
       "track      0\n",
       "artist     0\n",
       "genre      0\n",
       "city       0\n",
       "time       0\n",
       "day        0\n",
       "dtype: int64"
      ]
     },
     "execution_count": 11,
     "metadata": {},
     "output_type": "execute_result"
    }
   ],
   "source": [
    "df.isna().sum() # проверка на отсутствие пропусков"
   ]
  },
  {
   "cell_type": "markdown",
   "metadata": {
    "deletable": false,
    "editable": false,
    "id": "BWKRtBJ3_Zct",
    "tags": [
     "start_task"
    ]
   },
   "source": [
    "### Обработка дубликатов\n",
    "\n",
    "**Задание 12**"
   ]
  },
  {
   "cell_type": "code",
   "execution_count": 12,
   "metadata": {
    "deletable": false,
    "id": "36eES_S0_Zct"
   },
   "outputs": [
    {
     "data": {
      "text/plain": [
       "3826"
      ]
     },
     "execution_count": 12,
     "metadata": {},
     "output_type": "execute_result"
    }
   ],
   "source": [
    "df.duplicated().sum() # подсчёт явных дубликатов"
   ]
  },
  {
   "cell_type": "markdown",
   "metadata": {
    "deletable": false,
    "editable": false,
    "id": "Ot25h6XR_Zct",
    "tags": [
     "start_task"
    ]
   },
   "source": [
    "**Задание 13**"
   ]
  },
  {
   "cell_type": "code",
   "execution_count": 13,
   "metadata": {
    "deletable": false,
    "id": "exFHq6tt_Zct"
   },
   "outputs": [],
   "source": [
    "df = df.drop_duplicates().reset_index(drop=True)\n",
    "# удаление явных дубликатов, создание новых индексов и удаление старых"
   ]
  },
  {
   "cell_type": "markdown",
   "metadata": {
    "deletable": false,
    "editable": false,
    "id": "Im2YwBEG_Zct",
    "tags": [
     "start_task"
    ]
   },
   "source": [
    "**Задание 14**"
   ]
  },
  {
   "cell_type": "code",
   "execution_count": 14,
   "metadata": {
    "deletable": false,
    "id": "-8PuNWQ0_Zct"
   },
   "outputs": [
    {
     "data": {
      "text/plain": [
       "0"
      ]
     },
     "execution_count": 14,
     "metadata": {},
     "output_type": "execute_result"
    }
   ],
   "source": [
    "df.duplicated().sum() # проверка на отсутствие явных дубликатов"
   ]
  },
  {
   "cell_type": "markdown",
   "metadata": {
    "deletable": false,
    "editable": false,
    "id": "eSjWwsOh_Zct",
    "tags": [
     "start_task"
    ]
   },
   "source": [
    "**Задание 15**"
   ]
  },
  {
   "cell_type": "code",
   "execution_count": 15,
   "metadata": {
    "deletable": false,
    "id": "JIUcqzZN_Zct"
   },
   "outputs": [
    {
     "data": {
      "text/plain": [
       "array(['acid', 'acoustic', 'action', 'adult', 'africa', 'afrikaans',\n",
       "       'alternative', 'alternativepunk', 'ambient', 'americana',\n",
       "       'animated', 'anime', 'arabesk', 'arabic', 'arena',\n",
       "       'argentinetango', 'art', 'audiobook', 'author', 'avantgarde',\n",
       "       'axé', 'baile', 'balkan', 'beats', 'bigroom', 'black', 'bluegrass',\n",
       "       'blues', 'bollywood', 'bossa', 'brazilian', 'breakbeat', 'breaks',\n",
       "       'broadway', 'cantautori', 'cantopop', 'canzone', 'caribbean',\n",
       "       'caucasian', 'celtic', 'chamber', 'chanson', 'children', 'chill',\n",
       "       'chinese', 'choral', 'christian', 'christmas', 'classical',\n",
       "       'classicmetal', 'club', 'colombian', 'comedy', 'conjazz',\n",
       "       'contemporary', 'country', 'cuban', 'dance', 'dancehall',\n",
       "       'dancepop', 'dark', 'death', 'deep', 'deutschrock', 'deutschspr',\n",
       "       'dirty', 'disco', 'dnb', 'documentary', 'downbeat', 'downtempo',\n",
       "       'drum', 'dub', 'dubstep', 'eastern', 'easy', 'electronic',\n",
       "       'electropop', 'emo', 'entehno', 'epicmetal', 'estrada', 'ethnic',\n",
       "       'eurofolk', 'european', 'experimental', 'extrememetal', 'fado',\n",
       "       'fairytail', 'film', 'fitness', 'flamenco', 'folk', 'folklore',\n",
       "       'folkmetal', 'folkrock', 'folktronica', 'forró', 'frankreich',\n",
       "       'französisch', 'french', 'funk', 'future', 'gangsta', 'garage',\n",
       "       'german', 'ghazal', 'gitarre', 'glitch', 'gospel', 'gothic',\n",
       "       'grime', 'grunge', 'gypsy', 'handsup', \"hard'n'heavy\", 'hardcore',\n",
       "       'hardstyle', 'hardtechno', 'hip', 'hip-hop', 'hiphop',\n",
       "       'historisch', 'holiday', 'hop', 'horror', 'house', 'hymn', 'idm',\n",
       "       'independent', 'indian', 'indie', 'indipop', 'industrial',\n",
       "       'inspirational', 'instrumental', 'international', 'irish', 'jam',\n",
       "       'japanese', 'jazz', 'jewish', 'jpop', 'jungle', 'k-pop',\n",
       "       'karadeniz', 'karaoke', 'kayokyoku', 'korean', 'laiko', 'latin',\n",
       "       'latino', 'leftfield', 'local', 'lounge', 'loungeelectronic',\n",
       "       'lovers', 'malaysian', 'mandopop', 'marschmusik', 'meditative',\n",
       "       'mediterranean', 'melodic', 'metal', 'metalcore', 'mexican',\n",
       "       'middle', 'minimal', 'miscellaneous', 'modern', 'mood', 'mpb',\n",
       "       'muslim', 'native', 'neoklassik', 'neue', 'new', 'newage',\n",
       "       'newwave', 'nu', 'nujazz', 'numetal', 'oceania', 'old', 'opera',\n",
       "       'orchestral', 'other', 'piano', 'podcasts', 'pop', 'popdance',\n",
       "       'popelectronic', 'popeurodance', 'poprussian', 'post',\n",
       "       'posthardcore', 'postrock', 'power', 'progmetal', 'progressive',\n",
       "       'psychedelic', 'punjabi', 'punk', 'quebecois', 'ragga', 'ram',\n",
       "       'rancheras', 'rap', 'rave', 'reggae', 'reggaeton', 'regional',\n",
       "       'relax', 'religious', 'retro', 'rhythm', 'rnb', 'rnr', 'rock',\n",
       "       'rockabilly', 'rockalternative', 'rockindie', 'rockother',\n",
       "       'romance', 'roots', 'ruspop', 'rusrap', 'rusrock', 'russian',\n",
       "       'salsa', 'samba', 'scenic', 'schlager', 'self', 'sertanejo',\n",
       "       'shanson', 'shoegazing', 'showtunes', 'singer', 'ska', 'skarock',\n",
       "       'slow', 'smooth', 'soft', 'soul', 'soulful', 'sound', 'soundtrack',\n",
       "       'southern', 'specialty', 'speech', 'spiritual', 'sport',\n",
       "       'stonerrock', 'surf', 'swing', 'synthpop', 'synthrock',\n",
       "       'sängerportrait', 'tango', 'tanzorchester', 'taraftar', 'tatar',\n",
       "       'tech', 'techno', 'teen', 'thrash', 'top', 'traditional',\n",
       "       'tradjazz', 'trance', 'tribal', 'trip', 'triphop', 'tropical',\n",
       "       'türk', 'türkçe', 'ukrrock', 'unknown', 'urban', 'uzbek',\n",
       "       'variété', 'vi', 'videogame', 'vocal', 'western', 'world',\n",
       "       'worldbeat', 'ïîï', 'электроника'], dtype=object)"
      ]
     },
     "execution_count": 15,
     "metadata": {},
     "output_type": "execute_result"
    }
   ],
   "source": [
    "sorted_= df['genre'].sort_values()\n",
    "\n",
    "sorted_.unique()\n",
    "\n",
    "# просмотр уникальных отсортированных названий жанров"
   ]
  },
  {
   "cell_type": "markdown",
   "metadata": {
    "deletable": false,
    "editable": false,
    "id": "qej-Qmuo_Zct",
    "tags": [
     "start_task"
    ]
   },
   "source": [
    "**Задание 16**"
   ]
  },
  {
   "cell_type": "code",
   "execution_count": 16,
   "metadata": {
    "deletable": false,
    "id": "ErNDkmns_Zct"
   },
   "outputs": [],
   "source": [
    "duplicates = ['hip', 'hop', 'hip-hop']\n",
    "genre = 'hiphop'\n",
    "df['genre'] = df ['genre'].replace(duplicates, genre)\n",
    "# устранение неявных дубликатов"
   ]
  },
  {
   "cell_type": "markdown",
   "metadata": {
    "deletable": false,
    "editable": false,
    "id": "zQKF16_RG15m",
    "tags": [
     "start_task"
    ]
   },
   "source": [
    "**Задание 17**"
   ]
  },
  {
   "cell_type": "code",
   "execution_count": 17,
   "metadata": {
    "deletable": false,
    "id": "wvixALnFG15m"
   },
   "outputs": [
    {
     "data": {
      "text/plain": [
       "array(['acid', 'acoustic', 'action', 'adult', 'africa', 'afrikaans',\n",
       "       'alternative', 'alternativepunk', 'ambient', 'americana',\n",
       "       'animated', 'anime', 'arabesk', 'arabic', 'arena',\n",
       "       'argentinetango', 'art', 'audiobook', 'author', 'avantgarde',\n",
       "       'axé', 'baile', 'balkan', 'beats', 'bigroom', 'black', 'bluegrass',\n",
       "       'blues', 'bollywood', 'bossa', 'brazilian', 'breakbeat', 'breaks',\n",
       "       'broadway', 'cantautori', 'cantopop', 'canzone', 'caribbean',\n",
       "       'caucasian', 'celtic', 'chamber', 'chanson', 'children', 'chill',\n",
       "       'chinese', 'choral', 'christian', 'christmas', 'classical',\n",
       "       'classicmetal', 'club', 'colombian', 'comedy', 'conjazz',\n",
       "       'contemporary', 'country', 'cuban', 'dance', 'dancehall',\n",
       "       'dancepop', 'dark', 'death', 'deep', 'deutschrock', 'deutschspr',\n",
       "       'dirty', 'disco', 'dnb', 'documentary', 'downbeat', 'downtempo',\n",
       "       'drum', 'dub', 'dubstep', 'eastern', 'easy', 'electronic',\n",
       "       'electropop', 'emo', 'entehno', 'epicmetal', 'estrada', 'ethnic',\n",
       "       'eurofolk', 'european', 'experimental', 'extrememetal', 'fado',\n",
       "       'fairytail', 'film', 'fitness', 'flamenco', 'folk', 'folklore',\n",
       "       'folkmetal', 'folkrock', 'folktronica', 'forró', 'frankreich',\n",
       "       'französisch', 'french', 'funk', 'future', 'gangsta', 'garage',\n",
       "       'german', 'ghazal', 'gitarre', 'glitch', 'gospel', 'gothic',\n",
       "       'grime', 'grunge', 'gypsy', 'handsup', \"hard'n'heavy\", 'hardcore',\n",
       "       'hardstyle', 'hardtechno', 'hiphop', 'historisch', 'holiday',\n",
       "       'horror', 'house', 'hymn', 'idm', 'independent', 'indian', 'indie',\n",
       "       'indipop', 'industrial', 'inspirational', 'instrumental',\n",
       "       'international', 'irish', 'jam', 'japanese', 'jazz', 'jewish',\n",
       "       'jpop', 'jungle', 'k-pop', 'karadeniz', 'karaoke', 'kayokyoku',\n",
       "       'korean', 'laiko', 'latin', 'latino', 'leftfield', 'local',\n",
       "       'lounge', 'loungeelectronic', 'lovers', 'malaysian', 'mandopop',\n",
       "       'marschmusik', 'meditative', 'mediterranean', 'melodic', 'metal',\n",
       "       'metalcore', 'mexican', 'middle', 'minimal', 'miscellaneous',\n",
       "       'modern', 'mood', 'mpb', 'muslim', 'native', 'neoklassik', 'neue',\n",
       "       'new', 'newage', 'newwave', 'nu', 'nujazz', 'numetal', 'oceania',\n",
       "       'old', 'opera', 'orchestral', 'other', 'piano', 'podcasts', 'pop',\n",
       "       'popdance', 'popelectronic', 'popeurodance', 'poprussian', 'post',\n",
       "       'posthardcore', 'postrock', 'power', 'progmetal', 'progressive',\n",
       "       'psychedelic', 'punjabi', 'punk', 'quebecois', 'ragga', 'ram',\n",
       "       'rancheras', 'rap', 'rave', 'reggae', 'reggaeton', 'regional',\n",
       "       'relax', 'religious', 'retro', 'rhythm', 'rnb', 'rnr', 'rock',\n",
       "       'rockabilly', 'rockalternative', 'rockindie', 'rockother',\n",
       "       'romance', 'roots', 'ruspop', 'rusrap', 'rusrock', 'russian',\n",
       "       'salsa', 'samba', 'scenic', 'schlager', 'self', 'sertanejo',\n",
       "       'shanson', 'shoegazing', 'showtunes', 'singer', 'ska', 'skarock',\n",
       "       'slow', 'smooth', 'soft', 'soul', 'soulful', 'sound', 'soundtrack',\n",
       "       'southern', 'specialty', 'speech', 'spiritual', 'sport',\n",
       "       'stonerrock', 'surf', 'swing', 'synthpop', 'synthrock',\n",
       "       'sängerportrait', 'tango', 'tanzorchester', 'taraftar', 'tatar',\n",
       "       'tech', 'techno', 'teen', 'thrash', 'top', 'traditional',\n",
       "       'tradjazz', 'trance', 'tribal', 'trip', 'triphop', 'tropical',\n",
       "       'türk', 'türkçe', 'ukrrock', 'unknown', 'urban', 'uzbek',\n",
       "       'variété', 'vi', 'videogame', 'vocal', 'western', 'world',\n",
       "       'worldbeat', 'ïîï', 'электроника'], dtype=object)"
      ]
     },
     "execution_count": 17,
     "metadata": {},
     "output_type": "execute_result"
    }
   ],
   "source": [
    "df['genre'].sort_values().unique()\n",
    "# проверка на отсутствие неявных дубликатов"
   ]
  },
  {
   "cell_type": "markdown",
   "metadata": {
    "deletable": false,
    "editable": false,
    "id": "jz6a9-7HQUDd"
   },
   "source": [
    "**Выводы**\n",
    "\n",
    "Предобработка обнаружила три проблемы в данных:\n",
    "\n",
    "- нарушения в стиле заголовков,\n",
    "- пропущенные значения,\n",
    "- дубликаты — явные и неявные.\n",
    "\n",
    "Вы исправили заголовки, чтобы упростить работу с таблицей. Без дубликатов исследование станет более точным.\n",
    "\n",
    "Пропущенные значения вы заменили на `'unknown'`. Ещё предстоит увидеть, не повредят ли исследованию пропуски в колонке `genre`.\n",
    "\n",
    "Теперь можно перейти к проверке гипотез."
   ]
  },
  {
   "cell_type": "markdown",
   "metadata": {
    "deletable": false,
    "editable": false,
    "id": "WttZHXH0SqKk"
   },
   "source": [
    "## Проверка гипотез"
   ]
  },
  {
   "cell_type": "markdown",
   "metadata": {
    "deletable": false,
    "editable": false,
    "id": "Im936VVi_Zcu"
   },
   "source": [
    "### Сравнение поведения пользователей двух столиц"
   ]
  },
  {
   "cell_type": "markdown",
   "metadata": {
    "deletable": false,
    "editable": false,
    "id": "nwt_MuaL_Zcu"
   },
   "source": [
    "Первая гипотеза утверждает, что пользователи по-разному слушают музыку в Москве и Санкт-Петербурге. Проверим это предположение по данным о трёх днях недели — понедельнике, среде и пятнице. Для этого:\n",
    "\n",
    "* Разделим пользователей Москвы и Санкт-Петербурга.\n",
    "* Сравним, сколько треков послушала каждая группа пользователей в понедельник, среду и пятницу.\n"
   ]
  },
  {
   "cell_type": "markdown",
   "metadata": {
    "deletable": false,
    "id": "8Dw_YMmT_Zcu",
    "tags": [
     "start_task"
    ]
   },
   "source": [
    "**Задание 18**\n",
    "\n"
   ]
  },
  {
   "cell_type": "code",
   "execution_count": 18,
   "metadata": {
    "deletable": false,
    "id": "0_Qs96oh_Zcu"
   },
   "outputs": [
    {
     "data": {
      "text/plain": [
       "city\n",
       "Moscow              42741\n",
       "Saint-Petersburg    18512\n",
       "Name: user_id, dtype: int64"
      ]
     },
     "execution_count": 18,
     "metadata": {},
     "output_type": "execute_result"
    }
   ],
   "source": [
    "df.groupby('city')['user_id'].count()\n",
    "# подсчёт прослушиваний в каждом городе"
   ]
  },
  {
   "cell_type": "markdown",
   "metadata": {
    "id": "dzli3w8o_Zcu",
    "tags": [
     "start_task"
    ]
   },
   "source": [
    "**Задание 19**\n"
   ]
  },
  {
   "cell_type": "code",
   "execution_count": 19,
   "metadata": {
    "deletable": false,
    "id": "uZMKjiJz_Zcu"
   },
   "outputs": [
    {
     "data": {
      "text/plain": [
       "day\n",
       "Friday       21840\n",
       "Monday       21354\n",
       "Wednesday    18059\n",
       "Name: user_id, dtype: int64"
      ]
     },
     "execution_count": 19,
     "metadata": {},
     "output_type": "execute_result"
    }
   ],
   "source": [
    "df.groupby ('day')['user_id'].count()\n",
    "# подсчёт прослушиваний в каждый из трёх дней"
   ]
  },
  {
   "cell_type": "markdown",
   "metadata": {
    "deletable": false,
    "editable": false,
    "id": "POzs8bGa_Zcu",
    "tags": [
     "start_task"
    ]
   },
   "source": [
    "**Задание 20**"
   ]
  },
  {
   "cell_type": "code",
   "execution_count": 27,
   "metadata": {
    "deletable": false,
    "id": "Nz3GdQB1_Zcu"
   },
   "outputs": [],
   "source": [
    "def number_tracks(day, city):\n",
    "    track_list = df [df['day'] == day] # выберите только строки df со значением переменной day в столбце day\n",
    "    track_list = track_list [track_list ['city'] == city] # выберите только строки track_list со значением переменной city в столбце city\n",
    "    track_list_count = track_list['user_id'].count() # вызовите метод подсчета строк для track_list и выберите столбец user_id\n",
    "    return track_list_count # верните значение track_list_count из функции"
   ]
  },
  {
   "cell_type": "markdown",
   "metadata": {
    "deletable": false,
    "editable": false,
    "id": "ytf7xFrFJQ2r",
    "tags": [
     "start_task"
    ]
   },
   "source": [
    "**Задание 21**"
   ]
  },
  {
   "cell_type": "code",
   "execution_count": 28,
   "metadata": {
    "deletable": false,
    "id": "rJcRATNQ_Zcu"
   },
   "outputs": [
    {
     "data": {
      "text/plain": [
       "15740"
      ]
     },
     "execution_count": 28,
     "metadata": {},
     "output_type": "execute_result"
    }
   ],
   "source": [
    "number_tracks('Monday', 'Moscow')\n",
    "# количество прослушиваний в Москве по понедельникам"
   ]
  },
  {
   "cell_type": "code",
   "execution_count": 29,
   "metadata": {
    "deletable": false,
    "id": "hq_ncZ5T_Zcu"
   },
   "outputs": [
    {
     "data": {
      "text/plain": [
       "5614"
      ]
     },
     "execution_count": 29,
     "metadata": {},
     "output_type": "execute_result"
    }
   ],
   "source": [
    "number_tracks('Monday', 'Saint-Petersburg')\n",
    "# количество прослушиваний в Санкт-Петербурге по понедельникам"
   ]
  },
  {
   "cell_type": "code",
   "execution_count": 30,
   "metadata": {
    "deletable": false,
    "id": "_NTy2VPU_Zcu"
   },
   "outputs": [
    {
     "data": {
      "text/plain": [
       "11056"
      ]
     },
     "execution_count": 30,
     "metadata": {},
     "output_type": "execute_result"
    }
   ],
   "source": [
    "number_tracks('Wednesday', 'Moscow')\n",
    "# количество прослушиваний в Москве по средам"
   ]
  },
  {
   "cell_type": "code",
   "execution_count": 31,
   "metadata": {
    "deletable": false,
    "id": "j2y3TAwo_Zcu"
   },
   "outputs": [
    {
     "data": {
      "text/plain": [
       "7003"
      ]
     },
     "execution_count": 31,
     "metadata": {},
     "output_type": "execute_result"
    }
   ],
   "source": [
    "number_tracks('Wednesday', 'Saint-Petersburg')\n",
    "# количество прослушиваний в Санкт-Петербурге по средам"
   ]
  },
  {
   "cell_type": "code",
   "execution_count": 32,
   "metadata": {
    "deletable": false,
    "id": "vYDw5u_K_Zcu"
   },
   "outputs": [
    {
     "data": {
      "text/plain": [
       "15945"
      ]
     },
     "execution_count": 32,
     "metadata": {},
     "output_type": "execute_result"
    }
   ],
   "source": [
    "number_tracks('Friday', 'Moscow')\n",
    "# количество прослушиваний в Москве по пятницам"
   ]
  },
  {
   "cell_type": "code",
   "execution_count": 33,
   "metadata": {
    "deletable": false,
    "id": "8_yzFtW3_Zcu"
   },
   "outputs": [
    {
     "data": {
      "text/plain": [
       "5895"
      ]
     },
     "execution_count": 33,
     "metadata": {},
     "output_type": "execute_result"
    }
   ],
   "source": [
    "number_tracks('Friday', 'Saint-Petersburg')\n",
    "# количество прослушиваний в Санкт-Петербурге по пятницам"
   ]
  },
  {
   "cell_type": "markdown",
   "metadata": {
    "deletable": false,
    "editable": false,
    "id": "7QXffbO-_Zcu",
    "tags": [
     "start_task"
    ]
   },
   "source": [
    "**Задание 22**"
   ]
  },
  {
   "cell_type": "code",
   "execution_count": 35,
   "metadata": {
    "deletable": false,
    "id": "APAcLpOr_Zcu"
   },
   "outputs": [
    {
     "data": {
      "text/html": [
       "<div>\n",
       "<style scoped>\n",
       "    .dataframe tbody tr th:only-of-type {\n",
       "        vertical-align: middle;\n",
       "    }\n",
       "\n",
       "    .dataframe tbody tr th {\n",
       "        vertical-align: top;\n",
       "    }\n",
       "\n",
       "    .dataframe thead th {\n",
       "        text-align: right;\n",
       "    }\n",
       "</style>\n",
       "<table border=\"1\" class=\"dataframe\">\n",
       "  <thead>\n",
       "    <tr style=\"text-align: right;\">\n",
       "      <th></th>\n",
       "      <th>city</th>\n",
       "      <th>monday</th>\n",
       "      <th>wednesday</th>\n",
       "      <th>friday</th>\n",
       "    </tr>\n",
       "  </thead>\n",
       "  <tbody>\n",
       "    <tr>\n",
       "      <th>0</th>\n",
       "      <td>Moscow</td>\n",
       "      <td>15740</td>\n",
       "      <td>11056</td>\n",
       "      <td>15945</td>\n",
       "    </tr>\n",
       "    <tr>\n",
       "      <th>1</th>\n",
       "      <td>Saint-Petersburg</td>\n",
       "      <td>5614</td>\n",
       "      <td>7003</td>\n",
       "      <td>5895</td>\n",
       "    </tr>\n",
       "  </tbody>\n",
       "</table>\n",
       "</div>"
      ],
      "text/plain": [
       "               city  monday  wednesday  friday\n",
       "0            Moscow   15740      11056   15945\n",
       "1  Saint-Petersburg    5614       7003    5895"
      ]
     },
     "execution_count": 35,
     "metadata": {},
     "output_type": "execute_result"
    }
   ],
   "source": [
    "data = [\n",
    "    ['Moscow', 15740, 11056, 15945],\n",
    "    ['Saint-Petersburg', 5614, 7003, 5895]\n",
    "]\n",
    "column = ['city', 'monday', 'wednesday', 'friday']\n",
    "info = pd.DataFrame (data=data, columns=column)\n",
    "info\n",
    "# создание таблицы с результатами\n",
    "# вывод таблицы на экран"
   ]
  },
  {
   "cell_type": "markdown",
   "metadata": {
    "deletable": false,
    "editable": false,
    "id": "-EgPIHYu_Zcu"
   },
   "source": [
    "**Выводы**\n",
    "\n",
    "Данные показывают разницу поведения пользователей:\n",
    "\n",
    "- В Москве пик прослушиваний приходится на понедельник и пятницу, а в среду заметен спад.\n",
    "- В Петербурге, наоборот, больше слушают музыку по средам. Активность в понедельник и пятницу здесь почти в равной мере уступает среде.\n",
    "\n",
    "Значит, данные говорят в пользу первой гипотезы."
   ]
  },
  {
   "cell_type": "markdown",
   "metadata": {
    "deletable": false,
    "editable": false,
    "id": "atZAxtq4_Zcu"
   },
   "source": [
    "### Музыка в начале и в конце недели"
   ]
  },
  {
   "cell_type": "markdown",
   "metadata": {
    "deletable": false,
    "editable": false,
    "id": "eXrQqXFH_Zcu"
   },
   "source": [
    "Согласно второй гипотезе, утром в понедельник в Москве преобладают одни жанры, а в Петербурге — другие. Так же и вечером пятницы преобладают разные жанры — в зависимости от города."
   ]
  },
  {
   "cell_type": "markdown",
   "metadata": {
    "deletable": false,
    "editable": false,
    "id": "S8UcW6Hw_Zcu",
    "tags": [
     "start_task"
    ]
   },
   "source": [
    "**Задание 23**"
   ]
  },
  {
   "cell_type": "code",
   "execution_count": 38,
   "metadata": {
    "deletable": false,
    "id": "qeaFfM_P_Zcu"
   },
   "outputs": [],
   "source": [
    "moscow_general = df [df['city']=='Moscow']\n",
    "# получение таблицы moscow_general из тех строк таблицы df, для которых значение в столбце 'city' равно 'Moscow'\n"
   ]
  },
  {
   "cell_type": "code",
   "execution_count": 48,
   "metadata": {
    "deletable": false,
    "id": "ORaVRKto_Zcu"
   },
   "outputs": [],
   "source": [
    "spb_general = df [df['city']=='Saint-Petersburg']\n",
    "# получение таблицы spb_general из тех строк таблицы df, для которых значение в столбце 'city' равно 'Saint-Petersburg'\n"
   ]
  },
  {
   "cell_type": "markdown",
   "metadata": {
    "deletable": false,
    "editable": false,
    "id": "MEJV-CX2_Zcu",
    "tags": [
     "start_task"
    ]
   },
   "source": [
    "**Задание 24**"
   ]
  },
  {
   "cell_type": "code",
   "execution_count": 49,
   "metadata": {
    "deletable": false,
    "id": "laJT9BYl_Zcu"
   },
   "outputs": [],
   "source": [
    "def genre_weekday(df, day, time1, time2):\n",
    "    # последовательная фильтрация\n",
    "    # оставляем в genre_df только те строки df, у которых день равен day\n",
    "    genre_df = df [df['day']==day] \n",
    "    # оставляем в genre_df только те строки genre_df, у которых время меньше time2\n",
    "    genre_df = genre_df [genre_df['time']<time2]\n",
    "    # оставляем в genre_df только те строки genre_df, у которых время больше time1\n",
    "    genre_df = genre_df [genre_df['time']>time1]\n",
    "    # сгруппируем отфильтрованный датафрейм по столбцу с названиями жанров, возьмём столбец genre и посчитаем кол-во строк для каждого жанра методом count()\n",
    "    genre_df_grouped = genre_df.groupby('genre')['genre'].count()\n",
    "    # отсортируем результат по убыванию (чтобы в начале Series оказались самые популярные жанры)\n",
    "    genre_df_sorted = genre_df_grouped.sort_values(ascending=False)\n",
    "    # вернём Series с 10 самыми популярными жанрами в указанный отрезок времени заданного дня\n",
    "    return genre_df_sorted[:10]"
   ]
  },
  {
   "cell_type": "markdown",
   "metadata": {
    "deletable": false,
    "editable": false,
    "id": "la2s2_PF_Zcu",
    "tags": [
     "start_task"
    ]
   },
   "source": [
    "**Задание 25**"
   ]
  },
  {
   "cell_type": "code",
   "execution_count": 50,
   "metadata": {
    "deletable": false,
    "id": "yz7itPUQ_Zcu"
   },
   "outputs": [
    {
     "data": {
      "text/plain": [
       "genre\n",
       "pop            781\n",
       "dance          549\n",
       "electronic     480\n",
       "rock           474\n",
       "hiphop         286\n",
       "ruspop         186\n",
       "world          181\n",
       "rusrap         175\n",
       "alternative    164\n",
       "unknown        161\n",
       "Name: genre, dtype: int64"
      ]
     },
     "execution_count": 50,
     "metadata": {},
     "output_type": "execute_result"
    }
   ],
   "source": [
    "genre_weekday(moscow_general, 'Monday', '07:00', '11:00')\n",
    "# вызов функции для утра понедельника в Москве (вместо df — таблица moscow_general)"
   ]
  },
  {
   "cell_type": "code",
   "execution_count": 51,
   "metadata": {
    "deletable": false,
    "id": "kwUcHPdy_Zcu"
   },
   "outputs": [
    {
     "data": {
      "text/plain": [
       "genre\n",
       "pop            218\n",
       "dance          182\n",
       "rock           162\n",
       "electronic     147\n",
       "hiphop          80\n",
       "ruspop          64\n",
       "alternative     58\n",
       "rusrap          55\n",
       "jazz            44\n",
       "classical       40\n",
       "Name: genre, dtype: int64"
      ]
     },
     "execution_count": 51,
     "metadata": {},
     "output_type": "execute_result"
    }
   ],
   "source": [
    "genre_weekday(spb_general, 'Monday', '07:00', '11:00')\n",
    "# вызов функции для утра понедельника в Петербурге (вместо df — таблица spb_general)"
   ]
  },
  {
   "cell_type": "code",
   "execution_count": 52,
   "metadata": {
    "deletable": false,
    "id": "EzXVRE1o_Zcu"
   },
   "outputs": [
    {
     "data": {
      "text/plain": [
       "genre\n",
       "pop            713\n",
       "rock           517\n",
       "dance          495\n",
       "electronic     482\n",
       "hiphop         273\n",
       "world          208\n",
       "ruspop         170\n",
       "alternative    163\n",
       "classical      163\n",
       "rusrap         142\n",
       "Name: genre, dtype: int64"
      ]
     },
     "execution_count": 52,
     "metadata": {},
     "output_type": "execute_result"
    }
   ],
   "source": [
    "genre_weekday(moscow_general, 'Friday', '17:00', '23:00')\n",
    "# вызов функции для вечера пятницы в Москве"
   ]
  },
  {
   "cell_type": "code",
   "execution_count": 53,
   "metadata": {
    "deletable": false,
    "id": "JZaEKu5v_Zcu"
   },
   "outputs": [
    {
     "data": {
      "text/plain": [
       "genre\n",
       "pop            256\n",
       "electronic     216\n",
       "rock           216\n",
       "dance          210\n",
       "hiphop          97\n",
       "alternative     63\n",
       "jazz            61\n",
       "classical       60\n",
       "rusrap          59\n",
       "world           54\n",
       "Name: genre, dtype: int64"
      ]
     },
     "execution_count": 53,
     "metadata": {},
     "output_type": "execute_result"
    }
   ],
   "source": [
    "genre_weekday(spb_general,'Friday', '17:00', '23:00')\n",
    "# вызов функции для вечера пятницы в Петербурге"
   ]
  },
  {
   "cell_type": "markdown",
   "metadata": {
    "deletable": false,
    "editable": false,
    "id": "wrCe4MNX_Zcu"
   },
   "source": [
    "**Выводы**\n",
    "\n",
    "Если сравнить топ-10 жанров в понедельник утром, можно сделать такие выводы:\n",
    "\n",
    "1. В Москве и Петербурге слушают похожую музыку. Единственное различие — в московский рейтинг вошёл жанр “world”, а в петербургский — джаз и классика.\n",
    "\n",
    "2. В Москве пропущенных значений оказалось так много, что значение `'unknown'` заняло десятое место среди самых популярных жанров. Значит, пропущенные значения занимают существенную долю в данных и угрожают достоверности исследования.\n",
    "\n",
    "Вечер пятницы не меняет эту картину. Некоторые жанры поднимаются немного выше, другие спускаются, но в целом топ-10 остаётся тем же самым.\n",
    "\n",
    "Таким образом, вторая гипотеза подтвердилась лишь частично:\n",
    "* Пользователи слушают похожую музыку в начале недели и в конце.\n",
    "* Разница между Москвой и Петербургом не слишком выражена. В Москве чаще слушают русскую популярную музыку, в Петербурге — джаз.\n",
    "\n",
    "Однако пропуски в данных ставят под сомнение этот результат. В Москве их так много, что рейтинг топ-10 мог бы выглядеть иначе, если бы не утерянные  данные о жанрах."
   ]
  },
  {
   "cell_type": "markdown",
   "metadata": {
    "deletable": false,
    "editable": false,
    "id": "JolODAqr_Zcu"
   },
   "source": [
    "### Жанровые предпочтения в Москве и Петербурге\n",
    "\n",
    "Гипотеза: Петербург — столица рэпа, музыку этого жанра там слушают чаще, чем в Москве.  А Москва — город контрастов, в котором, тем не менее, преобладает поп-музыка."
   ]
  },
  {
   "cell_type": "markdown",
   "metadata": {
    "deletable": false,
    "editable": false,
    "id": "DlegSvaT_Zcu",
    "tags": [
     "start_task"
    ]
   },
   "source": [
    "**Задание 26**"
   ]
  },
  {
   "cell_type": "code",
   "execution_count": 62,
   "metadata": {
    "deletable": false,
    "id": "r19lIPke_Zcu"
   },
   "outputs": [],
   "source": [
    "moscow_genres = moscow_general.groupby('genre')['genre'].count().sort_values(ascending=False)\n",
    "# одной строкой: группировка таблицы moscow_general по столбцу 'genre', выбор столбца `genre`, подсчёт числа значений 'genre' методом count(), сохранение в moscow_genres\n",
    "# сортировка получившегося Series в порядке убывания и сохранение обратно в moscow_genres"
   ]
  },
  {
   "cell_type": "markdown",
   "metadata": {
    "deletable": false,
    "editable": false,
    "id": "6kMuomxTiIr8",
    "tags": [
     "start_task"
    ]
   },
   "source": [
    "**Задание 27**"
   ]
  },
  {
   "cell_type": "code",
   "execution_count": 63,
   "metadata": {
    "deletable": false,
    "id": "WhCSooF8_Zcv"
   },
   "outputs": [
    {
     "data": {
      "text/plain": [
       "genre\n",
       "pop            5892\n",
       "dance          4435\n",
       "rock           3965\n",
       "electronic     3786\n",
       "hiphop         2096\n",
       "classical      1616\n",
       "world          1432\n",
       "alternative    1379\n",
       "ruspop         1372\n",
       "rusrap         1161\n",
       "Name: genre, dtype: int64"
      ]
     },
     "execution_count": 63,
     "metadata": {},
     "output_type": "execute_result"
    }
   ],
   "source": [
    "moscow_genres.head(10)\n",
    "# просмотр первых 10 строк moscow_genres"
   ]
  },
  {
   "cell_type": "markdown",
   "metadata": {
    "deletable": false,
    "editable": false,
    "id": "cnPG2vnN_Zcv",
    "tags": [
     "start_task"
    ]
   },
   "source": [
    "**Задание 28**"
   ]
  },
  {
   "cell_type": "code",
   "execution_count": 65,
   "metadata": {
    "deletable": false,
    "id": "gluLIpE7_Zcv"
   },
   "outputs": [],
   "source": [
    "spb_genres = spb_general.groupby('genre')['genre'].count().sort_values(ascending=False)\n",
    "# одной строкой: группировка таблицы spb_general по столбцу 'genre', выбор столбца `genre`, подсчёт числа значений 'genre' методом count(), сохранение в spb_genres\n",
    "# сортировка получившегося Series в порядке убывания и сохранение обратно в spb_genres"
   ]
  },
  {
   "cell_type": "markdown",
   "metadata": {
    "deletable": false,
    "editable": false,
    "id": "5Doha_ODgyQ8",
    "tags": [
     "start_task"
    ]
   },
   "source": [
    "**Задание 29**"
   ]
  },
  {
   "cell_type": "code",
   "execution_count": 66,
   "metadata": {
    "deletable": false,
    "id": "uaGJHjVU_Zcv"
   },
   "outputs": [
    {
     "data": {
      "text/plain": [
       "genre\n",
       "pop            2431\n",
       "dance          1932\n",
       "rock           1879\n",
       "electronic     1736\n",
       "hiphop          960\n",
       "alternative     649\n",
       "classical       646\n",
       "rusrap          564\n",
       "ruspop          538\n",
       "world           515\n",
       "Name: genre, dtype: int64"
      ]
     },
     "execution_count": 66,
     "metadata": {},
     "output_type": "execute_result"
    }
   ],
   "source": [
    "spb_genres.head(10)\n",
    "# просмотр первых 10 строк spb_genres"
   ]
  },
  {
   "cell_type": "markdown",
   "metadata": {
    "deletable": false,
    "editable": false,
    "id": "RY51YJYu_Zcv"
   },
   "source": [
    "**Выводы**"
   ]
  },
  {
   "cell_type": "markdown",
   "metadata": {
    "deletable": false,
    "editable": false,
    "id": "nVhnJEm__Zcv"
   },
   "source": [
    "Гипотеза частично подтвердилась:\n",
    "* Поп-музыка — самый популярный жанр в Москве, как и предполагала гипотеза. Более того, в топ-10 жанров встречается близкий жанр — русская популярная музыка.\n",
    "* Вопреки ожиданиям, рэп одинаково популярен в Москве и Петербурге.\n"
   ]
  },
  {
   "cell_type": "markdown",
   "metadata": {
    "deletable": false,
    "editable": false,
    "id": "ykKQ0N65_Zcv"
   },
   "source": [
    "## Итоги исследования"
   ]
  },
  {
   "cell_type": "markdown",
   "metadata": {
    "deletable": false,
    "editable": false,
    "id": "tjUwbHb3_Zcv"
   },
   "source": [
    "Вы проверили три гипотезы и установили:\n",
    "\n",
    "1. День недели по-разному влияет на активность пользователей в Москве и Петербурге.\n",
    "\n",
    "Первая гипотеза полностью подтвердилась.\n",
    "\n",
    "2. Музыкальные предпочтения не сильно меняются в течение недели — будь то Москва или Петербург. Небольшие различия заметны в начале недели, по понедельникам:\n",
    "* в Москве слушают музыку жанра “world”,\n",
    "* в Петербурге — джаз и классику.\n",
    "\n",
    "Таким образом, вторая гипотеза подтвердилась лишь отчасти. Этот результат мог оказаться иным, если бы не пропуски в данных.\n",
    "\n",
    "3. Во вкусах пользователей Москвы и Петербурга больше общего, чем различий. Вопреки ожиданиям, предпочтения жанров в Петербурге напоминают московские.\n",
    "\n",
    "Третья гипотеза не подтвердилась. Если различия в предпочтениях и существуют, на основной массе пользователей они незаметны.\n",
    "\n",
    "**На практике исследования содержат проверки статистических гипотез.**\n",
    "Из части данных одного сервиса невозможно сделать какие-то выводы о всех пользователях сервиса без методов статистики.\n",
    "Проверки статистических гипотез покажут, насколько они достоверны, исходя из имеющихся данных.\n",
    "С методами проверок гипотез вы ещё познакомитесь в следующих темах."
   ]
  }
 ],
 "metadata": {
  "ExecuteTimeLog": [
   {
    "duration": 44,
    "start_time": "2024-06-17T22:23:07.999Z"
   },
   {
    "duration": 355,
    "start_time": "2024-06-18T11:34:12.854Z"
   },
   {
    "duration": 24,
    "start_time": "2024-06-18T11:34:26.268Z"
   },
   {
    "duration": 2,
    "start_time": "2024-06-18T11:34:41.880Z"
   },
   {
    "duration": 6,
    "start_time": "2024-06-18T11:35:37.516Z"
   },
   {
    "duration": 222,
    "start_time": "2024-06-18T11:36:06.196Z"
   },
   {
    "duration": 313,
    "start_time": "2024-06-18T11:37:16.689Z"
   },
   {
    "duration": 154,
    "start_time": "2024-06-18T11:37:20.161Z"
   },
   {
    "duration": 8,
    "start_time": "2024-06-18T11:37:23.205Z"
   },
   {
    "duration": 23,
    "start_time": "2024-06-18T11:37:29.373Z"
   },
   {
    "duration": 2,
    "start_time": "2024-06-18T11:37:34.734Z"
   },
   {
    "duration": 7,
    "start_time": "2024-06-18T11:37:39.271Z"
   },
   {
    "duration": 10,
    "start_time": "2024-06-18T11:37:44.888Z"
   },
   {
    "duration": 3,
    "start_time": "2024-06-18T11:37:47.650Z"
   },
   {
    "duration": 19,
    "start_time": "2024-06-18T11:37:51.629Z"
   },
   {
    "duration": 22,
    "start_time": "2024-06-18T11:37:56.517Z"
   },
   {
    "duration": 18,
    "start_time": "2024-06-18T11:38:00.086Z"
   },
   {
    "duration": 61,
    "start_time": "2024-06-18T11:38:14.717Z"
   },
   {
    "duration": 66,
    "start_time": "2024-06-18T11:38:18.931Z"
   },
   {
    "duration": 56,
    "start_time": "2024-06-18T11:38:24.481Z"
   },
   {
    "duration": 62,
    "start_time": "2024-06-18T11:54:42.306Z"
   },
   {
    "duration": 48,
    "start_time": "2024-06-18T11:54:52.386Z"
   },
   {
    "duration": 60,
    "start_time": "2024-06-18T11:55:20.490Z"
   },
   {
    "duration": 47,
    "start_time": "2024-06-18T11:58:31.725Z"
   },
   {
    "duration": 3,
    "start_time": "2024-06-18T12:06:37.350Z"
   },
   {
    "duration": 60,
    "start_time": "2024-06-18T12:06:49.094Z"
   },
   {
    "duration": 59,
    "start_time": "2024-06-18T12:07:25.778Z"
   },
   {
    "duration": 19,
    "start_time": "2024-06-18T12:18:09.378Z"
   },
   {
    "duration": 18,
    "start_time": "2024-06-18T12:18:32.822Z"
   },
   {
    "duration": 8,
    "start_time": "2024-06-18T12:18:40.726Z"
   },
   {
    "duration": 9,
    "start_time": "2024-06-18T12:19:13.974Z"
   },
   {
    "duration": 40,
    "start_time": "2024-06-18T12:19:28.698Z"
   },
   {
    "duration": 41,
    "start_time": "2024-06-18T12:19:32.341Z"
   },
   {
    "duration": 39,
    "start_time": "2024-06-18T12:19:38.754Z"
   },
   {
    "duration": 43,
    "start_time": "2024-06-18T12:19:42.078Z"
   },
   {
    "duration": 44,
    "start_time": "2024-06-18T12:19:52.841Z"
   },
   {
    "duration": 324,
    "start_time": "2024-06-18T12:20:16.568Z"
   },
   {
    "duration": 149,
    "start_time": "2024-06-18T12:20:18.597Z"
   },
   {
    "duration": 6,
    "start_time": "2024-06-18T12:20:20.529Z"
   },
   {
    "duration": 22,
    "start_time": "2024-06-18T12:20:23.589Z"
   },
   {
    "duration": 7,
    "start_time": "2024-06-18T12:20:30.369Z"
   },
   {
    "duration": 10,
    "start_time": "2024-06-18T12:20:33.065Z"
   },
   {
    "duration": 4,
    "start_time": "2024-06-18T12:20:35.352Z"
   },
   {
    "duration": 19,
    "start_time": "2024-06-18T12:20:38.017Z"
   },
   {
    "duration": 13,
    "start_time": "2024-06-18T12:20:40.253Z"
   },
   {
    "duration": 18,
    "start_time": "2024-06-18T12:20:42.390Z"
   },
   {
    "duration": 56,
    "start_time": "2024-06-18T12:20:45.081Z"
   },
   {
    "duration": 65,
    "start_time": "2024-06-18T12:20:47.828Z"
   },
   {
    "duration": 51,
    "start_time": "2024-06-18T12:20:50.189Z"
   },
   {
    "duration": 55,
    "start_time": "2024-06-18T12:20:52.601Z"
   },
   {
    "duration": 48,
    "start_time": "2024-06-18T12:21:27.737Z"
   },
   {
    "duration": 38,
    "start_time": "2024-06-18T12:28:36.220Z"
   },
   {
    "duration": 35,
    "start_time": "2024-06-18T12:38:31.585Z"
   },
   {
    "duration": 4,
    "start_time": "2024-06-18T12:41:25.758Z"
   },
   {
    "duration": 44,
    "start_time": "2024-06-18T12:41:56.947Z"
   },
   {
    "duration": 33,
    "start_time": "2024-06-18T12:42:14.769Z"
   },
   {
    "duration": 38,
    "start_time": "2024-06-18T12:43:49.482Z"
   },
   {
    "duration": 31,
    "start_time": "2024-06-18T12:43:52.410Z"
   },
   {
    "duration": 34,
    "start_time": "2024-06-18T12:44:04.562Z"
   },
   {
    "duration": 35,
    "start_time": "2024-06-18T12:44:38.186Z"
   },
   {
    "duration": 33,
    "start_time": "2024-06-18T12:44:55.270Z"
   },
   {
    "duration": 43,
    "start_time": "2024-06-18T12:45:18.554Z"
   },
   {
    "duration": 33,
    "start_time": "2024-06-18T12:45:38.508Z"
   },
   {
    "duration": 36,
    "start_time": "2024-06-18T12:46:13.322Z"
   },
   {
    "duration": 35,
    "start_time": "2024-06-18T12:47:17.790Z"
   },
   {
    "duration": 7,
    "start_time": "2024-06-18T12:54:55.108Z"
   },
   {
    "duration": 55,
    "start_time": "2024-06-18T12:55:23.019Z"
   },
   {
    "duration": 73,
    "start_time": "2024-06-18T12:56:05.570Z"
   },
   {
    "duration": 31,
    "start_time": "2024-06-18T12:57:15.559Z"
   },
   {
    "duration": 31,
    "start_time": "2024-06-18T12:57:50.570Z"
   },
   {
    "duration": 3,
    "start_time": "2024-06-18T12:58:23.383Z"
   },
   {
    "duration": 727,
    "start_time": "2024-06-18T12:58:28.318Z"
   },
   {
    "duration": 38,
    "start_time": "2024-06-18T12:58:43.258Z"
   },
   {
    "duration": 36,
    "start_time": "2024-06-18T12:59:32.395Z"
   },
   {
    "duration": 43,
    "start_time": "2024-06-18T13:00:54.331Z"
   },
   {
    "duration": 42,
    "start_time": "2024-06-18T13:01:16.211Z"
   },
   {
    "duration": 40,
    "start_time": "2024-06-18T13:02:45.923Z"
   },
   {
    "duration": 42,
    "start_time": "2024-06-18T13:03:15.212Z"
   },
   {
    "duration": 36,
    "start_time": "2024-06-18T13:05:01.677Z"
   },
   {
    "duration": 34,
    "start_time": "2024-06-18T13:05:13.906Z"
   },
   {
    "duration": 37,
    "start_time": "2024-06-18T13:05:20.378Z"
   },
   {
    "duration": 33,
    "start_time": "2024-06-18T13:05:35.355Z"
   },
   {
    "duration": 35,
    "start_time": "2024-06-18T13:06:12.918Z"
   },
   {
    "duration": 35,
    "start_time": "2024-06-18T13:07:09.378Z"
   },
   {
    "duration": 37,
    "start_time": "2024-06-18T13:07:40.494Z"
   },
   {
    "duration": 33,
    "start_time": "2024-06-18T13:08:16.394Z"
   },
   {
    "duration": 6,
    "start_time": "2024-06-18T13:11:41.317Z"
   },
   {
    "duration": 49,
    "start_time": "2024-06-18T13:13:35.399Z"
   },
   {
    "duration": 46,
    "start_time": "2024-06-18T13:13:46.345Z"
   },
   {
    "duration": 6,
    "start_time": "2024-06-18T13:20:02.365Z"
   },
   {
    "duration": 55,
    "start_time": "2024-06-18T13:20:13.252Z"
   },
   {
    "duration": 32,
    "start_time": "2024-06-18T13:20:21.580Z"
   },
   {
    "duration": 35,
    "start_time": "2024-06-18T13:20:41.456Z"
   },
   {
    "duration": 36,
    "start_time": "2024-06-18T13:22:31.060Z"
   },
   {
    "duration": 44,
    "start_time": "2024-06-18T13:23:32.048Z"
   },
   {
    "duration": 43,
    "start_time": "2024-06-18T13:23:39.452Z"
   },
   {
    "duration": 43,
    "start_time": "2024-06-18T13:24:16.793Z"
   },
   {
    "duration": 42,
    "start_time": "2024-06-18T13:24:42.941Z"
   },
   {
    "duration": 40,
    "start_time": "2024-06-18T13:24:52.329Z"
   },
   {
    "duration": 44,
    "start_time": "2024-06-18T13:25:04.725Z"
   },
   {
    "duration": 32,
    "start_time": "2024-06-18T13:27:21.026Z"
   },
   {
    "duration": 43,
    "start_time": "2024-06-18T13:27:31.469Z"
   },
   {
    "duration": 23,
    "start_time": "2024-06-18T13:28:42.237Z"
   },
   {
    "duration": 8,
    "start_time": "2024-06-18T13:30:26.514Z"
   },
   {
    "duration": 6,
    "start_time": "2024-06-18T13:31:00.642Z"
   },
   {
    "duration": 5,
    "start_time": "2024-06-18T13:31:04.142Z"
   },
   {
    "duration": 6,
    "start_time": "2024-06-18T13:33:17.846Z"
   },
   {
    "duration": 5,
    "start_time": "2024-06-18T13:33:43.490Z"
   },
   {
    "duration": 48,
    "start_time": "2024-06-18T13:33:56.966Z"
   },
   {
    "duration": 366,
    "start_time": "2024-06-18T13:34:12.428Z"
   },
   {
    "duration": 147,
    "start_time": "2024-06-18T13:34:12.796Z"
   },
   {
    "duration": 7,
    "start_time": "2024-06-18T13:34:12.944Z"
   },
   {
    "duration": 25,
    "start_time": "2024-06-18T13:34:12.953Z"
   },
   {
    "duration": 4,
    "start_time": "2024-06-18T13:34:12.979Z"
   },
   {
    "duration": 11,
    "start_time": "2024-06-18T13:34:12.984Z"
   },
   {
    "duration": 26,
    "start_time": "2024-06-18T13:34:12.996Z"
   },
   {
    "duration": 3,
    "start_time": "2024-06-18T13:34:13.024Z"
   },
   {
    "duration": 22,
    "start_time": "2024-06-18T13:34:13.028Z"
   },
   {
    "duration": 62,
    "start_time": "2024-06-18T13:34:13.052Z"
   },
   {
    "duration": 17,
    "start_time": "2024-06-18T13:34:13.115Z"
   },
   {
    "duration": 62,
    "start_time": "2024-06-18T13:34:13.134Z"
   },
   {
    "duration": 74,
    "start_time": "2024-06-18T13:34:13.198Z"
   },
   {
    "duration": 55,
    "start_time": "2024-06-18T13:34:13.273Z"
   },
   {
    "duration": 37,
    "start_time": "2024-06-18T13:34:13.329Z"
   },
   {
    "duration": 2,
    "start_time": "2024-06-18T13:34:13.367Z"
   },
   {
    "duration": 36,
    "start_time": "2024-06-18T13:34:13.370Z"
   },
   {
    "duration": 15,
    "start_time": "2024-06-18T13:34:13.407Z"
   },
   {
    "duration": 3,
    "start_time": "2024-06-18T13:34:13.423Z"
   },
   {
    "duration": 59,
    "start_time": "2024-06-18T13:34:13.427Z"
   },
   {
    "duration": 0,
    "start_time": "2024-06-18T13:34:13.488Z"
   },
   {
    "duration": 0,
    "start_time": "2024-06-18T13:34:13.489Z"
   },
   {
    "duration": 0,
    "start_time": "2024-06-18T13:34:13.490Z"
   },
   {
    "duration": 0,
    "start_time": "2024-06-18T13:34:13.491Z"
   },
   {
    "duration": 0,
    "start_time": "2024-06-18T13:34:13.492Z"
   },
   {
    "duration": 0,
    "start_time": "2024-06-18T13:34:13.493Z"
   },
   {
    "duration": 0,
    "start_time": "2024-06-18T13:34:13.494Z"
   },
   {
    "duration": 0,
    "start_time": "2024-06-18T13:34:13.495Z"
   },
   {
    "duration": 1,
    "start_time": "2024-06-18T13:34:13.496Z"
   },
   {
    "duration": 0,
    "start_time": "2024-06-18T13:34:13.498Z"
   },
   {
    "duration": 0,
    "start_time": "2024-06-18T13:34:13.499Z"
   },
   {
    "duration": 0,
    "start_time": "2024-06-18T13:34:13.500Z"
   },
   {
    "duration": 0,
    "start_time": "2024-06-18T13:34:13.500Z"
   },
   {
    "duration": 0,
    "start_time": "2024-06-18T13:34:13.501Z"
   },
   {
    "duration": 0,
    "start_time": "2024-06-18T13:34:13.502Z"
   },
   {
    "duration": 0,
    "start_time": "2024-06-18T13:34:13.503Z"
   },
   {
    "duration": 0,
    "start_time": "2024-06-18T13:34:13.504Z"
   },
   {
    "duration": 0,
    "start_time": "2024-06-18T13:34:13.505Z"
   },
   {
    "duration": 46,
    "start_time": "2024-06-18T13:35:47.056Z"
   },
   {
    "duration": 44,
    "start_time": "2024-06-18T13:36:46.168Z"
   },
   {
    "duration": 36,
    "start_time": "2024-06-18T13:37:39.332Z"
   },
   {
    "duration": 31,
    "start_time": "2024-06-18T13:38:04.509Z"
   },
   {
    "duration": 62,
    "start_time": "2024-06-18T13:43:02.781Z"
   },
   {
    "duration": 15,
    "start_time": "2024-06-18T13:43:22.769Z"
   },
   {
    "duration": 4,
    "start_time": "2024-06-18T13:43:54.867Z"
   },
   {
    "duration": 34,
    "start_time": "2024-06-18T13:44:31.804Z"
   },
   {
    "duration": 37,
    "start_time": "2024-06-18T13:44:38.042Z"
   },
   {
    "duration": 36,
    "start_time": "2024-06-18T13:45:08.045Z"
   },
   {
    "duration": 32,
    "start_time": "2024-06-18T13:45:13.909Z"
   },
   {
    "duration": 33,
    "start_time": "2024-06-18T13:46:17.370Z"
   },
   {
    "duration": 40,
    "start_time": "2024-06-18T13:46:52.630Z"
   },
   {
    "duration": 31,
    "start_time": "2024-06-18T13:47:22.486Z"
   },
   {
    "duration": 67,
    "start_time": "2024-06-18T13:47:45.289Z"
   },
   {
    "duration": 33,
    "start_time": "2024-06-18T13:48:39.406Z"
   },
   {
    "duration": 36,
    "start_time": "2024-06-18T13:49:47.498Z"
   },
   {
    "duration": 36,
    "start_time": "2024-06-18T13:50:01.362Z"
   },
   {
    "duration": 5,
    "start_time": "2024-06-18T13:50:23.578Z"
   },
   {
    "duration": 36,
    "start_time": "2024-06-18T13:51:10.270Z"
   },
   {
    "duration": 48,
    "start_time": "2024-06-18T13:51:33.658Z"
   },
   {
    "duration": 49,
    "start_time": "2024-06-18T13:56:23.087Z"
   },
   {
    "duration": 15,
    "start_time": "2024-06-18T13:57:51.351Z"
   },
   {
    "duration": 399,
    "start_time": "2024-06-18T13:58:05.691Z"
   },
   {
    "duration": 149,
    "start_time": "2024-06-18T13:58:08.538Z"
   },
   {
    "duration": 7,
    "start_time": "2024-06-18T13:58:30.943Z"
   },
   {
    "duration": 10,
    "start_time": "2024-06-18T13:58:33.223Z"
   },
   {
    "duration": 19,
    "start_time": "2024-06-18T13:58:36.872Z"
   },
   {
    "duration": 13,
    "start_time": "2024-06-18T13:58:42.295Z"
   },
   {
    "duration": 19,
    "start_time": "2024-06-18T13:58:44.874Z"
   },
   {
    "duration": 57,
    "start_time": "2024-06-18T13:58:48.118Z"
   },
   {
    "duration": 65,
    "start_time": "2024-06-18T13:58:50.558Z"
   },
   {
    "duration": 59,
    "start_time": "2024-06-18T13:59:02.418Z"
   },
   {
    "duration": 47,
    "start_time": "2024-06-18T13:59:04.939Z"
   },
   {
    "duration": 38,
    "start_time": "2024-06-18T13:59:53.359Z"
   },
   {
    "duration": 35,
    "start_time": "2024-06-18T14:00:17.683Z"
   },
   {
    "duration": 50,
    "start_time": "2024-06-18T14:01:05.727Z"
   },
   {
    "duration": 48,
    "start_time": "2024-06-18T14:36:20.903Z"
   },
   {
    "duration": 45,
    "start_time": "2024-06-18T14:36:47.719Z"
   },
   {
    "duration": 37,
    "start_time": "2024-06-18T14:43:53.758Z"
   },
   {
    "duration": 8,
    "start_time": "2024-06-18T14:45:12.118Z"
   },
   {
    "duration": 60,
    "start_time": "2024-06-18T14:45:29.198Z"
   },
   {
    "duration": 9,
    "start_time": "2024-06-18T14:45:43.674Z"
   },
   {
    "duration": 56,
    "start_time": "2024-06-18T14:46:32.878Z"
   },
   {
    "duration": 9,
    "start_time": "2024-06-18T14:46:50.234Z"
   },
   {
    "duration": 7,
    "start_time": "2024-06-18T14:47:55.443Z"
   },
   {
    "duration": 36,
    "start_time": "2024-06-18T14:50:06.987Z"
   },
   {
    "duration": 394,
    "start_time": "2024-06-18T14:50:28.804Z"
   },
   {
    "duration": 148,
    "start_time": "2024-06-18T14:50:31.336Z"
   },
   {
    "duration": 7,
    "start_time": "2024-06-18T14:50:35.656Z"
   },
   {
    "duration": 22,
    "start_time": "2024-06-18T14:50:39.753Z"
   },
   {
    "duration": 2,
    "start_time": "2024-06-18T14:50:47.124Z"
   },
   {
    "duration": 8,
    "start_time": "2024-06-18T14:50:50.539Z"
   },
   {
    "duration": 10,
    "start_time": "2024-06-18T14:50:53.052Z"
   },
   {
    "duration": 3,
    "start_time": "2024-06-18T14:50:55.080Z"
   },
   {
    "duration": 18,
    "start_time": "2024-06-18T14:50:57.320Z"
   },
   {
    "duration": 14,
    "start_time": "2024-06-18T14:51:04.807Z"
   },
   {
    "duration": 18,
    "start_time": "2024-06-18T14:51:06.692Z"
   },
   {
    "duration": 56,
    "start_time": "2024-06-18T14:51:08.900Z"
   },
   {
    "duration": 68,
    "start_time": "2024-06-18T14:51:10.916Z"
   },
   {
    "duration": 50,
    "start_time": "2024-06-18T14:51:12.904Z"
   },
   {
    "duration": 39,
    "start_time": "2024-06-18T14:51:15.156Z"
   },
   {
    "duration": 9,
    "start_time": "2024-06-18T15:28:17.155Z"
   },
   {
    "duration": 47,
    "start_time": "2024-06-18T15:29:07.522Z"
   },
   {
    "duration": 61,
    "start_time": "2024-06-18T16:16:26.705Z"
   },
   {
    "duration": 272,
    "start_time": "2024-06-18T16:16:36.780Z"
   },
   {
    "duration": 9,
    "start_time": "2024-06-18T16:17:10.022Z"
   },
   {
    "duration": 11,
    "start_time": "2024-06-18T16:18:15.724Z"
   },
   {
    "duration": 4,
    "start_time": "2024-06-18T16:20:29.754Z"
   },
   {
    "duration": 26,
    "start_time": "2024-06-18T16:23:00.377Z"
   },
   {
    "duration": 10,
    "start_time": "2024-06-18T16:24:19.293Z"
   },
   {
    "duration": 36,
    "start_time": "2024-06-18T16:27:40.224Z"
   },
   {
    "duration": 3,
    "start_time": "2024-06-18T16:39:59.691Z"
   },
   {
    "duration": 3,
    "start_time": "2024-06-18T16:41:07.136Z"
   },
   {
    "duration": 3,
    "start_time": "2024-06-18T16:44:43.840Z"
   },
   {
    "duration": 9,
    "start_time": "2024-06-18T17:19:24.895Z"
   },
   {
    "duration": 6,
    "start_time": "2024-06-18T17:19:47.739Z"
   },
   {
    "duration": 7,
    "start_time": "2024-06-18T17:20:12.691Z"
   },
   {
    "duration": 8,
    "start_time": "2024-06-18T17:20:32.078Z"
   },
   {
    "duration": 7,
    "start_time": "2024-06-18T17:25:01.090Z"
   },
   {
    "duration": 7,
    "start_time": "2024-06-18T17:25:17.234Z"
   },
   {
    "duration": 3,
    "start_time": "2024-06-18T17:30:41.662Z"
   },
   {
    "duration": 7,
    "start_time": "2024-06-18T17:30:44.810Z"
   },
   {
    "duration": 373,
    "start_time": "2024-06-18T17:31:05.389Z"
   },
   {
    "duration": 148,
    "start_time": "2024-06-18T17:31:08.013Z"
   },
   {
    "duration": 7,
    "start_time": "2024-06-18T17:31:10.065Z"
   },
   {
    "duration": 25,
    "start_time": "2024-06-18T17:31:14.529Z"
   },
   {
    "duration": 2,
    "start_time": "2024-06-18T17:31:18.862Z"
   },
   {
    "duration": 8,
    "start_time": "2024-06-18T17:31:21.853Z"
   },
   {
    "duration": 11,
    "start_time": "2024-06-18T17:31:24.778Z"
   },
   {
    "duration": 4,
    "start_time": "2024-06-18T17:31:39.086Z"
   },
   {
    "duration": 20,
    "start_time": "2024-06-18T17:31:41.945Z"
   },
   {
    "duration": 15,
    "start_time": "2024-06-18T17:31:46.157Z"
   },
   {
    "duration": 20,
    "start_time": "2024-06-18T17:31:48.805Z"
   },
   {
    "duration": 66,
    "start_time": "2024-06-18T17:31:56.577Z"
   },
   {
    "duration": 64,
    "start_time": "2024-06-18T17:32:00.162Z"
   },
   {
    "duration": 51,
    "start_time": "2024-06-18T17:32:02.118Z"
   },
   {
    "duration": 35,
    "start_time": "2024-06-18T17:32:06.905Z"
   },
   {
    "duration": 11,
    "start_time": "2024-06-18T17:32:12.633Z"
   },
   {
    "duration": 38,
    "start_time": "2024-06-18T17:32:15.468Z"
   },
   {
    "duration": 10,
    "start_time": "2024-06-18T17:32:21.293Z"
   },
   {
    "duration": 10,
    "start_time": "2024-06-18T17:32:26.497Z"
   },
   {
    "duration": 3,
    "start_time": "2024-06-18T17:32:30.340Z"
   },
   {
    "duration": 10,
    "start_time": "2024-06-18T17:32:38.306Z"
   },
   {
    "duration": 2,
    "start_time": "2024-06-18T17:35:17.342Z"
   },
   {
    "duration": 3,
    "start_time": "2024-06-18T17:35:19.582Z"
   },
   {
    "duration": 14,
    "start_time": "2024-06-18T17:35:22.045Z"
   },
   {
    "duration": 13,
    "start_time": "2024-06-18T17:35:42.517Z"
   },
   {
    "duration": 53,
    "start_time": "2024-06-18T17:36:01.657Z"
   },
   {
    "duration": 14,
    "start_time": "2024-06-18T17:36:23.813Z"
   },
   {
    "duration": 3,
    "start_time": "2024-06-18T17:36:27.145Z"
   },
   {
    "duration": 12,
    "start_time": "2024-06-18T17:36:29.773Z"
   },
   {
    "duration": 12,
    "start_time": "2024-06-18T17:36:55.889Z"
   },
   {
    "duration": 3,
    "start_time": "2024-06-18T17:36:58.049Z"
   },
   {
    "duration": 11,
    "start_time": "2024-06-18T17:37:00.974Z"
   },
   {
    "duration": 3,
    "start_time": "2024-06-18T17:37:13.105Z"
   },
   {
    "duration": 12,
    "start_time": "2024-06-18T17:37:16.575Z"
   },
   {
    "duration": 3,
    "start_time": "2024-06-18T17:37:34.897Z"
   },
   {
    "duration": 14,
    "start_time": "2024-06-18T17:37:38.629Z"
   },
   {
    "duration": 3,
    "start_time": "2024-06-18T17:38:19.161Z"
   },
   {
    "duration": 15,
    "start_time": "2024-06-18T17:38:23.829Z"
   },
   {
    "duration": 2,
    "start_time": "2024-06-18T17:39:57.446Z"
   },
   {
    "duration": 3,
    "start_time": "2024-06-18T17:40:58.725Z"
   },
   {
    "duration": 3,
    "start_time": "2024-06-18T17:41:28.753Z"
   },
   {
    "duration": 3,
    "start_time": "2024-06-18T17:42:38.277Z"
   },
   {
    "duration": 2,
    "start_time": "2024-06-18T17:43:08.845Z"
   },
   {
    "duration": 3,
    "start_time": "2024-06-18T17:43:32.224Z"
   },
   {
    "duration": 2,
    "start_time": "2024-06-18T17:44:12.789Z"
   },
   {
    "duration": 3,
    "start_time": "2024-06-18T17:44:28.224Z"
   },
   {
    "duration": 3,
    "start_time": "2024-06-18T17:45:14.089Z"
   },
   {
    "duration": 3,
    "start_time": "2024-06-18T17:45:47.836Z"
   },
   {
    "duration": 3,
    "start_time": "2024-06-18T17:45:49.664Z"
   },
   {
    "duration": 2,
    "start_time": "2024-06-18T17:45:50.368Z"
   },
   {
    "duration": 3,
    "start_time": "2024-06-18T17:45:51.048Z"
   },
   {
    "duration": 3,
    "start_time": "2024-06-18T17:45:51.724Z"
   },
   {
    "duration": 3,
    "start_time": "2024-06-18T17:45:53.688Z"
   },
   {
    "duration": 9,
    "start_time": "2024-06-18T20:49:22.579Z"
   },
   {
    "duration": 44,
    "start_time": "2024-06-18T20:49:25.099Z"
   },
   {
    "duration": 399,
    "start_time": "2024-06-18T20:50:01.304Z"
   },
   {
    "duration": 505,
    "start_time": "2024-06-18T20:50:02.705Z"
   },
   {
    "duration": 8,
    "start_time": "2024-06-18T20:50:05.032Z"
   },
   {
    "duration": 33,
    "start_time": "2024-06-18T20:50:07.404Z"
   },
   {
    "duration": 2,
    "start_time": "2024-06-18T20:50:10.120Z"
   },
   {
    "duration": 9,
    "start_time": "2024-06-18T20:50:11.632Z"
   },
   {
    "duration": 14,
    "start_time": "2024-06-18T20:50:12.094Z"
   },
   {
    "duration": 4,
    "start_time": "2024-06-18T20:50:12.664Z"
   },
   {
    "duration": 30,
    "start_time": "2024-06-18T20:50:13.080Z"
   },
   {
    "duration": 20,
    "start_time": "2024-06-18T20:50:13.556Z"
   },
   {
    "duration": 28,
    "start_time": "2024-06-18T20:50:13.999Z"
   },
   {
    "duration": 73,
    "start_time": "2024-06-18T20:50:14.388Z"
   },
   {
    "duration": 85,
    "start_time": "2024-06-18T20:50:14.744Z"
   },
   {
    "duration": 61,
    "start_time": "2024-06-18T20:50:15.112Z"
   },
   {
    "duration": 46,
    "start_time": "2024-06-18T20:50:15.487Z"
   },
   {
    "duration": 12,
    "start_time": "2024-06-18T20:50:16.500Z"
   },
   {
    "duration": 44,
    "start_time": "2024-06-18T20:50:16.944Z"
   },
   {
    "duration": 12,
    "start_time": "2024-06-18T20:50:20.460Z"
   },
   {
    "duration": 12,
    "start_time": "2024-06-18T20:50:22.100Z"
   },
   {
    "duration": 3,
    "start_time": "2024-06-18T20:50:23.604Z"
   },
   {
    "duration": 9,
    "start_time": "2024-06-18T20:50:28.555Z"
   },
   {
    "duration": 67,
    "start_time": "2024-06-18T21:00:57.297Z"
   },
   {
    "duration": 10,
    "start_time": "2024-06-18T21:01:52.860Z"
   },
   {
    "duration": 6,
    "start_time": "2024-06-18T21:02:01.601Z"
   },
   {
    "duration": 8,
    "start_time": "2024-06-18T21:02:09.977Z"
   },
   {
    "duration": 13,
    "start_time": "2024-06-18T21:02:35.048Z"
   },
   {
    "duration": 9,
    "start_time": "2024-06-18T21:02:47.564Z"
   },
   {
    "duration": 15,
    "start_time": "2024-06-18T21:02:53.528Z"
   },
   {
    "duration": 3,
    "start_time": "2024-06-18T21:03:01.864Z"
   },
   {
    "duration": 8,
    "start_time": "2024-06-18T21:03:04.692Z"
   },
   {
    "duration": 13,
    "start_time": "2024-06-18T21:03:19.484Z"
   },
   {
    "duration": 4,
    "start_time": "2024-06-18T21:03:23.164Z"
   },
   {
    "duration": 8,
    "start_time": "2024-06-18T21:03:24.396Z"
   },
   {
    "duration": 4,
    "start_time": "2024-06-18T21:13:49.002Z"
   },
   {
    "duration": 3,
    "start_time": "2024-06-18T21:14:21.690Z"
   },
   {
    "duration": 13,
    "start_time": "2024-06-18T21:15:53.658Z"
   },
   {
    "duration": 20,
    "start_time": "2024-06-18T21:16:20.881Z"
   },
   {
    "duration": 18,
    "start_time": "2024-06-18T21:16:58.697Z"
   },
   {
    "duration": 18,
    "start_time": "2024-06-18T21:17:11.141Z"
   },
   {
    "duration": 17,
    "start_time": "2024-06-18T21:17:19.818Z"
   },
   {
    "duration": 380,
    "start_time": "2024-06-18T21:17:36.512Z"
   },
   {
    "duration": 202,
    "start_time": "2024-06-18T21:17:37.599Z"
   },
   {
    "duration": 8,
    "start_time": "2024-06-18T21:17:38.041Z"
   },
   {
    "duration": 32,
    "start_time": "2024-06-18T21:17:38.411Z"
   },
   {
    "duration": 3,
    "start_time": "2024-06-18T21:17:38.945Z"
   },
   {
    "duration": 9,
    "start_time": "2024-06-18T21:17:39.632Z"
   },
   {
    "duration": 14,
    "start_time": "2024-06-18T21:17:39.919Z"
   },
   {
    "duration": 4,
    "start_time": "2024-06-18T21:17:40.301Z"
   },
   {
    "duration": 28,
    "start_time": "2024-06-18T21:17:41.059Z"
   },
   {
    "duration": 19,
    "start_time": "2024-06-18T21:17:41.419Z"
   },
   {
    "duration": 28,
    "start_time": "2024-06-18T21:17:41.769Z"
   },
   {
    "duration": 67,
    "start_time": "2024-06-18T21:17:42.104Z"
   },
   {
    "duration": 100,
    "start_time": "2024-06-18T21:17:42.416Z"
   },
   {
    "duration": 58,
    "start_time": "2024-06-18T21:17:42.936Z"
   },
   {
    "duration": 43,
    "start_time": "2024-06-18T21:17:43.668Z"
   },
   {
    "duration": 11,
    "start_time": "2024-06-18T21:17:44.496Z"
   },
   {
    "duration": 44,
    "start_time": "2024-06-18T21:17:45.496Z"
   },
   {
    "duration": 12,
    "start_time": "2024-06-18T21:17:47.895Z"
   },
   {
    "duration": 12,
    "start_time": "2024-06-18T21:17:49.476Z"
   },
   {
    "duration": 3,
    "start_time": "2024-06-18T21:17:51.360Z"
   },
   {
    "duration": 9,
    "start_time": "2024-06-18T21:17:52.876Z"
   },
   {
    "duration": 9,
    "start_time": "2024-06-18T21:17:53.748Z"
   },
   {
    "duration": 8,
    "start_time": "2024-06-18T21:17:54.460Z"
   },
   {
    "duration": 8,
    "start_time": "2024-06-18T21:17:55.048Z"
   },
   {
    "duration": 63,
    "start_time": "2024-06-18T21:17:56.323Z"
   },
   {
    "duration": 10,
    "start_time": "2024-06-18T21:18:03.747Z"
   },
   {
    "duration": 10,
    "start_time": "2024-06-18T21:18:21.760Z"
   },
   {
    "duration": 86,
    "start_time": "2024-06-18T21:18:22.164Z"
   },
   {
    "duration": 13,
    "start_time": "2024-06-18T21:18:46.572Z"
   },
   {
    "duration": 13,
    "start_time": "2024-06-18T21:19:28.123Z"
   },
   {
    "duration": 4,
    "start_time": "2024-06-18T21:19:31.723Z"
   },
   {
    "duration": 10,
    "start_time": "2024-06-18T21:19:33.111Z"
   },
   {
    "duration": 13,
    "start_time": "2024-06-18T21:23:44.523Z"
   },
   {
    "duration": 13,
    "start_time": "2024-06-18T21:23:48.929Z"
   },
   {
    "duration": 3,
    "start_time": "2024-06-18T21:23:51.147Z"
   },
   {
    "duration": 9,
    "start_time": "2024-06-18T21:23:52.594Z"
   },
   {
    "duration": 9,
    "start_time": "2024-06-18T21:23:53.998Z"
   },
   {
    "duration": 8,
    "start_time": "2024-06-18T21:23:54.975Z"
   },
   {
    "duration": 9,
    "start_time": "2024-06-18T21:24:07.198Z"
   },
   {
    "duration": 423,
    "start_time": "2024-06-18T21:24:18.948Z"
   },
   {
    "duration": 184,
    "start_time": "2024-06-18T21:24:20.033Z"
   },
   {
    "duration": 8,
    "start_time": "2024-06-18T21:24:20.448Z"
   },
   {
    "duration": 34,
    "start_time": "2024-06-18T21:24:20.796Z"
   },
   {
    "duration": 3,
    "start_time": "2024-06-18T21:24:21.312Z"
   },
   {
    "duration": 9,
    "start_time": "2024-06-18T21:24:22.080Z"
   },
   {
    "duration": 16,
    "start_time": "2024-06-18T21:24:22.444Z"
   },
   {
    "duration": 3,
    "start_time": "2024-06-18T21:24:22.821Z"
   },
   {
    "duration": 27,
    "start_time": "2024-06-18T21:24:23.192Z"
   },
   {
    "duration": 19,
    "start_time": "2024-06-18T21:24:23.545Z"
   },
   {
    "duration": 27,
    "start_time": "2024-06-18T21:24:23.913Z"
   },
   {
    "duration": 72,
    "start_time": "2024-06-18T21:24:24.336Z"
   },
   {
    "duration": 78,
    "start_time": "2024-06-18T21:24:24.781Z"
   },
   {
    "duration": 78,
    "start_time": "2024-06-18T21:24:25.260Z"
   },
   {
    "duration": 45,
    "start_time": "2024-06-18T21:24:25.548Z"
   },
   {
    "duration": 12,
    "start_time": "2024-06-18T21:24:26.593Z"
   },
   {
    "duration": 45,
    "start_time": "2024-06-18T21:24:30.019Z"
   },
   {
    "duration": 12,
    "start_time": "2024-06-18T21:24:35.845Z"
   },
   {
    "duration": 11,
    "start_time": "2024-06-18T21:24:38.477Z"
   },
   {
    "duration": 3,
    "start_time": "2024-06-18T21:24:40.390Z"
   },
   {
    "duration": 8,
    "start_time": "2024-06-18T21:24:43.504Z"
   },
   {
    "duration": 9,
    "start_time": "2024-06-18T21:25:08.064Z"
   },
   {
    "duration": 14,
    "start_time": "2024-06-18T21:25:18.733Z"
   },
   {
    "duration": 66,
    "start_time": "2024-06-18T21:25:27.633Z"
   },
   {
    "duration": 422,
    "start_time": "2024-06-18T21:25:55.373Z"
   },
   {
    "duration": 185,
    "start_time": "2024-06-18T21:25:56.293Z"
   },
   {
    "duration": 8,
    "start_time": "2024-06-18T21:25:56.809Z"
   },
   {
    "duration": 33,
    "start_time": "2024-06-18T21:25:57.237Z"
   },
   {
    "duration": 2,
    "start_time": "2024-06-18T21:25:57.805Z"
   },
   {
    "duration": 9,
    "start_time": "2024-06-18T21:25:58.529Z"
   },
   {
    "duration": 14,
    "start_time": "2024-06-18T21:25:58.885Z"
   },
   {
    "duration": 5,
    "start_time": "2024-06-18T21:25:59.237Z"
   },
   {
    "duration": 28,
    "start_time": "2024-06-18T21:25:59.609Z"
   },
   {
    "duration": 32,
    "start_time": "2024-06-18T21:25:59.953Z"
   },
   {
    "duration": 28,
    "start_time": "2024-06-18T21:26:00.349Z"
   },
   {
    "duration": 71,
    "start_time": "2024-06-18T21:26:00.704Z"
   },
   {
    "duration": 95,
    "start_time": "2024-06-18T21:26:01.069Z"
   },
   {
    "duration": 65,
    "start_time": "2024-06-18T21:26:01.445Z"
   },
   {
    "duration": 46,
    "start_time": "2024-06-18T21:26:02.069Z"
   },
   {
    "duration": 12,
    "start_time": "2024-06-18T21:26:02.393Z"
   },
   {
    "duration": 44,
    "start_time": "2024-06-18T21:26:04.349Z"
   },
   {
    "duration": 13,
    "start_time": "2024-06-18T21:26:25.527Z"
   },
   {
    "duration": 14,
    "start_time": "2024-06-18T21:26:27.741Z"
   },
   {
    "duration": 3,
    "start_time": "2024-06-18T21:26:29.265Z"
   },
   {
    "duration": 9,
    "start_time": "2024-06-18T21:26:31.153Z"
   },
   {
    "duration": 69,
    "start_time": "2024-06-18T21:26:53.893Z"
   },
   {
    "duration": 7,
    "start_time": "2024-06-18T21:27:15.029Z"
   },
   {
    "duration": 9,
    "start_time": "2024-06-18T21:27:35.017Z"
   },
   {
    "duration": 8,
    "start_time": "2024-06-18T21:28:28.477Z"
   },
   {
    "duration": 9,
    "start_time": "2024-06-18T21:28:41.393Z"
   },
   {
    "duration": 4,
    "start_time": "2024-06-18T21:31:30.341Z"
   },
   {
    "duration": 19,
    "start_time": "2024-06-18T21:31:32.597Z"
   },
   {
    "duration": 17,
    "start_time": "2024-06-18T21:31:34.229Z"
   },
   {
    "duration": 17,
    "start_time": "2024-06-18T21:31:52.494Z"
   },
   {
    "duration": 15,
    "start_time": "2024-06-18T21:31:53.432Z"
   },
   {
    "duration": 27,
    "start_time": "2024-06-18T21:31:54.483Z"
   },
   {
    "duration": 16,
    "start_time": "2024-06-18T21:31:55.594Z"
   },
   {
    "duration": 14,
    "start_time": "2024-06-18T21:44:52.462Z"
   },
   {
    "duration": 9,
    "start_time": "2024-06-18T21:45:06.422Z"
   },
   {
    "duration": 16,
    "start_time": "2024-06-18T21:46:42.047Z"
   },
   {
    "duration": 24,
    "start_time": "2024-06-18T21:47:20.047Z"
   },
   {
    "duration": 11,
    "start_time": "2024-06-18T21:47:44.552Z"
   },
   {
    "duration": 4,
    "start_time": "2024-06-18T21:54:30.408Z"
   },
   {
    "duration": 4,
    "start_time": "2024-06-18T21:56:05.504Z"
   },
   {
    "duration": 6,
    "start_time": "2024-06-18T21:56:35.024Z"
   },
   {
    "duration": 4,
    "start_time": "2024-06-18T21:58:36.653Z"
   },
   {
    "duration": 4,
    "start_time": "2024-06-18T21:59:44.729Z"
   },
   {
    "duration": 27,
    "start_time": "2024-06-18T22:01:16.846Z"
   },
   {
    "duration": 9,
    "start_time": "2024-06-18T22:01:45.820Z"
   },
   {
    "duration": 17,
    "start_time": "2024-06-18T22:02:11.233Z"
   },
   {
    "duration": 7,
    "start_time": "2024-06-18T22:02:13.017Z"
   },
   {
    "duration": 10,
    "start_time": "2024-06-18T22:02:51.500Z"
   },
   {
    "duration": 3,
    "start_time": "2024-06-18T22:02:53.906Z"
   },
   {
    "duration": 18,
    "start_time": "2024-06-18T22:02:55.706Z"
   },
   {
    "duration": 12,
    "start_time": "2024-06-18T22:02:57.601Z"
   },
   {
    "duration": 19,
    "start_time": "2024-06-18T22:03:49.354Z"
   },
   {
    "duration": 13,
    "start_time": "2024-06-18T22:04:10.874Z"
   },
   {
    "duration": 11,
    "start_time": "2024-06-18T22:08:23.679Z"
   },
   {
    "duration": 10,
    "start_time": "2024-06-18T22:09:36.210Z"
   },
   {
    "duration": 11,
    "start_time": "2024-06-18T22:09:45.610Z"
   },
   {
    "duration": 82,
    "start_time": "2024-06-18T22:10:34.466Z"
   },
   {
    "duration": 76,
    "start_time": "2024-06-18T22:11:12.442Z"
   },
   {
    "duration": 82,
    "start_time": "2024-06-18T22:11:26.070Z"
   },
   {
    "duration": 33,
    "start_time": "2024-06-18T22:11:32.774Z"
   },
   {
    "duration": 13,
    "start_time": "2024-06-18T22:11:59.295Z"
   },
   {
    "duration": 10,
    "start_time": "2024-06-18T22:12:42.910Z"
   },
   {
    "duration": 4,
    "start_time": "2024-06-18T22:13:13.947Z"
   },
   {
    "duration": 9,
    "start_time": "2024-06-18T22:14:24.479Z"
   },
   {
    "duration": 6,
    "start_time": "2024-06-18T22:14:58.458Z"
   },
   {
    "duration": 5,
    "start_time": "2024-06-18T22:15:31.587Z"
   }
  ],
  "celltoolbar": "Отсутствует",
  "colab": {
   "collapsed_sections": [
    "E0vqbgi9ay0H",
    "VUC88oWjTJw2"
   ],
   "provenance": []
  },
  "kernelspec": {
   "display_name": "Python 3 (ipykernel)",
   "language": "python",
   "name": "python3"
  },
  "language_info": {
   "codemirror_mode": {
    "name": "ipython",
    "version": 3
   },
   "file_extension": ".py",
   "mimetype": "text/x-python",
   "name": "python",
   "nbconvert_exporter": "python",
   "pygments_lexer": "ipython3",
   "version": "3.9.5"
  },
  "toc": {
   "base_numbering": 1,
   "nav_menu": {
    "height": "215px",
    "width": "403px"
   },
   "number_sections": true,
   "sideBar": true,
   "skip_h1_title": true,
   "title_cell": "Table of Contents",
   "title_sidebar": "Contents",
   "toc_cell": false,
   "toc_position": {
    "height": "calc(100% - 180px)",
    "left": "10px",
    "top": "150px",
    "width": "285.825px"
   },
   "toc_section_display": true,
   "toc_window_display": false
  }
 },
 "nbformat": 4,
 "nbformat_minor": 1
}
