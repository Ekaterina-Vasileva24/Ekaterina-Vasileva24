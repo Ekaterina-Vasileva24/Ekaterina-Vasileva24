{
 "cells": [
  {
   "cell_type": "markdown",
   "id": "e6cee0d9",
   "metadata": {},
   "source": [
    "# Исследование сервиса аренды самокатов GoFast"
   ]
  },
  {
   "cell_type": "markdown",
   "id": "4d353e2a",
   "metadata": {},
   "source": [
    "Вы аналитик популярного сервиса аренды самокатов GoFast. Вам передали данные о некоторых пользователях из нескольких городов, а также об их поездках. Проанализируйте данные и проверьте некоторые гипотезы, которые могут помочь бизнесу вырасти.\n",
    "\n",
    "Чтобы совершать поездки по городу, пользователи сервиса GoFast пользуются мобильным приложением. Сервисом можно пользоваться:\n",
    "\n",
    "   * без подписки\n",
    "        - абонентская плата отсутствует;\n",
    "        - стоимость одной минуты поездки — 8 рублей;\n",
    "        - стоимость старта (начала поездки) — 50 рублей;\n",
    "   * с подпиской Ultra\n",
    "        - абонентская плата — 199 рублей в месяц;\n",
    "        - стоимость одной минуты поездки — 6 рублей;\n",
    "        - стоимость старта — бесплатно.\n",
    "        \n",
    "**Цель исследования -**\n",
    "\n",
    "Изучить данные о пользователях и поездках сервиса аренды самокатов обеих групп (с подпиской *ultra* и *free*) и проверить гипотезы о продолжительности, расстоянии поездок и затратах пользователей.\n",
    "\n",
    "**Ход исследования**\n",
    "\n",
    "1. Загрузка данных\n",
    "2. Предобработка данных\n",
    "3. Исследовательский анализ данных: описание и визуализация общей информации о пользователях и поездках\n",
    "4. Объединение данные для дальнейшего анализа\n",
    "5. Подсчёт выручки\n",
    "6. Проверка гипотез\n",
    "7. Распределение (доп. исследование)"
   ]
  },
  {
   "cell_type": "markdown",
   "id": "76197c16",
   "metadata": {},
   "source": [
    "**Описание данных**\n",
    "\n",
    "Пользователи — users_go.csv\n",
    "\n",
    "   - user_id\t- уникальный идентификатор пользователя\n",
    "   - name - имя пользователя\n",
    "   - age\t- возраст\n",
    "   - city - город\n",
    "   - subscription_type - тип подписки (free, ultra)\n",
    "\n",
    "Поездки — rides_go.csv\n",
    "\n",
    "   - user_id - уникальный идентификатор пользователя\n",
    "   - distance - расстояние, которое пользователь проехал в текущей сессии (в метрах)\n",
    "   - duration - продолжительность сессии (в минутах) — время с того момента, как пользователь нажал кнопку «Начать поездку» до момента, как он нажал кнопку «Завершить поездку»\n",
    "   - date - дата совершения поездки\n",
    "\n",
    "Подписки — subscriptions_go.csv\n",
    "\n",
    "   - subscription_type - тип подписки\n",
    "   - minute_price - стоимость одной минуты поездки по данной подписке\n",
    "   - start_ride_price - стоимость начала поездки\n",
    "   - subscription_fee - стоимость ежемесячного платежа"
   ]
  },
  {
   "cell_type": "markdown",
   "id": "c42cbe00",
   "metadata": {},
   "source": [
    "### Шаг 1. Загрузка данных"
   ]
  },
  {
   "cell_type": "markdown",
   "id": "bd260928",
   "metadata": {},
   "source": [
    "#### Импорт библиотек и чтение  данных из csv-файла "
   ]
  },
  {
   "cell_type": "code",
   "execution_count": 1,
   "id": "eff9f206",
   "metadata": {},
   "outputs": [],
   "source": [
    "# импорт библиотеки pandas\n",
    "import pandas as pd \n",
    "#импорт библиотеки numpy\n",
    "import numpy as np\n",
    "#импорт библиотеки seaborn\n",
    "import seaborn as sns\n",
    "#импорт библиотеки matplotlib\n",
    "import matplotlib.pyplot as plt\n",
    "#импорт библиотеки math\n",
    "from math import factorial\n",
    "from math import sqrt\n",
    "#статистика\n",
    "from scipy import stats as st\n",
    "from scipy.stats import binom, norm\n",
    "\n",
    "#чтение файлов с данными и сохранение в переменные df, df_1, df_2\n",
    "df = pd.read_csv ('/datasets/users_go.csv')\n",
    "df_1 = pd.read_csv ('/datasets/rides_go.csv')\n",
    "df_2 = pd.read_csv ('/datasets/subscriptions_go.csv')"
   ]
  },
  {
   "cell_type": "markdown",
   "id": "094489f4",
   "metadata": {},
   "source": [
    "#### Вывод первых строк каждого набора данных, изучение общей информации"
   ]
  },
  {
   "cell_type": "code",
   "execution_count": 2,
   "id": "376b88bc",
   "metadata": {},
   "outputs": [
    {
     "data": {
      "text/html": [
       "<div>\n",
       "<style scoped>\n",
       "    .dataframe tbody tr th:only-of-type {\n",
       "        vertical-align: middle;\n",
       "    }\n",
       "\n",
       "    .dataframe tbody tr th {\n",
       "        vertical-align: top;\n",
       "    }\n",
       "\n",
       "    .dataframe thead th {\n",
       "        text-align: right;\n",
       "    }\n",
       "</style>\n",
       "<table border=\"1\" class=\"dataframe\">\n",
       "  <thead>\n",
       "    <tr style=\"text-align: right;\">\n",
       "      <th></th>\n",
       "      <th>user_id</th>\n",
       "      <th>name</th>\n",
       "      <th>age</th>\n",
       "      <th>city</th>\n",
       "      <th>subscription_type</th>\n",
       "    </tr>\n",
       "  </thead>\n",
       "  <tbody>\n",
       "    <tr>\n",
       "      <th>0</th>\n",
       "      <td>1</td>\n",
       "      <td>Кира</td>\n",
       "      <td>22</td>\n",
       "      <td>Тюмень</td>\n",
       "      <td>ultra</td>\n",
       "    </tr>\n",
       "    <tr>\n",
       "      <th>1</th>\n",
       "      <td>2</td>\n",
       "      <td>Станислав</td>\n",
       "      <td>31</td>\n",
       "      <td>Омск</td>\n",
       "      <td>ultra</td>\n",
       "    </tr>\n",
       "    <tr>\n",
       "      <th>2</th>\n",
       "      <td>3</td>\n",
       "      <td>Алексей</td>\n",
       "      <td>20</td>\n",
       "      <td>Москва</td>\n",
       "      <td>ultra</td>\n",
       "    </tr>\n",
       "    <tr>\n",
       "      <th>3</th>\n",
       "      <td>4</td>\n",
       "      <td>Константин</td>\n",
       "      <td>26</td>\n",
       "      <td>Ростов-на-Дону</td>\n",
       "      <td>ultra</td>\n",
       "    </tr>\n",
       "    <tr>\n",
       "      <th>4</th>\n",
       "      <td>5</td>\n",
       "      <td>Адель</td>\n",
       "      <td>28</td>\n",
       "      <td>Омск</td>\n",
       "      <td>ultra</td>\n",
       "    </tr>\n",
       "  </tbody>\n",
       "</table>\n",
       "</div>"
      ],
      "text/plain": [
       "   user_id        name  age            city subscription_type\n",
       "0        1        Кира   22          Тюмень             ultra\n",
       "1        2   Станислав   31            Омск             ultra\n",
       "2        3     Алексей   20          Москва             ultra\n",
       "3        4  Константин   26  Ростов-на-Дону             ultra\n",
       "4        5       Адель   28            Омск             ultra"
      ]
     },
     "execution_count": 2,
     "metadata": {},
     "output_type": "execute_result"
    }
   ],
   "source": [
    "#получение первых 5 строк таблицы df\n",
    "df.head()"
   ]
  },
  {
   "cell_type": "code",
   "execution_count": 3,
   "id": "35342b54",
   "metadata": {},
   "outputs": [
    {
     "name": "stdout",
     "output_type": "stream",
     "text": [
      "<class 'pandas.core.frame.DataFrame'>\n",
      "RangeIndex: 1565 entries, 0 to 1564\n",
      "Data columns (total 5 columns):\n",
      " #   Column             Non-Null Count  Dtype \n",
      "---  ------             --------------  ----- \n",
      " 0   user_id            1565 non-null   int64 \n",
      " 1   name               1565 non-null   object\n",
      " 2   age                1565 non-null   int64 \n",
      " 3   city               1565 non-null   object\n",
      " 4   subscription_type  1565 non-null   object\n",
      "dtypes: int64(2), object(3)\n",
      "memory usage: 61.3+ KB\n"
     ]
    }
   ],
   "source": [
    "# получение общей информации о данных таблицы df\n",
    "df.info()"
   ]
  },
  {
   "cell_type": "markdown",
   "id": "1116ebe5",
   "metadata": {},
   "source": [
    "В датафрейме *df* содержится информация о пользователях сервиса аренды самокатов GoFast (5 столцов и 1565 записей). Тип данных корректный."
   ]
  },
  {
   "cell_type": "code",
   "execution_count": 4,
   "id": "35a51a57",
   "metadata": {},
   "outputs": [
    {
     "data": {
      "text/html": [
       "<div>\n",
       "<style scoped>\n",
       "    .dataframe tbody tr th:only-of-type {\n",
       "        vertical-align: middle;\n",
       "    }\n",
       "\n",
       "    .dataframe tbody tr th {\n",
       "        vertical-align: top;\n",
       "    }\n",
       "\n",
       "    .dataframe thead th {\n",
       "        text-align: right;\n",
       "    }\n",
       "</style>\n",
       "<table border=\"1\" class=\"dataframe\">\n",
       "  <thead>\n",
       "    <tr style=\"text-align: right;\">\n",
       "      <th></th>\n",
       "      <th>user_id</th>\n",
       "      <th>distance</th>\n",
       "      <th>duration</th>\n",
       "      <th>date</th>\n",
       "    </tr>\n",
       "  </thead>\n",
       "  <tbody>\n",
       "    <tr>\n",
       "      <th>0</th>\n",
       "      <td>1</td>\n",
       "      <td>4409.919140</td>\n",
       "      <td>25.599769</td>\n",
       "      <td>2021-01-01</td>\n",
       "    </tr>\n",
       "    <tr>\n",
       "      <th>1</th>\n",
       "      <td>1</td>\n",
       "      <td>2617.592153</td>\n",
       "      <td>15.816871</td>\n",
       "      <td>2021-01-18</td>\n",
       "    </tr>\n",
       "    <tr>\n",
       "      <th>2</th>\n",
       "      <td>1</td>\n",
       "      <td>754.159807</td>\n",
       "      <td>6.232113</td>\n",
       "      <td>2021-04-20</td>\n",
       "    </tr>\n",
       "    <tr>\n",
       "      <th>3</th>\n",
       "      <td>1</td>\n",
       "      <td>2694.783254</td>\n",
       "      <td>18.511000</td>\n",
       "      <td>2021-08-11</td>\n",
       "    </tr>\n",
       "    <tr>\n",
       "      <th>4</th>\n",
       "      <td>1</td>\n",
       "      <td>4028.687306</td>\n",
       "      <td>26.265803</td>\n",
       "      <td>2021-08-28</td>\n",
       "    </tr>\n",
       "  </tbody>\n",
       "</table>\n",
       "</div>"
      ],
      "text/plain": [
       "   user_id     distance   duration        date\n",
       "0        1  4409.919140  25.599769  2021-01-01\n",
       "1        1  2617.592153  15.816871  2021-01-18\n",
       "2        1   754.159807   6.232113  2021-04-20\n",
       "3        1  2694.783254  18.511000  2021-08-11\n",
       "4        1  4028.687306  26.265803  2021-08-28"
      ]
     },
     "execution_count": 4,
     "metadata": {},
     "output_type": "execute_result"
    }
   ],
   "source": [
    "#получение первых 5 строк таблицы df_1\n",
    "df_1.head()"
   ]
  },
  {
   "cell_type": "code",
   "execution_count": 5,
   "id": "905391d6",
   "metadata": {},
   "outputs": [
    {
     "name": "stdout",
     "output_type": "stream",
     "text": [
      "<class 'pandas.core.frame.DataFrame'>\n",
      "RangeIndex: 18068 entries, 0 to 18067\n",
      "Data columns (total 4 columns):\n",
      " #   Column    Non-Null Count  Dtype  \n",
      "---  ------    --------------  -----  \n",
      " 0   user_id   18068 non-null  int64  \n",
      " 1   distance  18068 non-null  float64\n",
      " 2   duration  18068 non-null  float64\n",
      " 3   date      18068 non-null  object \n",
      "dtypes: float64(2), int64(1), object(1)\n",
      "memory usage: 564.8+ KB\n"
     ]
    }
   ],
   "source": [
    "# получение общей информации о данных таблицы df_1\n",
    "df_1.info()"
   ]
  },
  {
   "cell_type": "markdown",
   "id": "1641bd90",
   "metadata": {},
   "source": [
    "В датафрейме *df_1* содержится информация о поездках пользователей сервиса аренды самокатов GoFast (4 столца и 18068 записей). Тип данных в столбце date неккоректный."
   ]
  },
  {
   "cell_type": "code",
   "execution_count": 6,
   "id": "00a123c1",
   "metadata": {},
   "outputs": [
    {
     "data": {
      "text/html": [
       "<div>\n",
       "<style scoped>\n",
       "    .dataframe tbody tr th:only-of-type {\n",
       "        vertical-align: middle;\n",
       "    }\n",
       "\n",
       "    .dataframe tbody tr th {\n",
       "        vertical-align: top;\n",
       "    }\n",
       "\n",
       "    .dataframe thead th {\n",
       "        text-align: right;\n",
       "    }\n",
       "</style>\n",
       "<table border=\"1\" class=\"dataframe\">\n",
       "  <thead>\n",
       "    <tr style=\"text-align: right;\">\n",
       "      <th></th>\n",
       "      <th>subscription_type</th>\n",
       "      <th>minute_price</th>\n",
       "      <th>start_ride_price</th>\n",
       "      <th>subscription_fee</th>\n",
       "    </tr>\n",
       "  </thead>\n",
       "  <tbody>\n",
       "    <tr>\n",
       "      <th>0</th>\n",
       "      <td>free</td>\n",
       "      <td>8</td>\n",
       "      <td>50</td>\n",
       "      <td>0</td>\n",
       "    </tr>\n",
       "    <tr>\n",
       "      <th>1</th>\n",
       "      <td>ultra</td>\n",
       "      <td>6</td>\n",
       "      <td>0</td>\n",
       "      <td>199</td>\n",
       "    </tr>\n",
       "  </tbody>\n",
       "</table>\n",
       "</div>"
      ],
      "text/plain": [
       "  subscription_type  minute_price  start_ride_price  subscription_fee\n",
       "0              free             8                50                 0\n",
       "1             ultra             6                 0               199"
      ]
     },
     "execution_count": 6,
     "metadata": {},
     "output_type": "execute_result"
    }
   ],
   "source": [
    "#получение первых 5 строк таблицы df_2\n",
    "df_2.head()"
   ]
  },
  {
   "cell_type": "code",
   "execution_count": 7,
   "id": "c24b335c",
   "metadata": {},
   "outputs": [
    {
     "name": "stdout",
     "output_type": "stream",
     "text": [
      "<class 'pandas.core.frame.DataFrame'>\n",
      "RangeIndex: 2 entries, 0 to 1\n",
      "Data columns (total 4 columns):\n",
      " #   Column             Non-Null Count  Dtype \n",
      "---  ------             --------------  ----- \n",
      " 0   subscription_type  2 non-null      object\n",
      " 1   minute_price       2 non-null      int64 \n",
      " 2   start_ride_price   2 non-null      int64 \n",
      " 3   subscription_fee   2 non-null      int64 \n",
      "dtypes: int64(3), object(1)\n",
      "memory usage: 192.0+ bytes\n"
     ]
    }
   ],
   "source": [
    "# получение общей информации о данных таблицы df_2\n",
    "df_2.info()"
   ]
  },
  {
   "cell_type": "markdown",
   "id": "e4115eb3",
   "metadata": {},
   "source": [
    "В датафрейме *df_2* содержится информация о тарифах подписок *free* и *ultra* аренды самокатов GoFast. Тип данных корректен."
   ]
  },
  {
   "cell_type": "markdown",
   "id": "e95ebca7",
   "metadata": {},
   "source": [
    "### Шаг 2. Предобработка данных"
   ]
  },
  {
   "cell_type": "markdown",
   "id": "a539d9ae",
   "metadata": {},
   "source": [
    "#### Изменение типов данных"
   ]
  },
  {
   "cell_type": "markdown",
   "id": "4426604d",
   "metadata": {},
   "source": [
    "На предыдущей шаге мы обнаружили некорректный тип данных в 1 столбце с датой. Приведем к типу даты столбец date из таблицы df_1 (поездки). "
   ]
  },
  {
   "cell_type": "code",
   "execution_count": 8,
   "id": "3651af97",
   "metadata": {},
   "outputs": [],
   "source": [
    "#изменение типа данных\n",
    "df_1['date'] = df_1['date'].astype('datetime64[M]') "
   ]
  },
  {
   "cell_type": "markdown",
   "id": "1140cda2",
   "metadata": {},
   "source": [
    "#### Создание нового столбца с номером месяца на основе столбца date"
   ]
  },
  {
   "cell_type": "code",
   "execution_count": 9,
   "id": "3faed546",
   "metadata": {},
   "outputs": [],
   "source": [
    "#создание нового столбца с номером месяца\n",
    "df_1['month'] = df_1['date'].dt.month"
   ]
  },
  {
   "cell_type": "markdown",
   "id": "9bada4cc",
   "metadata": {},
   "source": [
    "#### Проверка наличия пропущенных значений и дубликатов в датафреймах. "
   ]
  },
  {
   "cell_type": "code",
   "execution_count": 10,
   "id": "e67da6dd",
   "metadata": {},
   "outputs": [
    {
     "data": {
      "text/plain": [
       "user_id              0\n",
       "name                 0\n",
       "age                  0\n",
       "city                 0\n",
       "subscription_type    0\n",
       "dtype: int64"
      ]
     },
     "execution_count": 10,
     "metadata": {},
     "output_type": "execute_result"
    }
   ],
   "source": [
    "#подсчет пропусков в таблице df\n",
    "df.isna().sum()"
   ]
  },
  {
   "cell_type": "code",
   "execution_count": 11,
   "id": "2ed98b57",
   "metadata": {},
   "outputs": [
    {
     "data": {
      "text/plain": [
       "user_id     0\n",
       "distance    0\n",
       "duration    0\n",
       "date        0\n",
       "month       0\n",
       "dtype: int64"
      ]
     },
     "execution_count": 11,
     "metadata": {},
     "output_type": "execute_result"
    }
   ],
   "source": [
    "#подсчет пропусков в таблице df_1\n",
    "df_1.isna().sum()"
   ]
  },
  {
   "cell_type": "code",
   "execution_count": 12,
   "id": "931315f4",
   "metadata": {},
   "outputs": [
    {
     "data": {
      "text/plain": [
       "subscription_type    0\n",
       "minute_price         0\n",
       "start_ride_price     0\n",
       "subscription_fee     0\n",
       "dtype: int64"
      ]
     },
     "execution_count": 12,
     "metadata": {},
     "output_type": "execute_result"
    }
   ],
   "source": [
    "#подсчет пропусков в таблице df_2\n",
    "df_2.isna().sum()"
   ]
  },
  {
   "cell_type": "markdown",
   "id": "a9192388",
   "metadata": {},
   "source": [
    "Пропущенных значений не обнаружено. "
   ]
  },
  {
   "cell_type": "code",
   "execution_count": 13,
   "id": "4a64c788",
   "metadata": {},
   "outputs": [
    {
     "data": {
      "text/plain": [
       "31"
      ]
     },
     "execution_count": 13,
     "metadata": {},
     "output_type": "execute_result"
    }
   ],
   "source": [
    "# подсчёт явных дубликатов в df\n",
    "df.duplicated().sum() "
   ]
  },
  {
   "cell_type": "code",
   "execution_count": 14,
   "id": "a68355dc",
   "metadata": {},
   "outputs": [
    {
     "data": {
      "text/plain": [
       "0"
      ]
     },
     "execution_count": 14,
     "metadata": {},
     "output_type": "execute_result"
    }
   ],
   "source": [
    "# удаление явных дубликатов, создание новых индексов и удаление старых\n",
    "df = df.drop_duplicates().reset_index(drop=True)\n",
    "#проверка\n",
    "df.duplicated().sum() "
   ]
  },
  {
   "cell_type": "code",
   "execution_count": 15,
   "id": "5be8b6d2",
   "metadata": {},
   "outputs": [
    {
     "data": {
      "text/plain": [
       "0"
      ]
     },
     "execution_count": 15,
     "metadata": {},
     "output_type": "execute_result"
    }
   ],
   "source": [
    "# подсчёт явных дубликатов в df_1\n",
    "df_1.duplicated().sum() "
   ]
  },
  {
   "cell_type": "code",
   "execution_count": 16,
   "id": "39e55089",
   "metadata": {},
   "outputs": [
    {
     "data": {
      "text/plain": [
       "0"
      ]
     },
     "execution_count": 16,
     "metadata": {},
     "output_type": "execute_result"
    }
   ],
   "source": [
    "# подсчёт явных дубликатов в df_2\n",
    "df_2.duplicated().sum() "
   ]
  },
  {
   "cell_type": "markdown",
   "id": "8555513c",
   "metadata": {},
   "source": [
    "Явных дубликатов не обнаружено.\n",
    "\n",
    "Далее посмотрим есть ли неявные дубликаты в названиях городов пользователей."
   ]
  },
  {
   "cell_type": "code",
   "execution_count": 17,
   "id": "8ac69612",
   "metadata": {},
   "outputs": [
    {
     "name": "stdout",
     "output_type": "stream",
     "text": [
      "8\n"
     ]
    },
    {
     "data": {
      "text/plain": [
       "array(['Тюмень', 'Омск', 'Москва', 'Ростов-на-Дону', 'Краснодар',\n",
       "       'Пятигорск', 'Екатеринбург', 'Сочи'], dtype=object)"
      ]
     },
     "execution_count": 17,
     "metadata": {},
     "output_type": "execute_result"
    }
   ],
   "source": [
    "#просмотр количества уникальных названий\n",
    "print(df['city'].nunique())\n",
    "df['city'].unique()"
   ]
  },
  {
   "cell_type": "markdown",
   "id": "cbcc3ffe",
   "metadata": {},
   "source": [
    "#### Вывод\n",
    "\n",
    "В ходе предобработки данных:\n",
    "\n",
    "   - изменен тип данных столбца date в таблице df_1 (поездки)\n",
    "   - создан новый столбец 'month' с номером месяца в таблице df_1 (поездки)\n",
    "   - выяснили, что пропущенные значения и неявные дубликаты отсутствуют \n",
    "   - в таблице df (пользователи) обнаружены и удалены явные дубликаты."
   ]
  },
  {
   "cell_type": "markdown",
   "id": "212593c7",
   "metadata": {},
   "source": [
    "### Шаг 3. Исследовательский анализ данных"
   ]
  },
  {
   "cell_type": "markdown",
   "id": "de937e01",
   "metadata": {},
   "source": [
    "Описание и визуализация общей информации о пользователях и поездках:"
   ]
  },
  {
   "cell_type": "markdown",
   "id": "1a03453b",
   "metadata": {},
   "source": [
    "#### Частота встречаемости городов"
   ]
  },
  {
   "cell_type": "code",
   "execution_count": 18,
   "id": "1950c234",
   "metadata": {},
   "outputs": [
    {
     "data": {
      "text/html": [
       "<div>\n",
       "<style scoped>\n",
       "    .dataframe tbody tr th:only-of-type {\n",
       "        vertical-align: middle;\n",
       "    }\n",
       "\n",
       "    .dataframe tbody tr th {\n",
       "        vertical-align: top;\n",
       "    }\n",
       "\n",
       "    .dataframe thead th {\n",
       "        text-align: right;\n",
       "    }\n",
       "</style>\n",
       "<table border=\"1\" class=\"dataframe\">\n",
       "  <thead>\n",
       "    <tr style=\"text-align: right;\">\n",
       "      <th></th>\n",
       "      <th>user_id</th>\n",
       "    </tr>\n",
       "    <tr>\n",
       "      <th>city</th>\n",
       "      <th></th>\n",
       "    </tr>\n",
       "  </thead>\n",
       "  <tbody>\n",
       "    <tr>\n",
       "      <th>Пятигорск</th>\n",
       "      <td>219</td>\n",
       "    </tr>\n",
       "    <tr>\n",
       "      <th>Екатеринбург</th>\n",
       "      <td>204</td>\n",
       "    </tr>\n",
       "    <tr>\n",
       "      <th>Ростов-на-Дону</th>\n",
       "      <td>198</td>\n",
       "    </tr>\n",
       "    <tr>\n",
       "      <th>Краснодар</th>\n",
       "      <td>193</td>\n",
       "    </tr>\n",
       "    <tr>\n",
       "      <th>Сочи</th>\n",
       "      <td>189</td>\n",
       "    </tr>\n",
       "    <tr>\n",
       "      <th>Омск</th>\n",
       "      <td>183</td>\n",
       "    </tr>\n",
       "    <tr>\n",
       "      <th>Тюмень</th>\n",
       "      <td>180</td>\n",
       "    </tr>\n",
       "    <tr>\n",
       "      <th>Москва</th>\n",
       "      <td>168</td>\n",
       "    </tr>\n",
       "  </tbody>\n",
       "</table>\n",
       "</div>"
      ],
      "text/plain": [
       "                user_id\n",
       "city                   \n",
       "Пятигорск           219\n",
       "Екатеринбург        204\n",
       "Ростов-на-Дону      198\n",
       "Краснодар           193\n",
       "Сочи                189\n",
       "Омск                183\n",
       "Тюмень              180\n",
       "Москва              168"
      ]
     },
     "metadata": {},
     "output_type": "display_data"
    },
    {
     "data": {
      "image/png": "[encoded data removed]",
      "text/plain": [
       "<Figure size 648x432 with 1 Axes>"
      ]
     },
     "metadata": {
      "needs_background": "light"
     },
     "output_type": "display_data"
    }
   ],
   "source": [
    "#сводная таблица количества пользователей в разных городах\n",
    "df_city = (\n",
    "    df.pivot_table\n",
    "    (index='city', \n",
    "     values='user_id', \n",
    "     aggfunc='count')\n",
    "    .sort_values(by='user_id', ascending=False)\n",
    ")\n",
    "#вывод свобной таблицы\n",
    "display(df_city)\n",
    "#визуализация\n",
    "df_city.plot(kind='barh', legend=False, grid=True, color='#52796f', figsize=(9, 6))\n",
    "\n",
    "# настройки внешнего вида графика\n",
    "plt.title('Количество пользователей в городах')\n",
    "plt.xlabel('Наименование города')\n",
    "plt.ylabel('Количество')\n",
    "#показ графика\n",
    "plt.show()"
   ]
  },
  {
   "cell_type": "markdown",
   "id": "be3e089e",
   "metadata": {},
   "source": [
    "Интересно, в Москве пользователей арендных самокатов наименьшее количество. "
   ]
  },
  {
   "cell_type": "markdown",
   "id": "b5b014b8",
   "metadata": {},
   "source": [
    "#### Соотношение пользователей с подпиской и без подписки"
   ]
  },
  {
   "cell_type": "code",
   "execution_count": 19,
   "id": "58a66ce1",
   "metadata": {},
   "outputs": [
    {
     "data": {
      "text/html": [
       "<div>\n",
       "<style scoped>\n",
       "    .dataframe tbody tr th:only-of-type {\n",
       "        vertical-align: middle;\n",
       "    }\n",
       "\n",
       "    .dataframe tbody tr th {\n",
       "        vertical-align: top;\n",
       "    }\n",
       "\n",
       "    .dataframe thead th {\n",
       "        text-align: right;\n",
       "    }\n",
       "</style>\n",
       "<table border=\"1\" class=\"dataframe\">\n",
       "  <thead>\n",
       "    <tr style=\"text-align: right;\">\n",
       "      <th></th>\n",
       "      <th>user_id</th>\n",
       "    </tr>\n",
       "    <tr>\n",
       "      <th>subscription_type</th>\n",
       "      <th></th>\n",
       "    </tr>\n",
       "  </thead>\n",
       "  <tbody>\n",
       "    <tr>\n",
       "      <th>free</th>\n",
       "      <td>835</td>\n",
       "    </tr>\n",
       "    <tr>\n",
       "      <th>ultra</th>\n",
       "      <td>699</td>\n",
       "    </tr>\n",
       "  </tbody>\n",
       "</table>\n",
       "</div>"
      ],
      "text/plain": [
       "                   user_id\n",
       "subscription_type         \n",
       "free                   835\n",
       "ultra                  699"
      ]
     },
     "metadata": {},
     "output_type": "display_data"
    },
    {
     "data": {
      "image/png": "[encoded data removed]",
      "text/plain": [
       "<Figure size 648x432 with 1 Axes>"
      ]
     },
     "metadata": {
      "needs_background": "light"
     },
     "output_type": "display_data"
    }
   ],
   "source": [
    "#сводная таблица количества пользователей с подпиской и без нее\n",
    "df_subscription = (\n",
    "        df.pivot_table\n",
    "    (index='subscription_type', \n",
    "     values='user_id', \n",
    "     aggfunc='count')\n",
    "    )\n",
    "#вывод свобной таблицы\n",
    "display(df_subscription)\n",
    "#визуализация\n",
    "df_subscription.plot(kind='bar',\n",
    "          legend=True,\n",
    "          grid=True,\n",
    "          figsize=(9,6),\n",
    "          color='#52796f')\n",
    "\n",
    "# настройки внешнего вида графика\n",
    "plt.title('Соотношение количества пользователей по типу подписки')\n",
    "plt.xlabel('Тип подписки')\n",
    "plt.ylabel('Количество')\n",
    "#показ графика\n",
    "plt.show()"
   ]
  },
  {
   "cell_type": "markdown",
   "id": "4c76a49b",
   "metadata": {},
   "source": [
    "Пользователей с подпиской Ultra немного меньше, чем пользователей без подписки."
   ]
  },
  {
   "cell_type": "markdown",
   "id": "0069e82c",
   "metadata": {},
   "source": [
    "#### Возраст пользователей"
   ]
  },
  {
   "cell_type": "code",
   "execution_count": 20,
   "id": "3b63381d",
   "metadata": {},
   "outputs": [
    {
     "data": {
      "text/plain": [
       "count    1534.000000\n",
       "mean       24.903520\n",
       "std         4.572367\n",
       "min        12.000000\n",
       "25%        22.000000\n",
       "50%        25.000000\n",
       "75%        28.000000\n",
       "max        43.000000\n",
       "Name: age, dtype: float64"
      ]
     },
     "execution_count": 20,
     "metadata": {},
     "output_type": "execute_result"
    }
   ],
   "source": [
    "#посмотрим на статистику столбца 'age'\n",
    "df['age'].describe()"
   ]
  },
  {
   "cell_type": "code",
   "execution_count": 21,
   "id": "2619b266",
   "metadata": {},
   "outputs": [
    {
     "data": {
      "image/png": "[encoded data removed]",
      "text/plain": [
       "<Figure size 648x432 with 1 Axes>"
      ]
     },
     "metadata": {
      "needs_background": "light"
     },
     "output_type": "display_data"
    }
   ],
   "source": [
    "#строим гистограмму\n",
    "df['age'].hist(bins=30, legend=True, grid=True, color='#52796f', figsize=(9,6))\n",
    "\n",
    "# настройки внешнего вида графика\n",
    "plt.title('Возраст пользователей')\n",
    "plt.xlabel('Возраст')\n",
    "plt.ylabel('Количество')\n",
    "#показ графика\n",
    "plt.show()"
   ]
  },
  {
   "cell_type": "markdown",
   "id": "285eaccd",
   "metadata": {},
   "source": [
    "Большинство пользователей, арендующих самокаты это молодые люди в возрасте от 20 до 30 лет. Также в выборке присутсвуют несовершеннолетние лица, что противеоречит законодательству РФ. Но так как выборка у нас за 2021 год, вероятно в те года еще не было запрета на пользование самокатов детьми. На сегодняшний момент сервису необходимо убедиться в наличии ограничений по возрасту, чтобы исключить нарушения."
   ]
  },
  {
   "cell_type": "markdown",
   "id": "d73ccb73",
   "metadata": {},
   "source": [
    "#### Расстояние, которое пользователь преодолел за одну поездку"
   ]
  },
  {
   "cell_type": "code",
   "execution_count": 22,
   "id": "8fbfd0a2",
   "metadata": {},
   "outputs": [
    {
     "data": {
      "text/plain": [
       "count    18068.000000\n",
       "mean      3070.659976\n",
       "std       1116.831209\n",
       "min          0.855683\n",
       "25%       2543.226360\n",
       "50%       3133.609994\n",
       "75%       3776.222735\n",
       "max       7211.007745\n",
       "Name: distance, dtype: float64"
      ]
     },
     "execution_count": 22,
     "metadata": {},
     "output_type": "execute_result"
    }
   ],
   "source": [
    "#посмотрим на статистику столбца 'distance'\n",
    "df_1['distance'].describe()"
   ]
  },
  {
   "cell_type": "code",
   "execution_count": 23,
   "id": "4bbe5f67",
   "metadata": {},
   "outputs": [
    {
     "data": {
      "image/png": "[encoded data removed]",
      "text/plain": [
       "<Figure size 648x432 with 1 Axes>"
      ]
     },
     "metadata": {
      "needs_background": "light"
     },
     "output_type": "display_data"
    }
   ],
   "source": [
    "df_1['distance'].hist(bins=30, legend=True, grid=True, color='#52796f', figsize=(9,6))\n",
    "\n",
    "# настройки внешнего вида графика\n",
    "plt.title('Расстояние, которое пользователь преодолел за одну поездку')\n",
    "plt.xlabel('Расстояние в метрах')\n",
    "plt.ylabel('Количество поездок')\n",
    "#показ графика\n",
    "plt.show()"
   ]
  },
  {
   "cell_type": "code",
   "execution_count": 24,
   "id": "b7f7cb35",
   "metadata": {},
   "outputs": [
    {
     "data": {
      "image/png": "[encoded data removed]",
      "text/plain": [
       "<Figure size 432x288 with 1 Axes>"
      ]
     },
     "metadata": {
      "needs_background": "light"
     },
     "output_type": "display_data"
    }
   ],
   "source": [
    "#строим диаграмму размаха \n",
    "sns.boxplot(y='distance', data=df_1)\n",
    "# настройки внешнего вида графика\n",
    "plt.title('Расстояние, которое пользователь преодолел за одну поездку')\n",
    "plt.grid(True)\n",
    "plt.figsize=(9, 6)\n",
    "#показ графика\n",
    "plt.show()"
   ]
  },
  {
   "cell_type": "markdown",
   "id": "d648fbe5",
   "metadata": {},
   "source": [
    "В среднем пользователи преодолевают 3070 м за одну поездку, медиана - 3133 м. Поездки с расстоянием менее 800 м можно назвать короткими, больше 5700 м самыми длительными.\n",
    "\n",
    "Причинами слишком коротких поездок могут быть:\n",
    "- пользователь забыл сразу завершить поездку\n",
    "- неисправность самоката\n",
    "- пользователь отвлекся на звонок, либо по пути зашел в магазин и не остановил поездку"
   ]
  },
  {
   "cell_type": "markdown",
   "id": "873a8cee",
   "metadata": {},
   "source": [
    "#### Продолжительность поездок"
   ]
  },
  {
   "cell_type": "code",
   "execution_count": 25,
   "id": "49ba1ef9",
   "metadata": {},
   "outputs": [
    {
     "data": {
      "text/plain": [
       "count    18068.000000\n",
       "mean        17.805011\n",
       "std          6.091051\n",
       "min          0.500000\n",
       "25%         13.597563\n",
       "50%         17.678395\n",
       "75%         21.724800\n",
       "max         40.823963\n",
       "Name: duration, dtype: float64"
      ]
     },
     "execution_count": 25,
     "metadata": {},
     "output_type": "execute_result"
    }
   ],
   "source": [
    "#посмотрим на статистику столбца 'duration'\n",
    "df_1['duration'].describe()"
   ]
  },
  {
   "cell_type": "code",
   "execution_count": 26,
   "id": "c0922c6d",
   "metadata": {},
   "outputs": [
    {
     "data": {
      "image/png": "[encoded data removed]",
      "text/plain": [
       "<Figure size 648x432 with 1 Axes>"
      ]
     },
     "metadata": {
      "needs_background": "light"
     },
     "output_type": "display_data"
    }
   ],
   "source": [
    "df_1['duration'].hist(bins=30, legend=True, grid=True, color='#52796f', figsize=(9,6))\n",
    "\n",
    "# настройки внешнего вида графика\n",
    "plt.title('Продолжительность сессии пользователей')\n",
    "plt.xlabel('Время в минутах')\n",
    "plt.ylabel('Количество поездок')\n",
    "#показ графика\n",
    "plt.show()"
   ]
  },
  {
   "cell_type": "markdown",
   "id": "bd45c580",
   "metadata": {},
   "source": [
    "17 минут - столько в среднем длится сессия. По графику мы видим, что есть использовние самокатов менее 1 минуты, вероятно это связано с  попыткой пользователя подключения к самокатам впервые или с желанием взять другой самокат, либо вовсе использовать другой способ передвижения."
   ]
  },
  {
   "cell_type": "markdown",
   "id": "72a7bf34",
   "metadata": {},
   "source": [
    "#### Вывод\n",
    "\n",
    "По результатам исследовательского анализа была получена следующая информация:\n",
    "\n",
    "1.\tСервис аренды самокатов GoFast предоставляется в 8 городах России, в Пятигорске наибольшее количество пользователей – 219, в Москве наименьшее – 168. \n",
    "2.\tПользователей без подписки 835, подпиской *ultra* пользуются 699 пользователей.\n",
    "3.\tУслугами сервиса пользуются лица от 12 до 43 лет, среднестатистическому пользователю 25 лет.\n",
    "4.\tРасстояние 1 поездки варьируется от 0,8 до 7211 м, медианное значение – 3133 м. Поездки с расстоянием менее 800 м можно считать короткими, более 5700 м длительными.\n",
    "5.\tПродолжительность поездок распределяется от 0,5 до 40 минут. Среднее и медиана равны 17 минутам. Также наблюдаются слишком быстрые поездки менее 1 минуты, далее посмотрим с чем это может быть связано."
   ]
  },
  {
   "cell_type": "markdown",
   "id": "4ef51331",
   "metadata": {},
   "source": [
    "### Шаг 4. Объединение данных"
   ]
  },
  {
   "cell_type": "markdown",
   "id": "b21b6c67",
   "metadata": {},
   "source": [
    "#### Объединение данные о пользователях, поездках и подписках в один датафрейм"
   ]
  },
  {
   "cell_type": "code",
   "execution_count": 27,
   "id": "6bf288b5",
   "metadata": {},
   "outputs": [
    {
     "data": {
      "text/html": [
       "<div>\n",
       "<style scoped>\n",
       "    .dataframe tbody tr th:only-of-type {\n",
       "        vertical-align: middle;\n",
       "    }\n",
       "\n",
       "    .dataframe tbody tr th {\n",
       "        vertical-align: top;\n",
       "    }\n",
       "\n",
       "    .dataframe thead th {\n",
       "        text-align: right;\n",
       "    }\n",
       "</style>\n",
       "<table border=\"1\" class=\"dataframe\">\n",
       "  <thead>\n",
       "    <tr style=\"text-align: right;\">\n",
       "      <th></th>\n",
       "      <th>user_id</th>\n",
       "      <th>name</th>\n",
       "      <th>age</th>\n",
       "      <th>city</th>\n",
       "      <th>subscription_type</th>\n",
       "      <th>distance</th>\n",
       "      <th>duration</th>\n",
       "      <th>date</th>\n",
       "      <th>month</th>\n",
       "      <th>minute_price</th>\n",
       "      <th>start_ride_price</th>\n",
       "      <th>subscription_fee</th>\n",
       "    </tr>\n",
       "  </thead>\n",
       "  <tbody>\n",
       "    <tr>\n",
       "      <th>0</th>\n",
       "      <td>1</td>\n",
       "      <td>Кира</td>\n",
       "      <td>22</td>\n",
       "      <td>Тюмень</td>\n",
       "      <td>ultra</td>\n",
       "      <td>4409.919140</td>\n",
       "      <td>25.599769</td>\n",
       "      <td>2021-01-01</td>\n",
       "      <td>1</td>\n",
       "      <td>6</td>\n",
       "      <td>0</td>\n",
       "      <td>199</td>\n",
       "    </tr>\n",
       "    <tr>\n",
       "      <th>1</th>\n",
       "      <td>1</td>\n",
       "      <td>Кира</td>\n",
       "      <td>22</td>\n",
       "      <td>Тюмень</td>\n",
       "      <td>ultra</td>\n",
       "      <td>2617.592153</td>\n",
       "      <td>15.816871</td>\n",
       "      <td>2021-01-01</td>\n",
       "      <td>1</td>\n",
       "      <td>6</td>\n",
       "      <td>0</td>\n",
       "      <td>199</td>\n",
       "    </tr>\n",
       "    <tr>\n",
       "      <th>2</th>\n",
       "      <td>1</td>\n",
       "      <td>Кира</td>\n",
       "      <td>22</td>\n",
       "      <td>Тюмень</td>\n",
       "      <td>ultra</td>\n",
       "      <td>754.159807</td>\n",
       "      <td>6.232113</td>\n",
       "      <td>2021-04-01</td>\n",
       "      <td>4</td>\n",
       "      <td>6</td>\n",
       "      <td>0</td>\n",
       "      <td>199</td>\n",
       "    </tr>\n",
       "    <tr>\n",
       "      <th>3</th>\n",
       "      <td>1</td>\n",
       "      <td>Кира</td>\n",
       "      <td>22</td>\n",
       "      <td>Тюмень</td>\n",
       "      <td>ultra</td>\n",
       "      <td>2694.783254</td>\n",
       "      <td>18.511000</td>\n",
       "      <td>2021-08-01</td>\n",
       "      <td>8</td>\n",
       "      <td>6</td>\n",
       "      <td>0</td>\n",
       "      <td>199</td>\n",
       "    </tr>\n",
       "    <tr>\n",
       "      <th>4</th>\n",
       "      <td>1</td>\n",
       "      <td>Кира</td>\n",
       "      <td>22</td>\n",
       "      <td>Тюмень</td>\n",
       "      <td>ultra</td>\n",
       "      <td>4028.687306</td>\n",
       "      <td>26.265803</td>\n",
       "      <td>2021-08-01</td>\n",
       "      <td>8</td>\n",
       "      <td>6</td>\n",
       "      <td>0</td>\n",
       "      <td>199</td>\n",
       "    </tr>\n",
       "  </tbody>\n",
       "</table>\n",
       "</div>"
      ],
      "text/plain": [
       "   user_id  name  age    city subscription_type     distance   duration  \\\n",
       "0        1  Кира   22  Тюмень             ultra  4409.919140  25.599769   \n",
       "1        1  Кира   22  Тюмень             ultra  2617.592153  15.816871   \n",
       "2        1  Кира   22  Тюмень             ultra   754.159807   6.232113   \n",
       "3        1  Кира   22  Тюмень             ultra  2694.783254  18.511000   \n",
       "4        1  Кира   22  Тюмень             ultra  4028.687306  26.265803   \n",
       "\n",
       "        date  month  minute_price  start_ride_price  subscription_fee  \n",
       "0 2021-01-01      1             6                 0               199  \n",
       "1 2021-01-01      1             6                 0               199  \n",
       "2 2021-04-01      4             6                 0               199  \n",
       "3 2021-08-01      8             6                 0               199  \n",
       "4 2021-08-01      8             6                 0               199  "
      ]
     },
     "execution_count": 27,
     "metadata": {},
     "output_type": "execute_result"
    }
   ],
   "source": [
    "#объединение данных в один датафрейм\n",
    "data = df.merge(df_1, on='user_id').merge(\n",
    "    df_2, on='subscription_type')\n",
    "#вывод первых строк объединенной таблицы data\n",
    "data.head()"
   ]
  },
  {
   "cell_type": "code",
   "execution_count": 28,
   "id": "5c34f2a0",
   "metadata": {},
   "outputs": [
    {
     "name": "stdout",
     "output_type": "stream",
     "text": [
      "<class 'pandas.core.frame.DataFrame'>\n",
      "Int64Index: 18068 entries, 0 to 18067\n",
      "Data columns (total 12 columns):\n",
      " #   Column             Non-Null Count  Dtype         \n",
      "---  ------             --------------  -----         \n",
      " 0   user_id            18068 non-null  int64         \n",
      " 1   name               18068 non-null  object        \n",
      " 2   age                18068 non-null  int64         \n",
      " 3   city               18068 non-null  object        \n",
      " 4   subscription_type  18068 non-null  object        \n",
      " 5   distance           18068 non-null  float64       \n",
      " 6   duration           18068 non-null  float64       \n",
      " 7   date               18068 non-null  datetime64[ns]\n",
      " 8   month              18068 non-null  int64         \n",
      " 9   minute_price       18068 non-null  int64         \n",
      " 10  start_ride_price   18068 non-null  int64         \n",
      " 11  subscription_fee   18068 non-null  int64         \n",
      "dtypes: datetime64[ns](1), float64(2), int64(6), object(3)\n",
      "memory usage: 1.8+ MB\n"
     ]
    }
   ],
   "source": [
    "# получение общей информации о данных таблицы data\n",
    "data.info()"
   ]
  },
  {
   "cell_type": "markdown",
   "id": "146f5a4a",
   "metadata": {},
   "source": [
    "С помощью метода `merge` объединили исходные три датафрейма. Объединенная таблица имеет 12 столбцов и 18068 записей, теперь вся информация в одном месте, удобно. "
   ]
  },
  {
   "cell_type": "markdown",
   "id": "7a579efb",
   "metadata": {},
   "source": [
    "#### Создание двух датафреймов из датафрейма, созданного на этапе 4.1:\n",
    "    c данными о пользователях без подписки;\n",
    "    с данными о пользователях с подпиской."
   ]
  },
  {
   "cell_type": "code",
   "execution_count": 29,
   "id": "49bbbbf2",
   "metadata": {},
   "outputs": [
    {
     "data": {
      "text/html": [
       "<div>\n",
       "<style scoped>\n",
       "    .dataframe tbody tr th:only-of-type {\n",
       "        vertical-align: middle;\n",
       "    }\n",
       "\n",
       "    .dataframe tbody tr th {\n",
       "        vertical-align: top;\n",
       "    }\n",
       "\n",
       "    .dataframe thead th {\n",
       "        text-align: right;\n",
       "    }\n",
       "</style>\n",
       "<table border=\"1\" class=\"dataframe\">\n",
       "  <thead>\n",
       "    <tr style=\"text-align: right;\">\n",
       "      <th></th>\n",
       "      <th>user_id</th>\n",
       "      <th>name</th>\n",
       "      <th>age</th>\n",
       "      <th>city</th>\n",
       "      <th>subscription_type</th>\n",
       "      <th>distance</th>\n",
       "      <th>duration</th>\n",
       "      <th>date</th>\n",
       "      <th>month</th>\n",
       "      <th>minute_price</th>\n",
       "      <th>start_ride_price</th>\n",
       "      <th>subscription_fee</th>\n",
       "    </tr>\n",
       "  </thead>\n",
       "  <tbody>\n",
       "    <tr>\n",
       "      <th>6500</th>\n",
       "      <td>700</td>\n",
       "      <td>Айдар</td>\n",
       "      <td>22</td>\n",
       "      <td>Омск</td>\n",
       "      <td>free</td>\n",
       "      <td>2515.690719</td>\n",
       "      <td>14.944286</td>\n",
       "      <td>2021-01-01</td>\n",
       "      <td>1</td>\n",
       "      <td>8</td>\n",
       "      <td>50</td>\n",
       "      <td>0</td>\n",
       "    </tr>\n",
       "    <tr>\n",
       "      <th>6501</th>\n",
       "      <td>700</td>\n",
       "      <td>Айдар</td>\n",
       "      <td>22</td>\n",
       "      <td>Омск</td>\n",
       "      <td>free</td>\n",
       "      <td>846.932642</td>\n",
       "      <td>16.234663</td>\n",
       "      <td>2021-02-01</td>\n",
       "      <td>2</td>\n",
       "      <td>8</td>\n",
       "      <td>50</td>\n",
       "      <td>0</td>\n",
       "    </tr>\n",
       "    <tr>\n",
       "      <th>6502</th>\n",
       "      <td>700</td>\n",
       "      <td>Айдар</td>\n",
       "      <td>22</td>\n",
       "      <td>Омск</td>\n",
       "      <td>free</td>\n",
       "      <td>4004.434142</td>\n",
       "      <td>20.016628</td>\n",
       "      <td>2021-02-01</td>\n",
       "      <td>2</td>\n",
       "      <td>8</td>\n",
       "      <td>50</td>\n",
       "      <td>0</td>\n",
       "    </tr>\n",
       "    <tr>\n",
       "      <th>6503</th>\n",
       "      <td>700</td>\n",
       "      <td>Айдар</td>\n",
       "      <td>22</td>\n",
       "      <td>Омск</td>\n",
       "      <td>free</td>\n",
       "      <td>1205.911290</td>\n",
       "      <td>9.782872</td>\n",
       "      <td>2021-02-01</td>\n",
       "      <td>2</td>\n",
       "      <td>8</td>\n",
       "      <td>50</td>\n",
       "      <td>0</td>\n",
       "    </tr>\n",
       "    <tr>\n",
       "      <th>6504</th>\n",
       "      <td>700</td>\n",
       "      <td>Айдар</td>\n",
       "      <td>22</td>\n",
       "      <td>Омск</td>\n",
       "      <td>free</td>\n",
       "      <td>3047.379435</td>\n",
       "      <td>17.427673</td>\n",
       "      <td>2021-02-01</td>\n",
       "      <td>2</td>\n",
       "      <td>8</td>\n",
       "      <td>50</td>\n",
       "      <td>0</td>\n",
       "    </tr>\n",
       "  </tbody>\n",
       "</table>\n",
       "</div>"
      ],
      "text/plain": [
       "      user_id   name  age  city subscription_type     distance   duration  \\\n",
       "6500      700  Айдар   22  Омск              free  2515.690719  14.944286   \n",
       "6501      700  Айдар   22  Омск              free   846.932642  16.234663   \n",
       "6502      700  Айдар   22  Омск              free  4004.434142  20.016628   \n",
       "6503      700  Айдар   22  Омск              free  1205.911290   9.782872   \n",
       "6504      700  Айдар   22  Омск              free  3047.379435  17.427673   \n",
       "\n",
       "           date  month  minute_price  start_ride_price  subscription_fee  \n",
       "6500 2021-01-01      1             8                50                 0  \n",
       "6501 2021-02-01      2             8                50                 0  \n",
       "6502 2021-02-01      2             8                50                 0  \n",
       "6503 2021-02-01      2             8                50                 0  \n",
       "6504 2021-02-01      2             8                50                 0  "
      ]
     },
     "execution_count": 29,
     "metadata": {},
     "output_type": "execute_result"
    }
   ],
   "source": [
    "#создание нового датафрейма по условию пользователи без подписки\n",
    "data_free = data.query('subscription_type==\"free\"')\n",
    "#вывод первых строк data_free\n",
    "data_free.head()"
   ]
  },
  {
   "cell_type": "code",
   "execution_count": 30,
   "id": "5e1de3b3",
   "metadata": {},
   "outputs": [
    {
     "data": {
      "text/html": [
       "<div>\n",
       "<style scoped>\n",
       "    .dataframe tbody tr th:only-of-type {\n",
       "        vertical-align: middle;\n",
       "    }\n",
       "\n",
       "    .dataframe tbody tr th {\n",
       "        vertical-align: top;\n",
       "    }\n",
       "\n",
       "    .dataframe thead th {\n",
       "        text-align: right;\n",
       "    }\n",
       "</style>\n",
       "<table border=\"1\" class=\"dataframe\">\n",
       "  <thead>\n",
       "    <tr style=\"text-align: right;\">\n",
       "      <th></th>\n",
       "      <th>user_id</th>\n",
       "      <th>name</th>\n",
       "      <th>age</th>\n",
       "      <th>city</th>\n",
       "      <th>subscription_type</th>\n",
       "      <th>distance</th>\n",
       "      <th>duration</th>\n",
       "      <th>date</th>\n",
       "      <th>month</th>\n",
       "      <th>minute_price</th>\n",
       "      <th>start_ride_price</th>\n",
       "      <th>subscription_fee</th>\n",
       "    </tr>\n",
       "  </thead>\n",
       "  <tbody>\n",
       "    <tr>\n",
       "      <th>0</th>\n",
       "      <td>1</td>\n",
       "      <td>Кира</td>\n",
       "      <td>22</td>\n",
       "      <td>Тюмень</td>\n",
       "      <td>ultra</td>\n",
       "      <td>4409.919140</td>\n",
       "      <td>25.599769</td>\n",
       "      <td>2021-01-01</td>\n",
       "      <td>1</td>\n",
       "      <td>6</td>\n",
       "      <td>0</td>\n",
       "      <td>199</td>\n",
       "    </tr>\n",
       "    <tr>\n",
       "      <th>1</th>\n",
       "      <td>1</td>\n",
       "      <td>Кира</td>\n",
       "      <td>22</td>\n",
       "      <td>Тюмень</td>\n",
       "      <td>ultra</td>\n",
       "      <td>2617.592153</td>\n",
       "      <td>15.816871</td>\n",
       "      <td>2021-01-01</td>\n",
       "      <td>1</td>\n",
       "      <td>6</td>\n",
       "      <td>0</td>\n",
       "      <td>199</td>\n",
       "    </tr>\n",
       "    <tr>\n",
       "      <th>2</th>\n",
       "      <td>1</td>\n",
       "      <td>Кира</td>\n",
       "      <td>22</td>\n",
       "      <td>Тюмень</td>\n",
       "      <td>ultra</td>\n",
       "      <td>754.159807</td>\n",
       "      <td>6.232113</td>\n",
       "      <td>2021-04-01</td>\n",
       "      <td>4</td>\n",
       "      <td>6</td>\n",
       "      <td>0</td>\n",
       "      <td>199</td>\n",
       "    </tr>\n",
       "    <tr>\n",
       "      <th>3</th>\n",
       "      <td>1</td>\n",
       "      <td>Кира</td>\n",
       "      <td>22</td>\n",
       "      <td>Тюмень</td>\n",
       "      <td>ultra</td>\n",
       "      <td>2694.783254</td>\n",
       "      <td>18.511000</td>\n",
       "      <td>2021-08-01</td>\n",
       "      <td>8</td>\n",
       "      <td>6</td>\n",
       "      <td>0</td>\n",
       "      <td>199</td>\n",
       "    </tr>\n",
       "    <tr>\n",
       "      <th>4</th>\n",
       "      <td>1</td>\n",
       "      <td>Кира</td>\n",
       "      <td>22</td>\n",
       "      <td>Тюмень</td>\n",
       "      <td>ultra</td>\n",
       "      <td>4028.687306</td>\n",
       "      <td>26.265803</td>\n",
       "      <td>2021-08-01</td>\n",
       "      <td>8</td>\n",
       "      <td>6</td>\n",
       "      <td>0</td>\n",
       "      <td>199</td>\n",
       "    </tr>\n",
       "  </tbody>\n",
       "</table>\n",
       "</div>"
      ],
      "text/plain": [
       "   user_id  name  age    city subscription_type     distance   duration  \\\n",
       "0        1  Кира   22  Тюмень             ultra  4409.919140  25.599769   \n",
       "1        1  Кира   22  Тюмень             ultra  2617.592153  15.816871   \n",
       "2        1  Кира   22  Тюмень             ultra   754.159807   6.232113   \n",
       "3        1  Кира   22  Тюмень             ultra  2694.783254  18.511000   \n",
       "4        1  Кира   22  Тюмень             ultra  4028.687306  26.265803   \n",
       "\n",
       "        date  month  minute_price  start_ride_price  subscription_fee  \n",
       "0 2021-01-01      1             6                 0               199  \n",
       "1 2021-01-01      1             6                 0               199  \n",
       "2 2021-04-01      4             6                 0               199  \n",
       "3 2021-08-01      8             6                 0               199  \n",
       "4 2021-08-01      8             6                 0               199  "
      ]
     },
     "execution_count": 30,
     "metadata": {},
     "output_type": "execute_result"
    }
   ],
   "source": [
    "#создание нового датафрейма по условию пользователи с подпиской\n",
    "data_ultra = data.query('subscription_type==\"ultra\"')\n",
    "#вывод первых строк data_ultra\n",
    "data_ultra.head()"
   ]
  },
  {
   "cell_type": "markdown",
   "id": "f4b9ca08",
   "metadata": {},
   "source": [
    "Разделение пользователей по условию выполнено."
   ]
  },
  {
   "cell_type": "markdown",
   "id": "a1b24662",
   "metadata": {},
   "source": [
    "#### Визуализация информации о расстоянии и времени поездок для пользователей обеих категорий"
   ]
  },
  {
   "cell_type": "markdown",
   "id": "e2fca37b",
   "metadata": {},
   "source": [
    "***График для расстояния поездок для пользователей обеих категорий:***"
   ]
  },
  {
   "cell_type": "code",
   "execution_count": 31,
   "id": "d4bb92d3",
   "metadata": {},
   "outputs": [
    {
     "data": {
      "image/png": "[encoded data removed]",
      "text/plain": [
       "<Figure size 648x432 with 1 Axes>"
      ]
     },
     "metadata": {
      "needs_background": "light"
     },
     "output_type": "display_data"
    }
   ],
   "source": [
    "#создаем фигуру \n",
    "plt.subplots(figsize=(9, 6))\n",
    "\n",
    "#строим гистограммы\n",
    "sns.histplot(data_free['distance'], label='free', color='#cad2c5', )\n",
    "sns.histplot(data_ultra['distance'], label='ultra', color='#84a98c')\n",
    "\n",
    "# добавляем легенду\n",
    "plt.legend()\n",
    "# рисуем сетку\n",
    "plt.grid()\n",
    "# настройки внешнего вида графика\n",
    "plt.title('Расстояние поездок пользователей с подпиской free и ultra')\n",
    "plt.xlabel('Расстояние в метрах')\n",
    "plt.ylabel('Количество поездок')\n",
    "#показ графика\n",
    "plt.show()"
   ]
  },
  {
   "cell_type": "markdown",
   "id": "71688714",
   "metadata": {},
   "source": [
    "Пользователи без подписки преодолевают как самые короткие дистанции, так и самые продолжительные, в сравнении с пользователями с подпиской. "
   ]
  },
  {
   "cell_type": "markdown",
   "id": "166afc1a",
   "metadata": {},
   "source": [
    "***График для продолжительности поездок для пользователей обеих категорий:***"
   ]
  },
  {
   "cell_type": "code",
   "execution_count": 32,
   "id": "4538562e",
   "metadata": {},
   "outputs": [
    {
     "data": {
      "image/png": "[encoded data removed]",
      "text/plain": [
       "<Figure size 648x432 with 1 Axes>"
      ]
     },
     "metadata": {
      "needs_background": "light"
     },
     "output_type": "display_data"
    }
   ],
   "source": [
    "#создаем фигуру \n",
    "plt.subplots(figsize=(9, 6))\n",
    "\n",
    "#строим гистограммы\n",
    "sns.histplot(data_free['duration'], label='free', color='#cad2c5', )\n",
    "sns.histplot(data_ultra['duration'], label='ultra', color='#84a98c')\n",
    "\n",
    "# добавляем легенду\n",
    "plt.legend()\n",
    "# рисуем сетку\n",
    "plt.grid()\n",
    "# настройки внешнего вида графика\n",
    "plt.title('Время поездок пользователей с подпиской free и ultra')\n",
    "plt.xlabel('Время в минутах')\n",
    "plt.ylabel('Количество поездок')\n",
    "#показ графика\n",
    "plt.show()"
   ]
  },
  {
   "cell_type": "markdown",
   "id": "37327c1d",
   "metadata": {},
   "source": [
    "У пользователей без подписки больше коротких по времени поездок, что логично, они только знакомятся с услугами сервиса. "
   ]
  },
  {
   "cell_type": "code",
   "execution_count": 33,
   "id": "34bc0bfa",
   "metadata": {},
   "outputs": [
    {
     "data": {
      "text/html": [
       "<div>\n",
       "<style scoped>\n",
       "    .dataframe tbody tr th:only-of-type {\n",
       "        vertical-align: middle;\n",
       "    }\n",
       "\n",
       "    .dataframe tbody tr th {\n",
       "        vertical-align: top;\n",
       "    }\n",
       "\n",
       "    .dataframe thead th {\n",
       "        text-align: right;\n",
       "    }\n",
       "</style>\n",
       "<table border=\"1\" class=\"dataframe\">\n",
       "  <thead>\n",
       "    <tr style=\"text-align: right;\">\n",
       "      <th></th>\n",
       "      <th>distance</th>\n",
       "      <th>duration</th>\n",
       "    </tr>\n",
       "  </thead>\n",
       "  <tbody>\n",
       "    <tr>\n",
       "      <th>count</th>\n",
       "      <td>11568.000000</td>\n",
       "      <td>11568.000000</td>\n",
       "    </tr>\n",
       "    <tr>\n",
       "      <th>mean</th>\n",
       "      <td>3045.495282</td>\n",
       "      <td>17.390909</td>\n",
       "    </tr>\n",
       "    <tr>\n",
       "      <th>std</th>\n",
       "      <td>1246.173806</td>\n",
       "      <td>6.326803</td>\n",
       "    </tr>\n",
       "    <tr>\n",
       "      <th>min</th>\n",
       "      <td>0.855683</td>\n",
       "      <td>0.500000</td>\n",
       "    </tr>\n",
       "    <tr>\n",
       "      <th>25%</th>\n",
       "      <td>2366.562689</td>\n",
       "      <td>12.958437</td>\n",
       "    </tr>\n",
       "    <tr>\n",
       "      <th>50%</th>\n",
       "      <td>3114.648465</td>\n",
       "      <td>17.326890</td>\n",
       "    </tr>\n",
       "    <tr>\n",
       "      <th>75%</th>\n",
       "      <td>3905.697894</td>\n",
       "      <td>21.594071</td>\n",
       "    </tr>\n",
       "    <tr>\n",
       "      <th>max</th>\n",
       "      <td>7211.007745</td>\n",
       "      <td>34.948498</td>\n",
       "    </tr>\n",
       "  </tbody>\n",
       "</table>\n",
       "</div>"
      ],
      "text/plain": [
       "           distance      duration\n",
       "count  11568.000000  11568.000000\n",
       "mean    3045.495282     17.390909\n",
       "std     1246.173806      6.326803\n",
       "min        0.855683      0.500000\n",
       "25%     2366.562689     12.958437\n",
       "50%     3114.648465     17.326890\n",
       "75%     3905.697894     21.594071\n",
       "max     7211.007745     34.948498"
      ]
     },
     "metadata": {},
     "output_type": "display_data"
    },
    {
     "data": {
      "text/html": [
       "<div>\n",
       "<style scoped>\n",
       "    .dataframe tbody tr th:only-of-type {\n",
       "        vertical-align: middle;\n",
       "    }\n",
       "\n",
       "    .dataframe tbody tr th {\n",
       "        vertical-align: top;\n",
       "    }\n",
       "\n",
       "    .dataframe thead th {\n",
       "        text-align: right;\n",
       "    }\n",
       "</style>\n",
       "<table border=\"1\" class=\"dataframe\">\n",
       "  <thead>\n",
       "    <tr style=\"text-align: right;\">\n",
       "      <th></th>\n",
       "      <th>distance</th>\n",
       "      <th>duration</th>\n",
       "    </tr>\n",
       "  </thead>\n",
       "  <tbody>\n",
       "    <tr>\n",
       "      <th>count</th>\n",
       "      <td>6500.000000</td>\n",
       "      <td>6500.000000</td>\n",
       "    </tr>\n",
       "    <tr>\n",
       "      <th>mean</th>\n",
       "      <td>3115.445388</td>\n",
       "      <td>18.541985</td>\n",
       "    </tr>\n",
       "    <tr>\n",
       "      <th>std</th>\n",
       "      <td>836.895330</td>\n",
       "      <td>5.572048</td>\n",
       "    </tr>\n",
       "    <tr>\n",
       "      <th>min</th>\n",
       "      <td>244.210438</td>\n",
       "      <td>3.760353</td>\n",
       "    </tr>\n",
       "    <tr>\n",
       "      <th>25%</th>\n",
       "      <td>2785.444017</td>\n",
       "      <td>14.524654</td>\n",
       "    </tr>\n",
       "    <tr>\n",
       "      <th>50%</th>\n",
       "      <td>3148.637229</td>\n",
       "      <td>18.178153</td>\n",
       "    </tr>\n",
       "    <tr>\n",
       "      <th>75%</th>\n",
       "      <td>3560.574425</td>\n",
       "      <td>21.884129</td>\n",
       "    </tr>\n",
       "    <tr>\n",
       "      <th>max</th>\n",
       "      <td>5699.769662</td>\n",
       "      <td>40.823963</td>\n",
       "    </tr>\n",
       "  </tbody>\n",
       "</table>\n",
       "</div>"
      ],
      "text/plain": [
       "          distance     duration\n",
       "count  6500.000000  6500.000000\n",
       "mean   3115.445388    18.541985\n",
       "std     836.895330     5.572048\n",
       "min     244.210438     3.760353\n",
       "25%    2785.444017    14.524654\n",
       "50%    3148.637229    18.178153\n",
       "75%    3560.574425    21.884129\n",
       "max    5699.769662    40.823963"
      ]
     },
     "execution_count": 33,
     "metadata": {},
     "output_type": "execute_result"
    }
   ],
   "source": [
    "#описательная статистика расстояний и времени поездок для пользователей без подписки\n",
    "display(data_free[['distance', 'duration']].describe())\n",
    "#описательная статистика расстояний и времени поездок для пользователей с подпиской\n",
    "data_ultra[['distance', 'duration']].describe()"
   ]
  },
  {
   "cell_type": "markdown",
   "id": "2f47733b",
   "metadata": {},
   "source": [
    "Количество поездок у пользователей без подписки (11568) больше, чем количество поездок с подпиской (6500). Более равномерное распределение мы можем наблюдать на графиках у пользователей с подпиской *ultra*."
   ]
  },
  {
   "cell_type": "markdown",
   "id": "0efa6cf5",
   "metadata": {},
   "source": [
    "#### Вывод: \n",
    "\n",
    "Из визуализации и описательной статистики о расстоянии и продолжительности поездок пользователей с подпиской и без можем выделить следующее:\n",
    "\n",
    "- поездок с использованием подписки меньше, распределение равномернее;\n",
    "- расстояние поездок существенно разнятся, в случае использования подписки минимальное расстояние начинается с 244 м, максимальное – 5699 м. Без использования подписки наблюдаем наличие слишком коротких 0.85 м и длительных поездок 7211 м;\n",
    "- минимальная продолжительность поездок без использования подписки - 0,5 мин, максимальное – 35 мин. Пользователи с подпиской же пользуются от 3 и до 40 минут."
   ]
  },
  {
   "cell_type": "markdown",
   "id": "402d620f",
   "metadata": {},
   "source": [
    "### Шаг 5. Подсчёт выручки"
   ]
  },
  {
   "cell_type": "markdown",
   "id": "dc8ecddf",
   "metadata": {},
   "source": [
    "#### Суммарное расстояние, количество поездок и суммарное время для каждого пользователя за каждый месяц"
   ]
  },
  {
   "cell_type": "code",
   "execution_count": 34,
   "id": "806a6ab1",
   "metadata": {},
   "outputs": [
    {
     "data": {
      "text/html": [
       "<div>\n",
       "<style scoped>\n",
       "    .dataframe tbody tr th:only-of-type {\n",
       "        vertical-align: middle;\n",
       "    }\n",
       "\n",
       "    .dataframe tbody tr th {\n",
       "        vertical-align: top;\n",
       "    }\n",
       "\n",
       "    .dataframe thead th {\n",
       "        text-align: right;\n",
       "    }\n",
       "</style>\n",
       "<table border=\"1\" class=\"dataframe\">\n",
       "  <thead>\n",
       "    <tr style=\"text-align: right;\">\n",
       "      <th></th>\n",
       "      <th></th>\n",
       "      <th>count</th>\n",
       "      <th>distance_sum</th>\n",
       "      <th>duration_sum</th>\n",
       "      <th>minute_price</th>\n",
       "      <th>start_ride_price</th>\n",
       "      <th>subscription_fee</th>\n",
       "    </tr>\n",
       "    <tr>\n",
       "      <th>user_id</th>\n",
       "      <th>month</th>\n",
       "      <th></th>\n",
       "      <th></th>\n",
       "      <th></th>\n",
       "      <th></th>\n",
       "      <th></th>\n",
       "      <th></th>\n",
       "    </tr>\n",
       "  </thead>\n",
       "  <tbody>\n",
       "    <tr>\n",
       "      <th rowspan=\"5\" valign=\"top\">1</th>\n",
       "      <th>1</th>\n",
       "      <td>2</td>\n",
       "      <td>7027.51</td>\n",
       "      <td>42.0</td>\n",
       "      <td>6</td>\n",
       "      <td>0</td>\n",
       "      <td>199</td>\n",
       "    </tr>\n",
       "    <tr>\n",
       "      <th>4</th>\n",
       "      <td>1</td>\n",
       "      <td>754.16</td>\n",
       "      <td>7.0</td>\n",
       "      <td>6</td>\n",
       "      <td>0</td>\n",
       "      <td>199</td>\n",
       "    </tr>\n",
       "    <tr>\n",
       "      <th>8</th>\n",
       "      <td>2</td>\n",
       "      <td>6723.47</td>\n",
       "      <td>46.0</td>\n",
       "      <td>6</td>\n",
       "      <td>0</td>\n",
       "      <td>199</td>\n",
       "    </tr>\n",
       "    <tr>\n",
       "      <th>10</th>\n",
       "      <td>2</td>\n",
       "      <td>5809.91</td>\n",
       "      <td>32.0</td>\n",
       "      <td>6</td>\n",
       "      <td>0</td>\n",
       "      <td>199</td>\n",
       "    </tr>\n",
       "    <tr>\n",
       "      <th>11</th>\n",
       "      <td>3</td>\n",
       "      <td>7003.50</td>\n",
       "      <td>56.0</td>\n",
       "      <td>6</td>\n",
       "      <td>0</td>\n",
       "      <td>199</td>\n",
       "    </tr>\n",
       "    <tr>\n",
       "      <th>...</th>\n",
       "      <th>...</th>\n",
       "      <td>...</td>\n",
       "      <td>...</td>\n",
       "      <td>...</td>\n",
       "      <td>...</td>\n",
       "      <td>...</td>\n",
       "      <td>...</td>\n",
       "    </tr>\n",
       "    <tr>\n",
       "      <th rowspan=\"5\" valign=\"top\">1534</th>\n",
       "      <th>6</th>\n",
       "      <td>2</td>\n",
       "      <td>3409.47</td>\n",
       "      <td>26.0</td>\n",
       "      <td>8</td>\n",
       "      <td>50</td>\n",
       "      <td>0</td>\n",
       "    </tr>\n",
       "    <tr>\n",
       "      <th>8</th>\n",
       "      <td>2</td>\n",
       "      <td>7622.45</td>\n",
       "      <td>48.0</td>\n",
       "      <td>8</td>\n",
       "      <td>50</td>\n",
       "      <td>0</td>\n",
       "    </tr>\n",
       "    <tr>\n",
       "      <th>9</th>\n",
       "      <td>1</td>\n",
       "      <td>4928.17</td>\n",
       "      <td>23.0</td>\n",
       "      <td>8</td>\n",
       "      <td>50</td>\n",
       "      <td>0</td>\n",
       "    </tr>\n",
       "    <tr>\n",
       "      <th>11</th>\n",
       "      <td>4</td>\n",
       "      <td>13350.02</td>\n",
       "      <td>78.0</td>\n",
       "      <td>8</td>\n",
       "      <td>50</td>\n",
       "      <td>0</td>\n",
       "    </tr>\n",
       "    <tr>\n",
       "      <th>12</th>\n",
       "      <td>1</td>\n",
       "      <td>2371.71</td>\n",
       "      <td>16.0</td>\n",
       "      <td>8</td>\n",
       "      <td>50</td>\n",
       "      <td>0</td>\n",
       "    </tr>\n",
       "  </tbody>\n",
       "</table>\n",
       "<p>11331 rows × 6 columns</p>\n",
       "</div>"
      ],
      "text/plain": [
       "               count  distance_sum  duration_sum  minute_price  \\\n",
       "user_id month                                                    \n",
       "1       1          2       7027.51          42.0             6   \n",
       "        4          1        754.16           7.0             6   \n",
       "        8          2       6723.47          46.0             6   \n",
       "        10         2       5809.91          32.0             6   \n",
       "        11         3       7003.50          56.0             6   \n",
       "...              ...           ...           ...           ...   \n",
       "1534    6          2       3409.47          26.0             8   \n",
       "        8          2       7622.45          48.0             8   \n",
       "        9          1       4928.17          23.0             8   \n",
       "        11         4      13350.02          78.0             8   \n",
       "        12         1       2371.71          16.0             8   \n",
       "\n",
       "               start_ride_price  subscription_fee  \n",
       "user_id month                                      \n",
       "1       1                     0               199  \n",
       "        4                     0               199  \n",
       "        8                     0               199  \n",
       "        10                    0               199  \n",
       "        11                    0               199  \n",
       "...                         ...               ...  \n",
       "1534    6                    50                 0  \n",
       "        8                    50                 0  \n",
       "        9                    50                 0  \n",
       "        11                   50                 0  \n",
       "        12                   50                 0  \n",
       "\n",
       "[11331 rows x 6 columns]"
      ]
     },
     "execution_count": 34,
     "metadata": {},
     "output_type": "execute_result"
    }
   ],
   "source": [
    "#округление продолжительности поездок с помощью «потолка»\n",
    "data['duration'] = np.ceil(data['duration'])\n",
    "#округление расстояния поездок до 2 знаков после запятой\n",
    "data['distance'] = round(data['distance'],2)\n",
    "#создание датафрема с агрегированными данными о расстоянии и времени поездок\n",
    "revenue = data.pivot_table(\n",
    "    index=('user_id', 'month'),\n",
    "    values=('distance',\n",
    "            'duration',\n",
    "            'minute_price',\n",
    "            'start_ride_price',\n",
    "            'subscription_fee'),\n",
    "    aggfunc=({'distance':{'count','sum'},\n",
    "              'duration':'sum',\n",
    "              'minute_price':'mean',\n",
    "              'start_ride_price':'mean',\n",
    "              'subscription_fee':'mean'})\n",
    ").rename(columns={'distance':'distance_sum',\n",
    "                  'duration':'duration_sum',})\n",
    "#названия столбцов вместо двойных \n",
    "revenue.columns = [\n",
    "    'count',\n",
    "    'distance_sum',\n",
    "    'duration_sum',\n",
    "    'minute_price',\n",
    "    'start_ride_price',\n",
    "    'subscription_fee'\n",
    "]\n",
    "#вывод таблицы\n",
    "revenue"
   ]
  },
  {
   "cell_type": "markdown",
   "id": "97e64c93",
   "metadata": {},
   "source": [
    "#### Помесячная выручка по каждому пользователю"
   ]
  },
  {
   "cell_type": "code",
   "execution_count": 35,
   "id": "87e99fa4",
   "metadata": {},
   "outputs": [
    {
     "data": {
      "text/html": [
       "<div>\n",
       "<style scoped>\n",
       "    .dataframe tbody tr th:only-of-type {\n",
       "        vertical-align: middle;\n",
       "    }\n",
       "\n",
       "    .dataframe tbody tr th {\n",
       "        vertical-align: top;\n",
       "    }\n",
       "\n",
       "    .dataframe thead th {\n",
       "        text-align: right;\n",
       "    }\n",
       "</style>\n",
       "<table border=\"1\" class=\"dataframe\">\n",
       "  <thead>\n",
       "    <tr style=\"text-align: right;\">\n",
       "      <th></th>\n",
       "      <th></th>\n",
       "      <th>count</th>\n",
       "      <th>distance_sum</th>\n",
       "      <th>duration_sum</th>\n",
       "      <th>minute_price</th>\n",
       "      <th>start_ride_price</th>\n",
       "      <th>subscription_fee</th>\n",
       "      <th>monthly_revenue</th>\n",
       "    </tr>\n",
       "    <tr>\n",
       "      <th>user_id</th>\n",
       "      <th>month</th>\n",
       "      <th></th>\n",
       "      <th></th>\n",
       "      <th></th>\n",
       "      <th></th>\n",
       "      <th></th>\n",
       "      <th></th>\n",
       "      <th></th>\n",
       "    </tr>\n",
       "  </thead>\n",
       "  <tbody>\n",
       "    <tr>\n",
       "      <th rowspan=\"5\" valign=\"top\">1</th>\n",
       "      <th>1</th>\n",
       "      <td>2</td>\n",
       "      <td>7027.51</td>\n",
       "      <td>42.0</td>\n",
       "      <td>6</td>\n",
       "      <td>0</td>\n",
       "      <td>199</td>\n",
       "      <td>451.0</td>\n",
       "    </tr>\n",
       "    <tr>\n",
       "      <th>4</th>\n",
       "      <td>1</td>\n",
       "      <td>754.16</td>\n",
       "      <td>7.0</td>\n",
       "      <td>6</td>\n",
       "      <td>0</td>\n",
       "      <td>199</td>\n",
       "      <td>241.0</td>\n",
       "    </tr>\n",
       "    <tr>\n",
       "      <th>8</th>\n",
       "      <td>2</td>\n",
       "      <td>6723.47</td>\n",
       "      <td>46.0</td>\n",
       "      <td>6</td>\n",
       "      <td>0</td>\n",
       "      <td>199</td>\n",
       "      <td>475.0</td>\n",
       "    </tr>\n",
       "    <tr>\n",
       "      <th>10</th>\n",
       "      <td>2</td>\n",
       "      <td>5809.91</td>\n",
       "      <td>32.0</td>\n",
       "      <td>6</td>\n",
       "      <td>0</td>\n",
       "      <td>199</td>\n",
       "      <td>391.0</td>\n",
       "    </tr>\n",
       "    <tr>\n",
       "      <th>11</th>\n",
       "      <td>3</td>\n",
       "      <td>7003.50</td>\n",
       "      <td>56.0</td>\n",
       "      <td>6</td>\n",
       "      <td>0</td>\n",
       "      <td>199</td>\n",
       "      <td>535.0</td>\n",
       "    </tr>\n",
       "    <tr>\n",
       "      <th>...</th>\n",
       "      <th>...</th>\n",
       "      <td>...</td>\n",
       "      <td>...</td>\n",
       "      <td>...</td>\n",
       "      <td>...</td>\n",
       "      <td>...</td>\n",
       "      <td>...</td>\n",
       "      <td>...</td>\n",
       "    </tr>\n",
       "    <tr>\n",
       "      <th rowspan=\"5\" valign=\"top\">1534</th>\n",
       "      <th>6</th>\n",
       "      <td>2</td>\n",
       "      <td>3409.47</td>\n",
       "      <td>26.0</td>\n",
       "      <td>8</td>\n",
       "      <td>50</td>\n",
       "      <td>0</td>\n",
       "      <td>308.0</td>\n",
       "    </tr>\n",
       "    <tr>\n",
       "      <th>8</th>\n",
       "      <td>2</td>\n",
       "      <td>7622.45</td>\n",
       "      <td>48.0</td>\n",
       "      <td>8</td>\n",
       "      <td>50</td>\n",
       "      <td>0</td>\n",
       "      <td>484.0</td>\n",
       "    </tr>\n",
       "    <tr>\n",
       "      <th>9</th>\n",
       "      <td>1</td>\n",
       "      <td>4928.17</td>\n",
       "      <td>23.0</td>\n",
       "      <td>8</td>\n",
       "      <td>50</td>\n",
       "      <td>0</td>\n",
       "      <td>234.0</td>\n",
       "    </tr>\n",
       "    <tr>\n",
       "      <th>11</th>\n",
       "      <td>4</td>\n",
       "      <td>13350.02</td>\n",
       "      <td>78.0</td>\n",
       "      <td>8</td>\n",
       "      <td>50</td>\n",
       "      <td>0</td>\n",
       "      <td>824.0</td>\n",
       "    </tr>\n",
       "    <tr>\n",
       "      <th>12</th>\n",
       "      <td>1</td>\n",
       "      <td>2371.71</td>\n",
       "      <td>16.0</td>\n",
       "      <td>8</td>\n",
       "      <td>50</td>\n",
       "      <td>0</td>\n",
       "      <td>178.0</td>\n",
       "    </tr>\n",
       "  </tbody>\n",
       "</table>\n",
       "<p>11331 rows × 7 columns</p>\n",
       "</div>"
      ],
      "text/plain": [
       "               count  distance_sum  duration_sum  minute_price  \\\n",
       "user_id month                                                    \n",
       "1       1          2       7027.51          42.0             6   \n",
       "        4          1        754.16           7.0             6   \n",
       "        8          2       6723.47          46.0             6   \n",
       "        10         2       5809.91          32.0             6   \n",
       "        11         3       7003.50          56.0             6   \n",
       "...              ...           ...           ...           ...   \n",
       "1534    6          2       3409.47          26.0             8   \n",
       "        8          2       7622.45          48.0             8   \n",
       "        9          1       4928.17          23.0             8   \n",
       "        11         4      13350.02          78.0             8   \n",
       "        12         1       2371.71          16.0             8   \n",
       "\n",
       "               start_ride_price  subscription_fee  monthly_revenue  \n",
       "user_id month                                                       \n",
       "1       1                     0               199            451.0  \n",
       "        4                     0               199            241.0  \n",
       "        8                     0               199            475.0  \n",
       "        10                    0               199            391.0  \n",
       "        11                    0               199            535.0  \n",
       "...                         ...               ...              ...  \n",
       "1534    6                    50                 0            308.0  \n",
       "        8                    50                 0            484.0  \n",
       "        9                    50                 0            234.0  \n",
       "        11                   50                 0            824.0  \n",
       "        12                   50                 0            178.0  \n",
       "\n",
       "[11331 rows x 7 columns]"
      ]
     },
     "execution_count": 35,
     "metadata": {},
     "output_type": "execute_result"
    }
   ],
   "source": [
    "#создаем новый столбец с подсчетом помесячной выручки по каждому пользователю\n",
    "revenue['monthly_revenue'] = (\n",
    "    (revenue['start_ride_price']*revenue['count']) + \n",
    "    (revenue['minute_price']*revenue['duration_sum']) + \n",
    "    revenue['subscription_fee']\n",
    ")\n",
    "#вывод таблицы revenue\n",
    "revenue"
   ]
  },
  {
   "cell_type": "markdown",
   "id": "ffba9b69",
   "metadata": {},
   "source": [
    "#### Вывод\n",
    "\n",
    "В новом датафрейме *revenue* содержится информация о том, сколько денег и в какой месяц потратил пользователь на аренду самокатов."
   ]
  },
  {
   "cell_type": "markdown",
   "id": "41545ac0",
   "metadata": {},
   "source": [
    "### Шаг 6. Проверка гипотез"
   ]
  },
  {
   "cell_type": "markdown",
   "id": "6aabc853",
   "metadata": {},
   "source": [
    "#### Тратят ли пользователи с подпиской больше времени на поездки? "
   ]
  },
  {
   "cell_type": "markdown",
   "id": "ae2389bc",
   "metadata": {},
   "source": [
    "Сформулируем гипотезы.\n",
    "\n",
    "Нулевая гипотеза:\n",
    "\n",
    "   - H0: Средние продолжительности поездок пользователей из двух групп равны\n",
    "    \n",
    "Альтернативная гипотеза:\n",
    "\n",
    "   - H1: Средняя продолжительность поездок пользователей с подпиской *ultra* больше, чем средняя продолжительность поездок пользователей без подписки"
   ]
  },
  {
   "cell_type": "code",
   "execution_count": 36,
   "id": "23ea867b",
   "metadata": {},
   "outputs": [
    {
     "name": "stdout",
     "output_type": "stream",
     "text": [
      "p-значение: 1.2804098316645618e-34\n",
      "Отвергаем нулевую гипотезу\n"
     ]
    }
   ],
   "source": [
    "#выбранный уровень статистической значимости\n",
    "alpha = 0.05\n",
    "\n",
    "results = st.ttest_ind(\n",
    "    data_ultra['duration'],\n",
    "    data_free['duration'],\n",
    "    alternative='greater')\n",
    "\n",
    "#выведем полученное p-value\n",
    "print('p-значение:', results.pvalue)\n",
    "\n",
    "#вывод об отвержении или неотвержении нулевой гипотезы\n",
    "if results.pvalue < alpha:\n",
    "    print('Отвергаем нулевую гипотезу')\n",
    "else:\n",
    "    print('Нет оснований отвергнуть нулевую гипотезу')"
   ]
  },
  {
   "cell_type": "markdown",
   "id": "d26578a0",
   "metadata": {},
   "source": [
    "Полученное значение p-value меньше заданного уровня значимости (близко к 0), поэтому нулевая гипотеза отвергнута."
   ]
  },
  {
   "cell_type": "markdown",
   "id": "cc75568a",
   "metadata": {},
   "source": [
    "#### Оптимальное расстояние одной поездки с точки зрения износа самоката"
   ]
  },
  {
   "cell_type": "markdown",
   "id": "3546757f",
   "metadata": {},
   "source": [
    "Расстояние одной поездки в 3130 метров — оптимальное с точки зрения износа самоката. Можно ли сказать, что расстояние, которое проезжают пользователи с подпиской за одну поездку, не превышает 3130 метров? \n",
    "\n",
    "Сформулируем гипотезы.\n",
    "\n",
    "Нулевая гипотеза:\n",
    "\n",
    "   - H0: Среднее расстояние одной поездки пользователей с подпиской равна 3130 метров\n",
    "    \n",
    "Альтернативная гипотеза:\n",
    "\n",
    "   - H1: Среднее расстояние одной поездки пользователей с подпиской больше 3130 метров"
   ]
  },
  {
   "cell_type": "code",
   "execution_count": 37,
   "id": "8795f6b2",
   "metadata": {},
   "outputs": [
    {
     "name": "stdout",
     "output_type": "stream",
     "text": [
      "p-значение: 0.9195368847849785\n",
      "Нет оснований отвергнуть нулевую гипотезу\n"
     ]
    }
   ],
   "source": [
    "distance = 3130\n",
    "#выбранный уровень статистической значимости\n",
    "alpha = 0.05\n",
    "\n",
    "results = st.ttest_1samp(\n",
    "    data_ultra['distance'], \n",
    "    distance,\n",
    "    alternative='greater')\n",
    "\n",
    "#выведем полученное p-value\n",
    "print('p-значение:', results.pvalue)\n",
    "\n",
    "#вывод об отвержении или неотвержении нулевой гипотезы\n",
    "if results.pvalue < alpha:\n",
    "    print('Отвергаем нулевую гипотезу')\n",
    "else:\n",
    "    print('Нет оснований отвергнуть нулевую гипотезу')"
   ]
  },
  {
   "cell_type": "markdown",
   "id": "7f289117",
   "metadata": {},
   "source": [
    "Полученное значение p-value больше заданного уровня значимости, поэтому нулевую гипотезу не отвергаем. Есть основание утверждать, что расстояние, которое проезжают пользователи с подпиской за одну поездку, не превышает 3130 метров."
   ]
  },
  {
   "cell_type": "markdown",
   "id": "c0c2207e",
   "metadata": {},
   "source": [
    "#### Будет ли помесячная выручка от пользователей с подпиской по месяцам выше, чем выручка от пользователей без подписки?"
   ]
  },
  {
   "cell_type": "markdown",
   "id": "20f0f156",
   "metadata": {},
   "source": [
    "Сформулируем гипотезы.\n",
    "\n",
    "Нулевая гипотеза:\n",
    "\n",
    "H0: Средняя помесячная выручка от пользователей с подпиской по месяцам равна средней помесячной выручке от пользователей без подписки\n",
    "\n",
    "Альтернативная гипотеза:\n",
    "\n",
    "H1: Средняя помесячная выручка от пользователей с подпиской по месяцам выше средней помесячной выручке от пользователей без подписки"
   ]
  },
  {
   "cell_type": "code",
   "execution_count": 38,
   "id": "81aa1b4f",
   "metadata": {},
   "outputs": [
    {
     "name": "stdout",
     "output_type": "stream",
     "text": [
      "p-значение: 1.8850394384715216e-31\n",
      "Отвергаем нулевую гипотезу\n"
     ]
    }
   ],
   "source": [
    "#выбранный уровень статистической значимости\n",
    "alpha = 0.05\n",
    "\n",
    "results = st.ttest_ind(\n",
    "    revenue[revenue['subscription_fee']>0]['monthly_revenue'],\n",
    "    revenue[revenue['subscription_fee']==0]['monthly_revenue'],\n",
    "    alternative='greater')\n",
    "\n",
    "#выведем полученное p-value\n",
    "print('p-значение:', results.pvalue)\n",
    "\n",
    "#вывод об отвержении или неотвержении нулевой гипотезы\n",
    "if results.pvalue < alpha:\n",
    "    print('Отвергаем нулевую гипотезу')\n",
    "else:\n",
    "    print('Нет оснований отвергнуть нулевую гипотезу')"
   ]
  },
  {
   "cell_type": "markdown",
   "id": "cc6578b4",
   "metadata": {},
   "source": [
    "Полученное значение p-value меньше заданного уровня значимости, поэтому можно отвергнуть нулевую гипотезу. Есть основание утверждать, что средняя помесячная выручка от пользователей с подпиской по месяцам выше."
   ]
  },
  {
   "cell_type": "markdown",
   "id": "c909911a",
   "metadata": {},
   "source": [
    "#### Техническая команда сервиса обновила сервера, с которыми взаимодействует мобильное приложение. Она надеется, что из-за этого количество обращений в техподдержку значимо снизилось. Некоторый файл содержит для каждого пользователя данные о количестве обращений до обновления и после него. Какой тест вам понадобился бы для проверки этой гипотезы?"
   ]
  },
  {
   "cell_type": "markdown",
   "id": "1b0d22b7",
   "metadata": {},
   "source": [
    "Для данной проверки я предложила би использовать двухвыборочный t-тест для зависимых (парных) выборок.\n",
    "\n",
    "Парная выборка означает, что некоторая переменная измеряется дважды для одних и тех же объектов. В нашем примере это количество обращений для каждого пользователя — до и после обновления серверов.\n",
    "\n",
    "Чтобы проверить гипотезу о равенстве среднего генеральной совокупности для зависимых выборок в Python, применяется метод `scipy.stats.ttest_rel()` с проверкой левосторонней альтернативной гипотезы *(alternative='less')*, так как нам необходимо проверить снизило ли количество обращений в техподдержку обновление серверов."
   ]
  },
  {
   "cell_type": "markdown",
   "id": "05b97a1d",
   "metadata": {},
   "source": [
    "#### Вывод\n",
    "\n",
    "В ходе проверки трех гипотез:\n",
    "- гипотеза о равенстве средней продолжительности поездок пользователей из двух групп отвергнута\n",
    "- можем утверждать о том,что среднее расстояние, которое проезжают пользователи с подпиской *ultra* за одну поездку, не превышает 3130 метров, что оптимально с точки зрения износа самокатов\n",
    "- сервис аренды самокатов GoFast получает выручку выше от пользователей с подпиской *ultra* "
   ]
  },
  {
   "cell_type": "markdown",
   "id": "61213c5e",
   "metadata": {},
   "source": [
    "### Шаг 7. Распределения"
   ]
  },
  {
   "cell_type": "markdown",
   "id": "e5e43813",
   "metadata": {},
   "source": [
    "#### Какое минимальное количество промокодов нужно разослать, чтобы вероятность не выполнить план была примерно 5 %?"
   ]
  },
  {
   "cell_type": "markdown",
   "id": "a99d9805",
   "metadata": {},
   "source": [
    "Отделу маркетинга GoFast поставили задачу: нужно провести акцию с раздачей промокодов на один бесплатный месяц подписки, в рамках которой как минимум 100 существующих клиентов должны продлить эту подписку. То есть по завершении периода действия подписки пользователь может либо отказаться от неё, либо продлить, совершив соответствующий платёж.\n",
    "Эта акция уже проводилась ранее и по итогу выяснилось, что после бесплатного пробного периода подписку продлевают 10 % пользователей."
   ]
  },
  {
   "cell_type": "markdown",
   "id": "5bc215bc",
   "metadata": {},
   "source": [
    "Выяснили, что подписку продлевают 10%, то есть вероятность успеха равна 0.1. Тогда вероятность неудачи по схеме Бернулли равна 1−0.1=0.9.\n",
    "\n",
    "Как минимум 100 существующих клиентов должны продлить эту подписку. \n",
    "\n",
    "Допустим, сервис отправляет 1000 промокодов, n=1000.\n",
    "\n",
    "Посчитаем вероятность того, что будут продлены 100 подписок из 1000:"
   ]
  },
  {
   "cell_type": "code",
   "execution_count": 39,
   "id": "e8b28bbb",
   "metadata": {},
   "outputs": [
    {
     "data": {
      "text/plain": [
       "0.4734009187048347"
      ]
     },
     "execution_count": 39,
     "metadata": {},
     "output_type": "execute_result"
    }
   ],
   "source": [
    "n = 1000\n",
    "k = 100\n",
    "p = 0.1\n",
    "result = 1 - binom.cdf(k, n, p)\n",
    "result"
   ]
  },
  {
   "cell_type": "markdown",
   "id": "9e5a3832",
   "metadata": {},
   "source": [
    "Вероятность продления 47%, теперь найдем количество промокодов с вероятностью выполнения плана 95%."
   ]
  },
  {
   "cell_type": "code",
   "execution_count": 40,
   "id": "f67231d2",
   "metadata": {},
   "outputs": [
    {
     "data": {
      "text/plain": [
       "1172"
      ]
     },
     "execution_count": 40,
     "metadata": {},
     "output_type": "execute_result"
    }
   ],
   "source": [
    "while 0.95 > (1 - binom.cdf(k, n, p)):\n",
    "    n += 1\n",
    "n"
   ]
  },
  {
   "cell_type": "markdown",
   "id": "dce48584",
   "metadata": {},
   "source": [
    "1172 - столько промокодов нужно разослать, чтобы вероятность не выполнить план была примерно 5 %."
   ]
  },
  {
   "cell_type": "markdown",
   "id": "d5452fe9",
   "metadata": {},
   "source": [
    "#### С помощью аппроксимации постройте примерный график распределения и оцените вероятность того, что уведомление откроют не более 399,5 тыс. пользователей."
   ]
  },
  {
   "cell_type": "markdown",
   "id": "86781dbc",
   "metadata": {},
   "source": [
    "Отдел маркетинга рассылает клиентам push-уведомления в мобильном приложении. Клиенты могут открыть его или не открывать. Известно, что уведомления открывают около 40 % получивших клиентов. Отдел планирует разослать 1 млн уведомлений. "
   ]
  },
  {
   "cell_type": "code",
   "execution_count": 41,
   "id": "cd11bb28",
   "metadata": {},
   "outputs": [
    {
     "name": "stdout",
     "output_type": "stream",
     "text": [
      "0.15371708296369768\n"
     ]
    }
   ],
   "source": [
    "#количество уведомлений\n",
    "n = 1000000\n",
    "#вероятность\n",
    "p = 0.4\n",
    "\n",
    "#математическое ожидание\n",
    "mu = n * p \n",
    "#стандартное отклонение\n",
    "sigma = sqrt(n * p * (1 - p))\n",
    "\n",
    "#задаём нормальное распределение\n",
    "distr = st.norm(mu, sigma)\n",
    "\n",
    "#считаем вероятность хвоста слева от 399,5 тысяч\n",
    "result = distr.cdf(399500)\n",
    "print(result)"
   ]
  },
  {
   "cell_type": "markdown",
   "id": "0f3d1b1b",
   "metadata": {},
   "source": [
    "Вероятность того, что уведомления откроют не более 399,5 пользователей составляет 15,37%."
   ]
  },
  {
   "cell_type": "markdown",
   "id": "54ad4068",
   "metadata": {},
   "source": [
    "### Общий вывод"
   ]
  },
  {
   "cell_type": "markdown",
   "id": "58779925",
   "metadata": {},
   "source": [
    "В ходе нашего исследования были выполенены следующие шаги:\n",
    "\n",
    "1. Изучение общей информации пользователях и поездках сервиса аренды самокатов GoFast:\n",
    "\n",
    "    - в таблице о пользователях 1565 записей и 5 столбцов\n",
    "    - в таблице о поездках 18068 записей и 4 столбца\n",
    "    - в таблице о тарифах 2 записи и 4 столбца\n",
    "    - в 1 столбце из таблицы о поездках некорректный тип данных\n",
    "    - пропущенных значений не обнаружено\n",
    "    - в таблице о пользователях количество явных дубликатов 31\n",
    "\n",
    "\n",
    "2. Изменен тип данных столбца ‘date ‘в таблице о поездках на тип даты, удалены явные дубликаты в столбце 'user_id' в таблице о пользователях и создан новый столбец 'month' с номером месяца в таблице о поездках.\n",
    "\n",
    "\n",
    "3. Описание и визуализация общей информации о пользователях и поездках:\n",
    "\n",
    "    - из 8 городов Пятигорск лидирует по количеству пользователей сервиса – 219, на втором месте Екатеринбург – 204, наименьшее количество пользователей оказалось в Москве – 168\n",
    "    - наличие подписки у 835 пользователей, 699 пользователей подписку не используют\n",
    "    - услугами сервиса пользуются люди от 12 до 43 лет, среднее значение по возрасту 25 лет\n",
    "    - расстояние, которое преодолевают пользователи за одну поездку по медиане составляет 3133 метра, также есть короткие поездки от 0,8 мин и длительные – 7211 метров\n",
    "    - продолжительность поездок в среднем составляет 17 минут, а значения варьируются от 0,5 до 40 минут\n",
    "\n",
    "\n",
    "4. Объединение данных для обеих групп для дальнейшего использования проверки гипотез и их визуализация:\n",
    "\n",
    "    - на графиках отобразили распределение расстояния и продолжительности поездок для обеих групп и сравнили описательную статистику:\n",
    "    - расстояние поездок существенно разнятся, в случае использования подписки минимальное расстояние начинается с 244 м, максимальное – 5699 м. Без использования подписки наблюдаем наличие слишком коротких 0.85 м и длительных поездок 7211 м\n",
    "    - пользователи с подпиской по продолжительности используют самокаты от 3 до 40 минут, без подписки от 0,5 до 35 минут.\n",
    "    - количество поездок без подписки больше (с подпиской 6500, без нее 11568)\n",
    "\n",
    "\n",
    "5. Подсчёт выручки: \n",
    "\n",
    "    - в новом датафрейме содержится информация о суммарном расстоянии, продолжительности поездок и помесячной выручке для каждого пользователя по месяцам\n",
    "    \n",
    "    Данные будут использованы для проверки гипотез.\n",
    "    \n",
    "    \n",
    "6. Проверка гипотез. По результатам проверки можно утверждать следующее:\n",
    "\n",
    "    - гипотеза о равенстве средней продолжительности поездок пользователей из двух групп отвергнута\n",
    "    - расстояние, которое проезжают пользователи с подпиской за одну поездку, не превышает 3130 метров, что оптимально с точки зрения износа самокатов\n",
    "    - средняя помесячная выручка от пользователей с подпиской по месяцам выше\n",
    "    \n",
    "***Рекомендации:***\n",
    "\n",
    "Сделать акцент на привлечение пользователей к приобретению подписки ‘ultra’, как показывает анализ эта группа пользователей является более выгодной для сервиса аренды самокатов. Рассмотреть внедрение различных стимулов использования сервиса, например, предоставление скидок/бонусов/промокодов для новых клиентов, оформивших подписку, а для  старых пользователей дополнительные бесплатные минуты или скидку на продление подписки за привлечение друзей.\n",
    "\n",
    "Проверить минимальный допустимый возраст пользователей сервиса в соответствии с законодательством."
   ]
  }
 ],
 "metadata": {
  "ExecuteTimeLog": [
   {
    "duration": 1684,
    "start_time": "2024-08-13T11:32:31.450Z"
   },
   {
    "duration": 14,
    "start_time": "2024-08-13T11:33:07.174Z"
   },
   {
    "duration": 9,
    "start_time": "2024-08-13T11:34:14.286Z"
   },
   {
    "duration": 8,
    "start_time": "2024-08-13T11:34:54.140Z"
   },
   {
    "duration": 9,
    "start_time": "2024-08-13T11:35:37.177Z"
   },
   {
    "duration": 12,
    "start_time": "2024-08-13T11:37:03.488Z"
   },
   {
    "duration": 11,
    "start_time": "2024-08-13T11:37:14.723Z"
   },
   {
    "duration": 15,
    "start_time": "2024-08-13T11:37:16.892Z"
   },
   {
    "duration": 13,
    "start_time": "2024-08-13T11:37:32.975Z"
   },
   {
    "duration": 9,
    "start_time": "2024-08-13T11:37:43.967Z"
   },
   {
    "duration": 10,
    "start_time": "2024-08-13T11:41:25.244Z"
   },
   {
    "duration": 13,
    "start_time": "2024-08-13T12:02:10.358Z"
   },
   {
    "duration": 11,
    "start_time": "2024-08-13T12:03:44.710Z"
   },
   {
    "duration": 1353,
    "start_time": "2024-08-13T12:14:07.228Z"
   },
   {
    "duration": 13,
    "start_time": "2024-08-13T12:14:22.912Z"
   },
   {
    "duration": 12,
    "start_time": "2024-08-13T12:18:38.799Z"
   },
   {
    "duration": 12,
    "start_time": "2024-08-13T12:20:49.747Z"
   },
   {
    "duration": 7,
    "start_time": "2024-08-13T12:21:43.363Z"
   },
   {
    "duration": 5,
    "start_time": "2024-08-13T12:21:57.167Z"
   },
   {
    "duration": 4,
    "start_time": "2024-08-13T12:22:01.567Z"
   },
   {
    "duration": 13,
    "start_time": "2024-08-13T12:23:40.035Z"
   },
   {
    "duration": 11,
    "start_time": "2024-08-13T12:25:38.603Z"
   },
   {
    "duration": 6,
    "start_time": "2024-08-13T12:25:58.986Z"
   },
   {
    "duration": 12,
    "start_time": "2024-08-13T12:26:06.572Z"
   },
   {
    "duration": 5,
    "start_time": "2024-08-13T12:26:07.042Z"
   },
   {
    "duration": 9,
    "start_time": "2024-08-13T12:27:48.198Z"
   },
   {
    "duration": 5,
    "start_time": "2024-08-13T12:27:48.726Z"
   },
   {
    "duration": 7,
    "start_time": "2024-08-13T12:28:37.022Z"
   },
   {
    "duration": 5,
    "start_time": "2024-08-13T12:29:08.594Z"
   },
   {
    "duration": 8,
    "start_time": "2024-08-13T12:32:21.013Z"
   },
   {
    "duration": 13,
    "start_time": "2024-08-13T12:33:02.534Z"
   },
   {
    "duration": 8,
    "start_time": "2024-08-13T12:33:27.934Z"
   },
   {
    "duration": 7,
    "start_time": "2024-08-13T12:33:41.765Z"
   },
   {
    "duration": 6,
    "start_time": "2024-08-13T12:33:53.134Z"
   },
   {
    "duration": 12,
    "start_time": "2024-08-13T12:35:06.109Z"
   },
   {
    "duration": 6,
    "start_time": "2024-08-13T12:35:17.481Z"
   },
   {
    "duration": 8,
    "start_time": "2024-08-13T12:35:46.629Z"
   },
   {
    "duration": 9,
    "start_time": "2024-08-13T12:36:26.949Z"
   },
   {
    "duration": 10,
    "start_time": "2024-08-13T12:37:00.670Z"
   },
   {
    "duration": 10,
    "start_time": "2024-08-13T12:37:35.141Z"
   },
   {
    "duration": 4,
    "start_time": "2024-08-13T12:37:52.582Z"
   },
   {
    "duration": 9,
    "start_time": "2024-08-13T12:44:42.929Z"
   },
   {
    "duration": 10,
    "start_time": "2024-08-13T12:49:34.608Z"
   },
   {
    "duration": 10,
    "start_time": "2024-08-13T12:49:40.327Z"
   },
   {
    "duration": 5,
    "start_time": "2024-08-13T12:53:35.180Z"
   },
   {
    "duration": 5,
    "start_time": "2024-08-13T12:55:35.672Z"
   },
   {
    "duration": 5,
    "start_time": "2024-08-13T12:55:45.024Z"
   },
   {
    "duration": 7,
    "start_time": "2024-08-13T12:55:55.972Z"
   },
   {
    "duration": 1275,
    "start_time": "2024-08-13T13:06:55.795Z"
   },
   {
    "duration": 13,
    "start_time": "2024-08-13T13:06:57.072Z"
   },
   {
    "duration": 12,
    "start_time": "2024-08-13T13:06:57.086Z"
   },
   {
    "duration": 13,
    "start_time": "2024-08-13T13:06:57.099Z"
   },
   {
    "duration": 10,
    "start_time": "2024-08-13T13:06:57.114Z"
   },
   {
    "duration": 9,
    "start_time": "2024-08-13T13:06:57.126Z"
   },
   {
    "duration": 9,
    "start_time": "2024-08-13T13:06:57.136Z"
   },
   {
    "duration": 8,
    "start_time": "2024-08-13T13:06:57.147Z"
   },
   {
    "duration": 14,
    "start_time": "2024-08-13T13:06:57.157Z"
   },
   {
    "duration": 6,
    "start_time": "2024-08-13T13:06:57.173Z"
   },
   {
    "duration": 25,
    "start_time": "2024-08-13T13:06:57.181Z"
   },
   {
    "duration": 6,
    "start_time": "2024-08-13T13:06:57.208Z"
   },
   {
    "duration": 12,
    "start_time": "2024-08-13T13:06:57.215Z"
   },
   {
    "duration": 12,
    "start_time": "2024-08-13T13:06:57.229Z"
   },
   {
    "duration": 8,
    "start_time": "2024-08-13T13:06:57.242Z"
   },
   {
    "duration": 4,
    "start_time": "2024-08-13T13:06:57.252Z"
   },
   {
    "duration": 10,
    "start_time": "2024-08-13T13:06:57.257Z"
   },
   {
    "duration": 6,
    "start_time": "2024-08-13T13:19:52.697Z"
   },
   {
    "duration": 252,
    "start_time": "2024-08-13T13:20:27.437Z"
   },
   {
    "duration": 129,
    "start_time": "2024-08-13T13:20:58.677Z"
   },
   {
    "duration": 125,
    "start_time": "2024-08-13T13:22:31.717Z"
   },
   {
    "duration": 135,
    "start_time": "2024-08-13T13:22:41.617Z"
   },
   {
    "duration": 6,
    "start_time": "2024-08-13T13:22:51.860Z"
   },
   {
    "duration": 178,
    "start_time": "2024-08-13T13:23:42.452Z"
   },
   {
    "duration": 187,
    "start_time": "2024-08-13T13:24:10.215Z"
   },
   {
    "duration": 228,
    "start_time": "2024-08-13T13:24:41.492Z"
   },
   {
    "duration": 186,
    "start_time": "2024-08-13T13:24:51.424Z"
   },
   {
    "duration": 166,
    "start_time": "2024-08-13T13:24:58.528Z"
   },
   {
    "duration": 299,
    "start_time": "2024-08-13T13:25:07.908Z"
   },
   {
    "duration": 206,
    "start_time": "2024-08-13T13:26:56.028Z"
   },
   {
    "duration": 12,
    "start_time": "2024-08-13T13:28:29.440Z"
   },
   {
    "duration": 7,
    "start_time": "2024-08-13T13:28:45.756Z"
   },
   {
    "duration": 14,
    "start_time": "2024-08-13T13:40:24.347Z"
   },
   {
    "duration": 13,
    "start_time": "2024-08-13T13:41:22.395Z"
   },
   {
    "duration": 193,
    "start_time": "2024-08-13T13:42:10.198Z"
   },
   {
    "duration": 209,
    "start_time": "2024-08-13T13:42:54.350Z"
   },
   {
    "duration": 216,
    "start_time": "2024-08-13T13:44:14.271Z"
   },
   {
    "duration": 9,
    "start_time": "2024-08-13T13:45:00.678Z"
   },
   {
    "duration": 197,
    "start_time": "2024-08-13T13:45:13.574Z"
   },
   {
    "duration": 197,
    "start_time": "2024-08-13T13:45:20.174Z"
   },
   {
    "duration": 11,
    "start_time": "2024-08-13T13:46:23.214Z"
   },
   {
    "duration": 18,
    "start_time": "2024-08-13T13:47:04.766Z"
   },
   {
    "duration": 20,
    "start_time": "2024-08-13T13:47:42.729Z"
   },
   {
    "duration": 12,
    "start_time": "2024-08-13T13:48:04.346Z"
   },
   {
    "duration": 205,
    "start_time": "2024-08-13T13:53:19.954Z"
   },
   {
    "duration": 17,
    "start_time": "2024-08-13T13:58:57.269Z"
   },
   {
    "duration": 16,
    "start_time": "2024-08-13T13:59:26.985Z"
   },
   {
    "duration": 16,
    "start_time": "2024-08-13T13:59:36.928Z"
   },
   {
    "duration": 15,
    "start_time": "2024-08-13T14:00:21.140Z"
   },
   {
    "duration": 12,
    "start_time": "2024-08-13T14:01:11.101Z"
   },
   {
    "duration": 188,
    "start_time": "2024-08-13T14:02:10.426Z"
   },
   {
    "duration": 280,
    "start_time": "2024-08-13T14:02:18.324Z"
   },
   {
    "duration": 277,
    "start_time": "2024-08-13T14:02:22.441Z"
   },
   {
    "duration": 127,
    "start_time": "2024-08-13T14:02:38.509Z"
   },
   {
    "duration": 133,
    "start_time": "2024-08-13T14:02:56.333Z"
   },
   {
    "duration": 16,
    "start_time": "2024-08-13T14:04:17.220Z"
   },
   {
    "duration": 157,
    "start_time": "2024-08-13T14:07:14.076Z"
   },
   {
    "duration": 15,
    "start_time": "2024-08-13T14:07:51.848Z"
   },
   {
    "duration": 165,
    "start_time": "2024-08-13T14:08:57.576Z"
   },
   {
    "duration": 78,
    "start_time": "2024-08-13T14:09:38.756Z"
   },
   {
    "duration": 152,
    "start_time": "2024-08-13T14:09:42.699Z"
   },
   {
    "duration": 138,
    "start_time": "2024-08-13T14:10:08.359Z"
   },
   {
    "duration": 150,
    "start_time": "2024-08-13T14:10:23.277Z"
   },
   {
    "duration": 133,
    "start_time": "2024-08-13T14:10:44.048Z"
   },
   {
    "duration": 6,
    "start_time": "2024-08-13T14:18:31.383Z"
   },
   {
    "duration": 1360,
    "start_time": "2024-08-13T14:19:57.715Z"
   },
   {
    "duration": 12,
    "start_time": "2024-08-13T14:19:59.077Z"
   },
   {
    "duration": 36,
    "start_time": "2024-08-13T14:19:59.090Z"
   },
   {
    "duration": 32,
    "start_time": "2024-08-13T14:19:59.128Z"
   },
   {
    "duration": 32,
    "start_time": "2024-08-13T14:19:59.162Z"
   },
   {
    "duration": 7,
    "start_time": "2024-08-13T14:19:59.196Z"
   },
   {
    "duration": 15,
    "start_time": "2024-08-13T14:19:59.205Z"
   },
   {
    "duration": 26,
    "start_time": "2024-08-13T14:19:59.222Z"
   },
   {
    "duration": 8,
    "start_time": "2024-08-13T14:19:59.249Z"
   },
   {
    "duration": 13,
    "start_time": "2024-08-13T14:19:59.260Z"
   },
   {
    "duration": 5,
    "start_time": "2024-08-13T14:19:59.275Z"
   },
   {
    "duration": 5,
    "start_time": "2024-08-13T14:19:59.282Z"
   },
   {
    "duration": 19,
    "start_time": "2024-08-13T14:19:59.289Z"
   },
   {
    "duration": 25,
    "start_time": "2024-08-13T14:19:59.310Z"
   },
   {
    "duration": 14,
    "start_time": "2024-08-13T14:19:59.337Z"
   },
   {
    "duration": 5,
    "start_time": "2024-08-13T14:19:59.353Z"
   },
   {
    "duration": 33,
    "start_time": "2024-08-13T14:19:59.359Z"
   },
   {
    "duration": 83,
    "start_time": "2024-08-13T14:19:59.393Z"
   },
   {
    "duration": 0,
    "start_time": "2024-08-13T14:19:59.478Z"
   },
   {
    "duration": 0,
    "start_time": "2024-08-13T14:19:59.479Z"
   },
   {
    "duration": 0,
    "start_time": "2024-08-13T14:19:59.480Z"
   },
   {
    "duration": 0,
    "start_time": "2024-08-13T14:19:59.480Z"
   },
   {
    "duration": 189,
    "start_time": "2024-08-13T14:20:07.399Z"
   },
   {
    "duration": 187,
    "start_time": "2024-08-13T14:20:38.527Z"
   },
   {
    "duration": 165,
    "start_time": "2024-08-13T14:20:55.352Z"
   },
   {
    "duration": 180,
    "start_time": "2024-08-13T14:21:06.655Z"
   },
   {
    "duration": 188,
    "start_time": "2024-08-13T14:21:20.999Z"
   },
   {
    "duration": 182,
    "start_time": "2024-08-13T14:25:23.314Z"
   },
   {
    "duration": 188,
    "start_time": "2024-08-13T14:26:37.166Z"
   },
   {
    "duration": 175,
    "start_time": "2024-08-13T14:26:48.650Z"
   },
   {
    "duration": 182,
    "start_time": "2024-08-13T14:26:57.115Z"
   },
   {
    "duration": 275,
    "start_time": "2024-08-13T14:30:55.099Z"
   },
   {
    "duration": 174,
    "start_time": "2024-08-13T14:31:27.790Z"
   },
   {
    "duration": 1301,
    "start_time": "2024-08-13T14:31:50.177Z"
   },
   {
    "duration": 13,
    "start_time": "2024-08-13T14:31:51.480Z"
   },
   {
    "duration": 20,
    "start_time": "2024-08-13T14:31:51.495Z"
   },
   {
    "duration": 11,
    "start_time": "2024-08-13T14:31:51.516Z"
   },
   {
    "duration": 21,
    "start_time": "2024-08-13T14:31:51.529Z"
   },
   {
    "duration": 7,
    "start_time": "2024-08-13T14:31:51.551Z"
   },
   {
    "duration": 10,
    "start_time": "2024-08-13T14:31:51.560Z"
   },
   {
    "duration": 34,
    "start_time": "2024-08-13T14:31:51.571Z"
   },
   {
    "duration": 5,
    "start_time": "2024-08-13T14:31:51.607Z"
   },
   {
    "duration": 7,
    "start_time": "2024-08-13T14:31:51.613Z"
   },
   {
    "duration": 8,
    "start_time": "2024-08-13T14:31:51.621Z"
   },
   {
    "duration": 10,
    "start_time": "2024-08-13T14:31:51.630Z"
   },
   {
    "duration": 7,
    "start_time": "2024-08-13T14:31:51.641Z"
   },
   {
    "duration": 18,
    "start_time": "2024-08-13T14:31:51.651Z"
   },
   {
    "duration": 11,
    "start_time": "2024-08-13T14:31:51.671Z"
   },
   {
    "duration": 28,
    "start_time": "2024-08-13T14:31:51.683Z"
   },
   {
    "duration": 32,
    "start_time": "2024-08-13T14:31:51.713Z"
   },
   {
    "duration": 265,
    "start_time": "2024-08-13T14:31:51.748Z"
   },
   {
    "duration": 213,
    "start_time": "2024-08-13T14:31:52.015Z"
   },
   {
    "duration": 151,
    "start_time": "2024-08-13T14:31:52.230Z"
   },
   {
    "duration": 185,
    "start_time": "2024-08-13T14:31:52.384Z"
   },
   {
    "duration": 69,
    "start_time": "2024-08-13T14:31:52.571Z"
   },
   {
    "duration": 231,
    "start_time": "2024-08-13T14:32:22.061Z"
   },
   {
    "duration": 180,
    "start_time": "2024-08-13T14:32:39.801Z"
   },
   {
    "duration": 184,
    "start_time": "2024-08-13T14:33:38.717Z"
   },
   {
    "duration": 203,
    "start_time": "2024-08-13T14:34:17.113Z"
   },
   {
    "duration": 24,
    "start_time": "2024-08-13T14:35:20.005Z"
   },
   {
    "duration": 20,
    "start_time": "2024-08-13T14:35:37.084Z"
   },
   {
    "duration": 183,
    "start_time": "2024-08-13T14:35:54.576Z"
   },
   {
    "duration": 254,
    "start_time": "2024-08-13T14:35:58.877Z"
   },
   {
    "duration": 186,
    "start_time": "2024-08-13T14:41:20.456Z"
   },
   {
    "duration": 186,
    "start_time": "2024-08-13T14:42:15.792Z"
   },
   {
    "duration": 184,
    "start_time": "2024-08-13T14:44:08.380Z"
   },
   {
    "duration": 139,
    "start_time": "2024-08-13T14:44:12.100Z"
   },
   {
    "duration": 152,
    "start_time": "2024-08-13T14:44:29.340Z"
   },
   {
    "duration": 166,
    "start_time": "2024-08-13T14:44:38.604Z"
   },
   {
    "duration": 156,
    "start_time": "2024-08-13T14:44:46.676Z"
   },
   {
    "duration": 158,
    "start_time": "2024-08-13T14:46:43.040Z"
   },
   {
    "duration": 142,
    "start_time": "2024-08-13T14:53:13.867Z"
   },
   {
    "duration": 126,
    "start_time": "2024-08-13T14:53:26.851Z"
   },
   {
    "duration": 204,
    "start_time": "2024-08-13T14:53:38.943Z"
   },
   {
    "duration": 132,
    "start_time": "2024-08-13T14:53:44.651Z"
   },
   {
    "duration": 159,
    "start_time": "2024-08-13T14:54:16.815Z"
   },
   {
    "duration": 189,
    "start_time": "2024-08-13T14:54:33.235Z"
   },
   {
    "duration": 151,
    "start_time": "2024-08-13T14:54:40.487Z"
   },
   {
    "duration": 162,
    "start_time": "2024-08-13T14:54:46.183Z"
   },
   {
    "duration": 192,
    "start_time": "2024-08-13T14:55:13.350Z"
   },
   {
    "duration": 12,
    "start_time": "2024-08-13T14:55:41.711Z"
   },
   {
    "duration": 10,
    "start_time": "2024-08-13T14:55:55.406Z"
   },
   {
    "duration": 184,
    "start_time": "2024-08-13T14:56:02.055Z"
   },
   {
    "duration": 166,
    "start_time": "2024-08-13T14:56:08.491Z"
   },
   {
    "duration": 7,
    "start_time": "2024-08-13T14:56:45.839Z"
   },
   {
    "duration": 196,
    "start_time": "2024-08-13T14:58:33.847Z"
   },
   {
    "duration": 173,
    "start_time": "2024-08-13T14:58:41.691Z"
   },
   {
    "duration": 258,
    "start_time": "2024-08-13T14:58:47.294Z"
   },
   {
    "duration": 139,
    "start_time": "2024-08-13T15:01:44.242Z"
   },
   {
    "duration": 7,
    "start_time": "2024-08-13T15:02:37.498Z"
   },
   {
    "duration": 6,
    "start_time": "2024-08-13T15:03:00.486Z"
   },
   {
    "duration": 148,
    "start_time": "2024-08-13T16:41:59.109Z"
   },
   {
    "duration": 20,
    "start_time": "2024-08-13T16:43:34.244Z"
   },
   {
    "duration": 138,
    "start_time": "2024-08-13T16:44:12.180Z"
   },
   {
    "duration": 164,
    "start_time": "2024-08-13T16:45:13.324Z"
   },
   {
    "duration": 959,
    "start_time": "2024-08-13T18:31:52.530Z"
   },
   {
    "duration": 12,
    "start_time": "2024-08-13T18:32:00.573Z"
   },
   {
    "duration": 9,
    "start_time": "2024-08-13T18:36:14.097Z"
   },
   {
    "duration": 205,
    "start_time": "2024-08-13T18:36:19.308Z"
   },
   {
    "duration": 200,
    "start_time": "2024-08-13T18:40:48.740Z"
   },
   {
    "duration": 189,
    "start_time": "2024-08-13T18:41:13.556Z"
   },
   {
    "duration": 154,
    "start_time": "2024-08-13T18:42:32.228Z"
   },
   {
    "duration": 172,
    "start_time": "2024-08-13T18:42:46.928Z"
   },
   {
    "duration": 174,
    "start_time": "2024-08-13T18:43:06.876Z"
   },
   {
    "duration": 178,
    "start_time": "2024-08-13T18:43:31.056Z"
   },
   {
    "duration": 816,
    "start_time": "2024-08-13T18:44:16.048Z"
   },
   {
    "duration": 182,
    "start_time": "2024-08-13T18:48:28.336Z"
   },
   {
    "duration": 389,
    "start_time": "2024-08-13T18:48:54.500Z"
   },
   {
    "duration": 11,
    "start_time": "2024-08-13T18:49:17.191Z"
   },
   {
    "duration": 1266,
    "start_time": "2024-08-13T18:50:08.571Z"
   },
   {
    "duration": 10,
    "start_time": "2024-08-13T18:50:09.839Z"
   },
   {
    "duration": 34,
    "start_time": "2024-08-13T18:50:09.851Z"
   },
   {
    "duration": 10,
    "start_time": "2024-08-13T18:50:09.887Z"
   },
   {
    "duration": 10,
    "start_time": "2024-08-13T18:50:09.898Z"
   },
   {
    "duration": 6,
    "start_time": "2024-08-13T18:50:09.910Z"
   },
   {
    "duration": 21,
    "start_time": "2024-08-13T18:50:09.918Z"
   },
   {
    "duration": 28,
    "start_time": "2024-08-13T18:50:09.941Z"
   },
   {
    "duration": 26,
    "start_time": "2024-08-13T18:50:09.970Z"
   },
   {
    "duration": 64,
    "start_time": "2024-08-13T18:50:09.999Z"
   },
   {
    "duration": 28,
    "start_time": "2024-08-13T18:50:10.064Z"
   },
   {
    "duration": 14,
    "start_time": "2024-08-13T18:50:10.093Z"
   },
   {
    "duration": 21,
    "start_time": "2024-08-13T18:50:10.109Z"
   },
   {
    "duration": 17,
    "start_time": "2024-08-13T18:50:10.132Z"
   },
   {
    "duration": 14,
    "start_time": "2024-08-13T18:50:10.151Z"
   },
   {
    "duration": 103,
    "start_time": "2024-08-13T18:50:10.167Z"
   },
   {
    "duration": 10,
    "start_time": "2024-08-13T18:50:10.272Z"
   },
   {
    "duration": 211,
    "start_time": "2024-08-13T18:50:10.283Z"
   },
   {
    "duration": 166,
    "start_time": "2024-08-13T18:50:10.496Z"
   },
   {
    "duration": 9,
    "start_time": "2024-08-13T18:50:10.664Z"
   },
   {
    "duration": 216,
    "start_time": "2024-08-13T18:50:10.674Z"
   },
   {
    "duration": 18,
    "start_time": "2024-08-13T18:50:10.891Z"
   },
   {
    "duration": 218,
    "start_time": "2024-08-13T18:50:10.911Z"
   },
   {
    "duration": 187,
    "start_time": "2024-08-13T18:50:32.330Z"
   },
   {
    "duration": 105,
    "start_time": "2024-08-13T18:50:50.071Z"
   },
   {
    "duration": 168,
    "start_time": "2024-08-13T18:51:39.823Z"
   },
   {
    "duration": 187,
    "start_time": "2024-08-13T18:51:50.326Z"
   },
   {
    "duration": 63,
    "start_time": "2024-08-13T18:51:59.415Z"
   },
   {
    "duration": 146,
    "start_time": "2024-08-13T18:52:13.882Z"
   },
   {
    "duration": 194,
    "start_time": "2024-08-13T18:52:28.370Z"
   },
   {
    "duration": 263,
    "start_time": "2024-08-13T18:53:51.466Z"
   },
   {
    "duration": 29,
    "start_time": "2024-08-13T18:59:07.858Z"
   },
   {
    "duration": 19,
    "start_time": "2024-08-13T18:59:24.798Z"
   },
   {
    "duration": 106,
    "start_time": "2024-08-13T19:00:16.782Z"
   },
   {
    "duration": 232,
    "start_time": "2024-08-13T19:02:25.829Z"
   },
   {
    "duration": 190,
    "start_time": "2024-08-13T19:03:34.266Z"
   },
   {
    "duration": 23,
    "start_time": "2024-08-13T19:06:57.753Z"
   },
   {
    "duration": 24,
    "start_time": "2024-08-13T19:07:21.768Z"
   },
   {
    "duration": 315,
    "start_time": "2024-08-13T19:09:21.024Z"
   },
   {
    "duration": 303,
    "start_time": "2024-08-13T19:09:57.655Z"
   },
   {
    "duration": 303,
    "start_time": "2024-08-13T19:10:17.076Z"
   },
   {
    "duration": 313,
    "start_time": "2024-08-13T19:10:40.917Z"
   },
   {
    "duration": 354,
    "start_time": "2024-08-13T19:12:20.377Z"
   },
   {
    "duration": 30,
    "start_time": "2024-08-13T19:13:08.952Z"
   },
   {
    "duration": 268,
    "start_time": "2024-08-13T19:13:31.680Z"
   },
   {
    "duration": 302,
    "start_time": "2024-08-13T19:13:45.157Z"
   },
   {
    "duration": 407,
    "start_time": "2024-08-13T19:14:04.612Z"
   },
   {
    "duration": 309,
    "start_time": "2024-08-13T19:15:25.136Z"
   },
   {
    "duration": 1805,
    "start_time": "2024-08-14T12:38:22.682Z"
   },
   {
    "duration": 12,
    "start_time": "2024-08-14T12:38:24.489Z"
   },
   {
    "duration": 47,
    "start_time": "2024-08-14T12:38:24.502Z"
   },
   {
    "duration": 32,
    "start_time": "2024-08-14T12:38:24.551Z"
   },
   {
    "duration": 35,
    "start_time": "2024-08-14T12:38:24.586Z"
   },
   {
    "duration": 45,
    "start_time": "2024-08-14T12:38:24.623Z"
   },
   {
    "duration": 75,
    "start_time": "2024-08-14T12:38:24.670Z"
   },
   {
    "duration": 45,
    "start_time": "2024-08-14T12:38:24.746Z"
   },
   {
    "duration": 21,
    "start_time": "2024-08-14T12:38:24.792Z"
   },
   {
    "duration": 60,
    "start_time": "2024-08-14T12:38:24.815Z"
   },
   {
    "duration": 41,
    "start_time": "2024-08-14T12:38:24.877Z"
   },
   {
    "duration": 41,
    "start_time": "2024-08-14T12:38:24.920Z"
   },
   {
    "duration": 64,
    "start_time": "2024-08-14T12:38:24.962Z"
   },
   {
    "duration": 23,
    "start_time": "2024-08-14T12:38:25.029Z"
   },
   {
    "duration": 31,
    "start_time": "2024-08-14T12:38:25.054Z"
   },
   {
    "duration": 25,
    "start_time": "2024-08-14T12:38:25.086Z"
   },
   {
    "duration": 23,
    "start_time": "2024-08-14T12:38:25.113Z"
   },
   {
    "duration": 349,
    "start_time": "2024-08-14T12:38:25.137Z"
   },
   {
    "duration": 162,
    "start_time": "2024-08-14T12:38:25.487Z"
   },
   {
    "duration": 8,
    "start_time": "2024-08-14T12:38:25.650Z"
   },
   {
    "duration": 184,
    "start_time": "2024-08-14T12:38:25.660Z"
   },
   {
    "duration": 9,
    "start_time": "2024-08-14T12:38:25.846Z"
   },
   {
    "duration": 119,
    "start_time": "2024-08-14T12:38:25.857Z"
   },
   {
    "duration": 312,
    "start_time": "2024-08-14T12:39:15.081Z"
   },
   {
    "duration": 312,
    "start_time": "2024-08-14T12:39:58.762Z"
   },
   {
    "duration": 443,
    "start_time": "2024-08-14T12:40:34.882Z"
   },
   {
    "duration": 336,
    "start_time": "2024-08-14T12:45:49.531Z"
   },
   {
    "duration": 323,
    "start_time": "2024-08-14T12:46:12.611Z"
   },
   {
    "duration": 25,
    "start_time": "2024-08-14T12:46:45.399Z"
   },
   {
    "duration": 26,
    "start_time": "2024-08-14T12:46:59.420Z"
   },
   {
    "duration": 401,
    "start_time": "2024-08-14T12:47:24.233Z"
   },
   {
    "duration": 26,
    "start_time": "2024-08-14T12:47:50.984Z"
   },
   {
    "duration": 28,
    "start_time": "2024-08-14T12:48:09.373Z"
   },
   {
    "duration": 24,
    "start_time": "2024-08-14T12:50:39.741Z"
   },
   {
    "duration": 27,
    "start_time": "2024-08-14T12:50:55.195Z"
   },
   {
    "duration": 22,
    "start_time": "2024-08-14T12:51:05.194Z"
   },
   {
    "duration": 138,
    "start_time": "2024-08-14T12:51:35.081Z"
   },
   {
    "duration": 24,
    "start_time": "2024-08-14T12:52:05.472Z"
   },
   {
    "duration": 22,
    "start_time": "2024-08-14T12:52:16.080Z"
   },
   {
    "duration": 18,
    "start_time": "2024-08-14T12:57:36.704Z"
   },
   {
    "duration": 17,
    "start_time": "2024-08-14T12:57:48.097Z"
   },
   {
    "duration": 19,
    "start_time": "2024-08-14T12:58:08.561Z"
   },
   {
    "duration": 18,
    "start_time": "2024-08-14T12:58:18.108Z"
   },
   {
    "duration": 26,
    "start_time": "2024-08-14T12:58:46.959Z"
   },
   {
    "duration": 22,
    "start_time": "2024-08-14T12:59:00.581Z"
   },
   {
    "duration": 117,
    "start_time": "2024-08-14T12:59:31.392Z"
   },
   {
    "duration": 115,
    "start_time": "2024-08-14T12:59:47.570Z"
   },
   {
    "duration": 17,
    "start_time": "2024-08-14T13:00:10.109Z"
   },
   {
    "duration": 881,
    "start_time": "2024-08-14T13:00:18.500Z"
   },
   {
    "duration": 163,
    "start_time": "2024-08-14T13:00:44.331Z"
   },
   {
    "duration": 177,
    "start_time": "2024-08-14T13:01:17.202Z"
   },
   {
    "duration": 169,
    "start_time": "2024-08-14T13:01:25.588Z"
   },
   {
    "duration": 171,
    "start_time": "2024-08-14T13:02:19.855Z"
   },
   {
    "duration": 176,
    "start_time": "2024-08-14T13:02:51.814Z"
   },
   {
    "duration": 183,
    "start_time": "2024-08-14T13:03:05.738Z"
   },
   {
    "duration": 264,
    "start_time": "2024-08-14T13:04:28.034Z"
   },
   {
    "duration": 157,
    "start_time": "2024-08-14T13:06:09.858Z"
   },
   {
    "duration": 9,
    "start_time": "2024-08-14T13:06:47.881Z"
   },
   {
    "duration": 192,
    "start_time": "2024-08-14T13:07:36.271Z"
   },
   {
    "duration": 184,
    "start_time": "2024-08-14T13:07:48.957Z"
   },
   {
    "duration": 11,
    "start_time": "2024-08-14T13:08:23.374Z"
   },
   {
    "duration": 177,
    "start_time": "2024-08-14T13:08:40.901Z"
   },
   {
    "duration": 170,
    "start_time": "2024-08-14T13:08:46.619Z"
   },
   {
    "duration": 10,
    "start_time": "2024-08-14T13:08:53.969Z"
   },
   {
    "duration": 184,
    "start_time": "2024-08-14T13:08:54.729Z"
   },
   {
    "duration": 377,
    "start_time": "2024-08-14T13:09:08.347Z"
   },
   {
    "duration": 179,
    "start_time": "2024-08-14T13:09:17.717Z"
   },
   {
    "duration": 114,
    "start_time": "2024-08-14T13:16:47.323Z"
   },
   {
    "duration": 15,
    "start_time": "2024-08-14T13:16:56.039Z"
   },
   {
    "duration": 14,
    "start_time": "2024-08-14T13:17:18.247Z"
   },
   {
    "duration": 125,
    "start_time": "2024-08-14T13:17:30.989Z"
   },
   {
    "duration": 230,
    "start_time": "2024-08-14T13:17:36.829Z"
   },
   {
    "duration": 194,
    "start_time": "2024-08-14T13:18:09.728Z"
   },
   {
    "duration": 165,
    "start_time": "2024-08-14T13:18:19.984Z"
   },
   {
    "duration": 159,
    "start_time": "2024-08-14T13:18:25.126Z"
   },
   {
    "duration": 210,
    "start_time": "2024-08-14T13:18:30.174Z"
   },
   {
    "duration": 190,
    "start_time": "2024-08-14T13:18:33.789Z"
   },
   {
    "duration": 224,
    "start_time": "2024-08-14T13:18:46.477Z"
   },
   {
    "duration": 4,
    "start_time": "2024-08-14T13:19:17.027Z"
   },
   {
    "duration": 16,
    "start_time": "2024-08-14T13:23:26.716Z"
   },
   {
    "duration": 16,
    "start_time": "2024-08-14T13:24:14.493Z"
   },
   {
    "duration": 1259,
    "start_time": "2024-08-14T13:26:30.170Z"
   },
   {
    "duration": 11,
    "start_time": "2024-08-14T13:26:31.431Z"
   },
   {
    "duration": 36,
    "start_time": "2024-08-14T13:26:31.444Z"
   },
   {
    "duration": 34,
    "start_time": "2024-08-14T13:26:31.481Z"
   },
   {
    "duration": 36,
    "start_time": "2024-08-14T13:26:31.517Z"
   },
   {
    "duration": 17,
    "start_time": "2024-08-14T13:26:31.554Z"
   },
   {
    "duration": 28,
    "start_time": "2024-08-14T13:26:31.572Z"
   },
   {
    "duration": 35,
    "start_time": "2024-08-14T13:26:31.602Z"
   },
   {
    "duration": 28,
    "start_time": "2024-08-14T13:26:31.638Z"
   },
   {
    "duration": 26,
    "start_time": "2024-08-14T13:26:31.668Z"
   },
   {
    "duration": 78,
    "start_time": "2024-08-14T13:26:31.696Z"
   },
   {
    "duration": 142,
    "start_time": "2024-08-14T13:26:31.776Z"
   },
   {
    "duration": 45,
    "start_time": "2024-08-14T13:26:31.920Z"
   },
   {
    "duration": 90,
    "start_time": "2024-08-14T13:26:31.968Z"
   },
   {
    "duration": 17,
    "start_time": "2024-08-14T13:26:32.060Z"
   },
   {
    "duration": 6,
    "start_time": "2024-08-14T13:26:32.079Z"
   },
   {
    "duration": 6,
    "start_time": "2024-08-14T13:26:32.087Z"
   },
   {
    "duration": 224,
    "start_time": "2024-08-14T13:26:32.095Z"
   },
   {
    "duration": 183,
    "start_time": "2024-08-14T13:26:32.321Z"
   },
   {
    "duration": 8,
    "start_time": "2024-08-14T13:26:32.506Z"
   },
   {
    "duration": 211,
    "start_time": "2024-08-14T13:26:32.515Z"
   },
   {
    "duration": 9,
    "start_time": "2024-08-14T13:26:32.728Z"
   },
   {
    "duration": 236,
    "start_time": "2024-08-14T13:26:32.739Z"
   },
   {
    "duration": 184,
    "start_time": "2024-08-14T13:26:32.977Z"
   },
   {
    "duration": 178,
    "start_time": "2024-08-14T13:26:57.288Z"
   },
   {
    "duration": 223,
    "start_time": "2024-08-14T13:27:54.526Z"
   },
   {
    "duration": 1644,
    "start_time": "2024-08-14T20:11:09.205Z"
   },
   {
    "duration": 12,
    "start_time": "2024-08-14T20:11:10.851Z"
   },
   {
    "duration": 18,
    "start_time": "2024-08-14T20:11:10.864Z"
   },
   {
    "duration": 20,
    "start_time": "2024-08-14T20:11:10.883Z"
   },
   {
    "duration": 12,
    "start_time": "2024-08-14T20:11:10.905Z"
   },
   {
    "duration": 6,
    "start_time": "2024-08-14T20:11:10.918Z"
   },
   {
    "duration": 49,
    "start_time": "2024-08-14T20:11:10.925Z"
   },
   {
    "duration": 8,
    "start_time": "2024-08-14T20:11:10.976Z"
   },
   {
    "duration": 4,
    "start_time": "2024-08-14T20:11:10.986Z"
   },
   {
    "duration": 6,
    "start_time": "2024-08-14T20:11:10.992Z"
   },
   {
    "duration": 7,
    "start_time": "2024-08-14T20:11:10.999Z"
   },
   {
    "duration": 5,
    "start_time": "2024-08-14T20:11:11.007Z"
   },
   {
    "duration": 5,
    "start_time": "2024-08-14T20:11:11.013Z"
   },
   {
    "duration": 8,
    "start_time": "2024-08-14T20:11:11.020Z"
   },
   {
    "duration": 42,
    "start_time": "2024-08-14T20:11:11.029Z"
   },
   {
    "duration": 5,
    "start_time": "2024-08-14T20:11:11.073Z"
   },
   {
    "duration": 5,
    "start_time": "2024-08-14T20:11:11.079Z"
   },
   {
    "duration": 212,
    "start_time": "2024-08-14T20:11:11.086Z"
   },
   {
    "duration": 154,
    "start_time": "2024-08-14T20:11:11.300Z"
   },
   {
    "duration": 15,
    "start_time": "2024-08-14T20:11:11.455Z"
   },
   {
    "duration": 189,
    "start_time": "2024-08-14T20:11:11.472Z"
   },
   {
    "duration": 9,
    "start_time": "2024-08-14T20:11:11.663Z"
   },
   {
    "duration": 236,
    "start_time": "2024-08-14T20:11:11.673Z"
   },
   {
    "duration": 219,
    "start_time": "2024-08-14T20:11:11.911Z"
   },
   {
    "duration": 229,
    "start_time": "2024-08-14T20:15:00.529Z"
   },
   {
    "duration": 10,
    "start_time": "2024-08-14T20:16:10.084Z"
   },
   {
    "duration": 11,
    "start_time": "2024-08-14T20:16:15.261Z"
   },
   {
    "duration": 97,
    "start_time": "2024-08-14T20:26:25.400Z"
   },
   {
    "duration": 208,
    "start_time": "2024-08-14T20:28:02.559Z"
   },
   {
    "duration": 102,
    "start_time": "2024-08-14T20:29:39.847Z"
   },
   {
    "duration": 205,
    "start_time": "2024-08-14T20:30:39.447Z"
   },
   {
    "duration": 127,
    "start_time": "2024-08-14T20:30:44.683Z"
   },
   {
    "duration": 131,
    "start_time": "2024-08-14T20:31:14.523Z"
   },
   {
    "duration": 3,
    "start_time": "2024-08-14T20:31:23.187Z"
   },
   {
    "duration": 105,
    "start_time": "2024-08-14T20:31:30.931Z"
   },
   {
    "duration": 105,
    "start_time": "2024-08-14T20:33:29.780Z"
   },
   {
    "duration": 251,
    "start_time": "2024-08-14T20:34:10.479Z"
   },
   {
    "duration": 311,
    "start_time": "2024-08-14T20:34:21.344Z"
   },
   {
    "duration": 216,
    "start_time": "2024-08-14T20:34:29.955Z"
   },
   {
    "duration": 15,
    "start_time": "2024-08-14T20:35:25.706Z"
   },
   {
    "duration": 11,
    "start_time": "2024-08-14T20:35:35.790Z"
   },
   {
    "duration": 14,
    "start_time": "2024-08-14T20:36:03.486Z"
   },
   {
    "duration": 15,
    "start_time": "2024-08-14T20:36:23.319Z"
   },
   {
    "duration": 14,
    "start_time": "2024-08-14T20:36:33.934Z"
   },
   {
    "duration": 10,
    "start_time": "2024-08-14T20:47:58.933Z"
   },
   {
    "duration": 222,
    "start_time": "2024-08-14T20:49:27.133Z"
   },
   {
    "duration": 300,
    "start_time": "2024-08-14T20:51:51.570Z"
   },
   {
    "duration": 164,
    "start_time": "2024-08-14T20:51:56.896Z"
   },
   {
    "duration": 209,
    "start_time": "2024-08-14T20:52:05.036Z"
   },
   {
    "duration": 18,
    "start_time": "2024-08-14T21:06:16.364Z"
   },
   {
    "duration": 12,
    "start_time": "2024-08-14T21:06:37.004Z"
   },
   {
    "duration": 15,
    "start_time": "2024-08-14T21:18:14.751Z"
   },
   {
    "duration": 29,
    "start_time": "2024-08-14T21:18:20.298Z"
   },
   {
    "duration": 22,
    "start_time": "2024-08-14T21:22:13.734Z"
   },
   {
    "duration": 24,
    "start_time": "2024-08-14T21:22:28.386Z"
   },
   {
    "duration": 31,
    "start_time": "2024-08-14T21:24:04.089Z"
   },
   {
    "duration": 32,
    "start_time": "2024-08-14T21:24:16.773Z"
   },
   {
    "duration": 31,
    "start_time": "2024-08-14T21:24:27.129Z"
   },
   {
    "duration": 24,
    "start_time": "2024-08-14T21:24:36.402Z"
   },
   {
    "duration": 17,
    "start_time": "2024-08-14T21:24:49.465Z"
   },
   {
    "duration": 21,
    "start_time": "2024-08-14T21:24:58.537Z"
   },
   {
    "duration": 27,
    "start_time": "2024-08-14T21:25:04.893Z"
   },
   {
    "duration": 15,
    "start_time": "2024-08-14T21:25:15.430Z"
   },
   {
    "duration": 16,
    "start_time": "2024-08-14T21:25:49.373Z"
   },
   {
    "duration": 17,
    "start_time": "2024-08-14T21:25:58.677Z"
   },
   {
    "duration": 18,
    "start_time": "2024-08-14T21:26:21.797Z"
   },
   {
    "duration": 13,
    "start_time": "2024-08-14T21:26:57.689Z"
   },
   {
    "duration": 13,
    "start_time": "2024-08-14T21:27:51.505Z"
   },
   {
    "duration": 11,
    "start_time": "2024-08-14T21:41:54.367Z"
   },
   {
    "duration": 254,
    "start_time": "2024-08-14T21:42:11.555Z"
   },
   {
    "duration": 9,
    "start_time": "2024-08-14T21:44:36.746Z"
   },
   {
    "duration": 167,
    "start_time": "2024-08-14T21:49:36.190Z"
   },
   {
    "duration": 116,
    "start_time": "2024-08-14T21:50:13.022Z"
   },
   {
    "duration": 117,
    "start_time": "2024-08-14T21:51:03.821Z"
   },
   {
    "duration": 328,
    "start_time": "2024-08-14T21:51:29.070Z"
   },
   {
    "duration": 497,
    "start_time": "2024-08-14T21:52:01.214Z"
   },
   {
    "duration": 361,
    "start_time": "2024-08-14T21:52:16.821Z"
   },
   {
    "duration": 356,
    "start_time": "2024-08-14T21:52:29.518Z"
   },
   {
    "duration": 353,
    "start_time": "2024-08-14T21:52:57.997Z"
   },
   {
    "duration": 320,
    "start_time": "2024-08-14T21:57:39.889Z"
   },
   {
    "duration": 392,
    "start_time": "2024-08-14T21:57:59.745Z"
   },
   {
    "duration": 507,
    "start_time": "2024-08-14T21:58:21.097Z"
   },
   {
    "duration": 374,
    "start_time": "2024-08-14T21:58:46.393Z"
   },
   {
    "duration": 437,
    "start_time": "2024-08-14T22:01:59.257Z"
   },
   {
    "duration": 395,
    "start_time": "2024-08-14T22:03:08.729Z"
   },
   {
    "duration": 402,
    "start_time": "2024-08-14T22:03:12.641Z"
   },
   {
    "duration": 562,
    "start_time": "2024-08-14T22:04:38.981Z"
   },
   {
    "duration": 358,
    "start_time": "2024-08-14T22:05:08.477Z"
   },
   {
    "duration": 1732,
    "start_time": "2024-08-14T22:08:56.404Z"
   },
   {
    "duration": 19,
    "start_time": "2024-08-14T22:09:07.824Z"
   },
   {
    "duration": 21,
    "start_time": "2024-08-14T22:09:48.040Z"
   },
   {
    "duration": 23,
    "start_time": "2024-08-14T22:10:01.137Z"
   },
   {
    "duration": 28,
    "start_time": "2024-08-14T22:10:08.096Z"
   },
   {
    "duration": 1249,
    "start_time": "2024-08-14T22:13:23.133Z"
   },
   {
    "duration": 11,
    "start_time": "2024-08-14T22:13:24.384Z"
   },
   {
    "duration": 43,
    "start_time": "2024-08-14T22:13:24.397Z"
   },
   {
    "duration": 22,
    "start_time": "2024-08-14T22:13:24.442Z"
   },
   {
    "duration": 12,
    "start_time": "2024-08-14T22:13:24.466Z"
   },
   {
    "duration": 13,
    "start_time": "2024-08-14T22:13:24.480Z"
   },
   {
    "duration": 21,
    "start_time": "2024-08-14T22:13:24.495Z"
   },
   {
    "duration": 13,
    "start_time": "2024-08-14T22:13:24.518Z"
   },
   {
    "duration": 7,
    "start_time": "2024-08-14T22:13:24.533Z"
   },
   {
    "duration": 7,
    "start_time": "2024-08-14T22:13:24.567Z"
   },
   {
    "duration": 12,
    "start_time": "2024-08-14T22:13:24.575Z"
   },
   {
    "duration": 5,
    "start_time": "2024-08-14T22:13:24.588Z"
   },
   {
    "duration": 5,
    "start_time": "2024-08-14T22:13:24.595Z"
   },
   {
    "duration": 8,
    "start_time": "2024-08-14T22:13:24.601Z"
   },
   {
    "duration": 59,
    "start_time": "2024-08-14T22:13:24.611Z"
   },
   {
    "duration": 21,
    "start_time": "2024-08-14T22:13:24.671Z"
   },
   {
    "duration": 6,
    "start_time": "2024-08-14T22:13:24.693Z"
   },
   {
    "duration": 210,
    "start_time": "2024-08-14T22:13:24.701Z"
   },
   {
    "duration": 191,
    "start_time": "2024-08-14T22:13:24.913Z"
   },
   {
    "duration": 8,
    "start_time": "2024-08-14T22:13:25.106Z"
   },
   {
    "duration": 265,
    "start_time": "2024-08-14T22:13:25.116Z"
   },
   {
    "duration": 8,
    "start_time": "2024-08-14T22:13:25.383Z"
   },
   {
    "duration": 257,
    "start_time": "2024-08-14T22:13:25.393Z"
   },
   {
    "duration": 133,
    "start_time": "2024-08-14T22:13:25.651Z"
   },
   {
    "duration": 9,
    "start_time": "2024-08-14T22:13:25.786Z"
   },
   {
    "duration": 241,
    "start_time": "2024-08-14T22:13:25.797Z"
   },
   {
    "duration": 30,
    "start_time": "2024-08-14T22:13:26.040Z"
   },
   {
    "duration": 13,
    "start_time": "2024-08-14T22:13:26.073Z"
   },
   {
    "duration": 17,
    "start_time": "2024-08-14T22:13:26.088Z"
   },
   {
    "duration": 15,
    "start_time": "2024-08-14T22:13:26.106Z"
   },
   {
    "duration": 419,
    "start_time": "2024-08-14T22:13:26.122Z"
   },
   {
    "duration": 461,
    "start_time": "2024-08-14T22:13:26.543Z"
   },
   {
    "duration": 30,
    "start_time": "2024-08-14T22:13:27.005Z"
   },
   {
    "duration": 26,
    "start_time": "2024-08-14T22:13:47.060Z"
   },
   {
    "duration": 27,
    "start_time": "2024-08-14T22:14:05.656Z"
   },
   {
    "duration": 26,
    "start_time": "2024-08-14T22:15:25.192Z"
   },
   {
    "duration": 223,
    "start_time": "2024-08-14T22:32:47.947Z"
   },
   {
    "duration": 169,
    "start_time": "2024-08-14T22:33:14.242Z"
   },
   {
    "duration": 150,
    "start_time": "2024-08-14T22:33:26.106Z"
   },
   {
    "duration": 183,
    "start_time": "2024-08-14T22:33:39.386Z"
   },
   {
    "duration": 197,
    "start_time": "2024-08-14T22:33:54.334Z"
   },
   {
    "duration": 201,
    "start_time": "2024-08-14T22:34:02.138Z"
   },
   {
    "duration": 195,
    "start_time": "2024-08-14T22:34:28.070Z"
   },
   {
    "duration": 202,
    "start_time": "2024-08-14T22:34:54.442Z"
   },
   {
    "duration": 222,
    "start_time": "2024-08-14T22:35:18.610Z"
   },
   {
    "duration": 1736,
    "start_time": "2024-08-15T11:48:37.774Z"
   },
   {
    "duration": 12,
    "start_time": "2024-08-15T11:48:39.512Z"
   },
   {
    "duration": 16,
    "start_time": "2024-08-15T11:48:39.525Z"
   },
   {
    "duration": 13,
    "start_time": "2024-08-15T11:48:39.543Z"
   },
   {
    "duration": 12,
    "start_time": "2024-08-15T11:48:39.558Z"
   },
   {
    "duration": 7,
    "start_time": "2024-08-15T11:48:39.571Z"
   },
   {
    "duration": 11,
    "start_time": "2024-08-15T11:48:39.579Z"
   },
   {
    "duration": 21,
    "start_time": "2024-08-15T11:48:39.592Z"
   },
   {
    "duration": 5,
    "start_time": "2024-08-15T11:48:39.614Z"
   },
   {
    "duration": 7,
    "start_time": "2024-08-15T11:48:39.620Z"
   },
   {
    "duration": 43,
    "start_time": "2024-08-15T11:48:39.628Z"
   },
   {
    "duration": 10,
    "start_time": "2024-08-15T11:48:39.672Z"
   },
   {
    "duration": 14,
    "start_time": "2024-08-15T11:48:39.683Z"
   },
   {
    "duration": 34,
    "start_time": "2024-08-15T11:48:39.699Z"
   },
   {
    "duration": 8,
    "start_time": "2024-08-15T11:48:39.734Z"
   },
   {
    "duration": 4,
    "start_time": "2024-08-15T11:48:39.743Z"
   },
   {
    "duration": 6,
    "start_time": "2024-08-15T11:48:39.749Z"
   },
   {
    "duration": 195,
    "start_time": "2024-08-15T11:48:39.757Z"
   },
   {
    "duration": 164,
    "start_time": "2024-08-15T11:48:39.954Z"
   },
   {
    "duration": 8,
    "start_time": "2024-08-15T11:48:40.120Z"
   },
   {
    "duration": 213,
    "start_time": "2024-08-15T11:48:40.130Z"
   },
   {
    "duration": 9,
    "start_time": "2024-08-15T11:48:40.345Z"
   },
   {
    "duration": 221,
    "start_time": "2024-08-15T11:48:40.356Z"
   },
   {
    "duration": 116,
    "start_time": "2024-08-15T11:48:40.579Z"
   },
   {
    "duration": 13,
    "start_time": "2024-08-15T11:48:40.697Z"
   },
   {
    "duration": 221,
    "start_time": "2024-08-15T11:48:40.712Z"
   },
   {
    "duration": 26,
    "start_time": "2024-08-15T11:48:40.935Z"
   },
   {
    "duration": 15,
    "start_time": "2024-08-15T11:48:40.963Z"
   },
   {
    "duration": 42,
    "start_time": "2024-08-15T11:48:40.980Z"
   },
   {
    "duration": 14,
    "start_time": "2024-08-15T11:48:41.024Z"
   },
   {
    "duration": 405,
    "start_time": "2024-08-15T11:48:41.039Z"
   },
   {
    "duration": 433,
    "start_time": "2024-08-15T11:48:41.445Z"
   },
   {
    "duration": 35,
    "start_time": "2024-08-15T11:48:41.879Z"
   },
   {
    "duration": 7,
    "start_time": "2024-08-15T11:59:28.376Z"
   },
   {
    "duration": 5,
    "start_time": "2024-08-15T12:00:20.706Z"
   },
   {
    "duration": 4,
    "start_time": "2024-08-15T12:00:25.376Z"
   },
   {
    "duration": 12,
    "start_time": "2024-08-15T12:05:49.496Z"
   },
   {
    "duration": 164,
    "start_time": "2024-08-15T12:07:12.710Z"
   },
   {
    "duration": 65,
    "start_time": "2024-08-15T13:45:04.089Z"
   },
   {
    "duration": 102,
    "start_time": "2024-08-15T13:45:11.786Z"
   },
   {
    "duration": 24,
    "start_time": "2024-08-15T13:45:19.207Z"
   },
   {
    "duration": 34,
    "start_time": "2024-08-15T13:45:26.693Z"
   },
   {
    "duration": 36,
    "start_time": "2024-08-15T13:46:11.745Z"
   },
   {
    "duration": 1772,
    "start_time": "2024-08-15T18:52:04.805Z"
   },
   {
    "duration": 13,
    "start_time": "2024-08-15T18:52:06.580Z"
   },
   {
    "duration": 52,
    "start_time": "2024-08-15T18:52:06.595Z"
   },
   {
    "duration": 31,
    "start_time": "2024-08-15T18:52:06.649Z"
   },
   {
    "duration": 13,
    "start_time": "2024-08-15T18:52:06.683Z"
   },
   {
    "duration": 7,
    "start_time": "2024-08-15T18:52:06.698Z"
   },
   {
    "duration": 21,
    "start_time": "2024-08-15T18:52:06.706Z"
   },
   {
    "duration": 23,
    "start_time": "2024-08-15T18:52:06.729Z"
   },
   {
    "duration": 16,
    "start_time": "2024-08-15T18:52:06.754Z"
   },
   {
    "duration": 5,
    "start_time": "2024-08-15T18:52:06.772Z"
   },
   {
    "duration": 26,
    "start_time": "2024-08-15T18:52:06.778Z"
   },
   {
    "duration": 6,
    "start_time": "2024-08-15T18:52:06.806Z"
   },
   {
    "duration": 6,
    "start_time": "2024-08-15T18:52:06.814Z"
   },
   {
    "duration": 11,
    "start_time": "2024-08-15T18:52:06.824Z"
   },
   {
    "duration": 11,
    "start_time": "2024-08-15T18:52:06.836Z"
   },
   {
    "duration": 15,
    "start_time": "2024-08-15T18:52:06.849Z"
   },
   {
    "duration": 18,
    "start_time": "2024-08-15T18:52:06.866Z"
   },
   {
    "duration": 212,
    "start_time": "2024-08-15T18:52:06.885Z"
   },
   {
    "duration": 185,
    "start_time": "2024-08-15T18:52:07.099Z"
   },
   {
    "duration": 8,
    "start_time": "2024-08-15T18:52:07.285Z"
   },
   {
    "duration": 223,
    "start_time": "2024-08-15T18:52:07.294Z"
   },
   {
    "duration": 9,
    "start_time": "2024-08-15T18:52:07.518Z"
   },
   {
    "duration": 256,
    "start_time": "2024-08-15T18:52:07.529Z"
   },
   {
    "duration": 114,
    "start_time": "2024-08-15T18:52:07.786Z"
   },
   {
    "duration": 8,
    "start_time": "2024-08-15T18:52:07.902Z"
   },
   {
    "duration": 233,
    "start_time": "2024-08-15T18:52:07.911Z"
   },
   {
    "duration": 25,
    "start_time": "2024-08-15T18:52:08.145Z"
   },
   {
    "duration": 26,
    "start_time": "2024-08-15T18:52:08.171Z"
   },
   {
    "duration": 18,
    "start_time": "2024-08-15T18:52:08.199Z"
   },
   {
    "duration": 15,
    "start_time": "2024-08-15T18:52:08.218Z"
   },
   {
    "duration": 497,
    "start_time": "2024-08-15T18:52:08.235Z"
   },
   {
    "duration": 454,
    "start_time": "2024-08-15T18:52:08.734Z"
   },
   {
    "duration": 43,
    "start_time": "2024-08-15T18:52:09.190Z"
   },
   {
    "duration": 60,
    "start_time": "2024-08-15T18:52:09.235Z"
   },
   {
    "duration": 42,
    "start_time": "2024-08-15T18:52:09.296Z"
   },
   {
    "duration": 0,
    "start_time": "2024-08-15T18:52:09.340Z"
   },
   {
    "duration": 48,
    "start_time": "2024-08-15T18:58:31.167Z"
   },
   {
    "duration": 50,
    "start_time": "2024-08-15T18:58:41.768Z"
   },
   {
    "duration": 33,
    "start_time": "2024-08-15T18:59:17.014Z"
   },
   {
    "duration": 105,
    "start_time": "2024-08-15T19:01:38.835Z"
   },
   {
    "duration": 10,
    "start_time": "2024-08-15T19:01:55.899Z"
   },
   {
    "duration": 11,
    "start_time": "2024-08-15T19:02:17.248Z"
   },
   {
    "duration": 11,
    "start_time": "2024-08-15T19:02:51.266Z"
   },
   {
    "duration": 48,
    "start_time": "2024-08-15T19:03:07.449Z"
   },
   {
    "duration": 43,
    "start_time": "2024-08-15T19:03:41.472Z"
   },
   {
    "duration": 36,
    "start_time": "2024-08-15T19:03:56.689Z"
   },
   {
    "duration": 35,
    "start_time": "2024-08-15T19:04:51.909Z"
   },
   {
    "duration": 34,
    "start_time": "2024-08-15T19:05:05.679Z"
   },
   {
    "duration": 34,
    "start_time": "2024-08-15T19:13:01.797Z"
   },
   {
    "duration": 19,
    "start_time": "2024-08-15T19:18:38.160Z"
   },
   {
    "duration": 44,
    "start_time": "2024-08-15T19:20:47.528Z"
   },
   {
    "duration": 34,
    "start_time": "2024-08-15T19:20:56.095Z"
   },
   {
    "duration": 234,
    "start_time": "2024-08-15T19:21:24.025Z"
   },
   {
    "duration": 1794,
    "start_time": "2024-08-15T21:03:52.615Z"
   },
   {
    "duration": 16,
    "start_time": "2024-08-15T21:03:54.412Z"
   },
   {
    "duration": 33,
    "start_time": "2024-08-15T21:03:54.430Z"
   },
   {
    "duration": 12,
    "start_time": "2024-08-15T21:03:54.470Z"
   },
   {
    "duration": 17,
    "start_time": "2024-08-15T21:03:54.485Z"
   },
   {
    "duration": 33,
    "start_time": "2024-08-15T21:03:54.504Z"
   },
   {
    "duration": 29,
    "start_time": "2024-08-15T21:03:54.539Z"
   },
   {
    "duration": 15,
    "start_time": "2024-08-15T21:03:54.572Z"
   },
   {
    "duration": 10,
    "start_time": "2024-08-15T21:03:54.589Z"
   },
   {
    "duration": 9,
    "start_time": "2024-08-15T21:03:54.603Z"
   },
   {
    "duration": 14,
    "start_time": "2024-08-15T21:03:54.614Z"
   },
   {
    "duration": 31,
    "start_time": "2024-08-15T21:03:54.630Z"
   },
   {
    "duration": 13,
    "start_time": "2024-08-15T21:03:54.667Z"
   },
   {
    "duration": 12,
    "start_time": "2024-08-15T21:03:54.683Z"
   },
   {
    "duration": 11,
    "start_time": "2024-08-15T21:03:54.697Z"
   },
   {
    "duration": 6,
    "start_time": "2024-08-15T21:03:54.710Z"
   },
   {
    "duration": 15,
    "start_time": "2024-08-15T21:03:54.718Z"
   },
   {
    "duration": 229,
    "start_time": "2024-08-15T21:03:54.748Z"
   },
   {
    "duration": 206,
    "start_time": "2024-08-15T21:03:54.979Z"
   },
   {
    "duration": 10,
    "start_time": "2024-08-15T21:03:55.187Z"
   },
   {
    "duration": 232,
    "start_time": "2024-08-15T21:03:55.198Z"
   },
   {
    "duration": 31,
    "start_time": "2024-08-15T21:03:55.432Z"
   },
   {
    "duration": 252,
    "start_time": "2024-08-15T21:03:55.464Z"
   },
   {
    "duration": 152,
    "start_time": "2024-08-15T21:03:55.718Z"
   },
   {
    "duration": 12,
    "start_time": "2024-08-15T21:03:55.872Z"
   },
   {
    "duration": 289,
    "start_time": "2024-08-15T21:03:55.886Z"
   },
   {
    "duration": 27,
    "start_time": "2024-08-15T21:03:56.177Z"
   },
   {
    "duration": 17,
    "start_time": "2024-08-15T21:03:56.207Z"
   },
   {
    "duration": 51,
    "start_time": "2024-08-15T21:03:56.226Z"
   },
   {
    "duration": 22,
    "start_time": "2024-08-15T21:03:56.279Z"
   },
   {
    "duration": 484,
    "start_time": "2024-08-15T21:03:56.302Z"
   },
   {
    "duration": 479,
    "start_time": "2024-08-15T21:03:56.787Z"
   },
   {
    "duration": 29,
    "start_time": "2024-08-15T21:03:57.268Z"
   },
   {
    "duration": 392,
    "start_time": "2024-08-15T21:03:57.299Z"
   },
   {
    "duration": 0,
    "start_time": "2024-08-15T21:03:57.694Z"
   },
   {
    "duration": 0,
    "start_time": "2024-08-15T21:03:57.695Z"
   },
   {
    "duration": 439,
    "start_time": "2024-08-15T21:04:39.740Z"
   },
   {
    "duration": 412,
    "start_time": "2024-08-15T21:05:20.629Z"
   },
   {
    "duration": 246,
    "start_time": "2024-08-15T21:05:36.431Z"
   },
   {
    "duration": 251,
    "start_time": "2024-08-15T21:05:40.987Z"
   },
   {
    "duration": 258,
    "start_time": "2024-08-15T21:05:57.354Z"
   },
   {
    "duration": 237,
    "start_time": "2024-08-15T21:06:08.884Z"
   },
   {
    "duration": 264,
    "start_time": "2024-08-15T21:06:21.328Z"
   },
   {
    "duration": 233,
    "start_time": "2024-08-15T21:06:40.039Z"
   },
   {
    "duration": 354,
    "start_time": "2024-08-15T21:06:53.052Z"
   },
   {
    "duration": 295,
    "start_time": "2024-08-15T21:08:46.164Z"
   },
   {
    "duration": 71,
    "start_time": "2024-08-15T21:08:57.135Z"
   },
   {
    "duration": 47,
    "start_time": "2024-08-15T21:09:11.732Z"
   },
   {
    "duration": 73,
    "start_time": "2024-08-15T21:10:17.039Z"
   },
   {
    "duration": 69,
    "start_time": "2024-08-15T21:10:23.975Z"
   },
   {
    "duration": 67,
    "start_time": "2024-08-15T21:10:49.896Z"
   },
   {
    "duration": 34,
    "start_time": "2024-08-15T21:11:03.026Z"
   },
   {
    "duration": 71,
    "start_time": "2024-08-15T21:11:42.471Z"
   },
   {
    "duration": 74,
    "start_time": "2024-08-15T21:11:57.943Z"
   },
   {
    "duration": 72,
    "start_time": "2024-08-15T21:12:47.339Z"
   },
   {
    "duration": 33,
    "start_time": "2024-08-15T21:16:14.371Z"
   },
   {
    "duration": 22,
    "start_time": "2024-08-15T21:16:58.010Z"
   },
   {
    "duration": 3,
    "start_time": "2024-08-15T21:17:25.455Z"
   },
   {
    "duration": 19,
    "start_time": "2024-08-15T21:17:39.727Z"
   },
   {
    "duration": 385,
    "start_time": "2024-08-15T21:23:30.471Z"
   },
   {
    "duration": 70,
    "start_time": "2024-08-15T21:23:43.491Z"
   },
   {
    "duration": 70,
    "start_time": "2024-08-15T21:24:47.422Z"
   },
   {
    "duration": 69,
    "start_time": "2024-08-15T21:25:05.573Z"
   },
   {
    "duration": 61,
    "start_time": "2024-08-15T21:25:22.851Z"
   },
   {
    "duration": 73,
    "start_time": "2024-08-15T21:25:44.298Z"
   },
   {
    "duration": 72,
    "start_time": "2024-08-15T21:26:04.756Z"
   },
   {
    "duration": 72,
    "start_time": "2024-08-15T21:26:29.287Z"
   },
   {
    "duration": 23,
    "start_time": "2024-08-15T21:26:56.761Z"
   },
   {
    "duration": 5,
    "start_time": "2024-08-15T21:27:17.581Z"
   },
   {
    "duration": 65,
    "start_time": "2024-08-15T21:34:48.905Z"
   },
   {
    "duration": 23,
    "start_time": "2024-08-15T21:35:00.740Z"
   },
   {
    "duration": 5,
    "start_time": "2024-08-15T21:35:04.112Z"
   },
   {
    "duration": 28,
    "start_time": "2024-08-15T21:38:05.224Z"
   },
   {
    "duration": 1284,
    "start_time": "2024-08-15T21:46:09.768Z"
   },
   {
    "duration": 11,
    "start_time": "2024-08-15T21:46:11.054Z"
   },
   {
    "duration": 11,
    "start_time": "2024-08-15T21:46:11.067Z"
   },
   {
    "duration": 11,
    "start_time": "2024-08-15T21:46:11.080Z"
   },
   {
    "duration": 16,
    "start_time": "2024-08-15T21:46:11.093Z"
   },
   {
    "duration": 10,
    "start_time": "2024-08-15T21:46:11.111Z"
   },
   {
    "duration": 16,
    "start_time": "2024-08-15T21:46:11.147Z"
   },
   {
    "duration": 13,
    "start_time": "2024-08-15T21:46:11.165Z"
   },
   {
    "duration": 4,
    "start_time": "2024-08-15T21:46:11.179Z"
   },
   {
    "duration": 6,
    "start_time": "2024-08-15T21:46:11.186Z"
   },
   {
    "duration": 18,
    "start_time": "2024-08-15T21:46:11.193Z"
   },
   {
    "duration": 35,
    "start_time": "2024-08-15T21:46:11.212Z"
   },
   {
    "duration": 5,
    "start_time": "2024-08-15T21:46:11.249Z"
   },
   {
    "duration": 8,
    "start_time": "2024-08-15T21:46:11.256Z"
   },
   {
    "duration": 8,
    "start_time": "2024-08-15T21:46:11.266Z"
   },
   {
    "duration": 5,
    "start_time": "2024-08-15T21:46:11.276Z"
   },
   {
    "duration": 13,
    "start_time": "2024-08-15T21:46:11.283Z"
   },
   {
    "duration": 250,
    "start_time": "2024-08-15T21:46:11.298Z"
   },
   {
    "duration": 174,
    "start_time": "2024-08-15T21:46:11.549Z"
   },
   {
    "duration": 8,
    "start_time": "2024-08-15T21:46:11.724Z"
   },
   {
    "duration": 238,
    "start_time": "2024-08-15T21:46:11.734Z"
   },
   {
    "duration": 10,
    "start_time": "2024-08-15T21:46:11.974Z"
   },
   {
    "duration": 255,
    "start_time": "2024-08-15T21:46:11.986Z"
   },
   {
    "duration": 130,
    "start_time": "2024-08-15T21:46:12.243Z"
   },
   {
    "duration": 9,
    "start_time": "2024-08-15T21:46:12.375Z"
   },
   {
    "duration": 271,
    "start_time": "2024-08-15T21:46:12.385Z"
   },
   {
    "duration": 27,
    "start_time": "2024-08-15T21:46:12.658Z"
   },
   {
    "duration": 14,
    "start_time": "2024-08-15T21:46:12.688Z"
   },
   {
    "duration": 45,
    "start_time": "2024-08-15T21:46:12.703Z"
   },
   {
    "duration": 16,
    "start_time": "2024-08-15T21:46:12.749Z"
   },
   {
    "duration": 406,
    "start_time": "2024-08-15T21:46:12.767Z"
   },
   {
    "duration": 443,
    "start_time": "2024-08-15T21:46:13.174Z"
   },
   {
    "duration": 39,
    "start_time": "2024-08-15T21:46:13.618Z"
   },
   {
    "duration": 61,
    "start_time": "2024-08-15T21:46:13.659Z"
   },
   {
    "duration": 38,
    "start_time": "2024-08-15T21:46:13.722Z"
   },
   {
    "duration": 81,
    "start_time": "2024-08-15T22:30:53.748Z"
   },
   {
    "duration": 114,
    "start_time": "2024-08-15T22:32:15.403Z"
   },
   {
    "duration": 8,
    "start_time": "2024-08-15T22:32:37.227Z"
   },
   {
    "duration": 69,
    "start_time": "2024-08-15T22:35:53.247Z"
   },
   {
    "duration": 5,
    "start_time": "2024-08-15T22:35:58.303Z"
   },
   {
    "duration": 71,
    "start_time": "2024-08-15T23:00:37.500Z"
   },
   {
    "duration": 6,
    "start_time": "2024-08-15T23:07:04.616Z"
   },
   {
    "duration": 1928,
    "start_time": "2024-08-16T09:25:37.950Z"
   },
   {
    "duration": 14,
    "start_time": "2024-08-16T09:25:39.880Z"
   },
   {
    "duration": 15,
    "start_time": "2024-08-16T09:25:39.896Z"
   },
   {
    "duration": 19,
    "start_time": "2024-08-16T09:25:39.913Z"
   },
   {
    "duration": 13,
    "start_time": "2024-08-16T09:25:39.935Z"
   },
   {
    "duration": 7,
    "start_time": "2024-08-16T09:25:39.950Z"
   },
   {
    "duration": 12,
    "start_time": "2024-08-16T09:25:39.958Z"
   },
   {
    "duration": 9,
    "start_time": "2024-08-16T09:25:39.972Z"
   },
   {
    "duration": 22,
    "start_time": "2024-08-16T09:25:39.983Z"
   },
   {
    "duration": 6,
    "start_time": "2024-08-16T09:25:40.007Z"
   },
   {
    "duration": 15,
    "start_time": "2024-08-16T09:25:40.015Z"
   },
   {
    "duration": 67,
    "start_time": "2024-08-16T09:25:40.032Z"
   },
   {
    "duration": 65,
    "start_time": "2024-08-16T09:25:40.101Z"
   },
   {
    "duration": 11,
    "start_time": "2024-08-16T09:25:40.170Z"
   },
   {
    "duration": 65,
    "start_time": "2024-08-16T09:25:40.183Z"
   },
   {
    "duration": 8,
    "start_time": "2024-08-16T09:25:40.250Z"
   },
   {
    "duration": 9,
    "start_time": "2024-08-16T09:25:40.259Z"
   },
   {
    "duration": 197,
    "start_time": "2024-08-16T09:25:40.270Z"
   },
   {
    "duration": 163,
    "start_time": "2024-08-16T09:25:40.469Z"
   },
   {
    "duration": 8,
    "start_time": "2024-08-16T09:25:40.634Z"
   },
   {
    "duration": 222,
    "start_time": "2024-08-16T09:25:40.643Z"
   },
   {
    "duration": 10,
    "start_time": "2024-08-16T09:25:40.867Z"
   },
   {
    "duration": 279,
    "start_time": "2024-08-16T09:25:40.879Z"
   },
   {
    "duration": 124,
    "start_time": "2024-08-16T09:25:41.159Z"
   },
   {
    "duration": 21,
    "start_time": "2024-08-16T09:25:41.284Z"
   },
   {
    "duration": 256,
    "start_time": "2024-08-16T09:25:41.307Z"
   },
   {
    "duration": 26,
    "start_time": "2024-08-16T09:25:41.565Z"
   },
   {
    "duration": 26,
    "start_time": "2024-08-16T09:25:41.592Z"
   },
   {
    "duration": 18,
    "start_time": "2024-08-16T09:25:41.620Z"
   },
   {
    "duration": 17,
    "start_time": "2024-08-16T09:25:41.640Z"
   },
   {
    "duration": 454,
    "start_time": "2024-08-16T09:25:41.658Z"
   },
   {
    "duration": 467,
    "start_time": "2024-08-16T09:25:42.114Z"
   },
   {
    "duration": 51,
    "start_time": "2024-08-16T09:25:42.583Z"
   },
   {
    "duration": 94,
    "start_time": "2024-08-16T09:25:42.636Z"
   },
   {
    "duration": 26,
    "start_time": "2024-08-16T09:25:42.732Z"
   },
   {
    "duration": 6,
    "start_time": "2024-08-16T09:25:42.760Z"
   },
   {
    "duration": 6,
    "start_time": "2024-08-16T09:28:40.004Z"
   },
   {
    "duration": 5,
    "start_time": "2024-08-16T09:36:55.517Z"
   },
   {
    "duration": 6,
    "start_time": "2024-08-16T09:37:22.052Z"
   },
   {
    "duration": 5,
    "start_time": "2024-08-16T09:37:28.070Z"
   },
   {
    "duration": 6,
    "start_time": "2024-08-16T09:38:48.249Z"
   },
   {
    "duration": 6,
    "start_time": "2024-08-16T10:15:40.205Z"
   },
   {
    "duration": 5,
    "start_time": "2024-08-16T10:17:57.525Z"
   },
   {
    "duration": 6,
    "start_time": "2024-08-16T10:18:07.189Z"
   },
   {
    "duration": 6,
    "start_time": "2024-08-16T10:19:38.102Z"
   },
   {
    "duration": 660,
    "start_time": "2024-08-16T10:38:23.951Z"
   },
   {
    "duration": 13,
    "start_time": "2024-08-16T10:40:02.362Z"
   },
   {
    "duration": 12,
    "start_time": "2024-08-16T10:41:00.863Z"
   },
   {
    "duration": 69,
    "start_time": "2024-08-16T10:44:05.423Z"
   },
   {
    "duration": 22,
    "start_time": "2024-08-16T10:44:13.119Z"
   },
   {
    "duration": 1084,
    "start_time": "2024-08-16T10:45:24.694Z"
   },
   {
    "duration": 1092,
    "start_time": "2024-08-16T10:46:22.206Z"
   },
   {
    "duration": 6,
    "start_time": "2024-08-16T10:46:54.914Z"
   },
   {
    "duration": 6,
    "start_time": "2024-08-16T10:47:01.105Z"
   },
   {
    "duration": 1059,
    "start_time": "2024-08-16T10:47:07.917Z"
   },
   {
    "duration": 980,
    "start_time": "2024-08-16T10:47:38.804Z"
   },
   {
    "duration": 1085,
    "start_time": "2024-08-16T10:47:51.040Z"
   },
   {
    "duration": 977,
    "start_time": "2024-08-16T10:48:45.788Z"
   },
   {
    "duration": 55,
    "start_time": "2024-08-16T10:49:27.400Z"
   },
   {
    "duration": 22,
    "start_time": "2024-08-16T10:49:29.951Z"
   },
   {
    "duration": 1055,
    "start_time": "2024-08-16T10:49:31.088Z"
   },
   {
    "duration": 7,
    "start_time": "2024-08-16T10:49:38.104Z"
   },
   {
    "duration": 7,
    "start_time": "2024-08-16T10:49:39.629Z"
   },
   {
    "duration": 962,
    "start_time": "2024-08-16T10:49:42.076Z"
   },
   {
    "duration": 8,
    "start_time": "2024-08-16T10:50:07.950Z"
   },
   {
    "duration": 1604,
    "start_time": "2024-08-16T13:21:28.480Z"
   },
   {
    "duration": 12,
    "start_time": "2024-08-16T13:21:30.086Z"
   },
   {
    "duration": 18,
    "start_time": "2024-08-16T13:21:30.099Z"
   },
   {
    "duration": 27,
    "start_time": "2024-08-16T13:21:30.118Z"
   },
   {
    "duration": 29,
    "start_time": "2024-08-16T13:21:30.147Z"
   },
   {
    "duration": 22,
    "start_time": "2024-08-16T13:21:30.178Z"
   },
   {
    "duration": 38,
    "start_time": "2024-08-16T13:21:30.202Z"
   },
   {
    "duration": 45,
    "start_time": "2024-08-16T13:21:30.242Z"
   },
   {
    "duration": 49,
    "start_time": "2024-08-16T13:21:30.289Z"
   },
   {
    "duration": 43,
    "start_time": "2024-08-16T13:21:30.341Z"
   },
   {
    "duration": 34,
    "start_time": "2024-08-16T13:21:30.385Z"
   },
   {
    "duration": 20,
    "start_time": "2024-08-16T13:21:30.421Z"
   },
   {
    "duration": 39,
    "start_time": "2024-08-16T13:21:30.442Z"
   },
   {
    "duration": 29,
    "start_time": "2024-08-16T13:21:30.482Z"
   },
   {
    "duration": 75,
    "start_time": "2024-08-16T13:21:30.512Z"
   },
   {
    "duration": 64,
    "start_time": "2024-08-16T13:21:30.588Z"
   },
   {
    "duration": 34,
    "start_time": "2024-08-16T13:21:30.654Z"
   },
   {
    "duration": 226,
    "start_time": "2024-08-16T13:21:30.690Z"
   },
   {
    "duration": 171,
    "start_time": "2024-08-16T13:21:30.918Z"
   },
   {
    "duration": 9,
    "start_time": "2024-08-16T13:21:31.090Z"
   },
   {
    "duration": 214,
    "start_time": "2024-08-16T13:21:31.101Z"
   },
   {
    "duration": 9,
    "start_time": "2024-08-16T13:21:31.317Z"
   },
   {
    "duration": 244,
    "start_time": "2024-08-16T13:21:31.327Z"
   },
   {
    "duration": 116,
    "start_time": "2024-08-16T13:21:31.573Z"
   },
   {
    "duration": 9,
    "start_time": "2024-08-16T13:21:31.691Z"
   },
   {
    "duration": 223,
    "start_time": "2024-08-16T13:21:31.702Z"
   },
   {
    "duration": 31,
    "start_time": "2024-08-16T13:21:31.927Z"
   },
   {
    "duration": 13,
    "start_time": "2024-08-16T13:21:31.961Z"
   },
   {
    "duration": 16,
    "start_time": "2024-08-16T13:21:31.976Z"
   },
   {
    "duration": 13,
    "start_time": "2024-08-16T13:21:31.994Z"
   },
   {
    "duration": 417,
    "start_time": "2024-08-16T13:21:32.009Z"
   },
   {
    "duration": 450,
    "start_time": "2024-08-16T13:21:32.428Z"
   },
   {
    "duration": 29,
    "start_time": "2024-08-16T13:21:32.879Z"
   },
   {
    "duration": 70,
    "start_time": "2024-08-16T13:21:32.909Z"
   },
   {
    "duration": 26,
    "start_time": "2024-08-16T13:21:32.981Z"
   },
   {
    "duration": 29,
    "start_time": "2024-08-16T13:21:33.009Z"
   },
   {
    "duration": 14,
    "start_time": "2024-08-16T13:21:33.041Z"
   },
   {
    "duration": 9,
    "start_time": "2024-08-16T13:21:33.057Z"
   },
   {
    "duration": 52,
    "start_time": "2024-08-16T23:14:38.097Z"
   },
   {
    "duration": 1707,
    "start_time": "2024-08-16T23:14:57.025Z"
   },
   {
    "duration": 18,
    "start_time": "2024-08-16T23:14:58.736Z"
   },
   {
    "duration": 17,
    "start_time": "2024-08-16T23:14:58.756Z"
   },
   {
    "duration": 11,
    "start_time": "2024-08-16T23:14:58.776Z"
   },
   {
    "duration": 22,
    "start_time": "2024-08-16T23:14:58.789Z"
   },
   {
    "duration": 10,
    "start_time": "2024-08-16T23:14:58.814Z"
   },
   {
    "duration": 25,
    "start_time": "2024-08-16T23:14:58.827Z"
   },
   {
    "duration": 14,
    "start_time": "2024-08-16T23:14:58.866Z"
   },
   {
    "duration": 6,
    "start_time": "2024-08-16T23:14:58.883Z"
   },
   {
    "duration": 8,
    "start_time": "2024-08-16T23:14:58.893Z"
   },
   {
    "duration": 10,
    "start_time": "2024-08-16T23:14:58.903Z"
   },
   {
    "duration": 5,
    "start_time": "2024-08-16T23:14:58.915Z"
   },
   {
    "duration": 6,
    "start_time": "2024-08-16T23:14:58.922Z"
   },
   {
    "duration": 42,
    "start_time": "2024-08-16T23:14:58.929Z"
   },
   {
    "duration": 34,
    "start_time": "2024-08-16T23:14:58.973Z"
   },
   {
    "duration": 6,
    "start_time": "2024-08-16T23:14:59.008Z"
   },
   {
    "duration": 7,
    "start_time": "2024-08-16T23:14:59.016Z"
   },
   {
    "duration": 208,
    "start_time": "2024-08-16T23:14:59.025Z"
   },
   {
    "duration": 195,
    "start_time": "2024-08-16T23:14:59.236Z"
   },
   {
    "duration": 10,
    "start_time": "2024-08-16T23:14:59.433Z"
   },
   {
    "duration": 237,
    "start_time": "2024-08-16T23:14:59.445Z"
   },
   {
    "duration": 9,
    "start_time": "2024-08-16T23:14:59.685Z"
   },
   {
    "duration": 251,
    "start_time": "2024-08-16T23:14:59.697Z"
   },
   {
    "duration": 145,
    "start_time": "2024-08-16T23:14:59.951Z"
   },
   {
    "duration": 9,
    "start_time": "2024-08-16T23:15:00.097Z"
   },
   {
    "duration": 245,
    "start_time": "2024-08-16T23:15:00.108Z"
   },
   {
    "duration": 33,
    "start_time": "2024-08-16T23:15:00.355Z"
   },
   {
    "duration": 15,
    "start_time": "2024-08-16T23:15:00.391Z"
   },
   {
    "duration": 31,
    "start_time": "2024-08-16T23:15:00.408Z"
   },
   {
    "duration": 30,
    "start_time": "2024-08-16T23:15:00.441Z"
   },
   {
    "duration": 437,
    "start_time": "2024-08-16T23:15:00.474Z"
   },
   {
    "duration": 468,
    "start_time": "2024-08-16T23:15:00.913Z"
   },
   {
    "duration": 29,
    "start_time": "2024-08-16T23:15:01.383Z"
   },
   {
    "duration": 67,
    "start_time": "2024-08-16T23:15:01.413Z"
   },
   {
    "duration": 25,
    "start_time": "2024-08-16T23:15:01.481Z"
   },
   {
    "duration": 1181,
    "start_time": "2024-08-16T23:15:01.508Z"
   },
   {
    "duration": 0,
    "start_time": "2024-08-16T23:15:02.692Z"
   },
   {
    "duration": 0,
    "start_time": "2024-08-16T23:15:02.693Z"
   },
   {
    "duration": 1,
    "start_time": "2024-08-16T23:15:02.694Z"
   },
   {
    "duration": 1016,
    "start_time": "2024-08-16T23:15:25.309Z"
   },
   {
    "duration": 8,
    "start_time": "2024-08-16T23:15:38.377Z"
   },
   {
    "duration": 1200,
    "start_time": "2024-08-16T23:15:53.613Z"
   },
   {
    "duration": 4,
    "start_time": "2024-08-16T23:16:32.778Z"
   },
   {
    "duration": 13,
    "start_time": "2024-08-16T23:16:39.261Z"
   },
   {
    "duration": 90,
    "start_time": "2024-08-16T23:17:48.637Z"
   },
   {
    "duration": 69,
    "start_time": "2024-08-16T23:18:27.469Z"
   },
   {
    "duration": 70,
    "start_time": "2024-08-16T23:21:00.305Z"
   },
   {
    "duration": 11,
    "start_time": "2024-08-16T23:21:23.681Z"
   },
   {
    "duration": 17,
    "start_time": "2024-08-16T23:21:41.561Z"
   },
   {
    "duration": 5,
    "start_time": "2024-08-16T23:22:24.588Z"
   },
   {
    "duration": 6,
    "start_time": "2024-08-16T23:22:38.024Z"
   },
   {
    "duration": 1351,
    "start_time": "2024-08-16T23:22:48.656Z"
   },
   {
    "duration": 13,
    "start_time": "2024-08-16T23:22:50.009Z"
   },
   {
    "duration": 19,
    "start_time": "2024-08-16T23:22:50.023Z"
   },
   {
    "duration": 18,
    "start_time": "2024-08-16T23:22:50.044Z"
   },
   {
    "duration": 22,
    "start_time": "2024-08-16T23:22:50.064Z"
   },
   {
    "duration": 10,
    "start_time": "2024-08-16T23:22:50.088Z"
   },
   {
    "duration": 12,
    "start_time": "2024-08-16T23:22:50.100Z"
   },
   {
    "duration": 40,
    "start_time": "2024-08-16T23:22:50.114Z"
   },
   {
    "duration": 7,
    "start_time": "2024-08-16T23:22:50.156Z"
   },
   {
    "duration": 9,
    "start_time": "2024-08-16T23:22:50.167Z"
   },
   {
    "duration": 9,
    "start_time": "2024-08-16T23:22:50.178Z"
   },
   {
    "duration": 6,
    "start_time": "2024-08-16T23:22:50.190Z"
   },
   {
    "duration": 7,
    "start_time": "2024-08-16T23:22:50.198Z"
   },
   {
    "duration": 9,
    "start_time": "2024-08-16T23:22:50.208Z"
   },
   {
    "duration": 48,
    "start_time": "2024-08-16T23:22:50.219Z"
   },
   {
    "duration": 7,
    "start_time": "2024-08-16T23:22:50.269Z"
   },
   {
    "duration": 8,
    "start_time": "2024-08-16T23:22:50.278Z"
   },
   {
    "duration": 263,
    "start_time": "2024-08-16T23:22:50.288Z"
   },
   {
    "duration": 194,
    "start_time": "2024-08-16T23:22:50.559Z"
   },
   {
    "duration": 9,
    "start_time": "2024-08-16T23:22:50.764Z"
   },
   {
    "duration": 217,
    "start_time": "2024-08-16T23:22:50.775Z"
   },
   {
    "duration": 12,
    "start_time": "2024-08-16T23:22:50.994Z"
   },
   {
    "duration": 261,
    "start_time": "2024-08-16T23:22:51.008Z"
   },
   {
    "duration": 122,
    "start_time": "2024-08-16T23:22:51.270Z"
   },
   {
    "duration": 9,
    "start_time": "2024-08-16T23:22:51.394Z"
   },
   {
    "duration": 255,
    "start_time": "2024-08-16T23:22:51.405Z"
   },
   {
    "duration": 26,
    "start_time": "2024-08-16T23:22:51.664Z"
   },
   {
    "duration": 16,
    "start_time": "2024-08-16T23:22:51.693Z"
   },
   {
    "duration": 53,
    "start_time": "2024-08-16T23:22:51.712Z"
   },
   {
    "duration": 17,
    "start_time": "2024-08-16T23:22:51.767Z"
   },
   {
    "duration": 479,
    "start_time": "2024-08-16T23:22:51.786Z"
   },
   {
    "duration": 485,
    "start_time": "2024-08-16T23:22:52.268Z"
   },
   {
    "duration": 35,
    "start_time": "2024-08-16T23:22:52.754Z"
   },
   {
    "duration": 51,
    "start_time": "2024-08-16T23:22:52.791Z"
   },
   {
    "duration": 38,
    "start_time": "2024-08-16T23:22:52.843Z"
   },
   {
    "duration": 5,
    "start_time": "2024-08-16T23:22:52.883Z"
   },
   {
    "duration": 17,
    "start_time": "2024-08-16T23:22:52.889Z"
   },
   {
    "duration": 7,
    "start_time": "2024-08-16T23:22:52.909Z"
   },
   {
    "duration": 22,
    "start_time": "2024-08-16T23:22:52.918Z"
   },
   {
    "duration": 116,
    "start_time": "2024-08-16T23:23:30.780Z"
   },
   {
    "duration": 6,
    "start_time": "2024-08-16T23:23:36.151Z"
   },
   {
    "duration": 5,
    "start_time": "2024-08-16T23:23:51.775Z"
   },
   {
    "duration": 7,
    "start_time": "2024-08-16T23:24:52.588Z"
   },
   {
    "duration": 9,
    "start_time": "2024-08-16T23:30:12.059Z"
   },
   {
    "duration": 10,
    "start_time": "2024-08-16T23:30:18.218Z"
   },
   {
    "duration": 8,
    "start_time": "2024-08-16T23:30:45.487Z"
   },
   {
    "duration": 7,
    "start_time": "2024-08-16T23:34:29.043Z"
   },
   {
    "duration": 9,
    "start_time": "2024-08-16T23:35:09.422Z"
   },
   {
    "duration": 14,
    "start_time": "2024-08-17T00:31:33.093Z"
   },
   {
    "duration": 81,
    "start_time": "2024-08-17T00:33:54.808Z"
   },
   {
    "duration": 6,
    "start_time": "2024-08-17T00:34:01.308Z"
   },
   {
    "duration": 1163,
    "start_time": "2024-08-17T10:05:31.619Z"
   },
   {
    "duration": 10,
    "start_time": "2024-08-17T10:05:32.784Z"
   },
   {
    "duration": 16,
    "start_time": "2024-08-17T10:05:32.796Z"
   },
   {
    "duration": 12,
    "start_time": "2024-08-17T10:05:32.813Z"
   },
   {
    "duration": 10,
    "start_time": "2024-08-17T10:05:32.827Z"
   },
   {
    "duration": 8,
    "start_time": "2024-08-17T10:05:32.838Z"
   },
   {
    "duration": 16,
    "start_time": "2024-08-17T10:05:32.847Z"
   },
   {
    "duration": 29,
    "start_time": "2024-08-17T10:05:32.865Z"
   },
   {
    "duration": 7,
    "start_time": "2024-08-17T10:05:32.896Z"
   },
   {
    "duration": 22,
    "start_time": "2024-08-17T10:05:32.905Z"
   },
   {
    "duration": 9,
    "start_time": "2024-08-17T10:05:32.929Z"
   },
   {
    "duration": 19,
    "start_time": "2024-08-17T10:05:32.939Z"
   },
   {
    "duration": 9,
    "start_time": "2024-08-17T10:05:32.959Z"
   },
   {
    "duration": 8,
    "start_time": "2024-08-17T10:05:32.971Z"
   },
   {
    "duration": 10,
    "start_time": "2024-08-17T10:05:32.981Z"
   },
   {
    "duration": 4,
    "start_time": "2024-08-17T10:05:32.993Z"
   },
   {
    "duration": 5,
    "start_time": "2024-08-17T10:05:32.999Z"
   },
   {
    "duration": 229,
    "start_time": "2024-08-17T10:05:33.006Z"
   },
   {
    "duration": 163,
    "start_time": "2024-08-17T10:05:33.237Z"
   },
   {
    "duration": 7,
    "start_time": "2024-08-17T10:05:33.402Z"
   },
   {
    "duration": 219,
    "start_time": "2024-08-17T10:05:33.410Z"
   },
   {
    "duration": 8,
    "start_time": "2024-08-17T10:05:33.631Z"
   },
   {
    "duration": 250,
    "start_time": "2024-08-17T10:05:33.641Z"
   },
   {
    "duration": 116,
    "start_time": "2024-08-17T10:05:33.893Z"
   },
   {
    "duration": 8,
    "start_time": "2024-08-17T10:05:34.010Z"
   },
   {
    "duration": 227,
    "start_time": "2024-08-17T10:05:34.020Z"
   },
   {
    "duration": 30,
    "start_time": "2024-08-17T10:05:34.249Z"
   },
   {
    "duration": 14,
    "start_time": "2024-08-17T10:05:34.281Z"
   },
   {
    "duration": 16,
    "start_time": "2024-08-17T10:05:34.296Z"
   },
   {
    "duration": 21,
    "start_time": "2024-08-17T10:05:34.314Z"
   },
   {
    "duration": 414,
    "start_time": "2024-08-17T10:05:34.337Z"
   },
   {
    "duration": 445,
    "start_time": "2024-08-17T10:05:34.753Z"
   },
   {
    "duration": 30,
    "start_time": "2024-08-17T10:05:35.199Z"
   },
   {
    "duration": 71,
    "start_time": "2024-08-17T10:05:35.231Z"
   },
   {
    "duration": 27,
    "start_time": "2024-08-17T10:05:35.304Z"
   },
   {
    "duration": 9,
    "start_time": "2024-08-17T10:05:35.333Z"
   },
   {
    "duration": 14,
    "start_time": "2024-08-17T10:05:35.343Z"
   },
   {
    "duration": 12,
    "start_time": "2024-08-17T10:05:35.359Z"
   },
   {
    "duration": 5,
    "start_time": "2024-08-17T10:05:35.373Z"
   },
   {
    "duration": 101,
    "start_time": "2024-08-17T10:25:57.471Z"
   },
   {
    "duration": 211,
    "start_time": "2024-08-17T10:26:39.015Z"
   },
   {
    "duration": 99,
    "start_time": "2024-08-17T10:35:34.945Z"
   },
   {
    "duration": 6,
    "start_time": "2024-08-17T10:41:56.769Z"
   },
   {
    "duration": 117,
    "start_time": "2024-08-17T10:47:43.332Z"
   },
   {
    "duration": 73,
    "start_time": "2024-08-17T10:48:09.747Z"
   },
   {
    "duration": 143,
    "start_time": "2024-08-17T10:48:16.359Z"
   },
   {
    "duration": 12,
    "start_time": "2024-08-17T10:49:09.602Z"
   },
   {
    "duration": 1636,
    "start_time": "2024-08-18T13:23:46.362Z"
   },
   {
    "duration": 12,
    "start_time": "2024-08-18T13:23:48.000Z"
   },
   {
    "duration": 11,
    "start_time": "2024-08-18T13:23:48.013Z"
   },
   {
    "duration": 8,
    "start_time": "2024-08-18T13:23:48.026Z"
   },
   {
    "duration": 11,
    "start_time": "2024-08-18T13:23:48.036Z"
   },
   {
    "duration": 7,
    "start_time": "2024-08-18T13:23:48.048Z"
   },
   {
    "duration": 9,
    "start_time": "2024-08-18T13:23:48.056Z"
   },
   {
    "duration": 8,
    "start_time": "2024-08-18T13:23:48.067Z"
   },
   {
    "duration": 5,
    "start_time": "2024-08-18T13:23:48.076Z"
   },
   {
    "duration": 6,
    "start_time": "2024-08-18T13:23:48.083Z"
   },
   {
    "duration": 5,
    "start_time": "2024-08-18T13:23:48.125Z"
   },
   {
    "duration": 5,
    "start_time": "2024-08-18T13:23:48.132Z"
   },
   {
    "duration": 7,
    "start_time": "2024-08-18T13:23:48.138Z"
   },
   {
    "duration": 7,
    "start_time": "2024-08-18T13:23:48.147Z"
   },
   {
    "duration": 7,
    "start_time": "2024-08-18T13:23:48.155Z"
   },
   {
    "duration": 4,
    "start_time": "2024-08-18T13:23:48.164Z"
   },
   {
    "duration": 8,
    "start_time": "2024-08-18T13:23:48.170Z"
   },
   {
    "duration": 260,
    "start_time": "2024-08-18T13:23:48.179Z"
   },
   {
    "duration": 163,
    "start_time": "2024-08-18T13:23:48.440Z"
   },
   {
    "duration": 8,
    "start_time": "2024-08-18T13:23:48.605Z"
   },
   {
    "duration": 199,
    "start_time": "2024-08-18T13:23:48.624Z"
   },
   {
    "duration": 7,
    "start_time": "2024-08-18T13:23:48.825Z"
   },
   {
    "duration": 220,
    "start_time": "2024-08-18T13:23:48.834Z"
   },
   {
    "duration": 117,
    "start_time": "2024-08-18T13:23:49.056Z"
   },
   {
    "duration": 9,
    "start_time": "2024-08-18T13:23:49.174Z"
   },
   {
    "duration": 225,
    "start_time": "2024-08-18T13:23:49.184Z"
   },
   {
    "duration": 26,
    "start_time": "2024-08-18T13:23:49.411Z"
   },
   {
    "duration": 13,
    "start_time": "2024-08-18T13:23:49.440Z"
   },
   {
    "duration": 16,
    "start_time": "2024-08-18T13:23:49.454Z"
   },
   {
    "duration": 14,
    "start_time": "2024-08-18T13:23:49.472Z"
   },
   {
    "duration": 424,
    "start_time": "2024-08-18T13:23:49.487Z"
   },
   {
    "duration": 452,
    "start_time": "2024-08-18T13:23:49.912Z"
   },
   {
    "duration": 26,
    "start_time": "2024-08-18T13:23:50.366Z"
   },
   {
    "duration": 68,
    "start_time": "2024-08-18T13:23:50.393Z"
   },
   {
    "duration": 22,
    "start_time": "2024-08-18T13:23:50.462Z"
   },
   {
    "duration": 6,
    "start_time": "2024-08-18T13:23:50.485Z"
   },
   {
    "duration": 8,
    "start_time": "2024-08-18T13:23:50.493Z"
   },
   {
    "duration": 9,
    "start_time": "2024-08-18T13:23:50.524Z"
   },
   {
    "duration": 114,
    "start_time": "2024-08-18T13:23:50.534Z"
   },
   {
    "duration": 5,
    "start_time": "2024-08-18T13:25:04.023Z"
   },
   {
    "duration": 13,
    "start_time": "2024-08-18T13:33:15.024Z"
   },
   {
    "duration": 12,
    "start_time": "2024-08-18T13:34:11.315Z"
   },
   {
    "duration": 123,
    "start_time": "2024-08-18T13:35:19.547Z"
   },
   {
    "duration": 109,
    "start_time": "2024-08-18T13:35:54.578Z"
   },
   {
    "duration": 7,
    "start_time": "2024-08-18T13:36:29.226Z"
   },
   {
    "duration": 4,
    "start_time": "2024-08-18T14:04:45.481Z"
   },
   {
    "duration": 5,
    "start_time": "2024-08-18T14:09:02.579Z"
   },
   {
    "duration": 5,
    "start_time": "2024-08-18T14:10:17.534Z"
   },
   {
    "duration": 6,
    "start_time": "2024-08-18T14:11:04.899Z"
   },
   {
    "duration": 5,
    "start_time": "2024-08-18T14:11:15.391Z"
   },
   {
    "duration": 5,
    "start_time": "2024-08-18T14:18:46.815Z"
   },
   {
    "duration": 159,
    "start_time": "2024-08-18T14:20:55.735Z"
   },
   {
    "duration": 10,
    "start_time": "2024-08-18T14:21:59.961Z"
   },
   {
    "duration": 1486,
    "start_time": "2024-08-18T14:23:32.399Z"
   },
   {
    "duration": 11,
    "start_time": "2024-08-18T14:27:19.646Z"
   },
   {
    "duration": 10,
    "start_time": "2024-08-18T14:27:48.856Z"
   },
   {
    "duration": 5,
    "start_time": "2024-08-18T14:27:52.581Z"
   },
   {
    "duration": 5,
    "start_time": "2024-08-18T14:28:05.739Z"
   },
   {
    "duration": 6,
    "start_time": "2024-08-18T14:28:11.886Z"
   },
   {
    "duration": 6,
    "start_time": "2024-08-18T14:28:23.459Z"
   },
   {
    "duration": 12,
    "start_time": "2024-08-18T14:30:11.078Z"
   },
   {
    "duration": 10,
    "start_time": "2024-08-18T14:30:22.159Z"
   },
   {
    "duration": 5,
    "start_time": "2024-08-18T14:30:32.713Z"
   },
   {
    "duration": 5,
    "start_time": "2024-08-18T14:30:36.951Z"
   },
   {
    "duration": 5,
    "start_time": "2024-08-18T14:32:29.934Z"
   },
   {
    "duration": 6,
    "start_time": "2024-08-18T14:32:35.510Z"
   },
   {
    "duration": 10,
    "start_time": "2024-08-18T14:32:42.343Z"
   },
   {
    "duration": 6,
    "start_time": "2024-08-18T14:32:47.296Z"
   },
   {
    "duration": 6,
    "start_time": "2024-08-18T14:38:20.351Z"
   },
   {
    "duration": 6,
    "start_time": "2024-08-18T14:38:28.501Z"
   },
   {
    "duration": 5,
    "start_time": "2024-08-18T14:42:19.294Z"
   },
   {
    "duration": 6,
    "start_time": "2024-08-18T14:42:33.414Z"
   },
   {
    "duration": 5,
    "start_time": "2024-08-18T14:42:48.832Z"
   },
   {
    "duration": 5,
    "start_time": "2024-08-18T14:43:31.846Z"
   },
   {
    "duration": 5,
    "start_time": "2024-08-18T14:43:36.880Z"
   },
   {
    "duration": 5,
    "start_time": "2024-08-18T14:44:10.890Z"
   },
   {
    "duration": 4,
    "start_time": "2024-08-18T14:49:24.313Z"
   },
   {
    "duration": 4,
    "start_time": "2024-08-18T14:49:30.691Z"
   },
   {
    "duration": 10,
    "start_time": "2024-08-18T14:52:27.196Z"
   },
   {
    "duration": 10,
    "start_time": "2024-08-18T14:52:36.378Z"
   },
   {
    "duration": 10,
    "start_time": "2024-08-18T14:55:34.672Z"
   },
   {
    "duration": 130,
    "start_time": "2024-08-18T14:55:45.870Z"
   },
   {
    "duration": 112,
    "start_time": "2024-08-18T14:58:27.570Z"
   },
   {
    "duration": 123,
    "start_time": "2024-08-18T14:58:31.189Z"
   },
   {
    "duration": 117,
    "start_time": "2024-08-18T14:58:45.057Z"
   },
   {
    "duration": 4,
    "start_time": "2024-08-18T14:59:17.444Z"
   },
   {
    "duration": 5,
    "start_time": "2024-08-18T14:59:42.123Z"
   },
   {
    "duration": 5,
    "start_time": "2024-08-18T14:59:57.907Z"
   },
   {
    "duration": 5,
    "start_time": "2024-08-18T15:00:13.416Z"
   },
   {
    "duration": 6,
    "start_time": "2024-08-18T15:00:18.064Z"
   },
   {
    "duration": 5,
    "start_time": "2024-08-18T15:00:25.811Z"
   },
   {
    "duration": 5,
    "start_time": "2024-08-18T15:00:31.292Z"
   },
   {
    "duration": 5,
    "start_time": "2024-08-18T15:00:40.732Z"
   },
   {
    "duration": 5,
    "start_time": "2024-08-18T15:01:16.304Z"
   },
   {
    "duration": 5,
    "start_time": "2024-08-18T15:01:29.225Z"
   },
   {
    "duration": 5,
    "start_time": "2024-08-18T15:01:39.184Z"
   },
   {
    "duration": 5,
    "start_time": "2024-08-18T15:01:51.445Z"
   },
   {
    "duration": 6,
    "start_time": "2024-08-18T15:09:54.623Z"
   },
   {
    "duration": 6,
    "start_time": "2024-08-18T15:10:26.273Z"
   },
   {
    "duration": 5,
    "start_time": "2024-08-18T15:10:44.353Z"
   },
   {
    "duration": 7,
    "start_time": "2024-08-18T15:10:52.599Z"
   },
   {
    "duration": 5,
    "start_time": "2024-08-18T15:10:58.135Z"
   },
   {
    "duration": 5,
    "start_time": "2024-08-18T15:11:02.763Z"
   },
   {
    "duration": 5,
    "start_time": "2024-08-18T15:11:22.589Z"
   },
   {
    "duration": 5,
    "start_time": "2024-08-18T15:11:29.139Z"
   },
   {
    "duration": 6,
    "start_time": "2024-08-18T15:11:40.269Z"
   },
   {
    "duration": 6,
    "start_time": "2024-08-18T15:11:54.883Z"
   },
   {
    "duration": 6,
    "start_time": "2024-08-18T15:11:57.984Z"
   },
   {
    "duration": 7,
    "start_time": "2024-08-18T15:12:15.599Z"
   },
   {
    "duration": 9,
    "start_time": "2024-08-18T15:12:21.135Z"
   },
   {
    "duration": 5,
    "start_time": "2024-08-18T15:12:26.561Z"
   },
   {
    "duration": 4,
    "start_time": "2024-08-18T15:12:46.394Z"
   },
   {
    "duration": 5,
    "start_time": "2024-08-18T15:13:02.888Z"
   },
   {
    "duration": 6,
    "start_time": "2024-08-18T15:13:07.000Z"
   },
   {
    "duration": 6,
    "start_time": "2024-08-18T15:19:20.238Z"
   },
   {
    "duration": 6,
    "start_time": "2024-08-18T15:19:34.745Z"
   },
   {
    "duration": 6,
    "start_time": "2024-08-18T15:19:39.876Z"
   },
   {
    "duration": 5,
    "start_time": "2024-08-18T15:20:04.954Z"
   },
   {
    "duration": 6,
    "start_time": "2024-08-18T15:20:15.022Z"
   },
   {
    "duration": 5,
    "start_time": "2024-08-18T15:22:02.497Z"
   },
   {
    "duration": 6,
    "start_time": "2024-08-18T15:23:13.698Z"
   },
   {
    "duration": 6,
    "start_time": "2024-08-18T15:24:29.300Z"
   },
   {
    "duration": 6,
    "start_time": "2024-08-18T15:25:08.509Z"
   },
   {
    "duration": 5,
    "start_time": "2024-08-18T15:25:24.525Z"
   },
   {
    "duration": 5,
    "start_time": "2024-08-18T15:25:39.331Z"
   },
   {
    "duration": 6,
    "start_time": "2024-08-18T15:26:15.397Z"
   },
   {
    "duration": 6,
    "start_time": "2024-08-18T15:27:23.286Z"
   },
   {
    "duration": 6,
    "start_time": "2024-08-18T15:28:45.376Z"
   },
   {
    "duration": 6,
    "start_time": "2024-08-18T15:28:51.081Z"
   },
   {
    "duration": 5,
    "start_time": "2024-08-18T15:29:18.556Z"
   },
   {
    "duration": 1175,
    "start_time": "2024-08-18T15:29:29.381Z"
   },
   {
    "duration": 13,
    "start_time": "2024-08-18T15:29:30.558Z"
   },
   {
    "duration": 21,
    "start_time": "2024-08-18T15:29:30.573Z"
   },
   {
    "duration": 28,
    "start_time": "2024-08-18T15:29:30.597Z"
   },
   {
    "duration": 39,
    "start_time": "2024-08-18T15:29:30.627Z"
   },
   {
    "duration": 17,
    "start_time": "2024-08-18T15:29:30.667Z"
   },
   {
    "duration": 49,
    "start_time": "2024-08-18T15:29:30.685Z"
   },
   {
    "duration": 45,
    "start_time": "2024-08-18T15:29:30.736Z"
   },
   {
    "duration": 33,
    "start_time": "2024-08-18T15:29:30.783Z"
   },
   {
    "duration": 28,
    "start_time": "2024-08-18T15:29:30.818Z"
   },
   {
    "duration": 24,
    "start_time": "2024-08-18T15:29:30.847Z"
   },
   {
    "duration": 18,
    "start_time": "2024-08-18T15:29:30.872Z"
   },
   {
    "duration": 27,
    "start_time": "2024-08-18T15:29:30.891Z"
   },
   {
    "duration": 34,
    "start_time": "2024-08-18T15:29:30.920Z"
   },
   {
    "duration": 38,
    "start_time": "2024-08-18T15:29:30.955Z"
   },
   {
    "duration": 25,
    "start_time": "2024-08-18T15:29:30.994Z"
   },
   {
    "duration": 35,
    "start_time": "2024-08-18T15:29:31.021Z"
   },
   {
    "duration": 235,
    "start_time": "2024-08-18T15:29:31.058Z"
   },
   {
    "duration": 172,
    "start_time": "2024-08-18T15:29:31.295Z"
   },
   {
    "duration": 9,
    "start_time": "2024-08-18T15:29:31.469Z"
   },
   {
    "duration": 297,
    "start_time": "2024-08-18T15:29:31.479Z"
   },
   {
    "duration": 8,
    "start_time": "2024-08-18T15:29:31.778Z"
   },
   {
    "duration": 226,
    "start_time": "2024-08-18T15:29:31.787Z"
   },
   {
    "duration": 117,
    "start_time": "2024-08-18T15:29:32.015Z"
   },
   {
    "duration": 9,
    "start_time": "2024-08-18T15:29:32.133Z"
   },
   {
    "duration": 401,
    "start_time": "2024-08-18T15:29:32.144Z"
   },
   {
    "duration": 83,
    "start_time": "2024-08-18T15:29:32.547Z"
   },
   {
    "duration": 13,
    "start_time": "2024-08-18T15:29:32.633Z"
   },
   {
    "duration": 17,
    "start_time": "2024-08-18T15:29:32.647Z"
   },
   {
    "duration": 75,
    "start_time": "2024-08-18T15:29:32.666Z"
   },
   {
    "duration": 793,
    "start_time": "2024-08-18T15:29:32.742Z"
   },
   {
    "duration": 602,
    "start_time": "2024-08-18T15:29:33.536Z"
   },
   {
    "duration": 28,
    "start_time": "2024-08-18T15:29:34.140Z"
   },
   {
    "duration": 65,
    "start_time": "2024-08-18T15:29:34.169Z"
   },
   {
    "duration": 19,
    "start_time": "2024-08-18T15:29:34.236Z"
   },
   {
    "duration": 5,
    "start_time": "2024-08-18T15:29:34.257Z"
   },
   {
    "duration": 6,
    "start_time": "2024-08-18T15:29:34.264Z"
   },
   {
    "duration": 7,
    "start_time": "2024-08-18T15:29:34.272Z"
   },
   {
    "duration": 146,
    "start_time": "2024-08-18T15:29:34.280Z"
   },
   {
    "duration": 0,
    "start_time": "2024-08-18T15:29:34.427Z"
   },
   {
    "duration": 0,
    "start_time": "2024-08-18T15:29:34.428Z"
   },
   {
    "duration": 5,
    "start_time": "2024-08-18T15:29:43.139Z"
   },
   {
    "duration": 5,
    "start_time": "2024-08-18T15:30:20.651Z"
   },
   {
    "duration": 6,
    "start_time": "2024-08-18T15:30:58.930Z"
   },
   {
    "duration": 6,
    "start_time": "2024-08-18T15:31:33.224Z"
   },
   {
    "duration": 6,
    "start_time": "2024-08-18T15:31:46.496Z"
   },
   {
    "duration": 6,
    "start_time": "2024-08-18T15:32:30.233Z"
   },
   {
    "duration": 6,
    "start_time": "2024-08-18T15:33:42.525Z"
   },
   {
    "duration": 6,
    "start_time": "2024-08-18T15:34:05.072Z"
   },
   {
    "duration": 6,
    "start_time": "2024-08-18T15:34:16.771Z"
   },
   {
    "duration": 6,
    "start_time": "2024-08-18T15:34:27.730Z"
   },
   {
    "duration": 5,
    "start_time": "2024-08-18T15:34:41.842Z"
   },
   {
    "duration": 6,
    "start_time": "2024-08-18T15:37:15.256Z"
   },
   {
    "duration": 5,
    "start_time": "2024-08-18T15:38:43.534Z"
   },
   {
    "duration": 5,
    "start_time": "2024-08-18T15:38:50.493Z"
   },
   {
    "duration": 6,
    "start_time": "2024-08-18T15:39:01.889Z"
   },
   {
    "duration": 5,
    "start_time": "2024-08-18T15:39:15.604Z"
   },
   {
    "duration": 5,
    "start_time": "2024-08-18T15:40:26.802Z"
   },
   {
    "duration": 5,
    "start_time": "2024-08-18T15:40:50.891Z"
   },
   {
    "duration": 5,
    "start_time": "2024-08-18T15:41:00.530Z"
   },
   {
    "duration": 5,
    "start_time": "2024-08-18T15:55:31.312Z"
   },
   {
    "duration": 5,
    "start_time": "2024-08-18T15:56:45.499Z"
   },
   {
    "duration": 5,
    "start_time": "2024-08-18T15:56:53.622Z"
   },
   {
    "duration": 5,
    "start_time": "2024-08-18T15:59:58.911Z"
   },
   {
    "duration": 5,
    "start_time": "2024-08-18T16:02:54.470Z"
   },
   {
    "duration": 5,
    "start_time": "2024-08-18T16:03:08.387Z"
   },
   {
    "duration": 7,
    "start_time": "2024-08-18T16:03:27.091Z"
   },
   {
    "duration": 5,
    "start_time": "2024-08-18T16:04:50.795Z"
   },
   {
    "duration": 6,
    "start_time": "2024-08-18T16:04:58.903Z"
   },
   {
    "duration": 5,
    "start_time": "2024-08-18T16:05:17.208Z"
   },
   {
    "duration": 5,
    "start_time": "2024-08-18T16:05:32.523Z"
   },
   {
    "duration": 5,
    "start_time": "2024-08-18T16:05:36.903Z"
   },
   {
    "duration": 5,
    "start_time": "2024-08-18T16:05:56.196Z"
   },
   {
    "duration": 5,
    "start_time": "2024-08-18T16:06:05.704Z"
   },
   {
    "duration": 5,
    "start_time": "2024-08-18T16:06:37.319Z"
   },
   {
    "duration": 6,
    "start_time": "2024-08-18T16:06:42.114Z"
   },
   {
    "duration": 6,
    "start_time": "2024-08-18T16:06:46.375Z"
   },
   {
    "duration": 5,
    "start_time": "2024-08-18T16:06:57.488Z"
   },
   {
    "duration": 7,
    "start_time": "2024-08-18T16:07:04.915Z"
   },
   {
    "duration": 5,
    "start_time": "2024-08-18T16:07:30.117Z"
   },
   {
    "duration": 6,
    "start_time": "2024-08-18T16:07:37.618Z"
   },
   {
    "duration": 15,
    "start_time": "2024-08-18T16:17:06.411Z"
   },
   {
    "duration": 6,
    "start_time": "2024-08-18T16:17:18.940Z"
   },
   {
    "duration": 5,
    "start_time": "2024-08-18T16:17:34.888Z"
   },
   {
    "duration": 10,
    "start_time": "2024-08-18T16:18:56.004Z"
   },
   {
    "duration": 5,
    "start_time": "2024-08-18T16:19:25.459Z"
   },
   {
    "duration": 6,
    "start_time": "2024-08-18T16:19:32.641Z"
   },
   {
    "duration": 6,
    "start_time": "2024-08-18T16:19:47.248Z"
   },
   {
    "duration": 26,
    "start_time": "2024-08-18T16:20:27.726Z"
   },
   {
    "duration": 1496,
    "start_time": "2024-08-18T16:24:15.853Z"
   },
   {
    "duration": 8,
    "start_time": "2024-08-18T16:35:43.701Z"
   },
   {
    "duration": 4,
    "start_time": "2024-08-18T16:35:52.391Z"
   },
   {
    "duration": 5,
    "start_time": "2024-08-18T16:36:40.185Z"
   },
   {
    "duration": 1339,
    "start_time": "2024-08-18T16:36:46.813Z"
   },
   {
    "duration": 18,
    "start_time": "2024-08-18T16:36:48.155Z"
   },
   {
    "duration": 58,
    "start_time": "2024-08-18T16:36:48.175Z"
   },
   {
    "duration": 15,
    "start_time": "2024-08-18T16:36:48.235Z"
   },
   {
    "duration": 11,
    "start_time": "2024-08-18T16:36:48.253Z"
   },
   {
    "duration": 8,
    "start_time": "2024-08-18T16:36:48.265Z"
   },
   {
    "duration": 54,
    "start_time": "2024-08-18T16:36:48.275Z"
   },
   {
    "duration": 26,
    "start_time": "2024-08-18T16:36:48.330Z"
   },
   {
    "duration": 69,
    "start_time": "2024-08-18T16:36:48.357Z"
   },
   {
    "duration": 13,
    "start_time": "2024-08-18T16:36:48.427Z"
   },
   {
    "duration": 87,
    "start_time": "2024-08-18T16:36:48.441Z"
   },
   {
    "duration": 5,
    "start_time": "2024-08-18T16:36:48.529Z"
   },
   {
    "duration": 21,
    "start_time": "2024-08-18T16:36:48.535Z"
   },
   {
    "duration": 13,
    "start_time": "2024-08-18T16:36:48.559Z"
   },
   {
    "duration": 52,
    "start_time": "2024-08-18T16:36:48.574Z"
   },
   {
    "duration": 5,
    "start_time": "2024-08-18T16:36:48.628Z"
   },
   {
    "duration": 8,
    "start_time": "2024-08-18T16:36:48.634Z"
   },
   {
    "duration": 409,
    "start_time": "2024-08-18T16:36:48.644Z"
   },
   {
    "duration": 278,
    "start_time": "2024-08-18T16:36:49.055Z"
   },
   {
    "duration": 8,
    "start_time": "2024-08-18T16:36:49.335Z"
   },
   {
    "duration": 210,
    "start_time": "2024-08-18T16:36:49.345Z"
   },
   {
    "duration": 11,
    "start_time": "2024-08-18T16:36:49.557Z"
   },
   {
    "duration": 250,
    "start_time": "2024-08-18T16:36:49.570Z"
   },
   {
    "duration": 120,
    "start_time": "2024-08-18T16:36:49.821Z"
   },
   {
    "duration": 8,
    "start_time": "2024-08-18T16:36:49.942Z"
   },
   {
    "duration": 250,
    "start_time": "2024-08-18T16:36:49.952Z"
   },
   {
    "duration": 34,
    "start_time": "2024-08-18T16:36:50.204Z"
   },
   {
    "duration": 14,
    "start_time": "2024-08-18T16:36:50.239Z"
   },
   {
    "duration": 22,
    "start_time": "2024-08-18T16:36:50.255Z"
   },
   {
    "duration": 15,
    "start_time": "2024-08-18T16:36:50.278Z"
   },
   {
    "duration": 413,
    "start_time": "2024-08-18T16:36:50.295Z"
   },
   {
    "duration": 438,
    "start_time": "2024-08-18T16:36:50.709Z"
   },
   {
    "duration": 36,
    "start_time": "2024-08-18T16:36:51.149Z"
   },
   {
    "duration": 79,
    "start_time": "2024-08-18T16:36:51.187Z"
   },
   {
    "duration": 20,
    "start_time": "2024-08-18T16:36:51.268Z"
   },
   {
    "duration": 5,
    "start_time": "2024-08-18T16:36:51.290Z"
   },
   {
    "duration": 28,
    "start_time": "2024-08-18T16:36:51.296Z"
   },
   {
    "duration": 7,
    "start_time": "2024-08-18T16:36:51.326Z"
   },
   {
    "duration": 115,
    "start_time": "2024-08-18T16:36:51.334Z"
   },
   {
    "duration": 0,
    "start_time": "2024-08-18T16:36:51.450Z"
   },
   {
    "duration": 1,
    "start_time": "2024-08-18T16:36:51.451Z"
   },
   {
    "duration": 5,
    "start_time": "2024-08-18T16:38:49.269Z"
   },
   {
    "duration": 11,
    "start_time": "2024-08-18T16:45:31.134Z"
   },
   {
    "duration": 10,
    "start_time": "2024-08-18T16:46:01.035Z"
   },
   {
    "duration": 187,
    "start_time": "2024-08-18T16:47:44.955Z"
   },
   {
    "duration": 139,
    "start_time": "2024-08-18T16:50:42.639Z"
   },
   {
    "duration": 9,
    "start_time": "2024-08-18T16:50:52.823Z"
   },
   {
    "duration": 45,
    "start_time": "2024-08-18T16:51:01.058Z"
   },
   {
    "duration": 9,
    "start_time": "2024-08-18T16:51:08.695Z"
   },
   {
    "duration": 11,
    "start_time": "2024-08-18T16:51:32.613Z"
   },
   {
    "duration": 10,
    "start_time": "2024-08-18T16:53:52.650Z"
   },
   {
    "duration": 10,
    "start_time": "2024-08-18T16:54:18.184Z"
   },
   {
    "duration": 9,
    "start_time": "2024-08-18T16:54:45.068Z"
   },
   {
    "duration": 9,
    "start_time": "2024-08-18T16:56:27.393Z"
   },
   {
    "duration": 10,
    "start_time": "2024-08-18T16:57:56.260Z"
   },
   {
    "duration": 12,
    "start_time": "2024-08-18T16:58:47.403Z"
   },
   {
    "duration": 1452,
    "start_time": "2024-08-18T17:05:57.164Z"
   },
   {
    "duration": 237,
    "start_time": "2024-08-18T17:07:33.940Z"
   },
   {
    "duration": 306,
    "start_time": "2024-08-18T17:08:50.184Z"
   },
   {
    "duration": 4,
    "start_time": "2024-08-18T17:10:02.125Z"
   },
   {
    "duration": 5,
    "start_time": "2024-08-18T17:10:21.810Z"
   },
   {
    "duration": 1487,
    "start_time": "2024-08-18T17:11:13.549Z"
   },
   {
    "duration": 1579,
    "start_time": "2024-08-18T17:11:34.477Z"
   },
   {
    "duration": 1446,
    "start_time": "2024-08-18T17:12:04.458Z"
   },
   {
    "duration": 1646,
    "start_time": "2024-08-18T17:12:28.631Z"
   },
   {
    "duration": 4,
    "start_time": "2024-08-18T17:16:58.205Z"
   },
   {
    "duration": 5,
    "start_time": "2024-08-18T17:17:52.768Z"
   },
   {
    "duration": 4,
    "start_time": "2024-08-18T17:18:16.033Z"
   },
   {
    "duration": 5,
    "start_time": "2024-08-18T17:18:22.504Z"
   },
   {
    "duration": 6,
    "start_time": "2024-08-18T17:18:30.930Z"
   },
   {
    "duration": 4,
    "start_time": "2024-08-18T17:18:39.510Z"
   },
   {
    "duration": 5,
    "start_time": "2024-08-18T17:18:46.542Z"
   },
   {
    "duration": 4,
    "start_time": "2024-08-18T17:19:38.270Z"
   },
   {
    "duration": 5,
    "start_time": "2024-08-18T17:19:43.842Z"
   },
   {
    "duration": 5,
    "start_time": "2024-08-18T17:19:57.197Z"
   },
   {
    "duration": 7,
    "start_time": "2024-08-18T17:20:13.488Z"
   },
   {
    "duration": 6,
    "start_time": "2024-08-18T17:20:19.607Z"
   },
   {
    "duration": 5,
    "start_time": "2024-08-18T17:20:27.421Z"
   },
   {
    "duration": 6,
    "start_time": "2024-08-18T17:20:43.232Z"
   },
   {
    "duration": 5,
    "start_time": "2024-08-18T17:23:06.341Z"
   },
   {
    "duration": 5,
    "start_time": "2024-08-18T17:23:10.417Z"
   },
   {
    "duration": 4,
    "start_time": "2024-08-18T17:23:17.020Z"
   },
   {
    "duration": 5,
    "start_time": "2024-08-18T17:23:26.368Z"
   },
   {
    "duration": 5,
    "start_time": "2024-08-18T17:23:32.663Z"
   },
   {
    "duration": 5,
    "start_time": "2024-08-18T17:23:35.851Z"
   },
   {
    "duration": 5,
    "start_time": "2024-08-18T17:23:44.856Z"
   },
   {
    "duration": 5,
    "start_time": "2024-08-18T17:23:53.653Z"
   },
   {
    "duration": 4,
    "start_time": "2024-08-18T17:24:27.524Z"
   },
   {
    "duration": 4,
    "start_time": "2024-08-18T17:24:31.726Z"
   },
   {
    "duration": 5,
    "start_time": "2024-08-18T17:24:43.903Z"
   },
   {
    "duration": 5,
    "start_time": "2024-08-18T17:24:50.806Z"
   },
   {
    "duration": 4,
    "start_time": "2024-08-18T17:25:11.110Z"
   },
   {
    "duration": 4,
    "start_time": "2024-08-18T17:25:31.593Z"
   },
   {
    "duration": 5,
    "start_time": "2024-08-18T17:25:41.406Z"
   },
   {
    "duration": 5,
    "start_time": "2024-08-18T17:25:51.674Z"
   },
   {
    "duration": 5,
    "start_time": "2024-08-18T17:32:22.406Z"
   },
   {
    "duration": 5,
    "start_time": "2024-08-18T17:32:51.493Z"
   },
   {
    "duration": 5,
    "start_time": "2024-08-18T17:32:58.541Z"
   },
   {
    "duration": 5,
    "start_time": "2024-08-18T17:33:04.777Z"
   },
   {
    "duration": 5,
    "start_time": "2024-08-18T17:33:09.692Z"
   },
   {
    "duration": 1974,
    "start_time": "2024-08-18T17:34:33.950Z"
   },
   {
    "duration": 2160,
    "start_time": "2024-08-18T17:35:42.639Z"
   },
   {
    "duration": 2082,
    "start_time": "2024-08-18T17:35:56.164Z"
   },
   {
    "duration": 1483,
    "start_time": "2024-08-18T17:36:07.754Z"
   },
   {
    "duration": 1965,
    "start_time": "2024-08-18T17:36:26.425Z"
   },
   {
    "duration": 1529,
    "start_time": "2024-08-18T17:36:59.768Z"
   },
   {
    "duration": 2188,
    "start_time": "2024-08-18T17:37:42.573Z"
   },
   {
    "duration": 55,
    "start_time": "2024-08-18T17:38:32.182Z"
   },
   {
    "duration": 1643,
    "start_time": "2024-08-18T17:40:16.363Z"
   },
   {
    "duration": 1608,
    "start_time": "2024-08-18T17:40:32.011Z"
   },
   {
    "duration": 2373,
    "start_time": "2024-08-18T17:40:48.190Z"
   },
   {
    "duration": 1516,
    "start_time": "2024-08-18T17:41:05.086Z"
   },
   {
    "duration": 1519,
    "start_time": "2024-08-18T17:41:22.431Z"
   },
   {
    "duration": 2539,
    "start_time": "2024-08-18T17:41:30.371Z"
   },
   {
    "duration": 18,
    "start_time": "2024-08-18T17:41:51.719Z"
   },
   {
    "duration": 1452,
    "start_time": "2024-08-18T17:44:47.346Z"
   },
   {
    "duration": 5,
    "start_time": "2024-08-18T17:45:37.254Z"
   },
   {
    "duration": 1484,
    "start_time": "2024-08-18T17:45:42.369Z"
   },
   {
    "duration": 6,
    "start_time": "2024-08-18T17:46:02.440Z"
   },
   {
    "duration": 4,
    "start_time": "2024-08-18T17:46:09.078Z"
   },
   {
    "duration": 5,
    "start_time": "2024-08-18T17:46:29.556Z"
   },
   {
    "duration": 5,
    "start_time": "2024-08-18T17:46:35.911Z"
   },
   {
    "duration": 5,
    "start_time": "2024-08-18T17:46:43.925Z"
   },
   {
    "duration": 5,
    "start_time": "2024-08-18T17:46:48.814Z"
   },
   {
    "duration": 5,
    "start_time": "2024-08-18T17:47:00.087Z"
   },
   {
    "duration": 4,
    "start_time": "2024-08-18T17:47:04.881Z"
   },
   {
    "duration": 12,
    "start_time": "2024-08-18T17:47:10.428Z"
   },
   {
    "duration": 4,
    "start_time": "2024-08-18T17:47:14.970Z"
   },
   {
    "duration": 5,
    "start_time": "2024-08-18T17:47:27.010Z"
   },
   {
    "duration": 4,
    "start_time": "2024-08-18T17:47:32.461Z"
   },
   {
    "duration": 5,
    "start_time": "2024-08-18T17:47:36.678Z"
   },
   {
    "duration": 5,
    "start_time": "2024-08-18T17:47:47.221Z"
   },
   {
    "duration": 5,
    "start_time": "2024-08-18T17:47:57.357Z"
   },
   {
    "duration": 5,
    "start_time": "2024-08-18T17:48:01.406Z"
   },
   {
    "duration": 5,
    "start_time": "2024-08-18T17:48:44.600Z"
   },
   {
    "duration": 2360,
    "start_time": "2024-08-18T17:48:51.332Z"
   },
   {
    "duration": 1225,
    "start_time": "2024-08-18T17:54:26.613Z"
   },
   {
    "duration": 11,
    "start_time": "2024-08-18T17:54:27.840Z"
   },
   {
    "duration": 34,
    "start_time": "2024-08-18T17:54:27.852Z"
   },
   {
    "duration": 9,
    "start_time": "2024-08-18T17:54:27.887Z"
   },
   {
    "duration": 15,
    "start_time": "2024-08-18T17:54:27.898Z"
   },
   {
    "duration": 6,
    "start_time": "2024-08-18T17:54:27.915Z"
   },
   {
    "duration": 10,
    "start_time": "2024-08-18T17:54:27.922Z"
   },
   {
    "duration": 11,
    "start_time": "2024-08-18T17:54:27.933Z"
   },
   {
    "duration": 5,
    "start_time": "2024-08-18T17:54:27.945Z"
   },
   {
    "duration": 7,
    "start_time": "2024-08-18T17:54:27.952Z"
   },
   {
    "duration": 20,
    "start_time": "2024-08-18T17:54:27.960Z"
   },
   {
    "duration": 15,
    "start_time": "2024-08-18T17:54:27.981Z"
   },
   {
    "duration": 5,
    "start_time": "2024-08-18T17:54:27.998Z"
   },
   {
    "duration": 20,
    "start_time": "2024-08-18T17:54:28.006Z"
   },
   {
    "duration": 8,
    "start_time": "2024-08-18T17:54:28.027Z"
   },
   {
    "duration": 7,
    "start_time": "2024-08-18T17:54:28.036Z"
   },
   {
    "duration": 6,
    "start_time": "2024-08-18T17:54:28.045Z"
   },
   {
    "duration": 217,
    "start_time": "2024-08-18T17:54:28.053Z"
   },
   {
    "duration": 169,
    "start_time": "2024-08-18T17:54:28.272Z"
   },
   {
    "duration": 9,
    "start_time": "2024-08-18T17:54:28.442Z"
   },
   {
    "duration": 218,
    "start_time": "2024-08-18T17:54:28.452Z"
   },
   {
    "duration": 9,
    "start_time": "2024-08-18T17:54:28.672Z"
   },
   {
    "duration": 244,
    "start_time": "2024-08-18T17:54:28.682Z"
   },
   {
    "duration": 131,
    "start_time": "2024-08-18T17:54:28.929Z"
   },
   {
    "duration": 9,
    "start_time": "2024-08-18T17:54:29.061Z"
   },
   {
    "duration": 234,
    "start_time": "2024-08-18T17:54:29.072Z"
   },
   {
    "duration": 34,
    "start_time": "2024-08-18T17:54:29.308Z"
   },
   {
    "duration": 14,
    "start_time": "2024-08-18T17:54:29.344Z"
   },
   {
    "duration": 17,
    "start_time": "2024-08-18T17:54:29.360Z"
   },
   {
    "duration": 15,
    "start_time": "2024-08-18T17:54:29.379Z"
   },
   {
    "duration": 452,
    "start_time": "2024-08-18T17:54:29.395Z"
   },
   {
    "duration": 459,
    "start_time": "2024-08-18T17:54:29.849Z"
   },
   {
    "duration": 33,
    "start_time": "2024-08-18T17:54:30.310Z"
   },
   {
    "duration": 51,
    "start_time": "2024-08-18T17:54:30.344Z"
   },
   {
    "duration": 40,
    "start_time": "2024-08-18T17:54:30.397Z"
   },
   {
    "duration": 19,
    "start_time": "2024-08-18T17:54:30.439Z"
   },
   {
    "duration": 26,
    "start_time": "2024-08-18T17:54:30.460Z"
   },
   {
    "duration": 20,
    "start_time": "2024-08-18T17:54:30.488Z"
   },
   {
    "duration": 28,
    "start_time": "2024-08-18T17:54:30.510Z"
   },
   {
    "duration": 29,
    "start_time": "2024-08-18T17:54:30.539Z"
   },
   {
    "duration": 1454,
    "start_time": "2024-08-18T18:30:32.558Z"
   },
   {
    "duration": 1022,
    "start_time": "2024-08-18T18:32:12.582Z"
   },
   {
    "duration": 12,
    "start_time": "2024-08-18T18:32:13.606Z"
   },
   {
    "duration": 11,
    "start_time": "2024-08-18T18:32:13.619Z"
   },
   {
    "duration": 10,
    "start_time": "2024-08-18T18:32:13.632Z"
   },
   {
    "duration": 12,
    "start_time": "2024-08-18T18:32:13.644Z"
   },
   {
    "duration": 7,
    "start_time": "2024-08-18T18:32:13.658Z"
   },
   {
    "duration": 19,
    "start_time": "2024-08-18T18:32:13.667Z"
   },
   {
    "duration": 12,
    "start_time": "2024-08-18T18:32:13.688Z"
   },
   {
    "duration": 5,
    "start_time": "2024-08-18T18:32:13.702Z"
   },
   {
    "duration": 7,
    "start_time": "2024-08-18T18:32:13.710Z"
   },
   {
    "duration": 12,
    "start_time": "2024-08-18T18:32:13.719Z"
   },
   {
    "duration": 9,
    "start_time": "2024-08-18T18:32:13.733Z"
   },
   {
    "duration": 6,
    "start_time": "2024-08-18T18:32:13.744Z"
   },
   {
    "duration": 31,
    "start_time": "2024-08-18T18:32:13.752Z"
   },
   {
    "duration": 7,
    "start_time": "2024-08-18T18:32:13.785Z"
   },
   {
    "duration": 4,
    "start_time": "2024-08-18T18:32:13.794Z"
   },
   {
    "duration": 5,
    "start_time": "2024-08-18T18:32:13.799Z"
   },
   {
    "duration": 213,
    "start_time": "2024-08-18T18:32:13.806Z"
   },
   {
    "duration": 163,
    "start_time": "2024-08-18T18:32:14.021Z"
   },
   {
    "duration": 7,
    "start_time": "2024-08-18T18:32:14.186Z"
   },
   {
    "duration": 203,
    "start_time": "2024-08-18T18:32:14.195Z"
   },
   {
    "duration": 7,
    "start_time": "2024-08-18T18:32:14.400Z"
   },
   {
    "duration": 216,
    "start_time": "2024-08-18T18:32:14.409Z"
   },
   {
    "duration": 176,
    "start_time": "2024-08-18T18:32:14.627Z"
   },
   {
    "duration": 8,
    "start_time": "2024-08-18T18:32:14.804Z"
   },
   {
    "duration": 212,
    "start_time": "2024-08-18T18:32:14.813Z"
   },
   {
    "duration": 22,
    "start_time": "2024-08-18T18:32:15.026Z"
   },
   {
    "duration": 29,
    "start_time": "2024-08-18T18:32:15.053Z"
   },
   {
    "duration": 32,
    "start_time": "2024-08-18T18:32:15.084Z"
   },
   {
    "duration": 19,
    "start_time": "2024-08-18T18:32:15.118Z"
   },
   {
    "duration": 371,
    "start_time": "2024-08-18T18:32:15.138Z"
   },
   {
    "duration": 327,
    "start_time": "2024-08-18T18:32:15.511Z"
   },
   {
    "duration": 26,
    "start_time": "2024-08-18T18:32:15.839Z"
   },
   {
    "duration": 64,
    "start_time": "2024-08-18T18:32:15.866Z"
   },
   {
    "duration": 18,
    "start_time": "2024-08-18T18:32:15.931Z"
   },
   {
    "duration": 6,
    "start_time": "2024-08-18T18:32:15.951Z"
   },
   {
    "duration": 5,
    "start_time": "2024-08-18T18:32:15.982Z"
   },
   {
    "duration": 8,
    "start_time": "2024-08-18T18:32:15.988Z"
   },
   {
    "duration": 5,
    "start_time": "2024-08-18T18:32:15.997Z"
   },
   {
    "duration": 5,
    "start_time": "2024-08-18T18:32:16.003Z"
   },
   {
    "duration": 47,
    "start_time": "2024-08-18T20:12:08.038Z"
   },
   {
    "duration": 1654,
    "start_time": "2024-08-18T20:12:14.620Z"
   },
   {
    "duration": 12,
    "start_time": "2024-08-18T20:12:16.276Z"
   },
   {
    "duration": 14,
    "start_time": "2024-08-18T20:12:16.289Z"
   },
   {
    "duration": 7,
    "start_time": "2024-08-18T20:12:16.305Z"
   },
   {
    "duration": 12,
    "start_time": "2024-08-18T20:12:16.314Z"
   },
   {
    "duration": 6,
    "start_time": "2024-08-18T20:12:16.327Z"
   },
   {
    "duration": 14,
    "start_time": "2024-08-18T20:12:16.334Z"
   },
   {
    "duration": 11,
    "start_time": "2024-08-18T20:12:16.350Z"
   },
   {
    "duration": 21,
    "start_time": "2024-08-18T20:12:16.362Z"
   },
   {
    "duration": 5,
    "start_time": "2024-08-18T20:12:16.385Z"
   },
   {
    "duration": 9,
    "start_time": "2024-08-18T20:12:16.391Z"
   },
   {
    "duration": 4,
    "start_time": "2024-08-18T20:12:16.402Z"
   },
   {
    "duration": 7,
    "start_time": "2024-08-18T20:12:16.407Z"
   },
   {
    "duration": 14,
    "start_time": "2024-08-18T20:12:16.415Z"
   },
   {
    "duration": 14,
    "start_time": "2024-08-18T20:12:16.431Z"
   },
   {
    "duration": 4,
    "start_time": "2024-08-18T20:12:16.447Z"
   },
   {
    "duration": 7,
    "start_time": "2024-08-18T20:12:16.453Z"
   },
   {
    "duration": 193,
    "start_time": "2024-08-18T20:12:16.482Z"
   },
   {
    "duration": 159,
    "start_time": "2024-08-18T20:12:16.677Z"
   },
   {
    "duration": 8,
    "start_time": "2024-08-18T20:12:16.838Z"
   },
   {
    "duration": 195,
    "start_time": "2024-08-18T20:12:16.847Z"
   },
   {
    "duration": 8,
    "start_time": "2024-08-18T20:12:17.043Z"
   },
   {
    "duration": 252,
    "start_time": "2024-08-18T20:12:17.052Z"
   },
   {
    "duration": 112,
    "start_time": "2024-08-18T20:12:17.305Z"
   },
   {
    "duration": 7,
    "start_time": "2024-08-18T20:12:17.419Z"
   },
   {
    "duration": 214,
    "start_time": "2024-08-18T20:12:17.428Z"
   },
   {
    "duration": 23,
    "start_time": "2024-08-18T20:12:17.643Z"
   },
   {
    "duration": 12,
    "start_time": "2024-08-18T20:12:17.682Z"
   },
   {
    "duration": 15,
    "start_time": "2024-08-18T20:12:17.696Z"
   },
   {
    "duration": 13,
    "start_time": "2024-08-18T20:12:17.713Z"
   },
   {
    "duration": 383,
    "start_time": "2024-08-18T20:12:17.727Z"
   },
   {
    "duration": 417,
    "start_time": "2024-08-18T20:12:18.112Z"
   },
   {
    "duration": 26,
    "start_time": "2024-08-18T20:12:18.530Z"
   },
   {
    "duration": 63,
    "start_time": "2024-08-18T20:12:18.557Z"
   },
   {
    "duration": 16,
    "start_time": "2024-08-18T20:12:18.622Z"
   },
   {
    "duration": 4,
    "start_time": "2024-08-18T20:12:18.640Z"
   },
   {
    "duration": 4,
    "start_time": "2024-08-18T20:12:18.646Z"
   },
   {
    "duration": 32,
    "start_time": "2024-08-18T20:12:18.652Z"
   },
   {
    "duration": 5,
    "start_time": "2024-08-18T20:12:18.685Z"
   },
   {
    "duration": 23,
    "start_time": "2024-08-18T20:12:18.691Z"
   },
   {
    "duration": 197,
    "start_time": "2024-08-18T20:12:27.320Z"
   },
   {
    "duration": 160,
    "start_time": "2024-08-18T20:13:41.543Z"
   },
   {
    "duration": 163,
    "start_time": "2024-08-18T20:14:29.867Z"
   },
   {
    "duration": 158,
    "start_time": "2024-08-18T20:15:20.419Z"
   },
   {
    "duration": 145,
    "start_time": "2024-08-18T20:15:35.488Z"
   },
   {
    "duration": 14,
    "start_time": "2024-08-18T20:24:24.652Z"
   },
   {
    "duration": 204,
    "start_time": "2024-08-18T20:26:39.370Z"
   },
   {
    "duration": 181,
    "start_time": "2024-08-18T20:27:24.815Z"
   },
   {
    "duration": 179,
    "start_time": "2024-08-18T20:28:08.871Z"
   },
   {
    "duration": 183,
    "start_time": "2024-08-18T20:28:30.935Z"
   },
   {
    "duration": 190,
    "start_time": "2024-08-18T20:28:39.244Z"
   },
   {
    "duration": 271,
    "start_time": "2024-08-18T20:30:15.766Z"
   },
   {
    "duration": 190,
    "start_time": "2024-08-18T20:30:22.086Z"
   },
   {
    "duration": 1251,
    "start_time": "2024-08-18T20:30:29.257Z"
   },
   {
    "duration": 11,
    "start_time": "2024-08-18T20:30:30.509Z"
   },
   {
    "duration": 90,
    "start_time": "2024-08-18T20:30:30.521Z"
   },
   {
    "duration": 79,
    "start_time": "2024-08-18T20:30:30.613Z"
   },
   {
    "duration": 56,
    "start_time": "2024-08-18T20:30:30.693Z"
   },
   {
    "duration": 69,
    "start_time": "2024-08-18T20:30:30.751Z"
   },
   {
    "duration": 60,
    "start_time": "2024-08-18T20:30:30.822Z"
   },
   {
    "duration": 107,
    "start_time": "2024-08-18T20:30:30.884Z"
   },
   {
    "duration": 99,
    "start_time": "2024-08-18T20:30:30.993Z"
   },
   {
    "duration": 76,
    "start_time": "2024-08-18T20:30:31.095Z"
   },
   {
    "duration": 47,
    "start_time": "2024-08-18T20:30:31.172Z"
   },
   {
    "duration": 37,
    "start_time": "2024-08-18T20:30:31.220Z"
   },
   {
    "duration": 22,
    "start_time": "2024-08-18T20:30:31.258Z"
   },
   {
    "duration": 31,
    "start_time": "2024-08-18T20:30:31.282Z"
   },
   {
    "duration": 38,
    "start_time": "2024-08-18T20:30:31.314Z"
   },
   {
    "duration": 220,
    "start_time": "2024-08-18T20:30:31.354Z"
   },
   {
    "duration": 104,
    "start_time": "2024-08-18T20:30:31.576Z"
   },
   {
    "duration": 237,
    "start_time": "2024-08-18T20:30:31.682Z"
   },
   {
    "duration": 161,
    "start_time": "2024-08-18T20:30:31.921Z"
   },
   {
    "duration": 7,
    "start_time": "2024-08-18T20:30:32.083Z"
   },
   {
    "duration": 195,
    "start_time": "2024-08-18T20:30:32.092Z"
   },
   {
    "duration": 8,
    "start_time": "2024-08-18T20:30:32.290Z"
   },
   {
    "duration": 222,
    "start_time": "2024-08-18T20:30:32.299Z"
   },
   {
    "duration": 122,
    "start_time": "2024-08-18T20:30:32.524Z"
   },
   {
    "duration": 8,
    "start_time": "2024-08-18T20:30:32.647Z"
   },
   {
    "duration": 229,
    "start_time": "2024-08-18T20:30:32.656Z"
   },
   {
    "duration": 23,
    "start_time": "2024-08-18T20:30:32.886Z"
   },
   {
    "duration": 12,
    "start_time": "2024-08-18T20:30:32.912Z"
   },
   {
    "duration": 53,
    "start_time": "2024-08-18T20:30:32.926Z"
   },
   {
    "duration": 18,
    "start_time": "2024-08-18T20:30:32.980Z"
   },
   {
    "duration": 388,
    "start_time": "2024-08-18T20:30:33.000Z"
   },
   {
    "duration": 893,
    "start_time": "2024-08-18T20:30:33.389Z"
   },
   {
    "duration": 26,
    "start_time": "2024-08-18T20:30:34.284Z"
   },
   {
    "duration": 104,
    "start_time": "2024-08-18T20:30:34.311Z"
   },
   {
    "duration": 69,
    "start_time": "2024-08-18T20:30:34.417Z"
   },
   {
    "duration": 5,
    "start_time": "2024-08-18T20:30:34.488Z"
   },
   {
    "duration": 9,
    "start_time": "2024-08-18T20:30:34.494Z"
   },
   {
    "duration": 9,
    "start_time": "2024-08-18T20:30:34.504Z"
   },
   {
    "duration": 12,
    "start_time": "2024-08-18T20:30:34.514Z"
   },
   {
    "duration": 54,
    "start_time": "2024-08-18T20:30:34.528Z"
   },
   {
    "duration": 167,
    "start_time": "2024-08-18T20:31:01.317Z"
   },
   {
    "duration": 157,
    "start_time": "2024-08-18T20:31:10.829Z"
   },
   {
    "duration": 194,
    "start_time": "2024-08-18T20:31:22.641Z"
   },
   {
    "duration": 173,
    "start_time": "2024-08-18T20:31:26.985Z"
   },
   {
    "duration": 7,
    "start_time": "2024-08-18T20:32:03.917Z"
   },
   {
    "duration": 150,
    "start_time": "2024-08-18T20:32:25.268Z"
   },
   {
    "duration": 211,
    "start_time": "2024-08-18T20:32:32.377Z"
   },
   {
    "duration": 204,
    "start_time": "2024-08-18T20:32:55.613Z"
   },
   {
    "duration": 8,
    "start_time": "2024-08-18T20:35:30.581Z"
   },
   {
    "duration": 199,
    "start_time": "2024-08-18T20:35:33.929Z"
   },
   {
    "duration": 103,
    "start_time": "2024-08-18T20:35:37.781Z"
   },
   {
    "duration": 11,
    "start_time": "2024-08-18T20:43:58.833Z"
   },
   {
    "duration": 10,
    "start_time": "2024-08-18T20:46:16.348Z"
   },
   {
    "duration": 9,
    "start_time": "2024-08-18T20:46:23.577Z"
   },
   {
    "duration": 10,
    "start_time": "2024-08-18T20:46:47.068Z"
   },
   {
    "duration": 10,
    "start_time": "2024-08-18T20:47:20.348Z"
   },
   {
    "duration": 17,
    "start_time": "2024-08-18T20:48:00.197Z"
   },
   {
    "duration": 13,
    "start_time": "2024-08-18T20:48:56.993Z"
   },
   {
    "duration": 9,
    "start_time": "2024-08-18T20:57:34.912Z"
   },
   {
    "duration": 301,
    "start_time": "2024-08-18T20:57:35.772Z"
   },
   {
    "duration": 23,
    "start_time": "2024-08-18T20:57:41.755Z"
   },
   {
    "duration": 14,
    "start_time": "2024-08-18T20:57:44.451Z"
   },
   {
    "duration": 98,
    "start_time": "2024-08-18T20:58:26.968Z"
   },
   {
    "duration": 8,
    "start_time": "2024-08-18T20:58:29.608Z"
   },
   {
    "duration": 8,
    "start_time": "2024-08-18T20:59:19.295Z"
   },
   {
    "duration": 15,
    "start_time": "2024-08-18T21:01:03.732Z"
   },
   {
    "duration": 14,
    "start_time": "2024-08-18T21:01:06.595Z"
   },
   {
    "duration": 399,
    "start_time": "2024-08-18T21:01:15.983Z"
   },
   {
    "duration": 308,
    "start_time": "2024-08-18T21:01:23.655Z"
   },
   {
    "duration": 26,
    "start_time": "2024-08-18T21:01:30.576Z"
   },
   {
    "duration": 49,
    "start_time": "2024-08-18T21:02:58.075Z"
   },
   {
    "duration": 51,
    "start_time": "2024-08-18T21:05:33.823Z"
   },
   {
    "duration": 49,
    "start_time": "2024-08-18T21:06:04.631Z"
   },
   {
    "duration": 50,
    "start_time": "2024-08-18T21:06:17.207Z"
   },
   {
    "duration": 45,
    "start_time": "2024-08-18T21:06:49.451Z"
   },
   {
    "duration": 47,
    "start_time": "2024-08-18T21:07:23.891Z"
   },
   {
    "duration": 48,
    "start_time": "2024-08-18T21:07:46.080Z"
   },
   {
    "duration": 46,
    "start_time": "2024-08-18T21:07:54.135Z"
   },
   {
    "duration": 1212,
    "start_time": "2024-08-18T21:08:00.881Z"
   },
   {
    "duration": 11,
    "start_time": "2024-08-18T21:08:02.095Z"
   },
   {
    "duration": 21,
    "start_time": "2024-08-18T21:08:02.108Z"
   },
   {
    "duration": 18,
    "start_time": "2024-08-18T21:08:02.131Z"
   },
   {
    "duration": 10,
    "start_time": "2024-08-18T21:08:02.150Z"
   },
   {
    "duration": 7,
    "start_time": "2024-08-18T21:08:02.162Z"
   },
   {
    "duration": 28,
    "start_time": "2024-08-18T21:08:02.170Z"
   },
   {
    "duration": 22,
    "start_time": "2024-08-18T21:08:02.199Z"
   },
   {
    "duration": 17,
    "start_time": "2024-08-18T21:08:02.223Z"
   },
   {
    "duration": 12,
    "start_time": "2024-08-18T21:08:02.242Z"
   },
   {
    "duration": 6,
    "start_time": "2024-08-18T21:08:02.255Z"
   },
   {
    "duration": 5,
    "start_time": "2024-08-18T21:08:02.262Z"
   },
   {
    "duration": 11,
    "start_time": "2024-08-18T21:08:02.268Z"
   },
   {
    "duration": 8,
    "start_time": "2024-08-18T21:08:02.280Z"
   },
   {
    "duration": 12,
    "start_time": "2024-08-18T21:08:02.290Z"
   },
   {
    "duration": 4,
    "start_time": "2024-08-18T21:08:02.304Z"
   },
   {
    "duration": 24,
    "start_time": "2024-08-18T21:08:02.309Z"
   },
   {
    "duration": 182,
    "start_time": "2024-08-18T21:08:02.334Z"
   },
   {
    "duration": 153,
    "start_time": "2024-08-18T21:08:02.517Z"
   },
   {
    "duration": 15,
    "start_time": "2024-08-18T21:08:02.671Z"
   },
   {
    "duration": 197,
    "start_time": "2024-08-18T21:08:02.687Z"
   },
   {
    "duration": 7,
    "start_time": "2024-08-18T21:08:02.885Z"
   },
   {
    "duration": 221,
    "start_time": "2024-08-18T21:08:02.893Z"
   },
   {
    "duration": 126,
    "start_time": "2024-08-18T21:08:03.116Z"
   },
   {
    "duration": 10,
    "start_time": "2024-08-18T21:08:03.244Z"
   },
   {
    "duration": 211,
    "start_time": "2024-08-18T21:08:03.255Z"
   },
   {
    "duration": 31,
    "start_time": "2024-08-18T21:08:03.467Z"
   },
   {
    "duration": 13,
    "start_time": "2024-08-18T21:08:03.501Z"
   },
   {
    "duration": 16,
    "start_time": "2024-08-18T21:08:03.515Z"
   },
   {
    "duration": 13,
    "start_time": "2024-08-18T21:08:03.532Z"
   },
   {
    "duration": 370,
    "start_time": "2024-08-18T21:08:03.546Z"
   },
   {
    "duration": 411,
    "start_time": "2024-08-18T21:08:03.918Z"
   },
   {
    "duration": 25,
    "start_time": "2024-08-18T21:08:04.331Z"
   },
   {
    "duration": 58,
    "start_time": "2024-08-18T21:08:04.358Z"
   },
   {
    "duration": 18,
    "start_time": "2024-08-18T21:08:04.418Z"
   },
   {
    "duration": 6,
    "start_time": "2024-08-18T21:08:04.437Z"
   },
   {
    "duration": 6,
    "start_time": "2024-08-18T21:08:04.444Z"
   },
   {
    "duration": 31,
    "start_time": "2024-08-18T21:08:04.451Z"
   },
   {
    "duration": 4,
    "start_time": "2024-08-18T21:08:04.484Z"
   },
   {
    "duration": 5,
    "start_time": "2024-08-18T21:08:04.489Z"
   },
   {
    "duration": 50,
    "start_time": "2024-08-18T21:08:17.124Z"
   },
   {
    "duration": 48,
    "start_time": "2024-08-18T21:08:36.680Z"
   },
   {
    "duration": 22,
    "start_time": "2024-08-18T21:09:44.516Z"
   },
   {
    "duration": 5,
    "start_time": "2024-08-18T21:09:58.413Z"
   },
   {
    "duration": 5,
    "start_time": "2024-08-18T21:10:28.069Z"
   },
   {
    "duration": 7,
    "start_time": "2024-08-18T21:11:34.705Z"
   },
   {
    "duration": 5,
    "start_time": "2024-08-18T21:12:01.052Z"
   },
   {
    "duration": 7,
    "start_time": "2024-08-18T21:12:04.492Z"
   },
   {
    "duration": 6,
    "start_time": "2024-08-18T21:19:05.379Z"
   },
   {
    "duration": 5,
    "start_time": "2024-08-18T21:19:15.323Z"
   },
   {
    "duration": 6,
    "start_time": "2024-08-18T21:44:11.953Z"
   },
   {
    "duration": 5,
    "start_time": "2024-08-18T21:49:04.522Z"
   },
   {
    "duration": 6,
    "start_time": "2024-08-18T21:49:41.736Z"
   },
   {
    "duration": 5,
    "start_time": "2024-08-18T21:49:53.144Z"
   },
   {
    "duration": 5,
    "start_time": "2024-08-18T21:50:00.876Z"
   },
   {
    "duration": 5,
    "start_time": "2024-08-18T21:50:10.840Z"
   },
   {
    "duration": 1233,
    "start_time": "2024-08-18T21:50:19.852Z"
   },
   {
    "duration": 11,
    "start_time": "2024-08-18T21:50:21.086Z"
   },
   {
    "duration": 10,
    "start_time": "2024-08-18T21:50:21.098Z"
   },
   {
    "duration": 8,
    "start_time": "2024-08-18T21:50:21.109Z"
   },
   {
    "duration": 10,
    "start_time": "2024-08-18T21:50:21.118Z"
   },
   {
    "duration": 14,
    "start_time": "2024-08-18T21:50:21.130Z"
   },
   {
    "duration": 23,
    "start_time": "2024-08-18T21:50:21.146Z"
   },
   {
    "duration": 16,
    "start_time": "2024-08-18T21:50:21.170Z"
   },
   {
    "duration": 4,
    "start_time": "2024-08-18T21:50:21.187Z"
   },
   {
    "duration": 21,
    "start_time": "2024-08-18T21:50:21.194Z"
   },
   {
    "duration": 9,
    "start_time": "2024-08-18T21:50:21.216Z"
   },
   {
    "duration": 5,
    "start_time": "2024-08-18T21:50:21.226Z"
   },
   {
    "duration": 12,
    "start_time": "2024-08-18T21:50:21.232Z"
   },
   {
    "duration": 10,
    "start_time": "2024-08-18T21:50:21.245Z"
   },
   {
    "duration": 8,
    "start_time": "2024-08-18T21:50:21.257Z"
   },
   {
    "duration": 15,
    "start_time": "2024-08-18T21:50:21.267Z"
   },
   {
    "duration": 5,
    "start_time": "2024-08-18T21:50:21.285Z"
   },
   {
    "duration": 179,
    "start_time": "2024-08-18T21:50:21.292Z"
   },
   {
    "duration": 157,
    "start_time": "2024-08-18T21:50:21.472Z"
   },
   {
    "duration": 7,
    "start_time": "2024-08-18T21:50:21.631Z"
   },
   {
    "duration": 195,
    "start_time": "2024-08-18T21:50:21.639Z"
   },
   {
    "duration": 8,
    "start_time": "2024-08-18T21:50:21.836Z"
   },
   {
    "duration": 214,
    "start_time": "2024-08-18T21:50:21.845Z"
   },
   {
    "duration": 113,
    "start_time": "2024-08-18T21:50:22.061Z"
   },
   {
    "duration": 12,
    "start_time": "2024-08-18T21:50:22.176Z"
   },
   {
    "duration": 214,
    "start_time": "2024-08-18T21:50:22.189Z"
   },
   {
    "duration": 22,
    "start_time": "2024-08-18T21:50:22.404Z"
   },
   {
    "duration": 12,
    "start_time": "2024-08-18T21:50:22.428Z"
   },
   {
    "duration": 17,
    "start_time": "2024-08-18T21:50:22.441Z"
   },
   {
    "duration": 34,
    "start_time": "2024-08-18T21:50:22.459Z"
   },
   {
    "duration": 359,
    "start_time": "2024-08-18T21:50:22.495Z"
   },
   {
    "duration": 405,
    "start_time": "2024-08-18T21:50:22.855Z"
   },
   {
    "duration": 33,
    "start_time": "2024-08-18T21:50:23.261Z"
   },
   {
    "duration": 47,
    "start_time": "2024-08-18T21:50:23.295Z"
   },
   {
    "duration": 19,
    "start_time": "2024-08-18T21:50:23.344Z"
   },
   {
    "duration": 6,
    "start_time": "2024-08-18T21:50:23.381Z"
   },
   {
    "duration": 6,
    "start_time": "2024-08-18T21:50:23.388Z"
   },
   {
    "duration": 7,
    "start_time": "2024-08-18T21:50:23.395Z"
   },
   {
    "duration": 4,
    "start_time": "2024-08-18T21:50:23.403Z"
   },
   {
    "duration": 11,
    "start_time": "2024-08-18T21:50:23.408Z"
   },
   {
    "duration": 5,
    "start_time": "2024-08-18T21:50:30.824Z"
   },
   {
    "duration": 6,
    "start_time": "2024-08-18T21:50:43.471Z"
   },
   {
    "duration": 5,
    "start_time": "2024-08-18T21:50:49.727Z"
   },
   {
    "duration": 5,
    "start_time": "2024-08-18T21:50:57.368Z"
   },
   {
    "duration": 6,
    "start_time": "2024-08-18T21:51:02.927Z"
   },
   {
    "duration": 7,
    "start_time": "2024-08-18T21:51:11.820Z"
   },
   {
    "duration": 1181,
    "start_time": "2024-08-18T21:51:19.335Z"
   },
   {
    "duration": 12,
    "start_time": "2024-08-18T21:51:20.518Z"
   },
   {
    "duration": 46,
    "start_time": "2024-08-18T21:51:20.531Z"
   },
   {
    "duration": 27,
    "start_time": "2024-08-18T21:51:20.579Z"
   },
   {
    "duration": 24,
    "start_time": "2024-08-18T21:51:20.608Z"
   },
   {
    "duration": 23,
    "start_time": "2024-08-18T21:51:20.634Z"
   },
   {
    "duration": 33,
    "start_time": "2024-08-18T21:51:20.659Z"
   },
   {
    "duration": 8,
    "start_time": "2024-08-18T21:51:20.694Z"
   },
   {
    "duration": 4,
    "start_time": "2024-08-18T21:51:20.704Z"
   },
   {
    "duration": 26,
    "start_time": "2024-08-18T21:51:20.711Z"
   },
   {
    "duration": 7,
    "start_time": "2024-08-18T21:51:20.738Z"
   },
   {
    "duration": 5,
    "start_time": "2024-08-18T21:51:20.747Z"
   },
   {
    "duration": 16,
    "start_time": "2024-08-18T21:51:20.754Z"
   },
   {
    "duration": 21,
    "start_time": "2024-08-18T21:51:20.771Z"
   },
   {
    "duration": 12,
    "start_time": "2024-08-18T21:51:20.794Z"
   },
   {
    "duration": 5,
    "start_time": "2024-08-18T21:51:20.808Z"
   },
   {
    "duration": 5,
    "start_time": "2024-08-18T21:51:20.815Z"
   },
   {
    "duration": 187,
    "start_time": "2024-08-18T21:51:20.822Z"
   },
   {
    "duration": 173,
    "start_time": "2024-08-18T21:51:21.011Z"
   },
   {
    "duration": 8,
    "start_time": "2024-08-18T21:51:21.186Z"
   },
   {
    "duration": 195,
    "start_time": "2024-08-18T21:51:21.195Z"
   },
   {
    "duration": 9,
    "start_time": "2024-08-18T21:51:21.392Z"
   },
   {
    "duration": 224,
    "start_time": "2024-08-18T21:51:21.403Z"
   },
   {
    "duration": 122,
    "start_time": "2024-08-18T21:51:21.629Z"
   },
   {
    "duration": 9,
    "start_time": "2024-08-18T21:51:21.753Z"
   },
   {
    "duration": 250,
    "start_time": "2024-08-18T21:51:21.763Z"
   },
   {
    "duration": 22,
    "start_time": "2024-08-18T21:51:22.015Z"
   },
   {
    "duration": 13,
    "start_time": "2024-08-18T21:51:22.041Z"
   },
   {
    "duration": 37,
    "start_time": "2024-08-18T21:51:22.056Z"
   },
   {
    "duration": 16,
    "start_time": "2024-08-18T21:51:22.095Z"
   },
   {
    "duration": 370,
    "start_time": "2024-08-18T21:51:22.112Z"
   },
   {
    "duration": 425,
    "start_time": "2024-08-18T21:51:22.483Z"
   },
   {
    "duration": 79,
    "start_time": "2024-08-18T21:51:22.909Z"
   },
   {
    "duration": 100,
    "start_time": "2024-08-18T21:51:22.989Z"
   },
   {
    "duration": 18,
    "start_time": "2024-08-18T21:51:23.090Z"
   },
   {
    "duration": 6,
    "start_time": "2024-08-18T21:51:23.110Z"
   },
   {
    "duration": 11,
    "start_time": "2024-08-18T21:51:23.117Z"
   },
   {
    "duration": 58,
    "start_time": "2024-08-18T21:51:23.129Z"
   },
   {
    "duration": 5,
    "start_time": "2024-08-18T21:51:23.188Z"
   },
   {
    "duration": 6,
    "start_time": "2024-08-18T21:51:23.194Z"
   },
   {
    "duration": 44,
    "start_time": "2024-08-18T21:51:30.651Z"
   },
   {
    "duration": 5,
    "start_time": "2024-08-18T21:51:35.946Z"
   },
   {
    "duration": 5,
    "start_time": "2024-08-18T21:51:39.550Z"
   },
   {
    "duration": 5,
    "start_time": "2024-08-18T21:51:43.582Z"
   },
   {
    "duration": 5,
    "start_time": "2024-08-18T22:15:22.820Z"
   },
   {
    "duration": 5,
    "start_time": "2024-08-18T22:15:31.527Z"
   },
   {
    "duration": 93,
    "start_time": "2024-08-18T22:15:41.543Z"
   },
   {
    "duration": 4,
    "start_time": "2024-08-18T22:15:48.519Z"
   },
   {
    "duration": 8,
    "start_time": "2024-08-18T22:16:02.831Z"
   },
   {
    "duration": 1220,
    "start_time": "2024-08-18T22:19:08.173Z"
   },
   {
    "duration": 11,
    "start_time": "2024-08-18T22:19:09.395Z"
   },
   {
    "duration": 10,
    "start_time": "2024-08-18T22:19:09.408Z"
   },
   {
    "duration": 12,
    "start_time": "2024-08-18T22:19:09.420Z"
   },
   {
    "duration": 12,
    "start_time": "2024-08-18T22:19:09.433Z"
   },
   {
    "duration": 6,
    "start_time": "2024-08-18T22:19:09.447Z"
   },
   {
    "duration": 31,
    "start_time": "2024-08-18T22:19:09.454Z"
   },
   {
    "duration": 11,
    "start_time": "2024-08-18T22:19:09.486Z"
   },
   {
    "duration": 4,
    "start_time": "2024-08-18T22:19:09.499Z"
   },
   {
    "duration": 7,
    "start_time": "2024-08-18T22:19:09.506Z"
   },
   {
    "duration": 5,
    "start_time": "2024-08-18T22:19:09.515Z"
   },
   {
    "duration": 7,
    "start_time": "2024-08-18T22:19:09.521Z"
   },
   {
    "duration": 9,
    "start_time": "2024-08-18T22:19:09.530Z"
   },
   {
    "duration": 7,
    "start_time": "2024-08-18T22:19:09.540Z"
   },
   {
    "duration": 39,
    "start_time": "2024-08-18T22:19:09.549Z"
   },
   {
    "duration": 9,
    "start_time": "2024-08-18T22:19:09.590Z"
   },
   {
    "duration": 7,
    "start_time": "2024-08-18T22:19:09.601Z"
   },
   {
    "duration": 177,
    "start_time": "2024-08-18T22:19:09.610Z"
   },
   {
    "duration": 162,
    "start_time": "2024-08-18T22:19:09.788Z"
   },
   {
    "duration": 8,
    "start_time": "2024-08-18T22:19:09.952Z"
   },
   {
    "duration": 226,
    "start_time": "2024-08-18T22:19:09.962Z"
   },
   {
    "duration": 9,
    "start_time": "2024-08-18T22:19:10.189Z"
   },
   {
    "duration": 244,
    "start_time": "2024-08-18T22:19:10.201Z"
   },
   {
    "duration": 112,
    "start_time": "2024-08-18T22:19:10.447Z"
   },
   {
    "duration": 7,
    "start_time": "2024-08-18T22:19:10.561Z"
   },
   {
    "duration": 227,
    "start_time": "2024-08-18T22:19:10.569Z"
   },
   {
    "duration": 23,
    "start_time": "2024-08-18T22:19:10.798Z"
   },
   {
    "duration": 13,
    "start_time": "2024-08-18T22:19:10.824Z"
   },
   {
    "duration": 15,
    "start_time": "2024-08-18T22:19:10.839Z"
   },
   {
    "duration": 40,
    "start_time": "2024-08-18T22:19:10.855Z"
   },
   {
    "duration": 356,
    "start_time": "2024-08-18T22:19:10.897Z"
   },
   {
    "duration": 397,
    "start_time": "2024-08-18T22:19:11.254Z"
   },
   {
    "duration": 33,
    "start_time": "2024-08-18T22:19:11.653Z"
   },
   {
    "duration": 49,
    "start_time": "2024-08-18T22:19:11.687Z"
   },
   {
    "duration": 22,
    "start_time": "2024-08-18T22:19:11.738Z"
   },
   {
    "duration": 6,
    "start_time": "2024-08-18T22:19:11.782Z"
   },
   {
    "duration": 19,
    "start_time": "2024-08-18T22:19:11.789Z"
   },
   {
    "duration": 16,
    "start_time": "2024-08-18T22:19:11.810Z"
   },
   {
    "duration": 1134,
    "start_time": "2024-08-18T22:23:51.439Z"
   },
   {
    "duration": 10,
    "start_time": "2024-08-18T22:23:52.575Z"
   },
   {
    "duration": 9,
    "start_time": "2024-08-18T22:23:52.587Z"
   },
   {
    "duration": 9,
    "start_time": "2024-08-18T22:23:52.598Z"
   },
   {
    "duration": 10,
    "start_time": "2024-08-18T22:23:52.608Z"
   },
   {
    "duration": 7,
    "start_time": "2024-08-18T22:23:52.619Z"
   },
   {
    "duration": 11,
    "start_time": "2024-08-18T22:23:52.627Z"
   },
   {
    "duration": 9,
    "start_time": "2024-08-18T22:23:52.639Z"
   },
   {
    "duration": 35,
    "start_time": "2024-08-18T22:23:52.650Z"
   },
   {
    "duration": 6,
    "start_time": "2024-08-18T22:23:52.688Z"
   },
   {
    "duration": 13,
    "start_time": "2024-08-18T22:23:52.696Z"
   },
   {
    "duration": 12,
    "start_time": "2024-08-18T22:23:52.710Z"
   },
   {
    "duration": 12,
    "start_time": "2024-08-18T22:23:52.723Z"
   },
   {
    "duration": 9,
    "start_time": "2024-08-18T22:23:52.736Z"
   },
   {
    "duration": 8,
    "start_time": "2024-08-18T22:23:52.747Z"
   },
   {
    "duration": 4,
    "start_time": "2024-08-18T22:23:52.756Z"
   },
   {
    "duration": 7,
    "start_time": "2024-08-18T22:23:52.781Z"
   },
   {
    "duration": 179,
    "start_time": "2024-08-18T22:23:52.789Z"
   },
   {
    "duration": 156,
    "start_time": "2024-08-18T22:23:52.969Z"
   },
   {
    "duration": 7,
    "start_time": "2024-08-18T22:23:53.127Z"
   },
   {
    "duration": 206,
    "start_time": "2024-08-18T22:23:53.136Z"
   },
   {
    "duration": 8,
    "start_time": "2024-08-18T22:23:53.344Z"
   },
   {
    "duration": 218,
    "start_time": "2024-08-18T22:23:53.354Z"
   },
   {
    "duration": 113,
    "start_time": "2024-08-18T22:23:53.573Z"
   },
   {
    "duration": 8,
    "start_time": "2024-08-18T22:23:53.687Z"
   },
   {
    "duration": 211,
    "start_time": "2024-08-18T22:23:53.696Z"
   },
   {
    "duration": 22,
    "start_time": "2024-08-18T22:23:53.909Z"
   },
   {
    "duration": 15,
    "start_time": "2024-08-18T22:23:53.935Z"
   },
   {
    "duration": 41,
    "start_time": "2024-08-18T22:23:53.951Z"
   },
   {
    "duration": 14,
    "start_time": "2024-08-18T22:23:53.994Z"
   },
   {
    "duration": 376,
    "start_time": "2024-08-18T22:23:54.009Z"
   },
   {
    "duration": 418,
    "start_time": "2024-08-18T22:23:54.387Z"
   },
   {
    "duration": 26,
    "start_time": "2024-08-18T22:23:54.807Z"
   },
   {
    "duration": 64,
    "start_time": "2024-08-18T22:23:54.834Z"
   },
   {
    "duration": 19,
    "start_time": "2024-08-18T22:23:54.900Z"
   },
   {
    "duration": 5,
    "start_time": "2024-08-18T22:23:54.921Z"
   },
   {
    "duration": 6,
    "start_time": "2024-08-18T22:23:54.927Z"
   },
   {
    "duration": 7,
    "start_time": "2024-08-18T22:23:54.935Z"
   },
   {
    "duration": 4,
    "start_time": "2024-08-18T22:23:54.943Z"
   },
   {
    "duration": 35,
    "start_time": "2024-08-18T22:23:54.948Z"
   },
   {
    "duration": 5,
    "start_time": "2024-08-18T22:25:50.842Z"
   },
   {
    "duration": 6,
    "start_time": "2024-08-18T22:26:10.246Z"
   },
   {
    "duration": 0,
    "start_time": "2024-08-18T22:26:25.803Z"
   },
   {
    "duration": 5,
    "start_time": "2024-08-18T22:26:28.218Z"
   },
   {
    "duration": 5,
    "start_time": "2024-08-18T22:26:35.986Z"
   },
   {
    "duration": 4,
    "start_time": "2024-08-18T22:26:41.119Z"
   },
   {
    "duration": 5097,
    "start_time": "2024-08-18T22:26:50.610Z"
   },
   {
    "duration": 4,
    "start_time": "2024-08-18T22:26:56.758Z"
   },
   {
    "duration": 2154,
    "start_time": "2024-08-18T22:28:07.686Z"
   },
   {
    "duration": 5,
    "start_time": "2024-08-18T22:28:20.758Z"
   },
   {
    "duration": 6369,
    "start_time": "2024-08-18T22:28:26.498Z"
   },
   {
    "duration": 0,
    "start_time": "2024-08-18T22:28:56.708Z"
   },
   {
    "duration": 12329,
    "start_time": "2024-08-18T22:28:57.210Z"
   },
   {
    "duration": 0,
    "start_time": "2024-08-18T22:29:09.541Z"
   },
   {
    "duration": 4,
    "start_time": "2024-08-18T22:29:10.970Z"
   },
   {
    "duration": 49171,
    "start_time": "2024-08-18T22:29:16.761Z"
   },
   {
    "duration": 0,
    "start_time": "2024-08-18T22:30:05.933Z"
   },
   {
    "duration": 5,
    "start_time": "2024-08-18T22:30:06.977Z"
   },
   {
    "duration": 5,
    "start_time": "2024-08-18T22:31:08.293Z"
   },
   {
    "duration": 4,
    "start_time": "2024-08-18T22:31:17.178Z"
   },
   {
    "duration": 4,
    "start_time": "2024-08-18T22:31:30.742Z"
   },
   {
    "duration": 4,
    "start_time": "2024-08-18T22:31:35.966Z"
   },
   {
    "duration": 4,
    "start_time": "2024-08-18T22:31:55.153Z"
   },
   {
    "duration": 4,
    "start_time": "2024-08-18T22:32:02.746Z"
   },
   {
    "duration": 6,
    "start_time": "2024-08-18T22:32:10.285Z"
   },
   {
    "duration": 4,
    "start_time": "2024-08-18T22:32:15.461Z"
   },
   {
    "duration": 4,
    "start_time": "2024-08-18T22:32:18.730Z"
   },
   {
    "duration": 5,
    "start_time": "2024-08-18T22:32:30.633Z"
   },
   {
    "duration": 4,
    "start_time": "2024-08-18T22:32:49.605Z"
   },
   {
    "duration": 4,
    "start_time": "2024-08-18T22:32:54.373Z"
   },
   {
    "duration": 4,
    "start_time": "2024-08-18T22:33:08.573Z"
   },
   {
    "duration": 4,
    "start_time": "2024-08-18T22:33:21.441Z"
   },
   {
    "duration": 5,
    "start_time": "2024-08-18T22:34:21.317Z"
   },
   {
    "duration": 5,
    "start_time": "2024-08-18T22:34:33.293Z"
   },
   {
    "duration": 5,
    "start_time": "2024-08-18T22:34:44.613Z"
   },
   {
    "duration": 4,
    "start_time": "2024-08-18T22:35:42.820Z"
   },
   {
    "duration": 6,
    "start_time": "2024-08-18T22:35:46.384Z"
   },
   {
    "duration": 4,
    "start_time": "2024-08-18T22:36:03.835Z"
   },
   {
    "duration": 28,
    "start_time": "2024-08-18T22:36:54.097Z"
   },
   {
    "duration": 39,
    "start_time": "2024-08-18T22:37:15.060Z"
   },
   {
    "duration": 29,
    "start_time": "2024-08-18T22:37:56.912Z"
   },
   {
    "duration": 5,
    "start_time": "2024-08-18T22:38:25.660Z"
   },
   {
    "duration": 34,
    "start_time": "2024-08-18T22:38:50.056Z"
   },
   {
    "duration": 0,
    "start_time": "2024-08-18T22:39:15.684Z"
   },
   {
    "duration": 8,
    "start_time": "2024-08-18T22:39:16.612Z"
   },
   {
    "duration": 0,
    "start_time": "2024-08-18T22:39:39.187Z"
   },
   {
    "duration": 27,
    "start_time": "2024-08-18T22:39:39.620Z"
   },
   {
    "duration": 8,
    "start_time": "2024-08-18T22:40:30.216Z"
   },
   {
    "duration": 4,
    "start_time": "2024-08-18T22:40:53.008Z"
   },
   {
    "duration": 4,
    "start_time": "2024-08-18T22:40:59.536Z"
   },
   {
    "duration": 4,
    "start_time": "2024-08-18T22:41:04.872Z"
   },
   {
    "duration": 5,
    "start_time": "2024-08-18T22:41:40.832Z"
   },
   {
    "duration": 86,
    "start_time": "2024-08-18T22:45:34.560Z"
   },
   {
    "duration": 8,
    "start_time": "2024-08-18T22:45:34.647Z"
   },
   {
    "duration": 17,
    "start_time": "2024-08-18T22:45:34.656Z"
   },
   {
    "duration": 10,
    "start_time": "2024-08-18T22:45:34.675Z"
   },
   {
    "duration": 10,
    "start_time": "2024-08-18T22:45:34.687Z"
   },
   {
    "duration": 6,
    "start_time": "2024-08-18T22:45:34.699Z"
   },
   {
    "duration": 10,
    "start_time": "2024-08-18T22:45:34.707Z"
   },
   {
    "duration": 36,
    "start_time": "2024-08-18T22:45:34.718Z"
   },
   {
    "duration": 6,
    "start_time": "2024-08-18T22:45:34.755Z"
   },
   {
    "duration": 8,
    "start_time": "2024-08-18T22:45:34.763Z"
   },
   {
    "duration": 10,
    "start_time": "2024-08-18T22:45:34.773Z"
   },
   {
    "duration": 5,
    "start_time": "2024-08-18T22:45:34.784Z"
   },
   {
    "duration": 17,
    "start_time": "2024-08-18T22:45:34.790Z"
   },
   {
    "duration": 28,
    "start_time": "2024-08-18T22:45:34.808Z"
   },
   {
    "duration": 9,
    "start_time": "2024-08-18T22:45:34.837Z"
   },
   {
    "duration": 11,
    "start_time": "2024-08-18T22:45:34.848Z"
   },
   {
    "duration": 24,
    "start_time": "2024-08-18T22:45:34.861Z"
   },
   {
    "duration": 156,
    "start_time": "2024-08-18T22:45:34.887Z"
   },
   {
    "duration": 151,
    "start_time": "2024-08-18T22:45:35.045Z"
   },
   {
    "duration": 7,
    "start_time": "2024-08-18T22:45:35.198Z"
   },
   {
    "duration": 191,
    "start_time": "2024-08-18T22:45:35.206Z"
   },
   {
    "duration": 8,
    "start_time": "2024-08-18T22:45:35.399Z"
   },
   {
    "duration": 215,
    "start_time": "2024-08-18T22:45:35.408Z"
   },
   {
    "duration": 111,
    "start_time": "2024-08-18T22:45:35.625Z"
   },
   {
    "duration": 7,
    "start_time": "2024-08-18T22:45:35.738Z"
   },
   {
    "duration": 224,
    "start_time": "2024-08-18T22:45:35.747Z"
   },
   {
    "duration": 28,
    "start_time": "2024-08-18T22:45:35.972Z"
   },
   {
    "duration": 13,
    "start_time": "2024-08-18T22:45:36.001Z"
   },
   {
    "duration": 34,
    "start_time": "2024-08-18T22:45:36.015Z"
   },
   {
    "duration": 31,
    "start_time": "2024-08-18T22:45:36.051Z"
   },
   {
    "duration": 361,
    "start_time": "2024-08-18T22:45:36.084Z"
   },
   {
    "duration": 325,
    "start_time": "2024-08-18T22:45:36.447Z"
   },
   {
    "duration": 31,
    "start_time": "2024-08-18T22:45:36.774Z"
   },
   {
    "duration": 158,
    "start_time": "2024-08-18T22:45:36.807Z"
   },
   {
    "duration": 27,
    "start_time": "2024-08-18T22:45:36.966Z"
   },
   {
    "duration": 5,
    "start_time": "2024-08-18T22:45:36.995Z"
   },
   {
    "duration": 22,
    "start_time": "2024-08-18T22:45:37.001Z"
   },
   {
    "duration": 10,
    "start_time": "2024-08-18T22:45:37.024Z"
   },
   {
    "duration": 5,
    "start_time": "2024-08-18T22:45:37.035Z"
   },
   {
    "duration": 4,
    "start_time": "2024-08-18T22:45:37.045Z"
   },
   {
    "duration": 42,
    "start_time": "2024-08-18T22:45:37.050Z"
   },
   {
    "duration": 5,
    "start_time": "2024-08-18T22:45:37.093Z"
   },
   {
    "duration": 4,
    "start_time": "2024-08-18T22:45:42.520Z"
   },
   {
    "duration": 4,
    "start_time": "2024-08-18T22:45:52.868Z"
   },
   {
    "duration": 4,
    "start_time": "2024-08-18T22:46:02.016Z"
   },
   {
    "duration": 4,
    "start_time": "2024-08-18T22:46:05.800Z"
   },
   {
    "duration": 4,
    "start_time": "2024-08-18T22:46:12.040Z"
   },
   {
    "duration": 4,
    "start_time": "2024-08-18T22:46:17.004Z"
   },
   {
    "duration": 5,
    "start_time": "2024-08-18T22:46:22.180Z"
   },
   {
    "duration": 4,
    "start_time": "2024-08-18T22:46:28.712Z"
   },
   {
    "duration": 4,
    "start_time": "2024-08-18T22:46:33.672Z"
   },
   {
    "duration": 5,
    "start_time": "2024-08-18T22:46:44.384Z"
   },
   {
    "duration": 3674,
    "start_time": "2024-08-18T22:46:51.908Z"
   },
   {
    "duration": 2572,
    "start_time": "2024-08-18T22:46:57.696Z"
   },
   {
    "duration": 27,
    "start_time": "2024-08-18T22:47:07.081Z"
   },
   {
    "duration": 5,
    "start_time": "2024-08-18T22:47:15.472Z"
   },
   {
    "duration": 4,
    "start_time": "2024-08-18T22:50:45.740Z"
   },
   {
    "duration": 4,
    "start_time": "2024-08-18T22:50:54.524Z"
   },
   {
    "duration": 4,
    "start_time": "2024-08-18T22:51:57.116Z"
   },
   {
    "duration": 2711,
    "start_time": "2024-08-18T22:52:06.272Z"
   },
   {
    "duration": 0,
    "start_time": "2024-08-18T22:52:29.850Z"
   },
   {
    "duration": 0,
    "start_time": "2024-08-18T22:52:39.060Z"
   },
   {
    "duration": 6,
    "start_time": "2024-08-18T22:52:39.815Z"
   },
   {
    "duration": 5,
    "start_time": "2024-08-18T22:53:05.959Z"
   },
   {
    "duration": 25,
    "start_time": "2024-08-18T22:53:12.007Z"
   },
   {
    "duration": 26,
    "start_time": "2024-08-18T22:53:32.651Z"
   },
   {
    "duration": 5,
    "start_time": "2024-08-18T22:54:32.659Z"
   },
   {
    "duration": 4,
    "start_time": "2024-08-18T22:55:15.463Z"
   },
   {
    "duration": 2238,
    "start_time": "2024-08-18T22:55:26.979Z"
   },
   {
    "duration": 4,
    "start_time": "2024-08-18T22:55:31.167Z"
   },
   {
    "duration": 0,
    "start_time": "2024-08-18T22:55:43.513Z"
   },
   {
    "duration": 4,
    "start_time": "2024-08-18T22:55:45.155Z"
   },
   {
    "duration": 0,
    "start_time": "2024-08-18T22:55:57.938Z"
   },
   {
    "duration": 4,
    "start_time": "2024-08-18T22:55:58.691Z"
   },
   {
    "duration": 5,
    "start_time": "2024-08-18T22:55:59.226Z"
   },
   {
    "duration": 4,
    "start_time": "2024-08-18T22:56:11.615Z"
   },
   {
    "duration": 4,
    "start_time": "2024-08-18T22:56:31.503Z"
   },
   {
    "duration": 5,
    "start_time": "2024-08-18T22:56:39.874Z"
   },
   {
    "duration": 4,
    "start_time": "2024-08-18T22:57:29.091Z"
   },
   {
    "duration": 5053,
    "start_time": "2024-08-18T22:57:49.967Z"
   },
   {
    "duration": 5,
    "start_time": "2024-08-18T22:57:55.806Z"
   },
   {
    "duration": 4,
    "start_time": "2024-08-18T22:57:56.843Z"
   },
   {
    "duration": 5,
    "start_time": "2024-08-18T22:58:04.262Z"
   },
   {
    "duration": 4,
    "start_time": "2024-08-18T22:58:19.447Z"
   },
   {
    "duration": 4,
    "start_time": "2024-08-18T22:58:30.351Z"
   },
   {
    "duration": 3494,
    "start_time": "2024-08-18T22:58:50.542Z"
   },
   {
    "duration": 6214,
    "start_time": "2024-08-18T22:58:54.882Z"
   },
   {
    "duration": 6877,
    "start_time": "2024-08-18T22:59:01.690Z"
   },
   {
    "duration": 11795,
    "start_time": "2024-08-18T22:59:09.071Z"
   },
   {
    "duration": 4,
    "start_time": "2024-08-18T22:59:21.515Z"
   },
   {
    "duration": 4,
    "start_time": "2024-08-18T22:59:27.695Z"
   },
   {
    "duration": 4,
    "start_time": "2024-08-18T22:59:31.775Z"
   },
   {
    "duration": 5,
    "start_time": "2024-08-18T22:59:40.094Z"
   },
   {
    "duration": 4,
    "start_time": "2024-08-18T22:59:41.047Z"
   },
   {
    "duration": 0,
    "start_time": "2024-08-18T22:59:59.431Z"
   },
   {
    "duration": 5,
    "start_time": "2024-08-18T23:00:01.082Z"
   },
   {
    "duration": 1985,
    "start_time": "2024-08-18T23:00:07.650Z"
   },
   {
    "duration": 17839,
    "start_time": "2024-08-18T23:00:10.582Z"
   },
   {
    "duration": 4,
    "start_time": "2024-08-18T23:00:29.162Z"
   },
   {
    "duration": 7704,
    "start_time": "2024-08-18T23:00:38.543Z"
   },
   {
    "duration": 5,
    "start_time": "2024-08-18T23:00:46.794Z"
   },
   {
    "duration": 1169,
    "start_time": "2024-08-18T23:00:52.807Z"
   },
   {
    "duration": 10,
    "start_time": "2024-08-18T23:00:53.978Z"
   },
   {
    "duration": 14,
    "start_time": "2024-08-18T23:00:53.989Z"
   },
   {
    "duration": 11,
    "start_time": "2024-08-18T23:00:54.004Z"
   },
   {
    "duration": 40,
    "start_time": "2024-08-18T23:00:54.016Z"
   },
   {
    "duration": 6,
    "start_time": "2024-08-18T23:00:54.058Z"
   },
   {
    "duration": 13,
    "start_time": "2024-08-18T23:00:54.066Z"
   },
   {
    "duration": 13,
    "start_time": "2024-08-18T23:00:54.080Z"
   },
   {
    "duration": 11,
    "start_time": "2024-08-18T23:00:54.094Z"
   },
   {
    "duration": 6,
    "start_time": "2024-08-18T23:00:54.108Z"
   },
   {
    "duration": 55,
    "start_time": "2024-08-18T23:00:54.115Z"
   },
   {
    "duration": 8,
    "start_time": "2024-08-18T23:00:54.171Z"
   },
   {
    "duration": 11,
    "start_time": "2024-08-18T23:00:54.180Z"
   },
   {
    "duration": 14,
    "start_time": "2024-08-18T23:00:54.193Z"
   },
   {
    "duration": 7,
    "start_time": "2024-08-18T23:00:54.208Z"
   },
   {
    "duration": 4,
    "start_time": "2024-08-18T23:00:54.217Z"
   },
   {
    "duration": 6,
    "start_time": "2024-08-18T23:00:54.222Z"
   },
   {
    "duration": 176,
    "start_time": "2024-08-18T23:00:54.229Z"
   },
   {
    "duration": 147,
    "start_time": "2024-08-18T23:00:54.406Z"
   },
   {
    "duration": 7,
    "start_time": "2024-08-18T23:00:54.554Z"
   },
   {
    "duration": 189,
    "start_time": "2024-08-18T23:00:54.562Z"
   },
   {
    "duration": 7,
    "start_time": "2024-08-18T23:00:54.753Z"
   },
   {
    "duration": 212,
    "start_time": "2024-08-18T23:00:54.761Z"
   },
   {
    "duration": 110,
    "start_time": "2024-08-18T23:00:54.974Z"
   },
   {
    "duration": 8,
    "start_time": "2024-08-18T23:00:55.085Z"
   },
   {
    "duration": 211,
    "start_time": "2024-08-18T23:00:55.094Z"
   },
   {
    "duration": 22,
    "start_time": "2024-08-18T23:00:55.307Z"
   },
   {
    "duration": 11,
    "start_time": "2024-08-18T23:00:55.332Z"
   },
   {
    "duration": 19,
    "start_time": "2024-08-18T23:00:55.345Z"
   },
   {
    "duration": 14,
    "start_time": "2024-08-18T23:00:55.382Z"
   },
   {
    "duration": 354,
    "start_time": "2024-08-18T23:00:55.398Z"
   },
   {
    "duration": 395,
    "start_time": "2024-08-18T23:00:55.754Z"
   },
   {
    "duration": 33,
    "start_time": "2024-08-18T23:00:56.150Z"
   },
   {
    "duration": 45,
    "start_time": "2024-08-18T23:00:56.185Z"
   },
   {
    "duration": 17,
    "start_time": "2024-08-18T23:00:56.231Z"
   },
   {
    "duration": 5,
    "start_time": "2024-08-18T23:00:56.249Z"
   },
   {
    "duration": 27,
    "start_time": "2024-08-18T23:00:56.255Z"
   },
   {
    "duration": 11,
    "start_time": "2024-08-18T23:00:56.284Z"
   },
   {
    "duration": 4,
    "start_time": "2024-08-18T23:00:56.296Z"
   },
   {
    "duration": 6,
    "start_time": "2024-08-18T23:00:56.301Z"
   },
   {
    "duration": 24,
    "start_time": "2024-08-18T23:00:56.308Z"
   },
   {
    "duration": 4,
    "start_time": "2024-08-18T23:00:56.334Z"
   },
   {
    "duration": 5,
    "start_time": "2024-08-18T23:01:07.191Z"
   },
   {
    "duration": 3618,
    "start_time": "2024-08-18T23:01:28.995Z"
   },
   {
    "duration": 2093,
    "start_time": "2024-08-18T23:01:33.487Z"
   },
   {
    "duration": 3223,
    "start_time": "2024-08-18T23:01:39.375Z"
   },
   {
    "duration": 1142,
    "start_time": "2024-08-18T23:01:53.034Z"
   },
   {
    "duration": 11,
    "start_time": "2024-08-18T23:01:54.178Z"
   },
   {
    "duration": 42,
    "start_time": "2024-08-18T23:01:54.190Z"
   },
   {
    "duration": 15,
    "start_time": "2024-08-18T23:01:54.234Z"
   },
   {
    "duration": 10,
    "start_time": "2024-08-18T23:01:54.251Z"
   },
   {
    "duration": 7,
    "start_time": "2024-08-18T23:01:54.262Z"
   },
   {
    "duration": 9,
    "start_time": "2024-08-18T23:01:54.270Z"
   },
   {
    "duration": 16,
    "start_time": "2024-08-18T23:01:54.280Z"
   },
   {
    "duration": 4,
    "start_time": "2024-08-18T23:01:54.297Z"
   },
   {
    "duration": 8,
    "start_time": "2024-08-18T23:01:54.304Z"
   },
   {
    "duration": 17,
    "start_time": "2024-08-18T23:01:54.314Z"
   },
   {
    "duration": 4,
    "start_time": "2024-08-18T23:01:54.332Z"
   },
   {
    "duration": 7,
    "start_time": "2024-08-18T23:01:54.337Z"
   },
   {
    "duration": 7,
    "start_time": "2024-08-18T23:01:54.345Z"
   },
   {
    "duration": 6,
    "start_time": "2024-08-18T23:01:54.353Z"
   },
   {
    "duration": 22,
    "start_time": "2024-08-18T23:01:54.360Z"
   },
   {
    "duration": 4,
    "start_time": "2024-08-18T23:01:54.384Z"
   },
   {
    "duration": 173,
    "start_time": "2024-08-18T23:01:54.390Z"
   },
   {
    "duration": 157,
    "start_time": "2024-08-18T23:01:54.564Z"
   },
   {
    "duration": 6,
    "start_time": "2024-08-18T23:01:54.723Z"
   },
   {
    "duration": 192,
    "start_time": "2024-08-18T23:01:54.731Z"
   },
   {
    "duration": 9,
    "start_time": "2024-08-18T23:01:54.924Z"
   },
   {
    "duration": 217,
    "start_time": "2024-08-18T23:01:54.935Z"
   },
   {
    "duration": 109,
    "start_time": "2024-08-18T23:01:55.153Z"
   },
   {
    "duration": 8,
    "start_time": "2024-08-18T23:01:55.263Z"
   },
   {
    "duration": 204,
    "start_time": "2024-08-18T23:01:55.281Z"
   },
   {
    "duration": 21,
    "start_time": "2024-08-18T23:01:55.486Z"
   },
   {
    "duration": 11,
    "start_time": "2024-08-18T23:01:55.510Z"
   },
   {
    "duration": 14,
    "start_time": "2024-08-18T23:01:55.523Z"
   },
   {
    "duration": 13,
    "start_time": "2024-08-18T23:01:55.538Z"
   },
   {
    "duration": 377,
    "start_time": "2024-08-18T23:01:55.552Z"
   },
   {
    "duration": 390,
    "start_time": "2024-08-18T23:01:55.931Z"
   },
   {
    "duration": 25,
    "start_time": "2024-08-18T23:01:56.322Z"
   },
   {
    "duration": 63,
    "start_time": "2024-08-18T23:01:56.348Z"
   },
   {
    "duration": 18,
    "start_time": "2024-08-18T23:01:56.412Z"
   },
   {
    "duration": 5,
    "start_time": "2024-08-18T23:01:56.431Z"
   },
   {
    "duration": 5,
    "start_time": "2024-08-18T23:01:56.437Z"
   },
   {
    "duration": 7,
    "start_time": "2024-08-18T23:01:56.443Z"
   },
   {
    "duration": 4,
    "start_time": "2024-08-18T23:01:56.451Z"
   },
   {
    "duration": 4,
    "start_time": "2024-08-18T23:01:56.482Z"
   },
   {
    "duration": 27,
    "start_time": "2024-08-18T23:01:56.488Z"
   },
   {
    "duration": 5,
    "start_time": "2024-08-18T23:01:56.516Z"
   },
   {
    "duration": 1234,
    "start_time": "2024-08-18T23:02:57.753Z"
   },
   {
    "duration": 10,
    "start_time": "2024-08-18T23:02:58.988Z"
   },
   {
    "duration": 10,
    "start_time": "2024-08-18T23:02:58.999Z"
   },
   {
    "duration": 8,
    "start_time": "2024-08-18T23:02:59.011Z"
   },
   {
    "duration": 11,
    "start_time": "2024-08-18T23:02:59.020Z"
   },
   {
    "duration": 7,
    "start_time": "2024-08-18T23:02:59.032Z"
   },
   {
    "duration": 14,
    "start_time": "2024-08-18T23:02:59.041Z"
   },
   {
    "duration": 46,
    "start_time": "2024-08-18T23:02:59.057Z"
   },
   {
    "duration": 34,
    "start_time": "2024-08-18T23:02:59.104Z"
   },
   {
    "duration": 9,
    "start_time": "2024-08-18T23:02:59.140Z"
   },
   {
    "duration": 15,
    "start_time": "2024-08-18T23:02:59.151Z"
   },
   {
    "duration": 13,
    "start_time": "2024-08-18T23:02:59.168Z"
   },
   {
    "duration": 13,
    "start_time": "2024-08-18T23:02:59.182Z"
   },
   {
    "duration": 9,
    "start_time": "2024-08-18T23:02:59.197Z"
   },
   {
    "duration": 9,
    "start_time": "2024-08-18T23:02:59.207Z"
   },
   {
    "duration": 5,
    "start_time": "2024-08-18T23:02:59.218Z"
   },
   {
    "duration": 14,
    "start_time": "2024-08-18T23:02:59.225Z"
   },
   {
    "duration": 198,
    "start_time": "2024-08-18T23:02:59.240Z"
   },
   {
    "duration": 160,
    "start_time": "2024-08-18T23:02:59.440Z"
   },
   {
    "duration": 8,
    "start_time": "2024-08-18T23:02:59.602Z"
   },
   {
    "duration": 190,
    "start_time": "2024-08-18T23:02:59.612Z"
   },
   {
    "duration": 8,
    "start_time": "2024-08-18T23:02:59.803Z"
   },
   {
    "duration": 229,
    "start_time": "2024-08-18T23:02:59.813Z"
   },
   {
    "duration": 120,
    "start_time": "2024-08-18T23:03:00.043Z"
   },
   {
    "duration": 8,
    "start_time": "2024-08-18T23:03:00.164Z"
   },
   {
    "duration": 277,
    "start_time": "2024-08-18T23:03:00.182Z"
   },
   {
    "duration": 33,
    "start_time": "2024-08-18T23:03:00.460Z"
   },
   {
    "duration": 32,
    "start_time": "2024-08-18T23:03:00.496Z"
   },
   {
    "duration": 40,
    "start_time": "2024-08-18T23:03:00.529Z"
   },
   {
    "duration": 38,
    "start_time": "2024-08-18T23:03:00.571Z"
   },
   {
    "duration": 376,
    "start_time": "2024-08-18T23:03:00.610Z"
   },
   {
    "duration": 400,
    "start_time": "2024-08-18T23:03:00.987Z"
   },
   {
    "duration": 26,
    "start_time": "2024-08-18T23:03:01.388Z"
   },
   {
    "duration": 81,
    "start_time": "2024-08-18T23:03:01.416Z"
   },
   {
    "duration": 53,
    "start_time": "2024-08-18T23:03:01.498Z"
   },
   {
    "duration": 38,
    "start_time": "2024-08-18T23:03:01.552Z"
   },
   {
    "duration": 135,
    "start_time": "2024-08-18T23:03:01.591Z"
   },
   {
    "duration": 30,
    "start_time": "2024-08-18T23:03:01.728Z"
   },
   {
    "duration": 57,
    "start_time": "2024-08-18T23:03:01.759Z"
   },
   {
    "duration": 9562,
    "start_time": "2024-08-18T23:03:01.817Z"
   },
   {
    "duration": 0,
    "start_time": "2024-08-18T23:03:11.380Z"
   },
   {
    "duration": 0,
    "start_time": "2024-08-18T23:03:11.382Z"
   },
   {
    "duration": 0,
    "start_time": "2024-08-18T23:03:37.220Z"
   },
   {
    "duration": 22,
    "start_time": "2024-08-18T23:03:37.898Z"
   },
   {
    "duration": 6,
    "start_time": "2024-08-18T23:03:40.238Z"
   },
   {
    "duration": 5,
    "start_time": "2024-08-18T23:04:18.238Z"
   },
   {
    "duration": 29,
    "start_time": "2024-08-18T23:09:17.538Z"
   },
   {
    "duration": 4,
    "start_time": "2024-08-18T23:09:44.745Z"
   },
   {
    "duration": 4,
    "start_time": "2024-08-18T23:09:56.889Z"
   },
   {
    "duration": 4,
    "start_time": "2024-08-18T23:10:11.525Z"
   },
   {
    "duration": 4,
    "start_time": "2024-08-18T23:10:18.521Z"
   },
   {
    "duration": 26,
    "start_time": "2024-08-18T23:14:01.373Z"
   },
   {
    "duration": 176,
    "start_time": "2024-08-18T23:25:16.448Z"
   },
   {
    "duration": 8,
    "start_time": "2024-08-18T23:25:30.103Z"
   },
   {
    "duration": 1149,
    "start_time": "2024-08-18T23:25:38.835Z"
   },
   {
    "duration": 10,
    "start_time": "2024-08-18T23:25:39.986Z"
   },
   {
    "duration": 66,
    "start_time": "2024-08-18T23:25:39.997Z"
   },
   {
    "duration": 13,
    "start_time": "2024-08-18T23:25:40.065Z"
   },
   {
    "duration": 16,
    "start_time": "2024-08-18T23:25:40.079Z"
   },
   {
    "duration": 11,
    "start_time": "2024-08-18T23:25:40.096Z"
   },
   {
    "duration": 15,
    "start_time": "2024-08-18T23:25:40.108Z"
   },
   {
    "duration": 9,
    "start_time": "2024-08-18T23:25:40.124Z"
   },
   {
    "duration": 11,
    "start_time": "2024-08-18T23:25:40.135Z"
   },
   {
    "duration": 35,
    "start_time": "2024-08-18T23:25:40.148Z"
   },
   {
    "duration": 15,
    "start_time": "2024-08-18T23:25:40.185Z"
   },
   {
    "duration": 9,
    "start_time": "2024-08-18T23:25:40.203Z"
   },
   {
    "duration": 7,
    "start_time": "2024-08-18T23:25:40.215Z"
   },
   {
    "duration": 10,
    "start_time": "2024-08-18T23:25:40.224Z"
   },
   {
    "duration": 10,
    "start_time": "2024-08-18T23:25:40.236Z"
   },
   {
    "duration": 5,
    "start_time": "2024-08-18T23:25:40.247Z"
   },
   {
    "duration": 31,
    "start_time": "2024-08-18T23:25:40.254Z"
   },
   {
    "duration": 175,
    "start_time": "2024-08-18T23:25:40.286Z"
   },
   {
    "duration": 149,
    "start_time": "2024-08-18T23:25:40.463Z"
   },
   {
    "duration": 6,
    "start_time": "2024-08-18T23:25:40.614Z"
   },
   {
    "duration": 201,
    "start_time": "2024-08-18T23:25:40.622Z"
   },
   {
    "duration": 14,
    "start_time": "2024-08-18T23:25:40.824Z"
   },
   {
    "duration": 9,
    "start_time": "2024-08-18T23:25:40.839Z"
   },
   {
    "duration": 214,
    "start_time": "2024-08-18T23:25:40.849Z"
   },
   {
    "duration": 106,
    "start_time": "2024-08-18T23:25:41.064Z"
   },
   {
    "duration": 11,
    "start_time": "2024-08-18T23:25:41.172Z"
   },
   {
    "duration": 208,
    "start_time": "2024-08-18T23:25:41.185Z"
   },
   {
    "duration": 23,
    "start_time": "2024-08-18T23:25:41.395Z"
   },
   {
    "duration": 13,
    "start_time": "2024-08-18T23:25:41.419Z"
   },
   {
    "duration": 16,
    "start_time": "2024-08-18T23:25:41.433Z"
   },
   {
    "duration": 40,
    "start_time": "2024-08-18T23:25:41.451Z"
   },
   {
    "duration": 365,
    "start_time": "2024-08-18T23:25:41.493Z"
   },
   {
    "duration": 401,
    "start_time": "2024-08-18T23:25:41.860Z"
   },
   {
    "duration": 37,
    "start_time": "2024-08-18T23:25:42.263Z"
   },
   {
    "duration": 47,
    "start_time": "2024-08-18T23:25:42.302Z"
   },
   {
    "duration": 33,
    "start_time": "2024-08-18T23:25:42.350Z"
   },
   {
    "duration": 10,
    "start_time": "2024-08-18T23:25:42.384Z"
   },
   {
    "duration": 14,
    "start_time": "2024-08-18T23:25:42.395Z"
   },
   {
    "duration": 10,
    "start_time": "2024-08-18T23:25:42.410Z"
   },
   {
    "duration": 4,
    "start_time": "2024-08-18T23:25:42.422Z"
   },
   {
    "duration": 24,
    "start_time": "2024-08-18T23:25:42.427Z"
   },
   {
    "duration": 4,
    "start_time": "2024-08-18T23:25:42.452Z"
   },
   {
    "duration": 29,
    "start_time": "2024-08-18T23:26:21.147Z"
   },
   {
    "duration": 29,
    "start_time": "2024-08-18T23:26:30.696Z"
   },
   {
    "duration": 28,
    "start_time": "2024-08-18T23:26:44.999Z"
   },
   {
    "duration": 34,
    "start_time": "2024-08-18T23:26:56.815Z"
   },
   {
    "duration": 21,
    "start_time": "2024-08-18T23:27:06.140Z"
   },
   {
    "duration": 13,
    "start_time": "2024-08-18T23:27:14.691Z"
   },
   {
    "duration": 11,
    "start_time": "2024-08-18T23:41:11.849Z"
   },
   {
    "duration": 5,
    "start_time": "2024-08-18T23:41:23.389Z"
   },
   {
    "duration": 175,
    "start_time": "2024-08-18T23:42:27.865Z"
   },
   {
    "duration": 1181,
    "start_time": "2024-08-19T09:51:40.903Z"
   },
   {
    "duration": 11,
    "start_time": "2024-08-19T09:51:42.086Z"
   },
   {
    "duration": 40,
    "start_time": "2024-08-19T09:51:42.099Z"
   },
   {
    "duration": 12,
    "start_time": "2024-08-19T09:51:42.142Z"
   },
   {
    "duration": 11,
    "start_time": "2024-08-19T09:51:42.155Z"
   },
   {
    "duration": 15,
    "start_time": "2024-08-19T09:51:42.167Z"
   },
   {
    "duration": 14,
    "start_time": "2024-08-19T09:51:42.184Z"
   },
   {
    "duration": 8,
    "start_time": "2024-08-19T09:51:42.199Z"
   },
   {
    "duration": 9,
    "start_time": "2024-08-19T09:51:42.209Z"
   },
   {
    "duration": 9,
    "start_time": "2024-08-19T09:51:42.220Z"
   },
   {
    "duration": 15,
    "start_time": "2024-08-19T09:51:42.231Z"
   },
   {
    "duration": 5,
    "start_time": "2024-08-19T09:51:42.248Z"
   },
   {
    "duration": 9,
    "start_time": "2024-08-19T09:51:42.254Z"
   },
   {
    "duration": 6,
    "start_time": "2024-08-19T09:51:42.265Z"
   },
   {
    "duration": 7,
    "start_time": "2024-08-19T09:51:42.281Z"
   },
   {
    "duration": 4,
    "start_time": "2024-08-19T09:51:42.290Z"
   },
   {
    "duration": 7,
    "start_time": "2024-08-19T09:51:42.295Z"
   },
   {
    "duration": 183,
    "start_time": "2024-08-19T09:51:42.304Z"
   },
   {
    "duration": 153,
    "start_time": "2024-08-19T09:51:42.489Z"
   },
   {
    "duration": 7,
    "start_time": "2024-08-19T09:51:42.644Z"
   },
   {
    "duration": 185,
    "start_time": "2024-08-19T09:51:42.653Z"
   },
   {
    "duration": 7,
    "start_time": "2024-08-19T09:51:42.840Z"
   },
   {
    "duration": 205,
    "start_time": "2024-08-19T09:51:42.849Z"
   },
   {
    "duration": 110,
    "start_time": "2024-08-19T09:51:43.056Z"
   },
   {
    "duration": 17,
    "start_time": "2024-08-19T09:51:43.167Z"
   },
   {
    "duration": 217,
    "start_time": "2024-08-19T09:51:43.185Z"
   },
   {
    "duration": 23,
    "start_time": "2024-08-19T09:51:43.404Z"
   },
   {
    "duration": 12,
    "start_time": "2024-08-19T09:51:43.430Z"
   },
   {
    "duration": 16,
    "start_time": "2024-08-19T09:51:43.443Z"
   },
   {
    "duration": 33,
    "start_time": "2024-08-19T09:51:43.482Z"
   },
   {
    "duration": 389,
    "start_time": "2024-08-19T09:51:43.516Z"
   },
   {
    "duration": 401,
    "start_time": "2024-08-19T09:51:43.906Z"
   },
   {
    "duration": 26,
    "start_time": "2024-08-19T09:51:44.308Z"
   },
   {
    "duration": 64,
    "start_time": "2024-08-19T09:51:44.336Z"
   },
   {
    "duration": 16,
    "start_time": "2024-08-19T09:51:44.402Z"
   },
   {
    "duration": 5,
    "start_time": "2024-08-19T09:51:44.419Z"
   },
   {
    "duration": 6,
    "start_time": "2024-08-19T09:51:44.425Z"
   },
   {
    "duration": 7,
    "start_time": "2024-08-19T09:51:44.432Z"
   },
   {
    "duration": 4,
    "start_time": "2024-08-19T09:51:44.441Z"
   },
   {
    "duration": 51,
    "start_time": "2024-08-19T09:51:44.446Z"
   },
   {
    "duration": 5,
    "start_time": "2024-08-19T09:51:44.499Z"
   },
   {
    "duration": 31,
    "start_time": "2024-08-19T10:06:08.624Z"
   },
   {
    "duration": 27,
    "start_time": "2024-08-19T10:06:31.536Z"
   },
   {
    "duration": 1216,
    "start_time": "2024-08-19T10:08:59.883Z"
   },
   {
    "duration": 12,
    "start_time": "2024-08-19T10:09:01.101Z"
   },
   {
    "duration": 53,
    "start_time": "2024-08-19T10:09:01.114Z"
   },
   {
    "duration": 61,
    "start_time": "2024-08-19T10:09:01.169Z"
   },
   {
    "duration": 43,
    "start_time": "2024-08-19T10:09:01.231Z"
   },
   {
    "duration": 36,
    "start_time": "2024-08-19T10:09:01.276Z"
   },
   {
    "duration": 116,
    "start_time": "2024-08-19T10:09:01.314Z"
   },
   {
    "duration": 264,
    "start_time": "2024-08-19T10:09:01.431Z"
   },
   {
    "duration": 60,
    "start_time": "2024-08-19T10:09:01.696Z"
   },
   {
    "duration": 47,
    "start_time": "2024-08-19T10:09:01.759Z"
   },
   {
    "duration": 95,
    "start_time": "2024-08-19T10:09:01.808Z"
   },
   {
    "duration": 129,
    "start_time": "2024-08-19T10:09:01.905Z"
   },
   {
    "duration": 34,
    "start_time": "2024-08-19T10:09:02.035Z"
   },
   {
    "duration": 22,
    "start_time": "2024-08-19T10:09:02.070Z"
   },
   {
    "duration": 37,
    "start_time": "2024-08-19T10:09:02.093Z"
   },
   {
    "duration": 13,
    "start_time": "2024-08-19T10:09:02.131Z"
   },
   {
    "duration": 10,
    "start_time": "2024-08-19T10:09:02.145Z"
   },
   {
    "duration": 167,
    "start_time": "2024-08-19T10:09:02.156Z"
   },
   {
    "duration": 159,
    "start_time": "2024-08-19T10:09:02.325Z"
   },
   {
    "duration": 7,
    "start_time": "2024-08-19T10:09:02.486Z"
   },
   {
    "duration": 222,
    "start_time": "2024-08-19T10:09:02.495Z"
   },
   {
    "duration": 8,
    "start_time": "2024-08-19T10:09:02.719Z"
   },
   {
    "duration": 216,
    "start_time": "2024-08-19T10:09:02.728Z"
   },
   {
    "duration": 115,
    "start_time": "2024-08-19T10:09:02.945Z"
   },
   {
    "duration": 8,
    "start_time": "2024-08-19T10:09:03.062Z"
   },
   {
    "duration": 256,
    "start_time": "2024-08-19T10:09:03.071Z"
   },
   {
    "duration": 24,
    "start_time": "2024-08-19T10:09:03.329Z"
   },
   {
    "duration": 29,
    "start_time": "2024-08-19T10:09:03.356Z"
   },
   {
    "duration": 16,
    "start_time": "2024-08-19T10:09:03.387Z"
   },
   {
    "duration": 15,
    "start_time": "2024-08-19T10:09:03.404Z"
   },
   {
    "duration": 402,
    "start_time": "2024-08-19T10:09:03.421Z"
   },
   {
    "duration": 418,
    "start_time": "2024-08-19T10:09:03.825Z"
   },
   {
    "duration": 26,
    "start_time": "2024-08-19T10:09:04.244Z"
   },
   {
    "duration": 59,
    "start_time": "2024-08-19T10:09:04.272Z"
   },
   {
    "duration": 19,
    "start_time": "2024-08-19T10:09:04.332Z"
   },
   {
    "duration": 6,
    "start_time": "2024-08-19T10:09:04.352Z"
   },
   {
    "duration": 26,
    "start_time": "2024-08-19T10:09:04.359Z"
   },
   {
    "duration": 7,
    "start_time": "2024-08-19T10:09:04.386Z"
   },
   {
    "duration": 4,
    "start_time": "2024-08-19T10:09:04.395Z"
   },
   {
    "duration": 46,
    "start_time": "2024-08-19T10:09:04.400Z"
   },
   {
    "duration": 5,
    "start_time": "2024-08-19T10:09:04.447Z"
   },
   {
    "duration": 1503,
    "start_time": "2024-08-20T09:12:06.662Z"
   },
   {
    "duration": 12,
    "start_time": "2024-08-20T09:12:08.167Z"
   },
   {
    "duration": 13,
    "start_time": "2024-08-20T09:12:08.180Z"
   },
   {
    "duration": 8,
    "start_time": "2024-08-20T09:12:08.195Z"
   },
   {
    "duration": 20,
    "start_time": "2024-08-20T09:12:08.205Z"
   },
   {
    "duration": 6,
    "start_time": "2024-08-20T09:12:08.227Z"
   },
   {
    "duration": 45,
    "start_time": "2024-08-20T09:12:08.235Z"
   },
   {
    "duration": 29,
    "start_time": "2024-08-20T09:12:08.282Z"
   },
   {
    "duration": 117,
    "start_time": "2024-08-20T09:12:08.312Z"
   },
   {
    "duration": 32,
    "start_time": "2024-08-20T09:12:08.432Z"
   },
   {
    "duration": 18,
    "start_time": "2024-08-20T09:12:08.466Z"
   },
   {
    "duration": 15,
    "start_time": "2024-08-20T09:12:08.485Z"
   },
   {
    "duration": 8,
    "start_time": "2024-08-20T09:12:08.501Z"
   },
   {
    "duration": 7,
    "start_time": "2024-08-20T09:12:08.511Z"
   },
   {
    "duration": 8,
    "start_time": "2024-08-20T09:12:08.519Z"
   },
   {
    "duration": 10,
    "start_time": "2024-08-20T09:12:08.528Z"
   },
   {
    "duration": 11,
    "start_time": "2024-08-20T09:12:08.539Z"
   },
   {
    "duration": 185,
    "start_time": "2024-08-20T09:12:08.551Z"
   },
   {
    "duration": 153,
    "start_time": "2024-08-20T09:12:08.737Z"
   },
   {
    "duration": 11,
    "start_time": "2024-08-20T09:12:08.891Z"
   },
   {
    "duration": 176,
    "start_time": "2024-08-20T09:12:08.904Z"
   },
   {
    "duration": 8,
    "start_time": "2024-08-20T09:12:09.082Z"
   },
   {
    "duration": 195,
    "start_time": "2024-08-20T09:12:09.091Z"
   },
   {
    "duration": 102,
    "start_time": "2024-08-20T09:12:09.288Z"
   },
   {
    "duration": 7,
    "start_time": "2024-08-20T09:12:09.402Z"
   },
   {
    "duration": 210,
    "start_time": "2024-08-20T09:12:09.411Z"
   },
   {
    "duration": 22,
    "start_time": "2024-08-20T09:12:09.622Z"
   },
   {
    "duration": 12,
    "start_time": "2024-08-20T09:12:09.648Z"
   },
   {
    "duration": 34,
    "start_time": "2024-08-20T09:12:09.662Z"
   },
   {
    "duration": 14,
    "start_time": "2024-08-20T09:12:09.701Z"
   },
   {
    "duration": 486,
    "start_time": "2024-08-20T09:12:09.716Z"
   },
   {
    "duration": 720,
    "start_time": "2024-08-20T09:12:10.203Z"
   },
   {
    "duration": 22,
    "start_time": "2024-08-20T09:12:10.924Z"
   },
   {
    "duration": 44,
    "start_time": "2024-08-20T09:12:11.001Z"
   },
   {
    "duration": 71,
    "start_time": "2024-08-20T09:12:11.046Z"
   },
   {
    "duration": 16,
    "start_time": "2024-08-20T09:12:11.118Z"
   },
   {
    "duration": 68,
    "start_time": "2024-08-20T09:12:11.135Z"
   },
   {
    "duration": 9,
    "start_time": "2024-08-20T09:12:11.204Z"
   },
   {
    "duration": 8,
    "start_time": "2024-08-20T09:12:11.214Z"
   },
   {
    "duration": 78,
    "start_time": "2024-08-20T09:12:11.224Z"
   },
   {
    "duration": 5,
    "start_time": "2024-08-20T09:12:11.304Z"
   }
  ],
  "kernelspec": {
   "display_name": "Python 3 (ipykernel)",
   "language": "python",
   "name": "python3"
  },
  "language_info": {
   "codemirror_mode": {
    "name": "ipython",
    "version": 3
   },
   "file_extension": ".py",
   "mimetype": "text/x-python",
   "name": "python",
   "nbconvert_exporter": "python",
   "pygments_lexer": "ipython3",
   "version": "3.11.7"
  },
  "toc": {
   "base_numbering": 1,
   "nav_menu": {},
   "number_sections": true,
   "sideBar": true,
   "skip_h1_title": true,
   "title_cell": "Table of Contents",
   "title_sidebar": "Contents",
   "toc_cell": false,
   "toc_position": {
    "height": "519px",
    "left": "74px",
    "top": "111.141px",
    "width": "294px"
   },
   "toc_section_display": true,
   "toc_window_display": true
  }
 },
 "nbformat": 4,
 "nbformat_minor": 5
}
