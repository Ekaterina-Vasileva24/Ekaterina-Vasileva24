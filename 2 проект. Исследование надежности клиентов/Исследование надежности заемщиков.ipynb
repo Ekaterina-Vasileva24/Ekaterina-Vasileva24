{
 "cells": [
  {
   "cell_type": "markdown",
   "id": "829824dc",
   "metadata": {},
   "source": [
    "<div style=\"border:solid steelblue 3px; padding: 20px; border-radius: 10px\">\n",
    "\n",
    "**Екатерина, привет!** 👋\n",
    "\n",
    "Меня зовут Алексей Манелюк, я буду проверять твой проект. В Яндекс Практикуме принято общаться на \"ты\", но если некомфортно - скажи и перейдем на \"Вы\".\n",
    "\n",
    "Моя основная цель - не указать на ошибки, а поделиться опытом и помочь в освоении анализа данных.\n",
    "\n",
    "В тетрадке ты увидишь мои комментарии, пожалуйста, не удаляй, не перемещай и не изменяй их. У комментариев могут быть приписки **2**, **3** и так далее, которые соответствуют каждой версии проверки. Напомню, что у тебя **6** попыток для успешной сдачи проекта.\n",
    "\n",
    "Я буду использовать цветовую разметку:\n",
    "<p>\n",
    "<div class=\"alert-danger\" style=\"padding: 20px; border-radius: 10px\">\n",
    "<b>Комментарий ревьюера ❌</b>\n",
    "\n",
    "Так выделены критические замечания. Без их отработки я не смогу принять проект. </div>\n",
    "\n",
    "<div class=\"alert-warning\" style=\"padding: 20px; border-radius: 10px\">\n",
    "<b>  Комментарий ревьюера ⚠️</b>\n",
    "\n",
    "Так выделены небольшие замечания или полезные советы. Постарайся учесть их.</div>\n",
    "<p>\n",
    "<div class=\"alert-success\" style=\"padding: 20px; border-radius: 10px\">\n",
    "<b>Комментарий ревьюера ✔️</b>\n",
    "\n",
    "Так выделены правильные решения.</div>\n",
    "\n",
    "Предлагаю работать в диалоге: если что-то дорабатываешь или отвечаешь на мой комментарий - пиши об этом. Мне будет удобней, если ты выделишь свои комментарии:\n",
    "<p>\n",
    "<div class=\"alert-info\" style=\"padding: 20px; border-radius: 10px\">\n",
    "<b>Комментарий студента 💎</b>\n",
    "\n",
    "Здесь исправил.</div>\n",
    "\n",
    "Все это поможет мне быстрее принять твой проект."
   ]
  },
  {
   "cell_type": "markdown",
   "id": "363874d2",
   "metadata": {},
   "source": [
    "<div class=\"alert-info\" style=\"padding: 20px; border-radius: 10px\">\n",
    "<b>Комментарий студента 💎</b>\n",
    "\n",
    "Ты можешь написать свой комментарий, если скопируешь этот блок в ячейку Markdown.</div>"
   ]
  },
  {
   "cell_type": "markdown",
   "id": "386f2ae7",
   "metadata": {
    "deletable": false,
    "editable": false,
    "id": "386f2ae7"
   },
   "source": [
    "# Исследование надежности заемщиков\n"
   ]
  },
  {
   "cell_type": "markdown",
   "id": "ffe86f65",
   "metadata": {
    "deletable": false,
    "editable": false,
    "id": "ffe86f65"
   },
   "source": [
    "Во второй части проекта вы выполните шаги 3 и 4. Их вручную проверит ревьюер.\n",
    "Чтобы вам не пришлось писать код заново для шагов 1 и 2, мы добавили авторские решения в ячейки с кодом. \n",
    "\n"
   ]
  },
  {
   "cell_type": "markdown",
   "id": "26613308",
   "metadata": {
    "deletable": false,
    "editable": false,
    "id": "26613308"
   },
   "source": [
    "## Откройте таблицу и изучите общую информацию о данных"
   ]
  },
  {
   "cell_type": "markdown",
   "id": "3c9f838e",
   "metadata": {
    "deletable": false,
    "editable": false,
    "id": "3c9f838e"
   },
   "source": [
    "**Задание 1. Импортируйте библиотеку pandas. Считайте данные из csv-файла в датафрейм и сохраните в переменную `data`. Путь к файлу:**\n",
    "\n",
    "`/datasets/data.csv`"
   ]
  },
  {
   "cell_type": "code",
   "execution_count": 1,
   "id": "77a68a90",
   "metadata": {
    "deletable": false,
    "id": "77a68a90"
   },
   "outputs": [],
   "source": [
    "import pandas as pd\n",
    "\n",
    "try:\n",
    "    data = pd.read_csv('/datasets/data.csv')\n",
    "except:\n",
    "    data = pd.read_csv('https://code.s3.yandex.net/datasets/data.csv')"
   ]
  },
  {
   "cell_type": "markdown",
   "id": "45365635",
   "metadata": {
    "deletable": false,
    "editable": false,
    "id": "45365635"
   },
   "source": [
    "**Задание 2. Выведите первые 20 строчек датафрейма `data` на экран.**"
   ]
  },
  {
   "cell_type": "code",
   "execution_count": 2,
   "id": "b0451a9a",
   "metadata": {
    "deletable": false,
    "id": "b0451a9a",
    "outputId": "1a8f3ef2-d323-4ec2-ddf7-89670b5944c4"
   },
   "outputs": [
    {
     "data": {
      "text/html": [
       "<div>\n",
       "<style scoped>\n",
       "    .dataframe tbody tr th:only-of-type {\n",
       "        vertical-align: middle;\n",
       "    }\n",
       "\n",
       "    .dataframe tbody tr th {\n",
       "        vertical-align: top;\n",
       "    }\n",
       "\n",
       "    .dataframe thead th {\n",
       "        text-align: right;\n",
       "    }\n",
       "</style>\n",
       "<table border=\"1\" class=\"dataframe\">\n",
       "  <thead>\n",
       "    <tr style=\"text-align: right;\">\n",
       "      <th></th>\n",
       "      <th>children</th>\n",
       "      <th>days_employed</th>\n",
       "      <th>dob_years</th>\n",
       "      <th>education</th>\n",
       "      <th>education_id</th>\n",
       "      <th>family_status</th>\n",
       "      <th>family_status_id</th>\n",
       "      <th>gender</th>\n",
       "      <th>income_type</th>\n",
       "      <th>debt</th>\n",
       "      <th>total_income</th>\n",
       "      <th>purpose</th>\n",
       "    </tr>\n",
       "  </thead>\n",
       "  <tbody>\n",
       "    <tr>\n",
       "      <th>0</th>\n",
       "      <td>1</td>\n",
       "      <td>-8437.673028</td>\n",
       "      <td>42</td>\n",
       "      <td>высшее</td>\n",
       "      <td>0</td>\n",
       "      <td>женат / замужем</td>\n",
       "      <td>0</td>\n",
       "      <td>F</td>\n",
       "      <td>сотрудник</td>\n",
       "      <td>0</td>\n",
       "      <td>253875.639453</td>\n",
       "      <td>покупка жилья</td>\n",
       "    </tr>\n",
       "    <tr>\n",
       "      <th>1</th>\n",
       "      <td>1</td>\n",
       "      <td>-4024.803754</td>\n",
       "      <td>36</td>\n",
       "      <td>среднее</td>\n",
       "      <td>1</td>\n",
       "      <td>женат / замужем</td>\n",
       "      <td>0</td>\n",
       "      <td>F</td>\n",
       "      <td>сотрудник</td>\n",
       "      <td>0</td>\n",
       "      <td>112080.014102</td>\n",
       "      <td>приобретение автомобиля</td>\n",
       "    </tr>\n",
       "    <tr>\n",
       "      <th>2</th>\n",
       "      <td>0</td>\n",
       "      <td>-5623.422610</td>\n",
       "      <td>33</td>\n",
       "      <td>Среднее</td>\n",
       "      <td>1</td>\n",
       "      <td>женат / замужем</td>\n",
       "      <td>0</td>\n",
       "      <td>M</td>\n",
       "      <td>сотрудник</td>\n",
       "      <td>0</td>\n",
       "      <td>145885.952297</td>\n",
       "      <td>покупка жилья</td>\n",
       "    </tr>\n",
       "    <tr>\n",
       "      <th>3</th>\n",
       "      <td>3</td>\n",
       "      <td>-4124.747207</td>\n",
       "      <td>32</td>\n",
       "      <td>среднее</td>\n",
       "      <td>1</td>\n",
       "      <td>женат / замужем</td>\n",
       "      <td>0</td>\n",
       "      <td>M</td>\n",
       "      <td>сотрудник</td>\n",
       "      <td>0</td>\n",
       "      <td>267628.550329</td>\n",
       "      <td>дополнительное образование</td>\n",
       "    </tr>\n",
       "    <tr>\n",
       "      <th>4</th>\n",
       "      <td>0</td>\n",
       "      <td>340266.072047</td>\n",
       "      <td>53</td>\n",
       "      <td>среднее</td>\n",
       "      <td>1</td>\n",
       "      <td>гражданский брак</td>\n",
       "      <td>1</td>\n",
       "      <td>F</td>\n",
       "      <td>пенсионер</td>\n",
       "      <td>0</td>\n",
       "      <td>158616.077870</td>\n",
       "      <td>сыграть свадьбу</td>\n",
       "    </tr>\n",
       "    <tr>\n",
       "      <th>5</th>\n",
       "      <td>0</td>\n",
       "      <td>-926.185831</td>\n",
       "      <td>27</td>\n",
       "      <td>высшее</td>\n",
       "      <td>0</td>\n",
       "      <td>гражданский брак</td>\n",
       "      <td>1</td>\n",
       "      <td>M</td>\n",
       "      <td>компаньон</td>\n",
       "      <td>0</td>\n",
       "      <td>255763.565419</td>\n",
       "      <td>покупка жилья</td>\n",
       "    </tr>\n",
       "    <tr>\n",
       "      <th>6</th>\n",
       "      <td>0</td>\n",
       "      <td>-2879.202052</td>\n",
       "      <td>43</td>\n",
       "      <td>высшее</td>\n",
       "      <td>0</td>\n",
       "      <td>женат / замужем</td>\n",
       "      <td>0</td>\n",
       "      <td>F</td>\n",
       "      <td>компаньон</td>\n",
       "      <td>0</td>\n",
       "      <td>240525.971920</td>\n",
       "      <td>операции с жильем</td>\n",
       "    </tr>\n",
       "    <tr>\n",
       "      <th>7</th>\n",
       "      <td>0</td>\n",
       "      <td>-152.779569</td>\n",
       "      <td>50</td>\n",
       "      <td>СРЕДНЕЕ</td>\n",
       "      <td>1</td>\n",
       "      <td>женат / замужем</td>\n",
       "      <td>0</td>\n",
       "      <td>M</td>\n",
       "      <td>сотрудник</td>\n",
       "      <td>0</td>\n",
       "      <td>135823.934197</td>\n",
       "      <td>образование</td>\n",
       "    </tr>\n",
       "    <tr>\n",
       "      <th>8</th>\n",
       "      <td>2</td>\n",
       "      <td>-6929.865299</td>\n",
       "      <td>35</td>\n",
       "      <td>ВЫСШЕЕ</td>\n",
       "      <td>0</td>\n",
       "      <td>гражданский брак</td>\n",
       "      <td>1</td>\n",
       "      <td>F</td>\n",
       "      <td>сотрудник</td>\n",
       "      <td>0</td>\n",
       "      <td>95856.832424</td>\n",
       "      <td>на проведение свадьбы</td>\n",
       "    </tr>\n",
       "    <tr>\n",
       "      <th>9</th>\n",
       "      <td>0</td>\n",
       "      <td>-2188.756445</td>\n",
       "      <td>41</td>\n",
       "      <td>среднее</td>\n",
       "      <td>1</td>\n",
       "      <td>женат / замужем</td>\n",
       "      <td>0</td>\n",
       "      <td>M</td>\n",
       "      <td>сотрудник</td>\n",
       "      <td>0</td>\n",
       "      <td>144425.938277</td>\n",
       "      <td>покупка жилья для семьи</td>\n",
       "    </tr>\n",
       "    <tr>\n",
       "      <th>10</th>\n",
       "      <td>2</td>\n",
       "      <td>-4171.483647</td>\n",
       "      <td>36</td>\n",
       "      <td>высшее</td>\n",
       "      <td>0</td>\n",
       "      <td>женат / замужем</td>\n",
       "      <td>0</td>\n",
       "      <td>M</td>\n",
       "      <td>компаньон</td>\n",
       "      <td>0</td>\n",
       "      <td>113943.491460</td>\n",
       "      <td>покупка недвижимости</td>\n",
       "    </tr>\n",
       "    <tr>\n",
       "      <th>11</th>\n",
       "      <td>0</td>\n",
       "      <td>-792.701887</td>\n",
       "      <td>40</td>\n",
       "      <td>среднее</td>\n",
       "      <td>1</td>\n",
       "      <td>женат / замужем</td>\n",
       "      <td>0</td>\n",
       "      <td>F</td>\n",
       "      <td>сотрудник</td>\n",
       "      <td>0</td>\n",
       "      <td>77069.234271</td>\n",
       "      <td>покупка коммерческой недвижимости</td>\n",
       "    </tr>\n",
       "    <tr>\n",
       "      <th>12</th>\n",
       "      <td>0</td>\n",
       "      <td>NaN</td>\n",
       "      <td>65</td>\n",
       "      <td>среднее</td>\n",
       "      <td>1</td>\n",
       "      <td>гражданский брак</td>\n",
       "      <td>1</td>\n",
       "      <td>M</td>\n",
       "      <td>пенсионер</td>\n",
       "      <td>0</td>\n",
       "      <td>NaN</td>\n",
       "      <td>сыграть свадьбу</td>\n",
       "    </tr>\n",
       "    <tr>\n",
       "      <th>13</th>\n",
       "      <td>0</td>\n",
       "      <td>-1846.641941</td>\n",
       "      <td>54</td>\n",
       "      <td>неоконченное высшее</td>\n",
       "      <td>2</td>\n",
       "      <td>женат / замужем</td>\n",
       "      <td>0</td>\n",
       "      <td>F</td>\n",
       "      <td>сотрудник</td>\n",
       "      <td>0</td>\n",
       "      <td>130458.228857</td>\n",
       "      <td>приобретение автомобиля</td>\n",
       "    </tr>\n",
       "    <tr>\n",
       "      <th>14</th>\n",
       "      <td>0</td>\n",
       "      <td>-1844.956182</td>\n",
       "      <td>56</td>\n",
       "      <td>высшее</td>\n",
       "      <td>0</td>\n",
       "      <td>гражданский брак</td>\n",
       "      <td>1</td>\n",
       "      <td>F</td>\n",
       "      <td>компаньон</td>\n",
       "      <td>1</td>\n",
       "      <td>165127.911772</td>\n",
       "      <td>покупка жилой недвижимости</td>\n",
       "    </tr>\n",
       "    <tr>\n",
       "      <th>15</th>\n",
       "      <td>1</td>\n",
       "      <td>-972.364419</td>\n",
       "      <td>26</td>\n",
       "      <td>среднее</td>\n",
       "      <td>1</td>\n",
       "      <td>женат / замужем</td>\n",
       "      <td>0</td>\n",
       "      <td>F</td>\n",
       "      <td>сотрудник</td>\n",
       "      <td>0</td>\n",
       "      <td>116820.904450</td>\n",
       "      <td>строительство собственной недвижимости</td>\n",
       "    </tr>\n",
       "    <tr>\n",
       "      <th>16</th>\n",
       "      <td>0</td>\n",
       "      <td>-1719.934226</td>\n",
       "      <td>35</td>\n",
       "      <td>среднее</td>\n",
       "      <td>1</td>\n",
       "      <td>женат / замужем</td>\n",
       "      <td>0</td>\n",
       "      <td>F</td>\n",
       "      <td>сотрудник</td>\n",
       "      <td>0</td>\n",
       "      <td>289202.704229</td>\n",
       "      <td>недвижимость</td>\n",
       "    </tr>\n",
       "    <tr>\n",
       "      <th>17</th>\n",
       "      <td>0</td>\n",
       "      <td>-2369.999720</td>\n",
       "      <td>33</td>\n",
       "      <td>высшее</td>\n",
       "      <td>0</td>\n",
       "      <td>гражданский брак</td>\n",
       "      <td>1</td>\n",
       "      <td>M</td>\n",
       "      <td>сотрудник</td>\n",
       "      <td>0</td>\n",
       "      <td>90410.586745</td>\n",
       "      <td>строительство недвижимости</td>\n",
       "    </tr>\n",
       "    <tr>\n",
       "      <th>18</th>\n",
       "      <td>0</td>\n",
       "      <td>400281.136913</td>\n",
       "      <td>53</td>\n",
       "      <td>среднее</td>\n",
       "      <td>1</td>\n",
       "      <td>вдовец / вдова</td>\n",
       "      <td>2</td>\n",
       "      <td>F</td>\n",
       "      <td>пенсионер</td>\n",
       "      <td>0</td>\n",
       "      <td>56823.777243</td>\n",
       "      <td>на покупку подержанного автомобиля</td>\n",
       "    </tr>\n",
       "    <tr>\n",
       "      <th>19</th>\n",
       "      <td>0</td>\n",
       "      <td>-10038.818549</td>\n",
       "      <td>48</td>\n",
       "      <td>СРЕДНЕЕ</td>\n",
       "      <td>1</td>\n",
       "      <td>в разводе</td>\n",
       "      <td>3</td>\n",
       "      <td>F</td>\n",
       "      <td>сотрудник</td>\n",
       "      <td>0</td>\n",
       "      <td>242831.107982</td>\n",
       "      <td>на покупку своего автомобиля</td>\n",
       "    </tr>\n",
       "  </tbody>\n",
       "</table>\n",
       "</div>"
      ],
      "text/plain": [
       "    children  days_employed  dob_years            education  education_id  \\\n",
       "0          1   -8437.673028         42               высшее             0   \n",
       "1          1   -4024.803754         36              среднее             1   \n",
       "2          0   -5623.422610         33              Среднее             1   \n",
       "3          3   -4124.747207         32              среднее             1   \n",
       "4          0  340266.072047         53              среднее             1   \n",
       "5          0    -926.185831         27               высшее             0   \n",
       "6          0   -2879.202052         43               высшее             0   \n",
       "7          0    -152.779569         50              СРЕДНЕЕ             1   \n",
       "8          2   -6929.865299         35               ВЫСШЕЕ             0   \n",
       "9          0   -2188.756445         41              среднее             1   \n",
       "10         2   -4171.483647         36               высшее             0   \n",
       "11         0    -792.701887         40              среднее             1   \n",
       "12         0            NaN         65              среднее             1   \n",
       "13         0   -1846.641941         54  неоконченное высшее             2   \n",
       "14         0   -1844.956182         56               высшее             0   \n",
       "15         1    -972.364419         26              среднее             1   \n",
       "16         0   -1719.934226         35              среднее             1   \n",
       "17         0   -2369.999720         33               высшее             0   \n",
       "18         0  400281.136913         53              среднее             1   \n",
       "19         0  -10038.818549         48              СРЕДНЕЕ             1   \n",
       "\n",
       "       family_status  family_status_id gender income_type  debt  \\\n",
       "0    женат / замужем                 0      F   сотрудник     0   \n",
       "1    женат / замужем                 0      F   сотрудник     0   \n",
       "2    женат / замужем                 0      M   сотрудник     0   \n",
       "3    женат / замужем                 0      M   сотрудник     0   \n",
       "4   гражданский брак                 1      F   пенсионер     0   \n",
       "5   гражданский брак                 1      M   компаньон     0   \n",
       "6    женат / замужем                 0      F   компаньон     0   \n",
       "7    женат / замужем                 0      M   сотрудник     0   \n",
       "8   гражданский брак                 1      F   сотрудник     0   \n",
       "9    женат / замужем                 0      M   сотрудник     0   \n",
       "10   женат / замужем                 0      M   компаньон     0   \n",
       "11   женат / замужем                 0      F   сотрудник     0   \n",
       "12  гражданский брак                 1      M   пенсионер     0   \n",
       "13   женат / замужем                 0      F   сотрудник     0   \n",
       "14  гражданский брак                 1      F   компаньон     1   \n",
       "15   женат / замужем                 0      F   сотрудник     0   \n",
       "16   женат / замужем                 0      F   сотрудник     0   \n",
       "17  гражданский брак                 1      M   сотрудник     0   \n",
       "18    вдовец / вдова                 2      F   пенсионер     0   \n",
       "19         в разводе                 3      F   сотрудник     0   \n",
       "\n",
       "     total_income                                 purpose  \n",
       "0   253875.639453                           покупка жилья  \n",
       "1   112080.014102                 приобретение автомобиля  \n",
       "2   145885.952297                           покупка жилья  \n",
       "3   267628.550329              дополнительное образование  \n",
       "4   158616.077870                         сыграть свадьбу  \n",
       "5   255763.565419                           покупка жилья  \n",
       "6   240525.971920                       операции с жильем  \n",
       "7   135823.934197                             образование  \n",
       "8    95856.832424                   на проведение свадьбы  \n",
       "9   144425.938277                 покупка жилья для семьи  \n",
       "10  113943.491460                    покупка недвижимости  \n",
       "11   77069.234271       покупка коммерческой недвижимости  \n",
       "12            NaN                         сыграть свадьбу  \n",
       "13  130458.228857                 приобретение автомобиля  \n",
       "14  165127.911772              покупка жилой недвижимости  \n",
       "15  116820.904450  строительство собственной недвижимости  \n",
       "16  289202.704229                            недвижимость  \n",
       "17   90410.586745              строительство недвижимости  \n",
       "18   56823.777243      на покупку подержанного автомобиля  \n",
       "19  242831.107982            на покупку своего автомобиля  "
      ]
     },
     "execution_count": 2,
     "metadata": {},
     "output_type": "execute_result"
    }
   ],
   "source": [
    "data.head(20)"
   ]
  },
  {
   "cell_type": "markdown",
   "id": "0ed8f27f",
   "metadata": {
    "deletable": false,
    "editable": false,
    "id": "0ed8f27f"
   },
   "source": [
    "**Задание 3. Выведите основную информацию о датафрейме с помощью метода `info()`.**"
   ]
  },
  {
   "cell_type": "code",
   "execution_count": 3,
   "id": "ab3f863b",
   "metadata": {
    "deletable": false,
    "id": "ab3f863b",
    "outputId": "15376089-8dad-46c9-b520-c05248d43158"
   },
   "outputs": [
    {
     "name": "stdout",
     "output_type": "stream",
     "text": [
      "<class 'pandas.core.frame.DataFrame'>\n",
      "RangeIndex: 21525 entries, 0 to 21524\n",
      "Data columns (total 12 columns):\n",
      " #   Column            Non-Null Count  Dtype  \n",
      "---  ------            --------------  -----  \n",
      " 0   children          21525 non-null  int64  \n",
      " 1   days_employed     19351 non-null  float64\n",
      " 2   dob_years         21525 non-null  int64  \n",
      " 3   education         21525 non-null  object \n",
      " 4   education_id      21525 non-null  int64  \n",
      " 5   family_status     21525 non-null  object \n",
      " 6   family_status_id  21525 non-null  int64  \n",
      " 7   gender            21525 non-null  object \n",
      " 8   income_type       21525 non-null  object \n",
      " 9   debt              21525 non-null  int64  \n",
      " 10  total_income      19351 non-null  float64\n",
      " 11  purpose           21525 non-null  object \n",
      "dtypes: float64(2), int64(5), object(5)\n",
      "memory usage: 2.0+ MB\n"
     ]
    }
   ],
   "source": [
    "data.info()"
   ]
  },
  {
   "cell_type": "markdown",
   "id": "60e3e22d",
   "metadata": {
    "deletable": false,
    "editable": false,
    "id": "60e3e22d"
   },
   "source": [
    "## Предобработка данных"
   ]
  },
  {
   "cell_type": "markdown",
   "id": "03dc170c",
   "metadata": {
    "deletable": false,
    "editable": false,
    "id": "03dc170c"
   },
   "source": [
    "### Удаление пропусков"
   ]
  },
  {
   "cell_type": "markdown",
   "id": "a4f54eef",
   "metadata": {
    "deletable": false,
    "editable": false,
    "id": "a4f54eef"
   },
   "source": [
    "**Задание 4. Выведите количество пропущенных значений для каждого столбца. Используйте комбинацию двух методов.**"
   ]
  },
  {
   "cell_type": "code",
   "execution_count": 4,
   "id": "2dc372b2",
   "metadata": {
    "deletable": false,
    "id": "2dc372b2",
    "outputId": "81f4d817-781c-465c-ed15-91ce4446810d"
   },
   "outputs": [
    {
     "data": {
      "text/plain": [
       "children               0\n",
       "days_employed       2174\n",
       "dob_years              0\n",
       "education              0\n",
       "education_id           0\n",
       "family_status          0\n",
       "family_status_id       0\n",
       "gender                 0\n",
       "income_type            0\n",
       "debt                   0\n",
       "total_income        2174\n",
       "purpose                0\n",
       "dtype: int64"
      ]
     },
     "execution_count": 4,
     "metadata": {},
     "output_type": "execute_result"
    }
   ],
   "source": [
    "data.isna().sum()"
   ]
  },
  {
   "cell_type": "markdown",
   "id": "14f011b1",
   "metadata": {
    "deletable": false,
    "editable": false,
    "id": "14f011b1"
   },
   "source": [
    "**Задание 5. В двух столбцах есть пропущенные значения. Один из них — `days_employed`. Пропуски в этом столбце вы обработаете на следующем этапе. Другой столбец с пропущенными значениями — `total_income` — хранит данные о доходах. На сумму дохода сильнее всего влияет тип занятости, поэтому заполнить пропуски в этом столбце нужно медианным значением по каждому типу из столбца `income_type`. Например, у человека с типом занятости `сотрудник` пропуск в столбце `total_income` должен быть заполнен медианным доходом среди всех записей с тем же типом.**"
   ]
  },
  {
   "cell_type": "code",
   "execution_count": 5,
   "id": "bdabfb6e",
   "metadata": {
    "deletable": false,
    "id": "bdabfb6e"
   },
   "outputs": [],
   "source": [
    "for t in data['income_type'].unique():\n",
    "    data.loc[(data['income_type'] == t) & (data['total_income'].isna()), 'total_income'] = \\\n",
    "    data.loc[(data['income_type'] == t), 'total_income'].median()"
   ]
  },
  {
   "cell_type": "markdown",
   "id": "5be34059",
   "metadata": {
    "deletable": false,
    "editable": false,
    "id": "5be34059"
   },
   "source": [
    "### Обработка аномальных значений"
   ]
  },
  {
   "cell_type": "markdown",
   "id": "a87606cb",
   "metadata": {
    "deletable": false,
    "editable": false,
    "id": "a87606cb"
   },
   "source": [
    "**Задание 6. В данных могут встречаться артефакты (аномалии) — значения, которые не отражают действительность и появились по какой-то ошибке. таким артефактом будет отрицательное количество дней трудового стажа в столбце `days_employed`. Для реальных данных это нормально. Обработайте значения в этом столбце: замените все отрицательные значения положительными с помощью метода `abs()`.**"
   ]
  },
  {
   "cell_type": "code",
   "execution_count": 6,
   "id": "020c46cc",
   "metadata": {
    "deletable": false,
    "id": "020c46cc"
   },
   "outputs": [],
   "source": [
    "data['days_employed'] = data['days_employed'].abs()"
   ]
  },
  {
   "cell_type": "markdown",
   "id": "45538a3a",
   "metadata": {
    "deletable": false,
    "editable": false,
    "id": "45538a3a"
   },
   "source": [
    "**Задание 7. Для каждого типа занятости выведите медианное значение трудового стажа `days_employed` в днях.**"
   ]
  },
  {
   "cell_type": "code",
   "execution_count": 7,
   "id": "cd3e6328",
   "metadata": {
    "deletable": false,
    "id": "cd3e6328",
    "outputId": "801ef80e-522b-4668-f34e-565af7432bcf"
   },
   "outputs": [
    {
     "data": {
      "text/plain": [
       "income_type\n",
       "безработный        366413.652744\n",
       "в декрете            3296.759962\n",
       "госслужащий          2689.368353\n",
       "компаньон            1547.382223\n",
       "пенсионер          365213.306266\n",
       "предприниматель       520.848083\n",
       "сотрудник            1574.202821\n",
       "студент               578.751554\n",
       "Name: days_employed, dtype: float64"
      ]
     },
     "execution_count": 7,
     "metadata": {},
     "output_type": "execute_result"
    }
   ],
   "source": [
    "data.groupby('income_type')['days_employed'].agg('median')"
   ]
  },
  {
   "cell_type": "markdown",
   "id": "90c5f058",
   "metadata": {
    "deletable": false,
    "editable": false,
    "id": "90c5f058"
   },
   "source": [
    "У двух типов (безработные и пенсионеры) получатся аномально большие значения. Исправить такие значения сложно, поэтому оставьте их как есть."
   ]
  },
  {
   "cell_type": "markdown",
   "id": "9652e50d",
   "metadata": {
    "deletable": false,
    "editable": false,
    "id": "9652e50d"
   },
   "source": [
    "**Задание 8. Выведите перечень уникальных значений столбца `children`.**"
   ]
  },
  {
   "cell_type": "code",
   "execution_count": 8,
   "id": "dbb37b8e",
   "metadata": {
    "deletable": false,
    "id": "dbb37b8e",
    "outputId": "6975b15c-7f95-4697-d16d-a0c79b657b03"
   },
   "outputs": [
    {
     "data": {
      "text/plain": [
       "array([ 1,  0,  3,  2, -1,  4, 20,  5])"
      ]
     },
     "execution_count": 8,
     "metadata": {},
     "output_type": "execute_result"
    }
   ],
   "source": [
    "data['children'].unique()"
   ]
  },
  {
   "cell_type": "markdown",
   "id": "2b8b0715",
   "metadata": {
    "deletable": false,
    "editable": false,
    "id": "2b8b0715"
   },
   "source": [
    "**Задание 9. В столбце `children` есть два аномальных значения. Удалите строки, в которых встречаются такие аномальные значения из датафрейма `data`.**"
   ]
  },
  {
   "cell_type": "code",
   "execution_count": 9,
   "id": "20009df8",
   "metadata": {
    "deletable": false,
    "id": "20009df8"
   },
   "outputs": [],
   "source": [
    "data = data[(data['children'] != -1) & (data['children'] != 20)]"
   ]
  },
  {
   "cell_type": "markdown",
   "id": "8c6ac9f1",
   "metadata": {
    "deletable": false,
    "editable": false,
    "id": "8c6ac9f1"
   },
   "source": [
    "**Задание 10. Ещё раз выведите перечень уникальных значений столбца `children`, чтобы убедиться, что артефакты удалены.**"
   ]
  },
  {
   "cell_type": "code",
   "execution_count": 10,
   "id": "07337b81",
   "metadata": {
    "deletable": false,
    "id": "07337b81",
    "outputId": "b2097101-d49d-44d9-901b-32a65c9463d1"
   },
   "outputs": [
    {
     "data": {
      "text/plain": [
       "array([1, 0, 3, 2, 4, 5])"
      ]
     },
     "execution_count": 10,
     "metadata": {},
     "output_type": "execute_result"
    }
   ],
   "source": [
    "data['children'].unique()"
   ]
  },
  {
   "cell_type": "markdown",
   "id": "ee3f52d4",
   "metadata": {
    "deletable": false,
    "editable": false,
    "id": "ee3f52d4"
   },
   "source": [
    "### Удаление пропусков (продолжение)"
   ]
  },
  {
   "cell_type": "markdown",
   "id": "a700b0e4",
   "metadata": {
    "deletable": false,
    "editable": false,
    "id": "a700b0e4"
   },
   "source": [
    "**Задание 11. Заполните пропуски в столбце `days_employed` медианными значениями по каждого типа занятости `income_type`.**"
   ]
  },
  {
   "cell_type": "code",
   "execution_count": 11,
   "id": "61946b83",
   "metadata": {
    "deletable": false,
    "id": "61946b83"
   },
   "outputs": [],
   "source": [
    "for t in data['income_type'].unique():\n",
    "    data.loc[(data['income_type'] == t) & (data['days_employed'].isna()), 'days_employed'] = \\\n",
    "    data.loc[(data['income_type'] == t), 'days_employed'].median()"
   ]
  },
  {
   "cell_type": "markdown",
   "id": "550dcd9b",
   "metadata": {
    "deletable": false,
    "editable": false,
    "id": "550dcd9b"
   },
   "source": [
    "**Задание 12. Убедитесь, что все пропуски заполнены. Проверьте себя и ещё раз выведите количество пропущенных значений для каждого столбца с помощью двух методов.**"
   ]
  },
  {
   "cell_type": "code",
   "execution_count": 12,
   "id": "937c7014",
   "metadata": {
    "deletable": false,
    "id": "937c7014",
    "outputId": "8da1e4e1-358e-4e87-98c9-f261bce0a7b2"
   },
   "outputs": [
    {
     "data": {
      "text/plain": [
       "children            0\n",
       "days_employed       0\n",
       "dob_years           0\n",
       "education           0\n",
       "education_id        0\n",
       "family_status       0\n",
       "family_status_id    0\n",
       "gender              0\n",
       "income_type         0\n",
       "debt                0\n",
       "total_income        0\n",
       "purpose             0\n",
       "dtype: int64"
      ]
     },
     "execution_count": 12,
     "metadata": {},
     "output_type": "execute_result"
    }
   ],
   "source": [
    "data.isna().sum()"
   ]
  },
  {
   "cell_type": "markdown",
   "id": "d522e295",
   "metadata": {
    "deletable": false,
    "editable": false,
    "id": "d522e295"
   },
   "source": [
    "### Изменение типов данных"
   ]
  },
  {
   "cell_type": "markdown",
   "id": "c229c581",
   "metadata": {
    "deletable": false,
    "editable": false,
    "id": "c229c581"
   },
   "source": [
    "**Задание 13. Замените вещественный тип данных в столбце `total_income` на целочисленный с помощью метода `astype()`.**"
   ]
  },
  {
   "cell_type": "code",
   "execution_count": 13,
   "id": "31036462",
   "metadata": {
    "deletable": false,
    "id": "31036462"
   },
   "outputs": [],
   "source": [
    "data['total_income'] = data['total_income'].astype(int)"
   ]
  },
  {
   "cell_type": "markdown",
   "id": "b8e3d1d9",
   "metadata": {
    "deletable": false,
    "editable": false,
    "id": "b8e3d1d9"
   },
   "source": [
    "### Обработка дубликатов"
   ]
  },
  {
   "cell_type": "markdown",
   "id": "9be53c49",
   "metadata": {
    "deletable": false,
    "editable": false,
    "id": "9be53c49"
   },
   "source": [
    "**Задание 14. Обработайте неявные дубликаты в столбце `education`. В этом столбце есть одни и те же значения, но записанные по-разному: с использованием заглавных и строчных букв. Приведите их к нижнему регистру.**"
   ]
  },
  {
   "cell_type": "code",
   "execution_count": 14,
   "id": "d89e73e1",
   "metadata": {
    "deletable": false,
    "id": "d89e73e1"
   },
   "outputs": [],
   "source": [
    "data['education'] = data['education'].str.lower()"
   ]
  },
  {
   "cell_type": "markdown",
   "id": "01d4500e",
   "metadata": {
    "deletable": false,
    "editable": false,
    "id": "01d4500e"
   },
   "source": [
    "**Задание 15. Выведите на экран количество строк-дубликатов в данных. Если такие строки присутствуют, удалите их.**"
   ]
  },
  {
   "cell_type": "code",
   "execution_count": 15,
   "id": "e10efb23",
   "metadata": {
    "deletable": false,
    "id": "e10efb23",
    "outputId": "9684deba-1934-42d1-99e1-cda61740f822"
   },
   "outputs": [
    {
     "data": {
      "text/plain": [
       "71"
      ]
     },
     "execution_count": 15,
     "metadata": {},
     "output_type": "execute_result"
    }
   ],
   "source": [
    "data.duplicated().sum()"
   ]
  },
  {
   "cell_type": "code",
   "execution_count": 16,
   "id": "df853f20",
   "metadata": {
    "deletable": false,
    "id": "df853f20"
   },
   "outputs": [],
   "source": [
    "data = data.drop_duplicates()"
   ]
  },
  {
   "cell_type": "markdown",
   "id": "627be38f",
   "metadata": {
    "deletable": false,
    "editable": false,
    "id": "627be38f"
   },
   "source": [
    "### Категоризация данных"
   ]
  },
  {
   "cell_type": "markdown",
   "id": "4684c3e0",
   "metadata": {
    "deletable": false,
    "editable": false,
    "id": "4684c3e0"
   },
   "source": [
    "**Задание 16. На основании диапазонов, указанных ниже, создайте в датафрейме `data` столбец `total_income_category` с категориями:**\n",
    "\n",
    "- 0–30000 — `'E'`;\n",
    "- 30001–50000 — `'D'`;\n",
    "- 50001–200000 — `'C'`;\n",
    "- 200001–1000000 — `'B'`;\n",
    "- 1000001 и выше — `'A'`.\n",
    "\n",
    "\n",
    "**Например, кредитополучателю с доходом 25000 нужно назначить категорию `'E'`, а клиенту, получающему 235000, — `'B'`. Используйте собственную функцию с именем `categorize_income()` и метод `apply()`.**"
   ]
  },
  {
   "cell_type": "code",
   "execution_count": 17,
   "id": "78965238",
   "metadata": {
    "deletable": false,
    "id": "78965238"
   },
   "outputs": [],
   "source": [
    "def categorize_income(income):\n",
    "    try:\n",
    "        if 0 <= income <= 30000:\n",
    "            return 'E'\n",
    "        elif 30001 <= income <= 50000:\n",
    "            return 'D'\n",
    "        elif 50001 <= income <= 200000:\n",
    "            return 'C'\n",
    "        elif 200001 <= income <= 1000000:\n",
    "            return 'B'\n",
    "        elif income >= 1000001:\n",
    "            return 'A'\n",
    "    except:\n",
    "        pass"
   ]
  },
  {
   "cell_type": "code",
   "execution_count": 18,
   "id": "0980ada1",
   "metadata": {
    "deletable": false,
    "id": "0980ada1"
   },
   "outputs": [],
   "source": [
    "data['total_income_category'] = data['total_income'].apply(categorize_income)"
   ]
  },
  {
   "cell_type": "markdown",
   "id": "9917bba0",
   "metadata": {
    "deletable": false,
    "editable": false,
    "id": "9917bba0"
   },
   "source": [
    "**Задание 17. Выведите на экран перечень уникальных целей взятия кредита из столбца `purpose`.**"
   ]
  },
  {
   "cell_type": "code",
   "execution_count": 19,
   "id": "ee07b65e",
   "metadata": {
    "deletable": false,
    "id": "ee07b65e",
    "outputId": "673c12d9-7d7e-4ae0-9812-c622c89dd244"
   },
   "outputs": [
    {
     "data": {
      "text/plain": [
       "array(['покупка жилья', 'приобретение автомобиля',\n",
       "       'дополнительное образование', 'сыграть свадьбу',\n",
       "       'операции с жильем', 'образование', 'на проведение свадьбы',\n",
       "       'покупка жилья для семьи', 'покупка недвижимости',\n",
       "       'покупка коммерческой недвижимости', 'покупка жилой недвижимости',\n",
       "       'строительство собственной недвижимости', 'недвижимость',\n",
       "       'строительство недвижимости', 'на покупку подержанного автомобиля',\n",
       "       'на покупку своего автомобиля',\n",
       "       'операции с коммерческой недвижимостью',\n",
       "       'строительство жилой недвижимости', 'жилье',\n",
       "       'операции со своей недвижимостью', 'автомобили',\n",
       "       'заняться образованием', 'сделка с подержанным автомобилем',\n",
       "       'получение образования', 'автомобиль', 'свадьба',\n",
       "       'получение дополнительного образования', 'покупка своего жилья',\n",
       "       'операции с недвижимостью', 'получение высшего образования',\n",
       "       'свой автомобиль', 'сделка с автомобилем',\n",
       "       'профильное образование', 'высшее образование',\n",
       "       'покупка жилья для сдачи', 'на покупку автомобиля', 'ремонт жилью',\n",
       "       'заняться высшим образованием'], dtype=object)"
      ]
     },
     "execution_count": 19,
     "metadata": {},
     "output_type": "execute_result"
    }
   ],
   "source": [
    "data['purpose'].unique()"
   ]
  },
  {
   "cell_type": "markdown",
   "id": "52b79d56",
   "metadata": {
    "deletable": false,
    "editable": false,
    "id": "52b79d56"
   },
   "source": [
    "**Задание 18. Создайте функцию, которая на основании данных из столбца `purpose` сформирует новый столбец `purpose_category`, в который войдут следующие категории:**\n",
    "\n",
    "- `'операции с автомобилем'`,\n",
    "- `'операции с недвижимостью'`,\n",
    "- `'проведение свадьбы'`,\n",
    "- `'получение образования'`.\n",
    "\n",
    "**Например, если в столбце `purpose` находится подстрока `'на покупку автомобиля'`, то в столбце `purpose_category` должна появиться строка `'операции с автомобилем'`.**\n",
    "\n",
    "**Используйте собственную функцию с именем `categorize_purpose()` и метод `apply()`. Изучите данные в столбце `purpose` и определите, какие подстроки помогут вам правильно определить категорию.**"
   ]
  },
  {
   "cell_type": "code",
   "execution_count": 20,
   "id": "be41da5d",
   "metadata": {
    "deletable": false,
    "id": "be41da5d"
   },
   "outputs": [],
   "source": [
    "def categorize_purpose(row):\n",
    "    try:\n",
    "        if 'автом' in row:\n",
    "            return 'операции с автомобилем'\n",
    "        elif 'жил' in row or 'недвиж' in row:\n",
    "            return 'операции с недвижимостью'\n",
    "        elif 'свад' in row:\n",
    "            return 'проведение свадьбы'\n",
    "        elif 'образов' in row:\n",
    "            return 'получение образования'\n",
    "    except:\n",
    "        return 'нет категории'"
   ]
  },
  {
   "cell_type": "code",
   "execution_count": 21,
   "id": "94c4a19a",
   "metadata": {
    "deletable": false,
    "id": "94c4a19a"
   },
   "outputs": [],
   "source": [
    "data['purpose_category'] = data['purpose'].apply(categorize_purpose)"
   ]
  },
  {
   "cell_type": "markdown",
   "id": "3d596c34",
   "metadata": {
    "deletable": false,
    "editable": false,
    "id": "3d596c34"
   },
   "source": [
    "### Шаг 3. Исследуйте данные и ответьте на вопросы"
   ]
  },
  {
   "cell_type": "markdown",
   "id": "648db036",
   "metadata": {
    "deletable": false,
    "editable": false,
    "id": "648db036"
   },
   "source": [
    "#### 3.1 Есть ли зависимость между количеством детей и возвратом кредита в срок?"
   ]
  },
  {
   "cell_type": "markdown",
   "id": "7e937652",
   "metadata": {},
   "source": [
    "Создадим функцию для вывода сводных таблиц:"
   ]
  },
  {
   "cell_type": "code",
   "execution_count": 22,
   "id": "19836e24",
   "metadata": {},
   "outputs": [],
   "source": [
    "def dependence(row):\n",
    "    result = data.groupby(row)['debt'].agg(['count', 'sum', 'mean']).sort_values(by='count', ascending=False)\n",
    "    result['mean'] = result ['mean'].apply(lambda x: \"%.2f%%\" % (x * 100))\n",
    "    return result"
   ]
  },
  {
   "cell_type": "code",
   "execution_count": 23,
   "id": "7fcff25e",
   "metadata": {
    "deletable": false,
    "id": "7fcff25e",
    "scrolled": true
   },
   "outputs": [
    {
     "data": {
      "text/html": [
       "<div>\n",
       "<style scoped>\n",
       "    .dataframe tbody tr th:only-of-type {\n",
       "        vertical-align: middle;\n",
       "    }\n",
       "\n",
       "    .dataframe tbody tr th {\n",
       "        vertical-align: top;\n",
       "    }\n",
       "\n",
       "    .dataframe thead th {\n",
       "        text-align: right;\n",
       "    }\n",
       "</style>\n",
       "<table border=\"1\" class=\"dataframe\">\n",
       "  <thead>\n",
       "    <tr style=\"text-align: right;\">\n",
       "      <th></th>\n",
       "      <th>count</th>\n",
       "      <th>sum</th>\n",
       "      <th>mean</th>\n",
       "    </tr>\n",
       "    <tr>\n",
       "      <th>children</th>\n",
       "      <th></th>\n",
       "      <th></th>\n",
       "      <th></th>\n",
       "    </tr>\n",
       "  </thead>\n",
       "  <tbody>\n",
       "    <tr>\n",
       "      <th>0</th>\n",
       "      <td>14091</td>\n",
       "      <td>1063</td>\n",
       "      <td>7.54%</td>\n",
       "    </tr>\n",
       "    <tr>\n",
       "      <th>1</th>\n",
       "      <td>4808</td>\n",
       "      <td>444</td>\n",
       "      <td>9.23%</td>\n",
       "    </tr>\n",
       "    <tr>\n",
       "      <th>2</th>\n",
       "      <td>2052</td>\n",
       "      <td>194</td>\n",
       "      <td>9.45%</td>\n",
       "    </tr>\n",
       "    <tr>\n",
       "      <th>3</th>\n",
       "      <td>330</td>\n",
       "      <td>27</td>\n",
       "      <td>8.18%</td>\n",
       "    </tr>\n",
       "    <tr>\n",
       "      <th>4</th>\n",
       "      <td>41</td>\n",
       "      <td>4</td>\n",
       "      <td>9.76%</td>\n",
       "    </tr>\n",
       "    <tr>\n",
       "      <th>5</th>\n",
       "      <td>9</td>\n",
       "      <td>0</td>\n",
       "      <td>0.00%</td>\n",
       "    </tr>\n",
       "  </tbody>\n",
       "</table>\n",
       "</div>"
      ],
      "text/plain": [
       "          count   sum   mean\n",
       "children                    \n",
       "0         14091  1063  7.54%\n",
       "1          4808   444  9.23%\n",
       "2          2052   194  9.45%\n",
       "3           330    27  8.18%\n",
       "4            41     4  9.76%\n",
       "5             9     0  0.00%"
      ]
     },
     "execution_count": 23,
     "metadata": {},
     "output_type": "execute_result"
    }
   ],
   "source": [
    "dependence('children')"
   ]
  },
  {
   "cell_type": "markdown",
   "id": "e1df5a04",
   "metadata": {},
   "source": [
    "<div class=\"alert-success\" style=\"padding: 20px; border-radius: 10px\">\n",
    "<b>Комментарий ревьюера ✔️</b>\n",
    "\n",
    "Отличный способ вывода сводной таблицы! 🔥</div>"
   ]
  },
  {
   "cell_type": "markdown",
   "id": "2eb9088e",
   "metadata": {
    "deletable": false,
    "id": "2eb9088e"
   },
   "source": [
    "**Вывод:** Исходя из вышеизложенного можно сделать вывод, что заемщики без детей выплачивают кредит исправнее. У семей с 1-м и 2-мя детьми процент просрочек выше, вероятно это связано с дополнительной финансовой нагрузкой. А вот данных о многодетных заемщиках недостаточно, их учитывать нецелесообразно."
   ]
  },
  {
   "cell_type": "markdown",
   "id": "d8a25d7a",
   "metadata": {},
   "source": [
    "<div class=\"alert-warning\" style=\"padding: 20px; border-radius: 10px\">\n",
    "<b>Комментарий ревьюера ⚠️</b>\n",
    "\n",
    "Ты правильно обратила внимание на то, что выборки несбалансированы. Поэтому выявлять зависимость стоит, сравнивая доли должников в самых больших, сопоставимых по размеру категориях заемщиков. Как можно сформулировать зависимость, сравнив категории с 0, 1 и 2 детьми?</div>"
   ]
  },
  {
   "cell_type": "markdown",
   "id": "59b7bc0e",
   "metadata": {},
   "source": [
    "<div class=\"alert-info\" style=\"padding: 20px; border-radius: 10px\">\n",
    "<b>Комментарий студента 💎</b>\n",
    "\n",
    "Добавила функцию для вывода таблиц и переписала вывод.</div>"
   ]
  },
  {
   "cell_type": "markdown",
   "id": "314fc167",
   "metadata": {},
   "source": [
    "<div class=\"alert-success\" style=\"border-radius: 10px; padding: 20px\">\n",
    "<b>Комментарий ревьюера 2 ✔️</b>\n",
    "\n",
    "Если сравнить только самые многочисленные выборки с 0, 1 и 2 детьми, можно сделать вывод, что чем больше у заемщика детей, тем выше риск допустить просрочку."
   ]
  },
  {
   "cell_type": "markdown",
   "id": "74c9b3a7",
   "metadata": {
    "deletable": false,
    "editable": false,
    "id": "74c9b3a7"
   },
   "source": [
    "#### 3.2 Есть ли зависимость между семейным положением и возвратом кредита в срок?"
   ]
  },
  {
   "cell_type": "code",
   "execution_count": 24,
   "id": "8098ab3b",
   "metadata": {
    "deletable": false,
    "id": "8098ab3b",
    "scrolled": true
   },
   "outputs": [
    {
     "data": {
      "text/html": [
       "<div>\n",
       "<style scoped>\n",
       "    .dataframe tbody tr th:only-of-type {\n",
       "        vertical-align: middle;\n",
       "    }\n",
       "\n",
       "    .dataframe tbody tr th {\n",
       "        vertical-align: top;\n",
       "    }\n",
       "\n",
       "    .dataframe thead th {\n",
       "        text-align: right;\n",
       "    }\n",
       "</style>\n",
       "<table border=\"1\" class=\"dataframe\">\n",
       "  <thead>\n",
       "    <tr style=\"text-align: right;\">\n",
       "      <th></th>\n",
       "      <th>count</th>\n",
       "      <th>sum</th>\n",
       "      <th>mean</th>\n",
       "    </tr>\n",
       "    <tr>\n",
       "      <th>family_status</th>\n",
       "      <th></th>\n",
       "      <th></th>\n",
       "      <th></th>\n",
       "    </tr>\n",
       "  </thead>\n",
       "  <tbody>\n",
       "    <tr>\n",
       "      <th>женат / замужем</th>\n",
       "      <td>12261</td>\n",
       "      <td>927</td>\n",
       "      <td>7.56%</td>\n",
       "    </tr>\n",
       "    <tr>\n",
       "      <th>гражданский брак</th>\n",
       "      <td>4134</td>\n",
       "      <td>385</td>\n",
       "      <td>9.31%</td>\n",
       "    </tr>\n",
       "    <tr>\n",
       "      <th>Не женат / не замужем</th>\n",
       "      <td>2796</td>\n",
       "      <td>273</td>\n",
       "      <td>9.76%</td>\n",
       "    </tr>\n",
       "    <tr>\n",
       "      <th>в разводе</th>\n",
       "      <td>1189</td>\n",
       "      <td>84</td>\n",
       "      <td>7.06%</td>\n",
       "    </tr>\n",
       "    <tr>\n",
       "      <th>вдовец / вдова</th>\n",
       "      <td>951</td>\n",
       "      <td>63</td>\n",
       "      <td>6.62%</td>\n",
       "    </tr>\n",
       "  </tbody>\n",
       "</table>\n",
       "</div>"
      ],
      "text/plain": [
       "                       count  sum   mean\n",
       "family_status                           \n",
       "женат / замужем        12261  927  7.56%\n",
       "гражданский брак        4134  385  9.31%\n",
       "Не женат / не замужем   2796  273  9.76%\n",
       "в разводе               1189   84  7.06%\n",
       "вдовец / вдова           951   63  6.62%"
      ]
     },
     "execution_count": 24,
     "metadata": {},
     "output_type": "execute_result"
    }
   ],
   "source": [
    "dependence('family_status')"
   ]
  },
  {
   "cell_type": "markdown",
   "id": "c389ca63",
   "metadata": {
    "deletable": false,
    "id": "c389ca63"
   },
   "source": [
    "**Вывод:** Заемщики, у которых есть или был официальный брак, более ответственны к выплатам по кредиту."
   ]
  },
  {
   "cell_type": "markdown",
   "id": "aa9f19c2",
   "metadata": {},
   "source": [
    "<div class=\"alert-success\" style=\"padding: 20px; border-radius: 10px\">\n",
    "<b>Комментарий ревьюера ✔️</b>\n",
    "\n",
    "Согласен."
   ]
  },
  {
   "cell_type": "markdown",
   "id": "9529de68",
   "metadata": {
    "deletable": false,
    "editable": false,
    "id": "9529de68"
   },
   "source": [
    "#### 3.3 Есть ли зависимость между уровнем дохода и возвратом кредита в срок?"
   ]
  },
  {
   "cell_type": "code",
   "execution_count": 25,
   "id": "8787f44a",
   "metadata": {
    "deletable": false,
    "id": "8787f44a"
   },
   "outputs": [],
   "source": [
    "data['total_income_category'] = data['total_income_category'].map({'E':'E_0_30тыс','D':\"D_30_50тыс\",'C':'C_50_200тыс', 'B':'B_200_1млн', 'A':'A_1млн' })"
   ]
  },
  {
   "cell_type": "code",
   "execution_count": 26,
   "id": "a7f12b79",
   "metadata": {},
   "outputs": [
    {
     "data": {
      "text/html": [
       "<div>\n",
       "<style scoped>\n",
       "    .dataframe tbody tr th:only-of-type {\n",
       "        vertical-align: middle;\n",
       "    }\n",
       "\n",
       "    .dataframe tbody tr th {\n",
       "        vertical-align: top;\n",
       "    }\n",
       "\n",
       "    .dataframe thead th {\n",
       "        text-align: right;\n",
       "    }\n",
       "</style>\n",
       "<table border=\"1\" class=\"dataframe\">\n",
       "  <thead>\n",
       "    <tr style=\"text-align: right;\">\n",
       "      <th></th>\n",
       "      <th>count</th>\n",
       "      <th>sum</th>\n",
       "      <th>mean</th>\n",
       "    </tr>\n",
       "    <tr>\n",
       "      <th>total_income_category</th>\n",
       "      <th></th>\n",
       "      <th></th>\n",
       "      <th></th>\n",
       "    </tr>\n",
       "  </thead>\n",
       "  <tbody>\n",
       "    <tr>\n",
       "      <th>C_50_200тыс</th>\n",
       "      <td>15921</td>\n",
       "      <td>1353</td>\n",
       "      <td>8.50%</td>\n",
       "    </tr>\n",
       "    <tr>\n",
       "      <th>B_200_1млн</th>\n",
       "      <td>5014</td>\n",
       "      <td>354</td>\n",
       "      <td>7.06%</td>\n",
       "    </tr>\n",
       "    <tr>\n",
       "      <th>D_30_50тыс</th>\n",
       "      <td>349</td>\n",
       "      <td>21</td>\n",
       "      <td>6.02%</td>\n",
       "    </tr>\n",
       "    <tr>\n",
       "      <th>A_1млн</th>\n",
       "      <td>25</td>\n",
       "      <td>2</td>\n",
       "      <td>8.00%</td>\n",
       "    </tr>\n",
       "    <tr>\n",
       "      <th>E_0_30тыс</th>\n",
       "      <td>22</td>\n",
       "      <td>2</td>\n",
       "      <td>9.09%</td>\n",
       "    </tr>\n",
       "  </tbody>\n",
       "</table>\n",
       "</div>"
      ],
      "text/plain": [
       "                       count   sum   mean\n",
       "total_income_category                    \n",
       "C_50_200тыс            15921  1353  8.50%\n",
       "B_200_1млн              5014   354  7.06%\n",
       "D_30_50тыс               349    21  6.02%\n",
       "A_1млн                    25     2  8.00%\n",
       "E_0_30тыс                 22     2  9.09%"
      ]
     },
     "execution_count": 26,
     "metadata": {},
     "output_type": "execute_result"
    }
   ],
   "source": [
    "dependence('total_income_category')"
   ]
  },
  {
   "cell_type": "markdown",
   "id": "6dd14b57",
   "metadata": {
    "deletable": false,
    "id": "6dd14b57"
   },
   "source": [
    "**Вывод:** Данных для анализа достаточно у категорий В и С, сравним эти 2 категории. Заемщики с доходом от 200 тысяч показали хороший результат к выплатам в срок. На 2-м месте заемщики с доходом 50-200 тысяч, эта категория клиентов чаще остальных берет кредиты, вероятно, в виду отсутствия финансового резерва."
   ]
  },
  {
   "cell_type": "markdown",
   "id": "2375de7d",
   "metadata": {},
   "source": [
    "<div class=\"alert-warning\" style=\"padding: 20px; border-radius: 10px\">\n",
    "<b>Комментарий ревьюера ⚠️</b>\n",
    "\n",
    "Как можно сформулировать зависимость, если сравнить только две самые многочисленные выборки B и C?</div>"
   ]
  },
  {
   "cell_type": "markdown",
   "id": "539eb22f",
   "metadata": {},
   "source": [
    "<div class=\"alert-info\" style=\"padding: 20px; border-radius: 10px\">\n",
    "<b>Комментарий студента 💎</b>\n",
    "\n",
    "Переписала вывод.</div>"
   ]
  },
  {
   "cell_type": "markdown",
   "id": "8198c221",
   "metadata": {},
   "source": [
    "<div class=\"alert-warning\" style=\"border-radius: 10px; padding: 20px\">\n",
    "<b>Комментарий ревьюера 2 ⚠️</b>\n",
    "\n",
    "Если сравнить только две самые большие категории C (50 - 200) и B (200 - 1 млн), выходит что заемщики с более высоким доходом являются более надежными.\n",
    "\n",
    "Также в качестве рекомендации можно предложить банку изменить градацию дохода, чтобы получить более сбалансированные выборки.</div>"
   ]
  },
  {
   "cell_type": "markdown",
   "id": "1dcc9b12",
   "metadata": {
    "deletable": false,
    "editable": false,
    "id": "1dcc9b12"
   },
   "source": [
    "#### 3.4 Как разные цели кредита влияют на его возврат в срок?"
   ]
  },
  {
   "cell_type": "code",
   "execution_count": 27,
   "id": "c602bc8b",
   "metadata": {
    "deletable": false,
    "id": "c602bc8b"
   },
   "outputs": [
    {
     "data": {
      "text/html": [
       "<div>\n",
       "<style scoped>\n",
       "    .dataframe tbody tr th:only-of-type {\n",
       "        vertical-align: middle;\n",
       "    }\n",
       "\n",
       "    .dataframe tbody tr th {\n",
       "        vertical-align: top;\n",
       "    }\n",
       "\n",
       "    .dataframe thead th {\n",
       "        text-align: right;\n",
       "    }\n",
       "</style>\n",
       "<table border=\"1\" class=\"dataframe\">\n",
       "  <thead>\n",
       "    <tr style=\"text-align: right;\">\n",
       "      <th></th>\n",
       "      <th>count</th>\n",
       "      <th>sum</th>\n",
       "      <th>mean</th>\n",
       "    </tr>\n",
       "    <tr>\n",
       "      <th>purpose_category</th>\n",
       "      <th></th>\n",
       "      <th></th>\n",
       "      <th></th>\n",
       "    </tr>\n",
       "  </thead>\n",
       "  <tbody>\n",
       "    <tr>\n",
       "      <th>операции с недвижимостью</th>\n",
       "      <td>10751</td>\n",
       "      <td>780</td>\n",
       "      <td>7.26%</td>\n",
       "    </tr>\n",
       "    <tr>\n",
       "      <th>операции с автомобилем</th>\n",
       "      <td>4279</td>\n",
       "      <td>400</td>\n",
       "      <td>9.35%</td>\n",
       "    </tr>\n",
       "    <tr>\n",
       "      <th>получение образования</th>\n",
       "      <td>3988</td>\n",
       "      <td>369</td>\n",
       "      <td>9.25%</td>\n",
       "    </tr>\n",
       "    <tr>\n",
       "      <th>проведение свадьбы</th>\n",
       "      <td>2313</td>\n",
       "      <td>183</td>\n",
       "      <td>7.91%</td>\n",
       "    </tr>\n",
       "  </tbody>\n",
       "</table>\n",
       "</div>"
      ],
      "text/plain": [
       "                          count  sum   mean\n",
       "purpose_category                           \n",
       "операции с недвижимостью  10751  780  7.26%\n",
       "операции с автомобилем     4279  400  9.35%\n",
       "получение образования      3988  369  9.25%\n",
       "проведение свадьбы         2313  183  7.91%"
      ]
     },
     "execution_count": 27,
     "metadata": {},
     "output_type": "execute_result"
    }
   ],
   "source": [
    "dependence('purpose_category')"
   ]
  },
  {
   "cell_type": "markdown",
   "id": "cf05ed63",
   "metadata": {
    "deletable": false,
    "id": "cf05ed63"
   },
   "source": [
    "**Вывод:** Заемщики категории \"операции с недвижимостью\" занимают лидирующую позицию по количеству и по выплатам в срок."
   ]
  },
  {
   "cell_type": "markdown",
   "id": "28909e76",
   "metadata": {},
   "source": [
    "<div class=\"alert-success\" style=\"padding: 20px; border-radius: 10px\">\n",
    "<b>Комментарий ревьюера ✔️</b>\n",
    "\n",
    "Правильно, а проблемными выглядят автокредиты и кредиты на образование. </div>"
   ]
  },
  {
   "cell_type": "markdown",
   "id": "46c1f10b",
   "metadata": {
    "deletable": false,
    "editable": false,
    "id": "46c1f10b"
   },
   "source": [
    "#### 3.5 Приведите возможные причины появления пропусков в исходных данных."
   ]
  },
  {
   "cell_type": "markdown",
   "id": "3697d2a9",
   "metadata": {
    "deletable": false,
    "id": "3697d2a9"
   },
   "source": [
    "*Ответ:* Пропуски были обнаружены в данных о стаже и доходах. Причинами появления пропусков может быть ошибка при вводе данных, сбой в работе БД."
   ]
  },
  {
   "cell_type": "markdown",
   "id": "4389f848",
   "metadata": {},
   "source": [
    "<div class=\"alert-success\" style=\"padding: 20px; border-radius: 10px\">\n",
    "<b>Комментарий ревьюера ✔️</b>\n",
    "\n",
    "Да, по причине возникновения ошибки в данных делятся на две группы:\n",
    "- Вызванные человеческим фактором. Кто-то не ввел нужную информацию.\n",
    "- Технические. Возникают во время копирования, считывания или записи данных, изменения формата файла, выгрузки или интеграции из сторонней БД."
   ]
  },
  {
   "cell_type": "markdown",
   "id": "3137d257",
   "metadata": {
    "deletable": false,
    "editable": false,
    "id": "3137d257"
   },
   "source": [
    "#### 3.6 Объясните, почему заполнить пропуски медианным значением — лучшее решение для количественных переменных."
   ]
  },
  {
   "cell_type": "markdown",
   "id": "cf40012a",
   "metadata": {
    "deletable": false,
    "id": "cf40012a"
   },
   "source": [
    "*Ответ:* Медианное значение более устойчиво к выбросам и аномальным значениям. \n",
    "К примеру, сравним среднее значение и медианное столбца 'days_employed', показатели сильно отличаются, в столбце присутствуют аномальные значения. Таким образом, с помощью медианы можно получить более точные данные и правильнее интерпретировать статистику."
   ]
  },
  {
   "cell_type": "code",
   "execution_count": 28,
   "id": "c4cce5cc",
   "metadata": {},
   "outputs": [
    {
     "name": "stdout",
     "output_type": "stream",
     "text": [
      "Среднее значение общего трудового стажа в днях = 67148.97213258488\n",
      "Медианное значение общего трудового стажа в днях = 1996.732855437927\n"
     ]
    }
   ],
   "source": [
    "print ('Среднее значение общего трудового стажа в днях =', data['days_employed'].mean())\n",
    "print ('Медианное значение общего трудового стажа в днях =', data['days_employed'].median())"
   ]
  },
  {
   "cell_type": "markdown",
   "id": "828db0d3",
   "metadata": {},
   "source": [
    "<div class=\"alert-success\" style=\"padding: 20px; border-radius: 10px\">\n",
    "<b>Комментарий ревьюера ✔️</b>\n",
    "\n",
    "Всё верно, медиана менее чувствительна к выбросам, чем среднее значение. Для примера можешь рассчитать и сравнить медиану и среднее значение для столбца `days_employed`.</div>"
   ]
  },
  {
   "cell_type": "markdown",
   "id": "8c03ffce",
   "metadata": {},
   "source": [
    "<div class=\"alert-info\" style=\"padding: 20px; border-radius: 10px\">\n",
    "<b>Комментарий студента 💎</b>\n",
    "\n",
    "Добавила пример.</div>"
   ]
  },
  {
   "cell_type": "markdown",
   "id": "a84f0653",
   "metadata": {},
   "source": [
    "<div class=\"alert-success\" style=\"border-radius: 10px; padding: 20px\">\n",
    "<b>Комментарий ревьюера 2 ✔️</b>\n",
    "\n",
    "Отлично! 👍</div>"
   ]
  },
  {
   "cell_type": "markdown",
   "id": "f5854c30",
   "metadata": {},
   "source": [
    "#### 3.7 Дополнительно проверим как влияет наличие высшего образования на возврат кредита в срок."
   ]
  },
  {
   "cell_type": "markdown",
   "id": "b83d8aff",
   "metadata": {},
   "source": [
    "Создадим сводную таблицу с помощью метода pivot_table(): "
   ]
  },
  {
   "cell_type": "code",
   "execution_count": 29,
   "id": "61016f23",
   "metadata": {},
   "outputs": [
    {
     "data": {
      "text/html": [
       "<div>\n",
       "<style scoped>\n",
       "    .dataframe tbody tr th:only-of-type {\n",
       "        vertical-align: middle;\n",
       "    }\n",
       "\n",
       "    .dataframe tbody tr th {\n",
       "        vertical-align: top;\n",
       "    }\n",
       "\n",
       "    .dataframe thead th {\n",
       "        text-align: right;\n",
       "    }\n",
       "</style>\n",
       "<table border=\"1\" class=\"dataframe\">\n",
       "  <thead>\n",
       "    <tr style=\"text-align: right;\">\n",
       "      <th></th>\n",
       "      <th>count</th>\n",
       "      <th>mean</th>\n",
       "      <th>sum</th>\n",
       "    </tr>\n",
       "    <tr>\n",
       "      <th>education</th>\n",
       "      <th></th>\n",
       "      <th></th>\n",
       "      <th></th>\n",
       "    </tr>\n",
       "  </thead>\n",
       "  <tbody>\n",
       "    <tr>\n",
       "      <th>среднее</th>\n",
       "      <td>15075.0</td>\n",
       "      <td>8.99%</td>\n",
       "      <td>1355.0</td>\n",
       "    </tr>\n",
       "    <tr>\n",
       "      <th>высшее</th>\n",
       "      <td>5227.0</td>\n",
       "      <td>5.32%</td>\n",
       "      <td>278.0</td>\n",
       "    </tr>\n",
       "    <tr>\n",
       "      <th>неоконченное высшее</th>\n",
       "      <td>741.0</td>\n",
       "      <td>9.18%</td>\n",
       "      <td>68.0</td>\n",
       "    </tr>\n",
       "    <tr>\n",
       "      <th>начальное</th>\n",
       "      <td>282.0</td>\n",
       "      <td>10.99%</td>\n",
       "      <td>31.0</td>\n",
       "    </tr>\n",
       "    <tr>\n",
       "      <th>ученая степень</th>\n",
       "      <td>6.0</td>\n",
       "      <td>0.00%</td>\n",
       "      <td>0.0</td>\n",
       "    </tr>\n",
       "  </tbody>\n",
       "</table>\n",
       "</div>"
      ],
      "text/plain": [
       "                       count    mean     sum\n",
       "education                                   \n",
       "среднее              15075.0   8.99%  1355.0\n",
       "высшее                5227.0   5.32%   278.0\n",
       "неоконченное высшее    741.0   9.18%    68.0\n",
       "начальное              282.0  10.99%    31.0\n",
       "ученая степень           6.0   0.00%     0.0"
      ]
     },
     "execution_count": 29,
     "metadata": {},
     "output_type": "execute_result"
    }
   ],
   "source": [
    "data_pivot = data.pivot_table(index='education', values='debt', aggfunc={'count','sum','mean'})\n",
    "data_pivot['mean'] = data_pivot['mean'].apply(lambda x: \"%.2f%%\" % (x * 100))\n",
    "data_pivot.sort_values(by='count',ascending=False)"
   ]
  },
  {
   "cell_type": "markdown",
   "id": "5784591a",
   "metadata": {},
   "source": [
    "**Вывод:** Однозначно можно утверждать, что высшее образование положительно влияет на выплаты кредита в срок. Большинство заемщиков имеют среднее образование, поэтому наличие диплома не является определяющим фактором при выдаче кредита, но процент задержки у этой категории высокий."
   ]
  },
  {
   "cell_type": "markdown",
   "id": "57bc304e",
   "metadata": {
    "deletable": false,
    "editable": false,
    "id": "57bc304e"
   },
   "source": [
    "### Шаг 4: общий вывод."
   ]
  },
  {
   "cell_type": "markdown",
   "id": "1ab75d1c",
   "metadata": {
    "deletable": false,
    "id": "1ab75d1c"
   },
   "source": [
    "Для исследования надежности клиентов банка проведен анализ данных о их платежеспособности. \n",
    "\n",
    "На этапе предобработки данных были выявлены и заполнены пропуски в столбцах с информацией о доходах и трудовом стаже, обработаны аномальные значения в столбце с информацией о количестве детей и удалены дубликаты в столбце, содержащий информацию об уровне образования.\n",
    "\n",
    "Проведена категоризация клиентов по уровню доходов и цели получения кредита.\n",
    "\n",
    "В ходе анализа рассмотрели, как влияют на возврат кредита в срок:\n",
    "- **количество детей в семье:**\n",
    "\n",
    "*Категория клиентов без детей занимает 1 место по количеству и имеет самый низкий процент задержек - 7.54%, клиенты с высоким процентом задержек 9.45% имеют 2-х детей. В выборку не попали многодетные в виду их малого количества относительно других категорий.*\n",
    "    \n",
    "- **семейное положение:**\n",
    "\n",
    "*Наименьший процент задержек по кредиту у категории вдов/вдовцов - 6.62%, далее по рейтингу категория разведенных - 7.06%. Чаще всего кредит берут клиенты в браке и занимают 3 место по выплатам в срок, процент задержек - 7.56%.*\n",
    "\n",
    "*Самый высокий процент задержек 9.76% у клиентов в неофициальных отношениях.*\n",
    "\n",
    "- **уровень дохода:**\n",
    "\n",
    "*У клиентов с доходом от 200 тысяч до 1 миллиона наименьший процент задержек по кредиту - 7.06%, c доходом от 50 до 200 тысяч чаще обращаются за кредитами, процент задержек равен 8.50%.*\n",
    "\n",
    "*Категория клиентов с низким и высоким значениями доходов не вошли в исследование, данных недостаточно.*\n",
    "\n",
    "- **цель получения кредита:**\n",
    "\n",
    "*Большинство клиентов берут кредиты на жилье, эта категория имеет самый низкий процент задержек - 7.26%. Не торопятся выплачивать категория клиентов с кредитами на образование (9.25%) и автокредитами (9.35%).*\n",
    "\n",
    "\n",
    "**Исходя из вышеизложенного можем сделать вывод:**\n",
    "\n",
    "**Надежный клиент** - клиент без детей в официально зарегистрированном браке, либо в разводе с доходом от 200 тысяч. \n",
    "\n",
    "**Менее надежный клиент** - клиент в неофициальных отношениях, либо свободный с 1-м или 2-мя детьми и доходом от 50 до 200 тысяч. \n",
    "\n",
    "Клиенты ответственее подходят к выплатам при оформлении кредитов на недвижимость. Также благоприятно сказывается на выплаты наличие высшего образования, процент задержек сравнительно низкий - 5.32%. \n",
    "\n",
    "В данном анализе по некоторым категориям были малочисленные выборки, которые нецелесообразно учитывать. \n"
   ]
  },
  {
   "cell_type": "markdown",
   "id": "f207bd56",
   "metadata": {},
   "source": [
    "<div class=\"alert-warning\" style=\"padding: 20px; border-radius: 10px\">\n",
    "<b>Комментарий ревьюера ⚠️</b>\n",
    "\n",
    "<s>Все дополнительные расчеты я бы порекомендовал вынести за пределы общего вывода, оставив в нем только текст.\n",
    "\n",
    "Кроме того, бы предложил дополнить итоговый вывод:\n",
    "    \n",
    "- начать с абзаца с описания исходных данных и что было сделано на стадии предобработки\n",
    "- изложить **все** выявленные зависимости в обобщенном виде\n",
    "- завершить вывод какой-то рекомендацией заказчику (например, посоветовать отобрать определенные признаки для прогнозирования в будущем, или дать рекомендации о том, как избежать появления пропущенных значений при сборе данных)."
   ]
  },
  {
   "cell_type": "markdown",
   "id": "54d24adf",
   "metadata": {},
   "source": [
    "<div class=\"alert-info\" style=\"padding: 20px; border-radius: 10px\">\n",
    "<b>Комментарий студента 💎</b>\n",
    "\n",
    "Переписала общий вывод.\n",
    "Старалась учесть все рекомендации) </div>"
   ]
  },
  {
   "cell_type": "markdown",
   "id": "2488e96f",
   "metadata": {},
   "source": [
    "<div class=\"alert-success\" style=\"border-radius: 10px; padding: 20px\">\n",
    "<b>Комментарий ревьюера 2 ✔️</b>\n",
    "\n",
    "Теперь итоговый вывод отражает результаты исследования."
   ]
  },
  {
   "cell_type": "markdown",
   "id": "99c46a4d",
   "metadata": {},
   "source": [
    "<div style=\"border:solid steelblue 3px; padding: 20px; border-radius: 10px\">\n",
    "\n",
    "<h5><b>🏁 Общий комментарий ревьюера:</b></h5>\n",
    "\n",
    "Ты хорошо справилась с заданием!\n",
    "\n",
    "Критических замечаний нет, постарайся только отработать желтые комментарии.\n",
    "\n",
    "Что можно улучшить дополнительно:\n",
    "\n",
    "- написать функцию для вывода сводных таблиц (передавать в нее название столбца для группировки, в качестве параметра)\n",
    "- отформатировать в таблицах столбец с просрочкой в процентный формат\n",
    "\n",
    "Буду ждать окончательную версию твоего проекта для принятия. ⌛️</div>"
   ]
  },
  {
   "cell_type": "markdown",
   "id": "e1f767b9",
   "metadata": {},
   "source": [
    "<div style=\"border:solid steelblue 3px; padding: 20px; border-radius: 10px\">\n",
    "\n",
    "<h5><b>🏁 Общий комментарий ревьюера 2</b></h5>\n",
    "\n",
    "Спасибо, что учла мои замечания и доработала проект, получилась очень хорошая работа!\n",
    "\n",
    "Успехов в дальнейшем обучении! 🏆\n",
    "\n",
    "</div>"
   ]
  }
 ],
 "metadata": {
  "ExecuteTimeLog": [
   {
    "duration": 693,
    "start_time": "2024-07-08T10:52:15.752Z"
   },
   {
    "duration": 23,
    "start_time": "2024-07-08T10:52:17.296Z"
   },
   {
    "duration": 16,
    "start_time": "2024-07-08T10:52:18.572Z"
   },
   {
    "duration": 10,
    "start_time": "2024-07-08T10:52:21.661Z"
   },
   {
    "duration": 37,
    "start_time": "2024-07-08T10:52:24.352Z"
   },
   {
    "duration": 3,
    "start_time": "2024-07-08T10:52:27.366Z"
   },
   {
    "duration": 11,
    "start_time": "2024-07-08T10:52:29.068Z"
   },
   {
    "duration": 5,
    "start_time": "2024-07-08T10:52:31.588Z"
   },
   {
    "duration": 6,
    "start_time": "2024-07-08T10:52:34.353Z"
   },
   {
    "duration": 4,
    "start_time": "2024-07-08T10:52:35.828Z"
   },
   {
    "duration": 36,
    "start_time": "2024-07-08T10:52:37.656Z"
   },
   {
    "duration": 11,
    "start_time": "2024-07-08T10:52:38.744Z"
   },
   {
    "duration": 4,
    "start_time": "2024-07-08T10:52:41.216Z"
   },
   {
    "duration": 13,
    "start_time": "2024-07-08T10:52:42.812Z"
   },
   {
    "duration": 21,
    "start_time": "2024-07-08T10:52:43.828Z"
   },
   {
    "duration": 17,
    "start_time": "2024-07-08T10:52:44.292Z"
   },
   {
    "duration": 4,
    "start_time": "2024-07-08T10:52:46.040Z"
   },
   {
    "duration": 12,
    "start_time": "2024-07-08T10:52:46.960Z"
   },
   {
    "duration": 6,
    "start_time": "2024-07-08T10:52:48.220Z"
   },
   {
    "duration": 4,
    "start_time": "2024-07-08T10:52:49.512Z"
   },
   {
    "duration": 10,
    "start_time": "2024-07-08T10:52:50.068Z"
   },
   {
    "duration": 13,
    "start_time": "2024-07-08T10:56:35.704Z"
   },
   {
    "duration": 68,
    "start_time": "2024-07-08T10:58:53.952Z"
   },
   {
    "duration": 10,
    "start_time": "2024-07-08T10:59:05.452Z"
   },
   {
    "duration": 16,
    "start_time": "2024-07-08T11:06:56.532Z"
   },
   {
    "duration": 14,
    "start_time": "2024-07-08T11:07:12.228Z"
   },
   {
    "duration": 13,
    "start_time": "2024-07-08T11:07:22.356Z"
   },
   {
    "duration": 4,
    "start_time": "2024-07-08T11:07:47.780Z"
   },
   {
    "duration": 7,
    "start_time": "2024-07-08T11:07:59.280Z"
   },
   {
    "duration": 3,
    "start_time": "2024-07-08T11:08:16.736Z"
   },
   {
    "duration": 7,
    "start_time": "2024-07-08T11:08:28.408Z"
   },
   {
    "duration": 11,
    "start_time": "2024-07-08T11:08:39.859Z"
   },
   {
    "duration": 8,
    "start_time": "2024-07-08T11:08:48.824Z"
   },
   {
    "duration": 10,
    "start_time": "2024-07-08T11:09:08.395Z"
   },
   {
    "duration": 111,
    "start_time": "2024-07-08T11:10:00.840Z"
   },
   {
    "duration": 55,
    "start_time": "2024-07-08T11:10:21.636Z"
   },
   {
    "duration": 47,
    "start_time": "2024-07-08T11:10:57.784Z"
   },
   {
    "duration": 55,
    "start_time": "2024-07-08T11:11:02.316Z"
   },
   {
    "duration": 11,
    "start_time": "2024-07-08T11:11:20.187Z"
   },
   {
    "duration": 11,
    "start_time": "2024-07-08T11:13:10.656Z"
   },
   {
    "duration": 9,
    "start_time": "2024-07-08T11:13:17.076Z"
   },
   {
    "duration": 50,
    "start_time": "2024-07-08T11:15:11.716Z"
   },
   {
    "duration": 48,
    "start_time": "2024-07-08T11:15:18.923Z"
   },
   {
    "duration": 51,
    "start_time": "2024-07-08T11:15:27.924Z"
   },
   {
    "duration": 44,
    "start_time": "2024-07-08T11:21:51.627Z"
   },
   {
    "duration": 44,
    "start_time": "2024-07-08T11:21:59.563Z"
   },
   {
    "duration": 9,
    "start_time": "2024-07-08T11:25:21.898Z"
   },
   {
    "duration": 13,
    "start_time": "2024-07-08T11:25:28.054Z"
   },
   {
    "duration": 11,
    "start_time": "2024-07-08T11:25:42.198Z"
   },
   {
    "duration": 9,
    "start_time": "2024-07-08T11:26:08.258Z"
   },
   {
    "duration": 11,
    "start_time": "2024-07-08T11:29:11.920Z"
   },
   {
    "duration": 11,
    "start_time": "2024-07-08T11:30:02.940Z"
   },
   {
    "duration": 11,
    "start_time": "2024-07-08T11:30:57.964Z"
   },
   {
    "duration": 21,
    "start_time": "2024-07-08T11:31:36.955Z"
   },
   {
    "duration": 12,
    "start_time": "2024-07-08T11:32:16.816Z"
   },
   {
    "duration": 19,
    "start_time": "2024-07-08T11:40:11.459Z"
   },
   {
    "duration": 11,
    "start_time": "2024-07-08T11:40:21.027Z"
   },
   {
    "duration": 13,
    "start_time": "2024-07-08T12:20:31.311Z"
   },
   {
    "duration": 13,
    "start_time": "2024-07-08T12:23:35.298Z"
   },
   {
    "duration": 14,
    "start_time": "2024-07-08T12:41:14.167Z"
   },
   {
    "duration": 14,
    "start_time": "2024-07-08T12:42:15.509Z"
   },
   {
    "duration": 13,
    "start_time": "2024-07-08T12:42:54.953Z"
   },
   {
    "duration": 13,
    "start_time": "2024-07-08T12:43:06.601Z"
   },
   {
    "duration": 17,
    "start_time": "2024-07-08T12:43:24.070Z"
   },
   {
    "duration": 12,
    "start_time": "2024-07-08T12:43:41.293Z"
   },
   {
    "duration": 19,
    "start_time": "2024-07-08T12:45:43.885Z"
   },
   {
    "duration": 17,
    "start_time": "2024-07-08T12:45:54.617Z"
   },
   {
    "duration": 17,
    "start_time": "2024-07-08T12:58:06.485Z"
   },
   {
    "duration": 15,
    "start_time": "2024-07-08T12:58:42.412Z"
   },
   {
    "duration": 14,
    "start_time": "2024-07-08T12:58:45.860Z"
   },
   {
    "duration": 12,
    "start_time": "2024-07-08T12:58:59.440Z"
   },
   {
    "duration": 13,
    "start_time": "2024-07-08T13:12:38.268Z"
   },
   {
    "duration": 22,
    "start_time": "2024-07-08T13:13:00.976Z"
   },
   {
    "duration": 14,
    "start_time": "2024-07-08T13:16:28.643Z"
   },
   {
    "duration": 14,
    "start_time": "2024-07-08T13:16:54.699Z"
   },
   {
    "duration": 17,
    "start_time": "2024-07-08T13:19:01.044Z"
   },
   {
    "duration": 12,
    "start_time": "2024-07-08T13:19:09.611Z"
   },
   {
    "duration": 14,
    "start_time": "2024-07-08T13:19:57.616Z"
   },
   {
    "duration": 17,
    "start_time": "2024-07-08T13:20:00.119Z"
   },
   {
    "duration": 14,
    "start_time": "2024-07-08T13:20:01.859Z"
   },
   {
    "duration": 10,
    "start_time": "2024-07-08T13:20:29.735Z"
   },
   {
    "duration": 9,
    "start_time": "2024-07-08T13:22:22.071Z"
   },
   {
    "duration": 13,
    "start_time": "2024-07-08T13:22:23.046Z"
   },
   {
    "duration": 11,
    "start_time": "2024-07-08T13:26:00.355Z"
   },
   {
    "duration": 11,
    "start_time": "2024-07-08T13:26:00.918Z"
   },
   {
    "duration": 11,
    "start_time": "2024-07-08T13:26:05.495Z"
   },
   {
    "duration": 21,
    "start_time": "2024-07-08T13:26:18.607Z"
   },
   {
    "duration": 10,
    "start_time": "2024-07-08T13:26:19.667Z"
   },
   {
    "duration": 14,
    "start_time": "2024-07-08T13:26:31.499Z"
   },
   {
    "duration": 11,
    "start_time": "2024-07-08T13:26:36.222Z"
   },
   {
    "duration": 11,
    "start_time": "2024-07-08T13:26:50.554Z"
   },
   {
    "duration": 11,
    "start_time": "2024-07-08T13:26:58.614Z"
   },
   {
    "duration": 467,
    "start_time": "2024-07-08T13:27:24.291Z"
   },
   {
    "duration": 24,
    "start_time": "2024-07-08T13:27:25.295Z"
   },
   {
    "duration": 16,
    "start_time": "2024-07-08T13:27:26.172Z"
   },
   {
    "duration": 11,
    "start_time": "2024-07-08T13:27:27.075Z"
   },
   {
    "duration": 40,
    "start_time": "2024-07-08T13:27:27.423Z"
   },
   {
    "duration": 4,
    "start_time": "2024-07-08T13:27:27.971Z"
   },
   {
    "duration": 8,
    "start_time": "2024-07-08T13:27:28.295Z"
   },
   {
    "duration": 5,
    "start_time": "2024-07-08T13:27:28.811Z"
   },
   {
    "duration": 7,
    "start_time": "2024-07-08T13:27:29.152Z"
   },
   {
    "duration": 4,
    "start_time": "2024-07-08T13:27:29.484Z"
   },
   {
    "duration": 39,
    "start_time": "2024-07-08T13:27:29.959Z"
   },
   {
    "duration": 10,
    "start_time": "2024-07-08T13:27:30.292Z"
   },
   {
    "duration": 4,
    "start_time": "2024-07-08T13:27:31.315Z"
   },
   {
    "duration": 12,
    "start_time": "2024-07-08T13:27:32.180Z"
   },
   {
    "duration": 24,
    "start_time": "2024-07-08T13:27:32.568Z"
   },
   {
    "duration": 18,
    "start_time": "2024-07-08T13:27:32.835Z"
   },
   {
    "duration": 5,
    "start_time": "2024-07-08T13:27:33.804Z"
   },
   {
    "duration": 13,
    "start_time": "2024-07-08T13:27:34.008Z"
   },
   {
    "duration": 6,
    "start_time": "2024-07-08T13:27:34.960Z"
   },
   {
    "duration": 4,
    "start_time": "2024-07-08T13:27:35.795Z"
   },
   {
    "duration": 15,
    "start_time": "2024-07-08T13:27:36.355Z"
   },
   {
    "duration": 12,
    "start_time": "2024-07-08T13:27:38.060Z"
   },
   {
    "duration": 15,
    "start_time": "2024-07-08T13:27:41.127Z"
   },
   {
    "duration": 9,
    "start_time": "2024-07-08T13:27:43.387Z"
   },
   {
    "duration": 13,
    "start_time": "2024-07-08T13:27:44.043Z"
   },
   {
    "duration": 14,
    "start_time": "2024-07-08T13:31:37.495Z"
   },
   {
    "duration": 14,
    "start_time": "2024-07-08T13:47:26.212Z"
   },
   {
    "duration": 507,
    "start_time": "2024-07-09T21:20:04.921Z"
   },
   {
    "duration": 23,
    "start_time": "2024-07-09T21:20:32.389Z"
   },
   {
    "duration": 31,
    "start_time": "2024-07-09T21:20:48.198Z"
   },
   {
    "duration": 522,
    "start_time": "2024-07-09T22:10:31.624Z"
   },
   {
    "duration": 23,
    "start_time": "2024-07-09T22:10:33.148Z"
   },
   {
    "duration": 16,
    "start_time": "2024-07-09T22:10:33.800Z"
   },
   {
    "duration": 11,
    "start_time": "2024-07-09T22:10:35.159Z"
   },
   {
    "duration": 36,
    "start_time": "2024-07-09T22:10:35.880Z"
   },
   {
    "duration": 4,
    "start_time": "2024-07-09T22:10:37.118Z"
   },
   {
    "duration": 8,
    "start_time": "2024-07-09T22:10:37.775Z"
   },
   {
    "duration": 4,
    "start_time": "2024-07-09T22:10:38.734Z"
   },
   {
    "duration": 6,
    "start_time": "2024-07-09T22:10:39.212Z"
   },
   {
    "duration": 4,
    "start_time": "2024-07-09T22:10:39.676Z"
   },
   {
    "duration": 39,
    "start_time": "2024-07-09T22:10:40.331Z"
   },
   {
    "duration": 10,
    "start_time": "2024-07-09T22:10:40.731Z"
   },
   {
    "duration": 4,
    "start_time": "2024-07-09T22:10:41.919Z"
   },
   {
    "duration": 13,
    "start_time": "2024-07-09T22:10:42.955Z"
   },
   {
    "duration": 19,
    "start_time": "2024-07-09T22:10:43.787Z"
   },
   {
    "duration": 18,
    "start_time": "2024-07-09T22:10:44.151Z"
   },
   {
    "duration": 4,
    "start_time": "2024-07-09T22:10:45.167Z"
   },
   {
    "duration": 11,
    "start_time": "2024-07-09T22:10:45.499Z"
   },
   {
    "duration": 8,
    "start_time": "2024-07-09T22:10:46.196Z"
   },
   {
    "duration": 4,
    "start_time": "2024-07-09T22:10:46.987Z"
   },
   {
    "duration": 9,
    "start_time": "2024-07-09T22:10:47.371Z"
   },
   {
    "duration": 13,
    "start_time": "2024-07-09T22:10:48.539Z"
   },
   {
    "duration": 14,
    "start_time": "2024-07-09T22:10:50.095Z"
   },
   {
    "duration": 6,
    "start_time": "2024-07-09T22:10:51.555Z"
   },
   {
    "duration": 13,
    "start_time": "2024-07-09T22:10:52.091Z"
   },
   {
    "duration": 13,
    "start_time": "2024-07-09T22:10:54.319Z"
   },
   {
    "duration": 72,
    "start_time": "2024-07-09T22:21:49.780Z"
   },
   {
    "duration": 7,
    "start_time": "2024-07-09T22:22:21.847Z"
   },
   {
    "duration": 29,
    "start_time": "2024-07-09T22:39:02.288Z"
   },
   {
    "duration": 9,
    "start_time": "2024-07-09T22:42:28.576Z"
   },
   {
    "duration": 7,
    "start_time": "2024-07-09T22:42:58.324Z"
   },
   {
    "duration": 48,
    "start_time": "2024-07-09T22:43:15.165Z"
   },
   {
    "duration": 56,
    "start_time": "2024-07-09T22:45:46.904Z"
   },
   {
    "duration": 7,
    "start_time": "2024-07-09T22:45:58.965Z"
   },
   {
    "duration": 24,
    "start_time": "2024-07-09T22:47:20.897Z"
   },
   {
    "duration": 21,
    "start_time": "2024-07-09T22:47:54.117Z"
   },
   {
    "duration": 14,
    "start_time": "2024-07-09T22:51:12.641Z"
   },
   {
    "duration": 28,
    "start_time": "2024-07-09T22:51:27.849Z"
   },
   {
    "duration": 22,
    "start_time": "2024-07-09T22:52:39.133Z"
   },
   {
    "duration": 27,
    "start_time": "2024-07-09T22:54:05.714Z"
   },
   {
    "duration": 25,
    "start_time": "2024-07-09T23:07:35.241Z"
   },
   {
    "duration": 24,
    "start_time": "2024-07-09T23:08:04.580Z"
   },
   {
    "duration": 16,
    "start_time": "2024-07-09T23:10:09.525Z"
   },
   {
    "duration": 21,
    "start_time": "2024-07-09T23:13:52.399Z"
   },
   {
    "duration": 25,
    "start_time": "2024-07-09T23:14:00.916Z"
   },
   {
    "duration": 12,
    "start_time": "2024-07-09T23:16:15.755Z"
   },
   {
    "duration": 56,
    "start_time": "2024-07-09T23:17:58.915Z"
   },
   {
    "duration": 11,
    "start_time": "2024-07-09T23:18:06.371Z"
   },
   {
    "duration": 8,
    "start_time": "2024-07-09T23:18:36.047Z"
   },
   {
    "duration": 8,
    "start_time": "2024-07-09T23:18:43.611Z"
   },
   {
    "duration": 11,
    "start_time": "2024-07-09T23:18:57.687Z"
   },
   {
    "duration": 12,
    "start_time": "2024-07-09T23:19:04.447Z"
   },
   {
    "duration": 43,
    "start_time": "2024-07-09T23:22:44.827Z"
   },
   {
    "duration": 42,
    "start_time": "2024-07-09T23:24:49.978Z"
   },
   {
    "duration": 30,
    "start_time": "2024-07-09T23:25:21.794Z"
   },
   {
    "duration": 30,
    "start_time": "2024-07-09T23:25:36.587Z"
   },
   {
    "duration": 42,
    "start_time": "2024-07-09T23:25:46.970Z"
   },
   {
    "duration": 29,
    "start_time": "2024-07-09T23:26:55.063Z"
   },
   {
    "duration": 29,
    "start_time": "2024-07-09T23:27:12.790Z"
   },
   {
    "duration": 29,
    "start_time": "2024-07-09T23:27:45.078Z"
   },
   {
    "duration": 27,
    "start_time": "2024-07-09T23:28:08.659Z"
   },
   {
    "duration": 52,
    "start_time": "2024-07-09T23:28:15.146Z"
   },
   {
    "duration": 41,
    "start_time": "2024-07-09T23:28:45.606Z"
   },
   {
    "duration": 25,
    "start_time": "2024-07-09T23:29:46.161Z"
   },
   {
    "duration": 23,
    "start_time": "2024-07-09T23:31:41.717Z"
   },
   {
    "duration": 25,
    "start_time": "2024-07-09T23:32:13.001Z"
   },
   {
    "duration": 22,
    "start_time": "2024-07-09T23:32:50.817Z"
   },
   {
    "duration": 21,
    "start_time": "2024-07-09T23:33:07.137Z"
   },
   {
    "duration": 22,
    "start_time": "2024-07-09T23:34:23.301Z"
   },
   {
    "duration": 22,
    "start_time": "2024-07-09T23:34:36.462Z"
   },
   {
    "duration": 21,
    "start_time": "2024-07-09T23:36:59.645Z"
   },
   {
    "duration": 21,
    "start_time": "2024-07-09T23:37:20.212Z"
   },
   {
    "duration": 24,
    "start_time": "2024-07-09T23:37:29.361Z"
   },
   {
    "duration": 23,
    "start_time": "2024-07-09T23:37:40.653Z"
   },
   {
    "duration": 25,
    "start_time": "2024-07-09T23:37:55.821Z"
   },
   {
    "duration": 23,
    "start_time": "2024-07-09T23:41:58.124Z"
   },
   {
    "duration": 21,
    "start_time": "2024-07-09T23:43:16.836Z"
   },
   {
    "duration": 20,
    "start_time": "2024-07-09T23:43:39.068Z"
   },
   {
    "duration": 26,
    "start_time": "2024-07-09T23:48:26.896Z"
   },
   {
    "duration": 18,
    "start_time": "2024-07-09T23:49:09.725Z"
   },
   {
    "duration": 22,
    "start_time": "2024-07-09T23:49:43.904Z"
   },
   {
    "duration": 30,
    "start_time": "2024-07-09T23:50:26.120Z"
   },
   {
    "duration": 28,
    "start_time": "2024-07-09T23:50:57.204Z"
   },
   {
    "duration": 27,
    "start_time": "2024-07-09T23:51:24.924Z"
   },
   {
    "duration": 30,
    "start_time": "2024-07-09T23:51:53.992Z"
   },
   {
    "duration": 31,
    "start_time": "2024-07-09T23:52:06.512Z"
   },
   {
    "duration": 29,
    "start_time": "2024-07-09T23:52:15.108Z"
   },
   {
    "duration": 30,
    "start_time": "2024-07-09T23:52:31.436Z"
   },
   {
    "duration": 487,
    "start_time": "2024-07-10T00:01:42.476Z"
   },
   {
    "duration": 24,
    "start_time": "2024-07-10T00:01:44.440Z"
   },
   {
    "duration": 16,
    "start_time": "2024-07-10T00:01:45.988Z"
   },
   {
    "duration": 11,
    "start_time": "2024-07-10T00:01:49.120Z"
   },
   {
    "duration": 37,
    "start_time": "2024-07-10T00:01:49.940Z"
   },
   {
    "duration": 3,
    "start_time": "2024-07-10T00:01:50.988Z"
   },
   {
    "duration": 8,
    "start_time": "2024-07-10T00:01:51.564Z"
   },
   {
    "duration": 5,
    "start_time": "2024-07-10T00:01:52.328Z"
   },
   {
    "duration": 7,
    "start_time": "2024-07-10T00:01:52.683Z"
   },
   {
    "duration": 4,
    "start_time": "2024-07-10T00:01:53.040Z"
   },
   {
    "duration": 34,
    "start_time": "2024-07-10T00:01:53.588Z"
   },
   {
    "duration": 10,
    "start_time": "2024-07-10T00:01:53.944Z"
   },
   {
    "duration": 4,
    "start_time": "2024-07-10T00:01:54.460Z"
   },
   {
    "duration": 12,
    "start_time": "2024-07-10T00:01:55.380Z"
   },
   {
    "duration": 19,
    "start_time": "2024-07-10T00:01:56.096Z"
   },
   {
    "duration": 17,
    "start_time": "2024-07-10T00:01:56.400Z"
   },
   {
    "duration": 3,
    "start_time": "2024-07-10T00:01:57.032Z"
   },
   {
    "duration": 11,
    "start_time": "2024-07-10T00:01:57.240Z"
   },
   {
    "duration": 6,
    "start_time": "2024-07-10T00:01:58.104Z"
   },
   {
    "duration": 4,
    "start_time": "2024-07-10T00:01:58.932Z"
   },
   {
    "duration": 15,
    "start_time": "2024-07-10T00:01:59.308Z"
   },
   {
    "duration": 12,
    "start_time": "2024-07-10T00:02:00.732Z"
   },
   {
    "duration": 14,
    "start_time": "2024-07-10T00:02:02.475Z"
   },
   {
    "duration": 6,
    "start_time": "2024-07-10T00:02:04.264Z"
   },
   {
    "duration": 12,
    "start_time": "2024-07-10T00:02:04.812Z"
   },
   {
    "duration": 18,
    "start_time": "2024-07-10T00:02:07.128Z"
   },
   {
    "duration": 34,
    "start_time": "2024-07-10T00:02:25.476Z"
   },
   {
    "duration": 406,
    "start_time": "2024-07-10T04:49:37.770Z"
   },
   {
    "duration": 21,
    "start_time": "2024-07-10T04:49:38.177Z"
   },
   {
    "duration": 13,
    "start_time": "2024-07-10T04:49:38.199Z"
   },
   {
    "duration": 9,
    "start_time": "2024-07-10T04:49:38.214Z"
   },
   {
    "duration": 40,
    "start_time": "2024-07-10T04:49:38.224Z"
   },
   {
    "duration": 3,
    "start_time": "2024-07-10T04:49:38.266Z"
   },
   {
    "duration": 10,
    "start_time": "2024-07-10T04:49:38.270Z"
   },
   {
    "duration": 5,
    "start_time": "2024-07-10T04:49:38.282Z"
   },
   {
    "duration": 21,
    "start_time": "2024-07-10T04:49:38.288Z"
   },
   {
    "duration": 4,
    "start_time": "2024-07-10T04:49:38.312Z"
   },
   {
    "duration": 30,
    "start_time": "2024-07-10T04:49:38.318Z"
   },
   {
    "duration": 9,
    "start_time": "2024-07-10T04:49:38.350Z"
   },
   {
    "duration": 27,
    "start_time": "2024-07-10T04:49:38.360Z"
   },
   {
    "duration": 23,
    "start_time": "2024-07-10T04:49:38.389Z"
   },
   {
    "duration": 67,
    "start_time": "2024-07-10T04:49:38.413Z"
   },
   {
    "duration": 16,
    "start_time": "2024-07-10T04:49:38.482Z"
   },
   {
    "duration": 15,
    "start_time": "2024-07-10T04:49:38.500Z"
   },
   {
    "duration": 18,
    "start_time": "2024-07-10T04:49:38.516Z"
   },
   {
    "duration": 10,
    "start_time": "2024-07-10T04:49:38.535Z"
   },
   {
    "duration": 6,
    "start_time": "2024-07-10T04:49:38.547Z"
   },
   {
    "duration": 14,
    "start_time": "2024-07-10T04:49:38.554Z"
   },
   {
    "duration": 13,
    "start_time": "2024-07-10T04:49:38.570Z"
   },
   {
    "duration": 11,
    "start_time": "2024-07-10T04:49:38.585Z"
   },
   {
    "duration": 14,
    "start_time": "2024-07-10T04:49:38.597Z"
   },
   {
    "duration": 19,
    "start_time": "2024-07-10T04:49:38.613Z"
   },
   {
    "duration": 15,
    "start_time": "2024-07-10T04:49:38.634Z"
   },
   {
    "duration": 47,
    "start_time": "2024-07-10T04:49:38.651Z"
   },
   {
    "duration": 58,
    "start_time": "2024-07-10T04:55:19.648Z"
   },
   {
    "duration": 47,
    "start_time": "2024-07-10T15:25:36.123Z"
   },
   {
    "duration": 618,
    "start_time": "2024-07-10T15:25:48.220Z"
   },
   {
    "duration": 23,
    "start_time": "2024-07-10T15:25:48.912Z"
   },
   {
    "duration": 15,
    "start_time": "2024-07-10T15:25:49.317Z"
   },
   {
    "duration": 11,
    "start_time": "2024-07-10T15:25:51.051Z"
   },
   {
    "duration": 36,
    "start_time": "2024-07-10T15:25:51.970Z"
   },
   {
    "duration": 4,
    "start_time": "2024-07-10T15:25:53.300Z"
   },
   {
    "duration": 8,
    "start_time": "2024-07-10T15:25:54.167Z"
   },
   {
    "duration": 5,
    "start_time": "2024-07-10T15:25:55.411Z"
   },
   {
    "duration": 7,
    "start_time": "2024-07-10T15:25:56.115Z"
   },
   {
    "duration": 4,
    "start_time": "2024-07-10T15:25:56.572Z"
   },
   {
    "duration": 34,
    "start_time": "2024-07-10T15:25:57.721Z"
   },
   {
    "duration": 12,
    "start_time": "2024-07-10T15:25:58.142Z"
   },
   {
    "duration": 4,
    "start_time": "2024-07-10T15:26:00.182Z"
   },
   {
    "duration": 17,
    "start_time": "2024-07-10T15:26:02.183Z"
   },
   {
    "duration": 32,
    "start_time": "2024-07-10T15:26:03.247Z"
   },
   {
    "duration": 25,
    "start_time": "2024-07-10T15:26:03.648Z"
   },
   {
    "duration": 4,
    "start_time": "2024-07-10T15:26:04.983Z"
   },
   {
    "duration": 12,
    "start_time": "2024-07-10T15:26:05.357Z"
   },
   {
    "duration": 6,
    "start_time": "2024-07-10T15:26:06.103Z"
   },
   {
    "duration": 4,
    "start_time": "2024-07-10T15:26:06.843Z"
   },
   {
    "duration": 13,
    "start_time": "2024-07-10T15:26:07.220Z"
   },
   {
    "duration": 11,
    "start_time": "2024-07-10T15:26:08.287Z"
   },
   {
    "duration": 18,
    "start_time": "2024-07-10T15:26:37.263Z"
   },
   {
    "duration": 580,
    "start_time": "2024-07-10T22:29:03.986Z"
   },
   {
    "duration": 35,
    "start_time": "2024-07-10T22:29:05.306Z"
   },
   {
    "duration": 37,
    "start_time": "2024-07-10T22:29:06.306Z"
   },
   {
    "duration": 13,
    "start_time": "2024-07-10T22:29:07.039Z"
   },
   {
    "duration": 57,
    "start_time": "2024-07-10T22:29:07.322Z"
   },
   {
    "duration": 10,
    "start_time": "2024-07-10T22:29:07.923Z"
   },
   {
    "duration": 8,
    "start_time": "2024-07-10T22:29:08.486Z"
   },
   {
    "duration": 5,
    "start_time": "2024-07-10T22:29:08.986Z"
   },
   {
    "duration": 7,
    "start_time": "2024-07-10T22:29:09.250Z"
   },
   {
    "duration": 6,
    "start_time": "2024-07-10T22:29:09.521Z"
   },
   {
    "duration": 53,
    "start_time": "2024-07-10T22:29:10.010Z"
   },
   {
    "duration": 8,
    "start_time": "2024-07-10T22:29:10.266Z"
   },
   {
    "duration": 3,
    "start_time": "2024-07-10T22:29:10.658Z"
   },
   {
    "duration": 27,
    "start_time": "2024-07-10T22:29:11.717Z"
   },
   {
    "duration": 33,
    "start_time": "2024-07-10T22:29:12.520Z"
   },
   {
    "duration": 17,
    "start_time": "2024-07-10T22:29:12.946Z"
   },
   {
    "duration": 3,
    "start_time": "2024-07-10T22:29:14.674Z"
   },
   {
    "duration": 18,
    "start_time": "2024-07-10T22:29:15.541Z"
   },
   {
    "duration": 6,
    "start_time": "2024-07-10T22:29:16.142Z"
   },
   {
    "duration": 3,
    "start_time": "2024-07-10T22:29:17.542Z"
   },
   {
    "duration": 8,
    "start_time": "2024-07-10T22:29:17.858Z"
   },
   {
    "duration": 3,
    "start_time": "2024-07-10T22:30:17.502Z"
   },
   {
    "duration": 75,
    "start_time": "2024-07-10T22:30:40.566Z"
   },
   {
    "duration": 13,
    "start_time": "2024-07-10T22:30:51.270Z"
   },
   {
    "duration": 12,
    "start_time": "2024-07-10T22:31:04.398Z"
   },
   {
    "duration": 3,
    "start_time": "2024-07-10T22:41:41.238Z"
   },
   {
    "duration": 3,
    "start_time": "2024-07-10T22:41:50.354Z"
   },
   {
    "duration": 3,
    "start_time": "2024-07-10T22:41:59.978Z"
   },
   {
    "duration": 11,
    "start_time": "2024-07-10T22:42:04.390Z"
   },
   {
    "duration": 3,
    "start_time": "2024-07-10T22:43:28.883Z"
   },
   {
    "duration": 13,
    "start_time": "2024-07-10T22:43:29.326Z"
   },
   {
    "duration": 12,
    "start_time": "2024-07-10T22:50:31.059Z"
   },
   {
    "duration": 3,
    "start_time": "2024-07-10T22:55:44.979Z"
   },
   {
    "duration": 23,
    "start_time": "2024-07-10T22:55:46.302Z"
   },
   {
    "duration": 3,
    "start_time": "2024-07-10T22:55:59.998Z"
   },
   {
    "duration": 10,
    "start_time": "2024-07-10T22:56:00.463Z"
   },
   {
    "duration": 3,
    "start_time": "2024-07-10T23:09:55.846Z"
   },
   {
    "duration": 16,
    "start_time": "2024-07-10T23:09:57.078Z"
   },
   {
    "duration": 7,
    "start_time": "2024-07-10T23:13:12.581Z"
   },
   {
    "duration": 8,
    "start_time": "2024-07-10T23:13:41.322Z"
   },
   {
    "duration": 3,
    "start_time": "2024-07-10T23:13:59.054Z"
   },
   {
    "duration": 11,
    "start_time": "2024-07-10T23:14:00.062Z"
   },
   {
    "duration": 62,
    "start_time": "2024-07-10T23:14:38.261Z"
   },
   {
    "duration": 61,
    "start_time": "2024-07-10T23:14:48.393Z"
   },
   {
    "duration": 66,
    "start_time": "2024-07-10T23:15:18.933Z"
   },
   {
    "duration": 58,
    "start_time": "2024-07-10T23:15:32.858Z"
   },
   {
    "duration": 65,
    "start_time": "2024-07-10T23:15:50.490Z"
   },
   {
    "duration": 3,
    "start_time": "2024-07-10T23:16:07.049Z"
   },
   {
    "duration": 12,
    "start_time": "2024-07-10T23:16:07.617Z"
   },
   {
    "duration": 9,
    "start_time": "2024-07-10T23:16:12.034Z"
   },
   {
    "duration": 85,
    "start_time": "2024-07-10T23:16:48.921Z"
   },
   {
    "duration": 62,
    "start_time": "2024-07-10T23:16:58.457Z"
   },
   {
    "duration": 72,
    "start_time": "2024-07-10T23:17:04.953Z"
   },
   {
    "duration": 20,
    "start_time": "2024-07-10T23:19:20.473Z"
   },
   {
    "duration": 64,
    "start_time": "2024-07-10T23:19:34.409Z"
   },
   {
    "duration": 57,
    "start_time": "2024-07-10T23:19:51.909Z"
   },
   {
    "duration": 11,
    "start_time": "2024-07-10T23:19:59.037Z"
   },
   {
    "duration": 15,
    "start_time": "2024-07-10T23:20:27.525Z"
   },
   {
    "duration": 16,
    "start_time": "2024-07-10T23:20:43.245Z"
   },
   {
    "duration": 79,
    "start_time": "2024-07-10T23:21:05.841Z"
   },
   {
    "duration": 12,
    "start_time": "2024-07-10T23:21:18.409Z"
   },
   {
    "duration": 66,
    "start_time": "2024-07-10T23:22:59.624Z"
   },
   {
    "duration": 11,
    "start_time": "2024-07-10T23:23:06.293Z"
   },
   {
    "duration": 15,
    "start_time": "2024-07-10T23:23:24.353Z"
   },
   {
    "duration": 22,
    "start_time": "2024-07-10T23:24:13.157Z"
   },
   {
    "duration": 14,
    "start_time": "2024-07-10T23:24:43.397Z"
   },
   {
    "duration": 18,
    "start_time": "2024-07-10T23:24:50.857Z"
   },
   {
    "duration": 17,
    "start_time": "2024-07-10T23:26:27.576Z"
   },
   {
    "duration": 16,
    "start_time": "2024-07-10T23:26:41.520Z"
   },
   {
    "duration": 16,
    "start_time": "2024-07-10T23:26:54.664Z"
   },
   {
    "duration": 17,
    "start_time": "2024-07-10T23:27:14.000Z"
   },
   {
    "duration": 14,
    "start_time": "2024-07-10T23:27:20.877Z"
   },
   {
    "duration": 62,
    "start_time": "2024-07-10T23:27:43.572Z"
   },
   {
    "duration": 64,
    "start_time": "2024-07-10T23:27:50.612Z"
   },
   {
    "duration": 63,
    "start_time": "2024-07-10T23:27:58.350Z"
   },
   {
    "duration": 67,
    "start_time": "2024-07-10T23:28:05.089Z"
   },
   {
    "duration": 14,
    "start_time": "2024-07-10T23:28:16.825Z"
   },
   {
    "duration": 64,
    "start_time": "2024-07-10T23:34:02.996Z"
   },
   {
    "duration": 3,
    "start_time": "2024-07-10T23:34:19.084Z"
   },
   {
    "duration": 11,
    "start_time": "2024-07-10T23:34:19.911Z"
   },
   {
    "duration": 10,
    "start_time": "2024-07-10T23:40:56.975Z"
   },
   {
    "duration": 62,
    "start_time": "2024-07-10T23:41:26.767Z"
   },
   {
    "duration": 187,
    "start_time": "2024-07-10T23:41:37.983Z"
   },
   {
    "duration": 3,
    "start_time": "2024-07-10T23:43:04.927Z"
   },
   {
    "duration": 9,
    "start_time": "2024-07-10T23:43:05.544Z"
   },
   {
    "duration": 69,
    "start_time": "2024-07-10T23:44:45.032Z"
   },
   {
    "duration": 4,
    "start_time": "2024-07-10T23:45:01.103Z"
   },
   {
    "duration": 11,
    "start_time": "2024-07-10T23:45:01.968Z"
   },
   {
    "duration": 4,
    "start_time": "2024-07-10T23:46:12.231Z"
   },
   {
    "duration": 11,
    "start_time": "2024-07-10T23:46:12.923Z"
   },
   {
    "duration": 84,
    "start_time": "2024-07-10T23:47:52.487Z"
   },
   {
    "duration": 10,
    "start_time": "2024-07-10T23:47:53.040Z"
   },
   {
    "duration": 3,
    "start_time": "2024-07-10T23:51:27.780Z"
   },
   {
    "duration": 15,
    "start_time": "2024-07-10T23:51:28.407Z"
   },
   {
    "duration": 3,
    "start_time": "2024-07-10T23:51:46.666Z"
   },
   {
    "duration": 12,
    "start_time": "2024-07-10T23:51:47.124Z"
   },
   {
    "duration": 4,
    "start_time": "2024-07-10T23:53:41.271Z"
   },
   {
    "duration": 10,
    "start_time": "2024-07-10T23:53:41.771Z"
   },
   {
    "duration": 10,
    "start_time": "2024-07-10T23:54:16.384Z"
   },
   {
    "duration": 65,
    "start_time": "2024-07-10T23:55:23.627Z"
   },
   {
    "duration": 63,
    "start_time": "2024-07-10T23:55:32.892Z"
   },
   {
    "duration": 596,
    "start_time": "2024-07-11T15:37:20.914Z"
   },
   {
    "duration": 21,
    "start_time": "2024-07-11T15:37:22.154Z"
   },
   {
    "duration": 19,
    "start_time": "2024-07-11T15:37:23.156Z"
   },
   {
    "duration": 10,
    "start_time": "2024-07-11T15:37:24.651Z"
   },
   {
    "duration": 36,
    "start_time": "2024-07-11T15:37:25.275Z"
   },
   {
    "duration": 3,
    "start_time": "2024-07-11T15:37:26.256Z"
   },
   {
    "duration": 8,
    "start_time": "2024-07-11T15:37:26.861Z"
   },
   {
    "duration": 5,
    "start_time": "2024-07-11T15:37:27.901Z"
   },
   {
    "duration": 7,
    "start_time": "2024-07-11T15:37:28.633Z"
   },
   {
    "duration": 4,
    "start_time": "2024-07-11T15:37:29.213Z"
   },
   {
    "duration": 36,
    "start_time": "2024-07-11T15:37:30.253Z"
   },
   {
    "duration": 10,
    "start_time": "2024-07-11T15:37:30.954Z"
   },
   {
    "duration": 3,
    "start_time": "2024-07-11T15:37:32.035Z"
   },
   {
    "duration": 12,
    "start_time": "2024-07-11T15:37:33.075Z"
   },
   {
    "duration": 21,
    "start_time": "2024-07-11T15:37:34.002Z"
   },
   {
    "duration": 17,
    "start_time": "2024-07-11T15:37:34.482Z"
   },
   {
    "duration": 3,
    "start_time": "2024-07-11T15:37:35.561Z"
   },
   {
    "duration": 10,
    "start_time": "2024-07-11T15:37:35.863Z"
   },
   {
    "duration": 5,
    "start_time": "2024-07-11T15:37:36.766Z"
   },
   {
    "duration": 3,
    "start_time": "2024-07-11T15:37:37.596Z"
   },
   {
    "duration": 9,
    "start_time": "2024-07-11T15:37:38.002Z"
   },
   {
    "duration": 3,
    "start_time": "2024-07-11T15:37:40.084Z"
   },
   {
    "duration": 11,
    "start_time": "2024-07-11T15:37:41.526Z"
   },
   {
    "duration": 13,
    "start_time": "2024-07-11T15:48:22.655Z"
   },
   {
    "duration": 14,
    "start_time": "2024-07-11T15:49:38.840Z"
   },
   {
    "duration": 6,
    "start_time": "2024-07-11T15:49:58.184Z"
   },
   {
    "duration": 13,
    "start_time": "2024-07-11T15:49:58.816Z"
   },
   {
    "duration": 13,
    "start_time": "2024-07-11T15:52:02.656Z"
   },
   {
    "duration": 44,
    "start_time": "2024-07-17T15:39:10.564Z"
   },
   {
    "duration": 479,
    "start_time": "2024-07-17T15:39:33.988Z"
   },
   {
    "duration": 19,
    "start_time": "2024-07-17T15:39:34.932Z"
   },
   {
    "duration": 13,
    "start_time": "2024-07-17T15:39:35.691Z"
   },
   {
    "duration": 15,
    "start_time": "2024-07-17T15:39:36.948Z"
   },
   {
    "duration": 28,
    "start_time": "2024-07-17T15:39:37.268Z"
   },
   {
    "duration": 3,
    "start_time": "2024-07-17T15:39:37.980Z"
   },
   {
    "duration": 10,
    "start_time": "2024-07-17T15:39:38.658Z"
   },
   {
    "duration": 6,
    "start_time": "2024-07-17T15:39:39.268Z"
   },
   {
    "duration": 6,
    "start_time": "2024-07-17T15:39:39.643Z"
   },
   {
    "duration": 4,
    "start_time": "2024-07-17T15:39:39.974Z"
   },
   {
    "duration": 33,
    "start_time": "2024-07-17T15:39:40.532Z"
   },
   {
    "duration": 9,
    "start_time": "2024-07-17T15:39:40.893Z"
   },
   {
    "duration": 3,
    "start_time": "2024-07-17T15:39:41.403Z"
   },
   {
    "duration": 9,
    "start_time": "2024-07-17T15:39:46.444Z"
   },
   {
    "duration": 17,
    "start_time": "2024-07-17T15:39:46.868Z"
   },
   {
    "duration": 17,
    "start_time": "2024-07-17T15:39:47.069Z"
   },
   {
    "duration": 9,
    "start_time": "2024-07-17T15:39:47.754Z"
   },
   {
    "duration": 9,
    "start_time": "2024-07-17T15:39:48.109Z"
   },
   {
    "duration": 5,
    "start_time": "2024-07-17T15:39:48.603Z"
   },
   {
    "duration": 3,
    "start_time": "2024-07-17T15:39:49.491Z"
   },
   {
    "duration": 8,
    "start_time": "2024-07-17T15:39:49.827Z"
   },
   {
    "duration": 3,
    "start_time": "2024-07-17T15:39:51.104Z"
   },
   {
    "duration": 10,
    "start_time": "2024-07-17T15:39:51.418Z"
   },
   {
    "duration": 9,
    "start_time": "2024-07-17T15:39:55.788Z"
   },
   {
    "duration": 6,
    "start_time": "2024-07-17T15:39:57.098Z"
   },
   {
    "duration": 10,
    "start_time": "2024-07-17T15:39:57.622Z"
   },
   {
    "duration": 11,
    "start_time": "2024-07-17T15:39:59.977Z"
   },
   {
    "duration": 4,
    "start_time": "2024-07-17T15:40:03.130Z"
   },
   {
    "duration": 4,
    "start_time": "2024-07-17T15:40:16.483Z"
   },
   {
    "duration": 8,
    "start_time": "2024-07-17T15:40:25.097Z"
   },
   {
    "duration": 5,
    "start_time": "2024-07-17T15:40:44.393Z"
   },
   {
    "duration": 10,
    "start_time": "2024-07-17T15:40:49.506Z"
   },
   {
    "duration": 13,
    "start_time": "2024-07-17T15:45:52.741Z"
   },
   {
    "duration": 5,
    "start_time": "2024-07-17T15:47:35.120Z"
   },
   {
    "duration": 4,
    "start_time": "2024-07-17T15:48:18.095Z"
   },
   {
    "duration": 5,
    "start_time": "2024-07-17T15:48:28.539Z"
   },
   {
    "duration": 72,
    "start_time": "2024-07-17T15:54:00.357Z"
   },
   {
    "duration": 10,
    "start_time": "2024-07-17T15:54:10.614Z"
   },
   {
    "duration": 582,
    "start_time": "2024-07-17T21:31:13.247Z"
   },
   {
    "duration": 34,
    "start_time": "2024-07-17T21:31:14.067Z"
   },
   {
    "duration": 17,
    "start_time": "2024-07-17T21:31:14.451Z"
   },
   {
    "duration": 11,
    "start_time": "2024-07-17T21:31:15.181Z"
   },
   {
    "duration": 38,
    "start_time": "2024-07-17T21:31:15.519Z"
   },
   {
    "duration": 4,
    "start_time": "2024-07-17T21:31:16.071Z"
   },
   {
    "duration": 8,
    "start_time": "2024-07-17T21:31:16.455Z"
   },
   {
    "duration": 5,
    "start_time": "2024-07-17T21:31:17.002Z"
   },
   {
    "duration": 7,
    "start_time": "2024-07-17T21:31:17.363Z"
   },
   {
    "duration": 5,
    "start_time": "2024-07-17T21:31:17.727Z"
   },
   {
    "duration": 36,
    "start_time": "2024-07-17T21:31:18.247Z"
   },
   {
    "duration": 16,
    "start_time": "2024-07-17T21:31:18.596Z"
   },
   {
    "duration": 5,
    "start_time": "2024-07-17T21:31:19.119Z"
   },
   {
    "duration": 13,
    "start_time": "2024-07-17T21:31:19.599Z"
   },
   {
    "duration": 21,
    "start_time": "2024-07-17T21:31:19.939Z"
   },
   {
    "duration": 19,
    "start_time": "2024-07-17T21:31:20.099Z"
   },
   {
    "duration": 6,
    "start_time": "2024-07-17T21:31:20.499Z"
   },
   {
    "duration": 11,
    "start_time": "2024-07-17T21:31:20.644Z"
   },
   {
    "duration": 7,
    "start_time": "2024-07-17T21:31:21.010Z"
   },
   {
    "duration": 3,
    "start_time": "2024-07-17T21:31:21.667Z"
   },
   {
    "duration": 10,
    "start_time": "2024-07-17T21:31:21.808Z"
   },
   {
    "duration": 3,
    "start_time": "2024-07-17T21:31:22.368Z"
   },
   {
    "duration": 13,
    "start_time": "2024-07-17T21:31:22.483Z"
   },
   {
    "duration": 13,
    "start_time": "2024-07-17T21:31:23.899Z"
   },
   {
    "duration": 9,
    "start_time": "2024-07-17T21:31:24.735Z"
   },
   {
    "duration": 15,
    "start_time": "2024-07-17T21:31:24.858Z"
   },
   {
    "duration": 15,
    "start_time": "2024-07-17T21:31:26.542Z"
   },
   {
    "duration": 5,
    "start_time": "2024-07-17T21:34:21.871Z"
   },
   {
    "duration": 7,
    "start_time": "2024-07-17T21:35:08.900Z"
   },
   {
    "duration": 7,
    "start_time": "2024-07-17T21:35:25.126Z"
   },
   {
    "duration": 5,
    "start_time": "2024-07-17T21:35:53.500Z"
   },
   {
    "duration": 6,
    "start_time": "2024-07-17T21:37:58.679Z"
   },
   {
    "duration": 61,
    "start_time": "2024-07-17T21:52:38.037Z"
   },
   {
    "duration": 4,
    "start_time": "2024-07-17T23:11:50.226Z"
   },
   {
    "duration": 563,
    "start_time": "2024-07-18T11:48:47.718Z"
   },
   {
    "duration": 25,
    "start_time": "2024-07-18T11:48:48.523Z"
   },
   {
    "duration": 15,
    "start_time": "2024-07-18T11:48:49.024Z"
   },
   {
    "duration": 17,
    "start_time": "2024-07-18T11:48:49.880Z"
   },
   {
    "duration": 36,
    "start_time": "2024-07-18T11:48:50.295Z"
   },
   {
    "duration": 3,
    "start_time": "2024-07-18T11:48:50.883Z"
   },
   {
    "duration": 8,
    "start_time": "2024-07-18T11:48:51.255Z"
   },
   {
    "duration": 5,
    "start_time": "2024-07-18T11:48:52.827Z"
   },
   {
    "duration": 85,
    "start_time": "2024-07-18T11:53:38.126Z"
   },
   {
    "duration": 132,
    "start_time": "2024-07-18T11:53:38.212Z"
   },
   {
    "duration": 24,
    "start_time": "2024-07-18T11:53:38.347Z"
   },
   {
    "duration": 13,
    "start_time": "2024-07-18T11:53:38.373Z"
   },
   {
    "duration": 43,
    "start_time": "2024-07-18T11:53:38.388Z"
   },
   {
    "duration": 5,
    "start_time": "2024-07-18T11:53:38.446Z"
   },
   {
    "duration": 21,
    "start_time": "2024-07-18T11:53:38.453Z"
   },
   {
    "duration": 7,
    "start_time": "2024-07-18T11:53:38.475Z"
   },
   {
    "duration": 10,
    "start_time": "2024-07-18T11:53:38.483Z"
   },
   {
    "duration": 6,
    "start_time": "2024-07-18T11:53:38.496Z"
   },
   {
    "duration": 63,
    "start_time": "2024-07-18T11:53:38.504Z"
   },
   {
    "duration": 13,
    "start_time": "2024-07-18T11:53:38.568Z"
   },
   {
    "duration": 8,
    "start_time": "2024-07-18T11:53:38.583Z"
   },
   {
    "duration": 16,
    "start_time": "2024-07-18T11:53:38.592Z"
   },
   {
    "duration": 47,
    "start_time": "2024-07-18T11:53:38.610Z"
   },
   {
    "duration": 20,
    "start_time": "2024-07-18T11:53:38.658Z"
   },
   {
    "duration": 4,
    "start_time": "2024-07-18T11:53:38.679Z"
   },
   {
    "duration": 13,
    "start_time": "2024-07-18T11:53:38.684Z"
   },
   {
    "duration": 10,
    "start_time": "2024-07-18T11:53:38.698Z"
   },
   {
    "duration": 18,
    "start_time": "2024-07-18T11:53:38.710Z"
   },
   {
    "duration": 9,
    "start_time": "2024-07-18T11:53:38.746Z"
   },
   {
    "duration": 14,
    "start_time": "2024-07-18T11:53:38.757Z"
   },
   {
    "duration": 28,
    "start_time": "2024-07-18T11:53:38.772Z"
   },
   {
    "duration": 12,
    "start_time": "2024-07-18T11:53:38.801Z"
   },
   {
    "duration": 5,
    "start_time": "2024-07-18T11:53:38.815Z"
   },
   {
    "duration": 25,
    "start_time": "2024-07-18T11:53:38.822Z"
   },
   {
    "duration": 13,
    "start_time": "2024-07-18T11:53:38.848Z"
   },
   {
    "duration": 24,
    "start_time": "2024-07-18T11:53:38.864Z"
   },
   {
    "duration": 20,
    "start_time": "2024-07-18T11:53:38.890Z"
   },
   {
    "duration": 55,
    "start_time": "2024-07-18T16:54:37.601Z"
   },
   {
    "duration": 113,
    "start_time": "2024-07-18T16:56:58.195Z"
   },
   {
    "duration": 29,
    "start_time": "2024-07-18T16:57:16.977Z"
   },
   {
    "duration": 33,
    "start_time": "2024-07-18T16:58:01.309Z"
   },
   {
    "duration": 39,
    "start_time": "2024-07-18T16:58:40.345Z"
   },
   {
    "duration": 46,
    "start_time": "2024-07-18T16:59:28.013Z"
   },
   {
    "duration": 45,
    "start_time": "2024-07-18T17:00:04.557Z"
   },
   {
    "duration": 35,
    "start_time": "2024-07-18T17:00:15.158Z"
   },
   {
    "duration": 24,
    "start_time": "2024-07-18T17:01:52.021Z"
   },
   {
    "duration": 308,
    "start_time": "2024-07-18T17:27:16.067Z"
   },
   {
    "duration": 313,
    "start_time": "2024-07-18T17:27:29.819Z"
   },
   {
    "duration": 24,
    "start_time": "2024-07-18T17:27:41.090Z"
   },
   {
    "duration": 505,
    "start_time": "2024-07-18T18:01:00.285Z"
   },
   {
    "duration": 22,
    "start_time": "2024-07-18T18:01:02.869Z"
   },
   {
    "duration": 16,
    "start_time": "2024-07-18T18:01:04.125Z"
   },
   {
    "duration": 11,
    "start_time": "2024-07-18T18:01:05.813Z"
   },
   {
    "duration": 42,
    "start_time": "2024-07-18T18:01:06.612Z"
   },
   {
    "duration": 4,
    "start_time": "2024-07-18T18:01:07.644Z"
   },
   {
    "duration": 8,
    "start_time": "2024-07-18T18:01:08.385Z"
   },
   {
    "duration": 4,
    "start_time": "2024-07-18T18:01:09.528Z"
   },
   {
    "duration": 7,
    "start_time": "2024-07-18T18:01:10.312Z"
   },
   {
    "duration": 6,
    "start_time": "2024-07-18T18:01:11.120Z"
   },
   {
    "duration": 43,
    "start_time": "2024-07-18T18:01:12.264Z"
   },
   {
    "duration": 12,
    "start_time": "2024-07-18T18:01:13.113Z"
   },
   {
    "duration": 4,
    "start_time": "2024-07-18T18:01:14.361Z"
   },
   {
    "duration": 17,
    "start_time": "2024-07-18T18:01:15.593Z"
   },
   {
    "duration": 21,
    "start_time": "2024-07-18T18:01:16.445Z"
   },
   {
    "duration": 17,
    "start_time": "2024-07-18T18:01:16.829Z"
   },
   {
    "duration": 3,
    "start_time": "2024-07-18T18:01:18.465Z"
   },
   {
    "duration": 11,
    "start_time": "2024-07-18T18:01:19.001Z"
   },
   {
    "duration": 6,
    "start_time": "2024-07-18T18:01:20.540Z"
   },
   {
    "duration": 3,
    "start_time": "2024-07-18T18:01:21.809Z"
   },
   {
    "duration": 12,
    "start_time": "2024-07-18T18:01:22.248Z"
   },
   {
    "duration": 4,
    "start_time": "2024-07-18T18:01:26.912Z"
   },
   {
    "duration": 12,
    "start_time": "2024-07-18T18:01:27.925Z"
   },
   {
    "duration": 14,
    "start_time": "2024-07-18T18:01:53.216Z"
   },
   {
    "duration": 7,
    "start_time": "2024-07-18T18:01:56.988Z"
   },
   {
    "duration": 13,
    "start_time": "2024-07-18T18:01:57.904Z"
   },
   {
    "duration": 14,
    "start_time": "2024-07-18T18:02:17.264Z"
   },
   {
    "duration": 5,
    "start_time": "2024-07-18T18:03:12.069Z"
   },
   {
    "duration": 29,
    "start_time": "2024-07-18T18:03:19.273Z"
   }
  ],
  "colab": {
   "provenance": []
  },
  "kernelspec": {
   "display_name": "Python 3 (ipykernel)",
   "language": "python",
   "name": "python3"
  },
  "language_info": {
   "codemirror_mode": {
    "name": "ipython",
    "version": 3
   },
   "file_extension": ".py",
   "mimetype": "text/x-python",
   "name": "python",
   "nbconvert_exporter": "python",
   "pygments_lexer": "ipython3",
   "version": "3.9.5"
  },
  "toc": {
   "base_numbering": 1,
   "nav_menu": {},
   "number_sections": true,
   "sideBar": true,
   "skip_h1_title": true,
   "title_cell": "Table of Contents",
   "title_sidebar": "Contents",
   "toc_cell": false,
   "toc_position": {},
   "toc_section_display": true,
   "toc_window_display": true
  }
 },
 "nbformat": 4,
 "nbformat_minor": 5
}
