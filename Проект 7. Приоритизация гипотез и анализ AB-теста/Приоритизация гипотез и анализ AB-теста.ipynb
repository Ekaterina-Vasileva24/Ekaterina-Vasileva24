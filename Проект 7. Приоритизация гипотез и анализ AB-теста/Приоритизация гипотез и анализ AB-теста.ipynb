{
 "cells": [
  {
   "cell_type": "markdown",
   "metadata": {},
   "source": [
    "# Приоритизация гипотез по увеличению выручки интернет-магазина и анализ A/B-теста "
   ]
  },
  {
   "cell_type": "markdown",
   "metadata": {},
   "source": [
    "Вы — аналитик крупного интернет-магазина. Вместе с отделом маркетинга вы подготовили список гипотез для увеличения выручки. Приоритизируйте гипотезы, запустите A/B-тест и проанализируйте результаты. \n",
    "\n",
    "**Цель исследования -**\n",
    "\n",
    "Приотизировать гипотезы с целью увеличения выручки интернет-магазина и проанализировать результаты A/B-теста и дать рекомендации для заказчика.\n",
    "\n",
    "**Ход исследования -**\n",
    "\n",
    "1. Загрузка данных и подготовка их к анализу\n",
    "2. Часть 1. Приоритизация гипотез\n",
    "3. Часть 2. Анализ A/B-теста\n",
    "4. Общий вывод\n",
    "\n",
    "\n",
    "**Описание данных**\n",
    "\n",
    "*Данные для первой части*\n",
    "\n",
    "В файле `/datasets/hypothesis.csv` 9 гипотез по увеличению выручки интернет-магазина с указанными параметрами Reach, Impact, Confidence, Effort:\n",
    "- Hypothesis — краткое описание гипотезы\n",
    "- Reach — охват пользователей по 10-балльной шкале\n",
    "- Impact — влияние на пользователей по 10-балльной шкале\n",
    "- Confidence — уверенность в гипотезе по 10-балльной шкале\n",
    "- Efforts — затраты ресурсов на проверку гипотезы по 10-балльной шкале. Чем больше значение Efforts, тем дороже проверка гипотезы.\n",
    "\n",
    "*Данные для второй части*\n",
    "\n",
    "Результаты  A/B-теста, которые описаны в файлах:\n",
    "\n",
    "`/datasets/orders.csv`\n",
    "- transactionId — идентификатор заказа\n",
    "- visitorId — идентификатор пользователя, совершившего заказ\n",
    "- date — дата, когда был совершён заказ\n",
    "- revenue — выручка заказа\n",
    "- group — группа A/B-теста, в которую попал заказ\n",
    "\n",
    "`/datasets/visitors.csv`\n",
    "- date — дата\n",
    "- group — группа A/B-теста\n",
    "- visitors — количество пользователей в указанную дату в указанной группе A/B-теста"
   ]
  },
  {
   "cell_type": "markdown",
   "metadata": {},
   "source": [
    "### Загрузка данных и подготовка их к анализу"
   ]
  },
  {
   "cell_type": "markdown",
   "metadata": {},
   "source": [
    "#### Загрузка данных и обзор общей информации"
   ]
  },
  {
   "cell_type": "code",
   "execution_count": 1,
   "metadata": {},
   "outputs": [],
   "source": [
    "#импорт библиотеки pandas\n",
    "import pandas as pd \n",
    "#импорт библиотеки numpy\n",
    "import numpy as np\n",
    "import scipy.stats as stats\n",
    "from matplotlib import pyplot as plt\n",
    "\n",
    "hypothesis = pd.read_csv('/datasets/hypothesis.csv')\n",
    "orders = pd.read_csv('/datasets/orders.csv')\n",
    "visitors = pd.read_csv('/datasets/visitors.csv')\n",
    "#настройка ширины столбцов\n",
    "pd.set_option('max_colwidth', 1)"
   ]
  },
  {
   "cell_type": "code",
   "execution_count": 2,
   "metadata": {},
   "outputs": [
    {
     "data": {
      "text/html": [
       "<div>\n",
       "<style scoped>\n",
       "    .dataframe tbody tr th:only-of-type {\n",
       "        vertical-align: middle;\n",
       "    }\n",
       "\n",
       "    .dataframe tbody tr th {\n",
       "        vertical-align: top;\n",
       "    }\n",
       "\n",
       "    .dataframe thead th {\n",
       "        text-align: right;\n",
       "    }\n",
       "</style>\n",
       "<table border=\"1\" class=\"dataframe\">\n",
       "  <thead>\n",
       "    <tr style=\"text-align: right;\">\n",
       "      <th></th>\n",
       "      <th>Hypothesis</th>\n",
       "      <th>Reach</th>\n",
       "      <th>Impact</th>\n",
       "      <th>Confidence</th>\n",
       "      <th>Efforts</th>\n",
       "    </tr>\n",
       "  </thead>\n",
       "  <tbody>\n",
       "    <tr>\n",
       "      <th>0</th>\n",
       "      <td>Добавить два новых канала привлечения трафика, что позволит привлекать на 30% больше пользователей</td>\n",
       "      <td>3</td>\n",
       "      <td>10</td>\n",
       "      <td>8</td>\n",
       "      <td>6</td>\n",
       "    </tr>\n",
       "    <tr>\n",
       "      <th>1</th>\n",
       "      <td>Запустить собственную службу доставки, что сократит срок доставки заказов</td>\n",
       "      <td>2</td>\n",
       "      <td>5</td>\n",
       "      <td>4</td>\n",
       "      <td>10</td>\n",
       "    </tr>\n",
       "    <tr>\n",
       "      <th>2</th>\n",
       "      <td>Добавить блоки рекомендаций товаров на сайт интернет магазина, чтобы повысить конверсию и средний чек заказа</td>\n",
       "      <td>8</td>\n",
       "      <td>3</td>\n",
       "      <td>7</td>\n",
       "      <td>3</td>\n",
       "    </tr>\n",
       "    <tr>\n",
       "      <th>3</th>\n",
       "      <td>Изменить структура категорий, что увеличит конверсию, т.к. пользователи быстрее найдут нужный товар</td>\n",
       "      <td>8</td>\n",
       "      <td>3</td>\n",
       "      <td>3</td>\n",
       "      <td>8</td>\n",
       "    </tr>\n",
       "    <tr>\n",
       "      <th>4</th>\n",
       "      <td>Изменить цвет фона главной страницы, чтобы увеличить вовлеченность пользователей</td>\n",
       "      <td>3</td>\n",
       "      <td>1</td>\n",
       "      <td>1</td>\n",
       "      <td>1</td>\n",
       "    </tr>\n",
       "    <tr>\n",
       "      <th>5</th>\n",
       "      <td>Добавить страницу отзывов клиентов о магазине, что позволит увеличить количество заказов</td>\n",
       "      <td>3</td>\n",
       "      <td>2</td>\n",
       "      <td>2</td>\n",
       "      <td>3</td>\n",
       "    </tr>\n",
       "    <tr>\n",
       "      <th>6</th>\n",
       "      <td>Показать на главной странице баннеры с актуальными акциями и распродажами, чтобы увеличить конверсию</td>\n",
       "      <td>5</td>\n",
       "      <td>3</td>\n",
       "      <td>8</td>\n",
       "      <td>3</td>\n",
       "    </tr>\n",
       "    <tr>\n",
       "      <th>7</th>\n",
       "      <td>Добавить форму подписки на все основные страницы, чтобы собрать базу клиентов для email-рассылок</td>\n",
       "      <td>10</td>\n",
       "      <td>7</td>\n",
       "      <td>8</td>\n",
       "      <td>5</td>\n",
       "    </tr>\n",
       "    <tr>\n",
       "      <th>8</th>\n",
       "      <td>Запустить акцию, дающую скидку на товар в день рождения</td>\n",
       "      <td>1</td>\n",
       "      <td>9</td>\n",
       "      <td>9</td>\n",
       "      <td>5</td>\n",
       "    </tr>\n",
       "  </tbody>\n",
       "</table>\n",
       "</div>"
      ],
      "text/plain": [
       "                                                                                                     Hypothesis  \\\n",
       "0  Добавить два новых канала привлечения трафика, что позволит привлекать на 30% больше пользователей             \n",
       "1  Запустить собственную службу доставки, что сократит срок доставки заказов                                      \n",
       "2  Добавить блоки рекомендаций товаров на сайт интернет магазина, чтобы повысить конверсию и средний чек заказа   \n",
       "3  Изменить структура категорий, что увеличит конверсию, т.к. пользователи быстрее найдут нужный товар            \n",
       "4  Изменить цвет фона главной страницы, чтобы увеличить вовлеченность пользователей                               \n",
       "5  Добавить страницу отзывов клиентов о магазине, что позволит увеличить количество заказов                       \n",
       "6  Показать на главной странице баннеры с актуальными акциями и распродажами, чтобы увеличить конверсию           \n",
       "7  Добавить форму подписки на все основные страницы, чтобы собрать базу клиентов для email-рассылок               \n",
       "8  Запустить акцию, дающую скидку на товар в день рождения                                                        \n",
       "\n",
       "   Reach  Impact  Confidence  Efforts  \n",
       "0  3      10      8           6        \n",
       "1  2      5       4           10       \n",
       "2  8      3       7           3        \n",
       "3  8      3       3           8        \n",
       "4  3      1       1           1        \n",
       "5  3      2       2           3        \n",
       "6  5      3       8           3        \n",
       "7  10     7       8           5        \n",
       "8  1      9       9           5        "
      ]
     },
     "metadata": {},
     "output_type": "display_data"
    },
    {
     "name": "stdout",
     "output_type": "stream",
     "text": [
      "<class 'pandas.core.frame.DataFrame'>\n",
      "RangeIndex: 9 entries, 0 to 8\n",
      "Data columns (total 5 columns):\n",
      " #   Column      Non-Null Count  Dtype \n",
      "---  ------      --------------  ----- \n",
      " 0   Hypothesis  9 non-null      object\n",
      " 1   Reach       9 non-null      int64 \n",
      " 2   Impact      9 non-null      int64 \n",
      " 3   Confidence  9 non-null      int64 \n",
      " 4   Efforts     9 non-null      int64 \n",
      "dtypes: int64(4), object(1)\n",
      "memory usage: 488.0+ bytes\n"
     ]
    }
   ],
   "source": [
    "#вывод и получение общей информации о датафрейме hypothesis\n",
    "display(hypothesis)\n",
    "hypothesis.info()"
   ]
  },
  {
   "cell_type": "markdown",
   "metadata": {},
   "source": [
    "В датафрейме hypothesis содержится информация о гипотезах и параметрах для подсчета ICE и  RICE. Наименования столбцов необходимо привести к нижнему регистру. Тип данных корректный."
   ]
  },
  {
   "cell_type": "markdown",
   "metadata": {},
   "source": [
    "В файлах orders.csv и visitors.csv описаны результаты A/B-теста."
   ]
  },
  {
   "cell_type": "code",
   "execution_count": 3,
   "metadata": {},
   "outputs": [
    {
     "data": {
      "text/html": [
       "<div>\n",
       "<style scoped>\n",
       "    .dataframe tbody tr th:only-of-type {\n",
       "        vertical-align: middle;\n",
       "    }\n",
       "\n",
       "    .dataframe tbody tr th {\n",
       "        vertical-align: top;\n",
       "    }\n",
       "\n",
       "    .dataframe thead th {\n",
       "        text-align: right;\n",
       "    }\n",
       "</style>\n",
       "<table border=\"1\" class=\"dataframe\">\n",
       "  <thead>\n",
       "    <tr style=\"text-align: right;\">\n",
       "      <th></th>\n",
       "      <th>transactionId</th>\n",
       "      <th>visitorId</th>\n",
       "      <th>date</th>\n",
       "      <th>revenue</th>\n",
       "      <th>group</th>\n",
       "    </tr>\n",
       "  </thead>\n",
       "  <tbody>\n",
       "    <tr>\n",
       "      <th>0</th>\n",
       "      <td>3667963787</td>\n",
       "      <td>3312258926</td>\n",
       "      <td>2019-08-15</td>\n",
       "      <td>1650</td>\n",
       "      <td>B</td>\n",
       "    </tr>\n",
       "    <tr>\n",
       "      <th>1</th>\n",
       "      <td>2804400009</td>\n",
       "      <td>3642806036</td>\n",
       "      <td>2019-08-15</td>\n",
       "      <td>730</td>\n",
       "      <td>B</td>\n",
       "    </tr>\n",
       "    <tr>\n",
       "      <th>2</th>\n",
       "      <td>2961555356</td>\n",
       "      <td>4069496402</td>\n",
       "      <td>2019-08-15</td>\n",
       "      <td>400</td>\n",
       "      <td>A</td>\n",
       "    </tr>\n",
       "    <tr>\n",
       "      <th>3</th>\n",
       "      <td>3797467345</td>\n",
       "      <td>1196621759</td>\n",
       "      <td>2019-08-15</td>\n",
       "      <td>9759</td>\n",
       "      <td>B</td>\n",
       "    </tr>\n",
       "    <tr>\n",
       "      <th>4</th>\n",
       "      <td>2282983706</td>\n",
       "      <td>2322279887</td>\n",
       "      <td>2019-08-15</td>\n",
       "      <td>2308</td>\n",
       "      <td>B</td>\n",
       "    </tr>\n",
       "  </tbody>\n",
       "</table>\n",
       "</div>"
      ],
      "text/plain": [
       "   transactionId   visitorId        date  revenue group\n",
       "0  3667963787     3312258926  2019-08-15  1650     B   \n",
       "1  2804400009     3642806036  2019-08-15  730      B   \n",
       "2  2961555356     4069496402  2019-08-15  400      A   \n",
       "3  3797467345     1196621759  2019-08-15  9759     B   \n",
       "4  2282983706     2322279887  2019-08-15  2308     B   "
      ]
     },
     "metadata": {},
     "output_type": "display_data"
    },
    {
     "name": "stdout",
     "output_type": "stream",
     "text": [
      "<class 'pandas.core.frame.DataFrame'>\n",
      "RangeIndex: 1197 entries, 0 to 1196\n",
      "Data columns (total 5 columns):\n",
      " #   Column         Non-Null Count  Dtype \n",
      "---  ------         --------------  ----- \n",
      " 0   transactionId  1197 non-null   int64 \n",
      " 1   visitorId      1197 non-null   int64 \n",
      " 2   date           1197 non-null   object\n",
      " 3   revenue        1197 non-null   int64 \n",
      " 4   group          1197 non-null   object\n",
      "dtypes: int64(3), object(2)\n",
      "memory usage: 46.9+ KB\n"
     ]
    }
   ],
   "source": [
    "#вывод и получение общей информации о датафрейме orders\n",
    "display(orders.head())\n",
    "orders.info()"
   ]
  },
  {
   "cell_type": "markdown",
   "metadata": {},
   "source": [
    "В датафрейме orders необходимо скорректировать названия столбцов transactionId и visitorId и изменить тип данных столбца date."
   ]
  },
  {
   "cell_type": "code",
   "execution_count": 4,
   "metadata": {},
   "outputs": [
    {
     "data": {
      "text/html": [
       "<div>\n",
       "<style scoped>\n",
       "    .dataframe tbody tr th:only-of-type {\n",
       "        vertical-align: middle;\n",
       "    }\n",
       "\n",
       "    .dataframe tbody tr th {\n",
       "        vertical-align: top;\n",
       "    }\n",
       "\n",
       "    .dataframe thead th {\n",
       "        text-align: right;\n",
       "    }\n",
       "</style>\n",
       "<table border=\"1\" class=\"dataframe\">\n",
       "  <thead>\n",
       "    <tr style=\"text-align: right;\">\n",
       "      <th></th>\n",
       "      <th>date</th>\n",
       "      <th>group</th>\n",
       "      <th>visitors</th>\n",
       "    </tr>\n",
       "  </thead>\n",
       "  <tbody>\n",
       "    <tr>\n",
       "      <th>0</th>\n",
       "      <td>2019-08-01</td>\n",
       "      <td>A</td>\n",
       "      <td>719</td>\n",
       "    </tr>\n",
       "    <tr>\n",
       "      <th>1</th>\n",
       "      <td>2019-08-02</td>\n",
       "      <td>A</td>\n",
       "      <td>619</td>\n",
       "    </tr>\n",
       "    <tr>\n",
       "      <th>2</th>\n",
       "      <td>2019-08-03</td>\n",
       "      <td>A</td>\n",
       "      <td>507</td>\n",
       "    </tr>\n",
       "    <tr>\n",
       "      <th>3</th>\n",
       "      <td>2019-08-04</td>\n",
       "      <td>A</td>\n",
       "      <td>717</td>\n",
       "    </tr>\n",
       "    <tr>\n",
       "      <th>4</th>\n",
       "      <td>2019-08-05</td>\n",
       "      <td>A</td>\n",
       "      <td>756</td>\n",
       "    </tr>\n",
       "  </tbody>\n",
       "</table>\n",
       "</div>"
      ],
      "text/plain": [
       "         date group  visitors\n",
       "0  2019-08-01  A     719     \n",
       "1  2019-08-02  A     619     \n",
       "2  2019-08-03  A     507     \n",
       "3  2019-08-04  A     717     \n",
       "4  2019-08-05  A     756     "
      ]
     },
     "metadata": {},
     "output_type": "display_data"
    },
    {
     "name": "stdout",
     "output_type": "stream",
     "text": [
      "<class 'pandas.core.frame.DataFrame'>\n",
      "RangeIndex: 62 entries, 0 to 61\n",
      "Data columns (total 3 columns):\n",
      " #   Column    Non-Null Count  Dtype \n",
      "---  ------    --------------  ----- \n",
      " 0   date      62 non-null     object\n",
      " 1   group     62 non-null     object\n",
      " 2   visitors  62 non-null     int64 \n",
      "dtypes: int64(1), object(2)\n",
      "memory usage: 1.6+ KB\n"
     ]
    }
   ],
   "source": [
    "#вывод и получение общей информации о датафрейме visitors\n",
    "display(visitors.head())\n",
    "visitors.info()"
   ]
  },
  {
   "cell_type": "markdown",
   "metadata": {},
   "source": [
    "В датафрейме visitors - изменить тип данных в столбце date."
   ]
  },
  {
   "cell_type": "markdown",
   "metadata": {},
   "source": [
    "#### Предобработка данных"
   ]
  },
  {
   "cell_type": "markdown",
   "metadata": {},
   "source": [
    "*Датафрейм `hypothesis`*"
   ]
  },
  {
   "cell_type": "code",
   "execution_count": 5,
   "metadata": {},
   "outputs": [
    {
     "data": {
      "text/plain": [
       "Index(['hypothesis', 'reach', 'impact', 'confidence', 'efforts'], dtype='object')"
      ]
     },
     "execution_count": 5,
     "metadata": {},
     "output_type": "execute_result"
    }
   ],
   "source": [
    "#приведение названия столбцов к нижнему регистру\n",
    "hypothesis.columns = hypothesis.columns.str.lower()\n",
    "hypothesis.columns"
   ]
  },
  {
   "cell_type": "code",
   "execution_count": 6,
   "metadata": {},
   "outputs": [
    {
     "data": {
      "text/plain": [
       "0"
      ]
     },
     "execution_count": 6,
     "metadata": {},
     "output_type": "execute_result"
    }
   ],
   "source": [
    "#подсчёт явных дубликатов\n",
    "hypothesis.duplicated().sum()"
   ]
  },
  {
   "cell_type": "markdown",
   "metadata": {},
   "source": [
    "*Датафрейм `orders`*"
   ]
  },
  {
   "cell_type": "code",
   "execution_count": 7,
   "metadata": {},
   "outputs": [],
   "source": [
    "#переименование столбцов \n",
    "orders = orders.rename(columns={'transactionId': 'transaction_id', 'visitorId': 'visitor_id'})\n",
    "#изменение типа данных\n",
    "orders['date'] = pd.to_datetime(orders['date'], format='%Y-%m-%d')"
   ]
  },
  {
   "cell_type": "code",
   "execution_count": 8,
   "metadata": {},
   "outputs": [
    {
     "data": {
      "text/plain": [
       "0"
      ]
     },
     "execution_count": 8,
     "metadata": {},
     "output_type": "execute_result"
    }
   ],
   "source": [
    "#подсчёт явных дубликатов\n",
    "orders.duplicated().sum()"
   ]
  },
  {
   "cell_type": "markdown",
   "metadata": {},
   "source": [
    "*Датафрейм `visitors`*"
   ]
  },
  {
   "cell_type": "code",
   "execution_count": 9,
   "metadata": {},
   "outputs": [],
   "source": [
    "#изменение типа данных\n",
    "visitors['date'] = pd.to_datetime(visitors['date'], format='%Y-%m-%d')"
   ]
  },
  {
   "cell_type": "code",
   "execution_count": 10,
   "metadata": {},
   "outputs": [
    {
     "data": {
      "text/plain": [
       "0"
      ]
     },
     "execution_count": 10,
     "metadata": {},
     "output_type": "execute_result"
    }
   ],
   "source": [
    "#подсчёт явных дубликатов\n",
    "visitors.duplicated().sum()"
   ]
  },
  {
   "cell_type": "markdown",
   "metadata": {},
   "source": [
    "#### Вывод\n",
    "\n",
    "В ходе предобработки данных:\n",
    "\n",
    "- скорректировали наименования столбцов в датафреймах hypothesis и orders\n",
    "- выяснили, что пропущенные значения и дубликаты отсутствуют\n",
    "- в датафрейме orders и visitors изменили тип данных в столбце с датой\n",
    "\n",
    "Данные готовы к анализу, можем приступать к выполнению задач."
   ]
  },
  {
   "cell_type": "markdown",
   "metadata": {},
   "source": [
    "### Часть 1. Приоритизация гипотез"
   ]
  },
  {
   "cell_type": "markdown",
   "metadata": {},
   "source": [
    "#### Приоритизации гипотез c применением фреймворка ICE "
   ]
  },
  {
   "cell_type": "code",
   "execution_count": 11,
   "metadata": {},
   "outputs": [
    {
     "data": {
      "text/html": [
       "<div>\n",
       "<style scoped>\n",
       "    .dataframe tbody tr th:only-of-type {\n",
       "        vertical-align: middle;\n",
       "    }\n",
       "\n",
       "    .dataframe tbody tr th {\n",
       "        vertical-align: top;\n",
       "    }\n",
       "\n",
       "    .dataframe thead th {\n",
       "        text-align: right;\n",
       "    }\n",
       "</style>\n",
       "<table border=\"1\" class=\"dataframe\">\n",
       "  <thead>\n",
       "    <tr style=\"text-align: right;\">\n",
       "      <th></th>\n",
       "      <th>hypothesis</th>\n",
       "      <th>reach</th>\n",
       "      <th>impact</th>\n",
       "      <th>confidence</th>\n",
       "      <th>efforts</th>\n",
       "      <th>ice</th>\n",
       "    </tr>\n",
       "  </thead>\n",
       "  <tbody>\n",
       "    <tr>\n",
       "      <th>8</th>\n",
       "      <td>Запустить акцию, дающую скидку на товар в день рождения</td>\n",
       "      <td>1</td>\n",
       "      <td>9</td>\n",
       "      <td>9</td>\n",
       "      <td>5</td>\n",
       "      <td>16.200000</td>\n",
       "    </tr>\n",
       "    <tr>\n",
       "      <th>0</th>\n",
       "      <td>Добавить два новых канала привлечения трафика, что позволит привлекать на 30% больше пользователей</td>\n",
       "      <td>3</td>\n",
       "      <td>10</td>\n",
       "      <td>8</td>\n",
       "      <td>6</td>\n",
       "      <td>13.333333</td>\n",
       "    </tr>\n",
       "    <tr>\n",
       "      <th>7</th>\n",
       "      <td>Добавить форму подписки на все основные страницы, чтобы собрать базу клиентов для email-рассылок</td>\n",
       "      <td>10</td>\n",
       "      <td>7</td>\n",
       "      <td>8</td>\n",
       "      <td>5</td>\n",
       "      <td>11.200000</td>\n",
       "    </tr>\n",
       "    <tr>\n",
       "      <th>6</th>\n",
       "      <td>Показать на главной странице баннеры с актуальными акциями и распродажами, чтобы увеличить конверсию</td>\n",
       "      <td>5</td>\n",
       "      <td>3</td>\n",
       "      <td>8</td>\n",
       "      <td>3</td>\n",
       "      <td>8.000000</td>\n",
       "    </tr>\n",
       "    <tr>\n",
       "      <th>2</th>\n",
       "      <td>Добавить блоки рекомендаций товаров на сайт интернет магазина, чтобы повысить конверсию и средний чек заказа</td>\n",
       "      <td>8</td>\n",
       "      <td>3</td>\n",
       "      <td>7</td>\n",
       "      <td>3</td>\n",
       "      <td>7.000000</td>\n",
       "    </tr>\n",
       "    <tr>\n",
       "      <th>1</th>\n",
       "      <td>Запустить собственную службу доставки, что сократит срок доставки заказов</td>\n",
       "      <td>2</td>\n",
       "      <td>5</td>\n",
       "      <td>4</td>\n",
       "      <td>10</td>\n",
       "      <td>2.000000</td>\n",
       "    </tr>\n",
       "    <tr>\n",
       "      <th>5</th>\n",
       "      <td>Добавить страницу отзывов клиентов о магазине, что позволит увеличить количество заказов</td>\n",
       "      <td>3</td>\n",
       "      <td>2</td>\n",
       "      <td>2</td>\n",
       "      <td>3</td>\n",
       "      <td>1.333333</td>\n",
       "    </tr>\n",
       "    <tr>\n",
       "      <th>3</th>\n",
       "      <td>Изменить структура категорий, что увеличит конверсию, т.к. пользователи быстрее найдут нужный товар</td>\n",
       "      <td>8</td>\n",
       "      <td>3</td>\n",
       "      <td>3</td>\n",
       "      <td>8</td>\n",
       "      <td>1.125000</td>\n",
       "    </tr>\n",
       "    <tr>\n",
       "      <th>4</th>\n",
       "      <td>Изменить цвет фона главной страницы, чтобы увеличить вовлеченность пользователей</td>\n",
       "      <td>3</td>\n",
       "      <td>1</td>\n",
       "      <td>1</td>\n",
       "      <td>1</td>\n",
       "      <td>1.000000</td>\n",
       "    </tr>\n",
       "  </tbody>\n",
       "</table>\n",
       "</div>"
      ],
      "text/plain": [
       "                                                                                                     hypothesis  \\\n",
       "8  Запустить акцию, дающую скидку на товар в день рождения                                                        \n",
       "0  Добавить два новых канала привлечения трафика, что позволит привлекать на 30% больше пользователей             \n",
       "7  Добавить форму подписки на все основные страницы, чтобы собрать базу клиентов для email-рассылок               \n",
       "6  Показать на главной странице баннеры с актуальными акциями и распродажами, чтобы увеличить конверсию           \n",
       "2  Добавить блоки рекомендаций товаров на сайт интернет магазина, чтобы повысить конверсию и средний чек заказа   \n",
       "1  Запустить собственную службу доставки, что сократит срок доставки заказов                                      \n",
       "5  Добавить страницу отзывов клиентов о магазине, что позволит увеличить количество заказов                       \n",
       "3  Изменить структура категорий, что увеличит конверсию, т.к. пользователи быстрее найдут нужный товар            \n",
       "4  Изменить цвет фона главной страницы, чтобы увеличить вовлеченность пользователей                               \n",
       "\n",
       "   reach  impact  confidence  efforts        ice  \n",
       "8  1      9       9           5        16.200000  \n",
       "0  3      10      8           6        13.333333  \n",
       "7  10     7       8           5        11.200000  \n",
       "6  5      3       8           3        8.000000   \n",
       "2  8      3       7           3        7.000000   \n",
       "1  2      5       4           10       2.000000   \n",
       "5  3      2       2           3        1.333333   \n",
       "3  8      3       3           8        1.125000   \n",
       "4  3      1       1           1        1.000000   "
      ]
     },
     "execution_count": 11,
     "metadata": {},
     "output_type": "execute_result"
    }
   ],
   "source": [
    "#добавим новый столбец с подсчетом ICE для гипотез\n",
    "hypothesis['ice'] = hypothesis['impact'] * hypothesis['confidence'] / hypothesis['efforts']\n",
    "#отсортируем их по убыванию приоритета\n",
    "hypothesis.sort_values(by='ice', ascending=False)"
   ]
  },
  {
   "cell_type": "markdown",
   "metadata": {},
   "source": [
    "Наиболее перспективные гипотезы по ICE: 8, 0 и 7."
   ]
  },
  {
   "cell_type": "markdown",
   "metadata": {},
   "source": [
    "#### Приоритизации гипотез c применением фреймворка RICE "
   ]
  },
  {
   "cell_type": "code",
   "execution_count": 12,
   "metadata": {},
   "outputs": [
    {
     "data": {
      "text/html": [
       "<div>\n",
       "<style scoped>\n",
       "    .dataframe tbody tr th:only-of-type {\n",
       "        vertical-align: middle;\n",
       "    }\n",
       "\n",
       "    .dataframe tbody tr th {\n",
       "        vertical-align: top;\n",
       "    }\n",
       "\n",
       "    .dataframe thead th {\n",
       "        text-align: right;\n",
       "    }\n",
       "</style>\n",
       "<table border=\"1\" class=\"dataframe\">\n",
       "  <thead>\n",
       "    <tr style=\"text-align: right;\">\n",
       "      <th></th>\n",
       "      <th>hypothesis</th>\n",
       "      <th>reach</th>\n",
       "      <th>impact</th>\n",
       "      <th>confidence</th>\n",
       "      <th>efforts</th>\n",
       "      <th>ice</th>\n",
       "      <th>rice</th>\n",
       "    </tr>\n",
       "  </thead>\n",
       "  <tbody>\n",
       "    <tr>\n",
       "      <th>7</th>\n",
       "      <td>Добавить форму подписки на все основные страницы, чтобы собрать базу клиентов для email-рассылок</td>\n",
       "      <td>10</td>\n",
       "      <td>7</td>\n",
       "      <td>8</td>\n",
       "      <td>5</td>\n",
       "      <td>11.200000</td>\n",
       "      <td>112.0</td>\n",
       "    </tr>\n",
       "    <tr>\n",
       "      <th>2</th>\n",
       "      <td>Добавить блоки рекомендаций товаров на сайт интернет магазина, чтобы повысить конверсию и средний чек заказа</td>\n",
       "      <td>8</td>\n",
       "      <td>3</td>\n",
       "      <td>7</td>\n",
       "      <td>3</td>\n",
       "      <td>7.000000</td>\n",
       "      <td>56.0</td>\n",
       "    </tr>\n",
       "    <tr>\n",
       "      <th>0</th>\n",
       "      <td>Добавить два новых канала привлечения трафика, что позволит привлекать на 30% больше пользователей</td>\n",
       "      <td>3</td>\n",
       "      <td>10</td>\n",
       "      <td>8</td>\n",
       "      <td>6</td>\n",
       "      <td>13.333333</td>\n",
       "      <td>40.0</td>\n",
       "    </tr>\n",
       "    <tr>\n",
       "      <th>6</th>\n",
       "      <td>Показать на главной странице баннеры с актуальными акциями и распродажами, чтобы увеличить конверсию</td>\n",
       "      <td>5</td>\n",
       "      <td>3</td>\n",
       "      <td>8</td>\n",
       "      <td>3</td>\n",
       "      <td>8.000000</td>\n",
       "      <td>40.0</td>\n",
       "    </tr>\n",
       "    <tr>\n",
       "      <th>8</th>\n",
       "      <td>Запустить акцию, дающую скидку на товар в день рождения</td>\n",
       "      <td>1</td>\n",
       "      <td>9</td>\n",
       "      <td>9</td>\n",
       "      <td>5</td>\n",
       "      <td>16.200000</td>\n",
       "      <td>16.2</td>\n",
       "    </tr>\n",
       "    <tr>\n",
       "      <th>3</th>\n",
       "      <td>Изменить структура категорий, что увеличит конверсию, т.к. пользователи быстрее найдут нужный товар</td>\n",
       "      <td>8</td>\n",
       "      <td>3</td>\n",
       "      <td>3</td>\n",
       "      <td>8</td>\n",
       "      <td>1.125000</td>\n",
       "      <td>9.0</td>\n",
       "    </tr>\n",
       "    <tr>\n",
       "      <th>1</th>\n",
       "      <td>Запустить собственную службу доставки, что сократит срок доставки заказов</td>\n",
       "      <td>2</td>\n",
       "      <td>5</td>\n",
       "      <td>4</td>\n",
       "      <td>10</td>\n",
       "      <td>2.000000</td>\n",
       "      <td>4.0</td>\n",
       "    </tr>\n",
       "    <tr>\n",
       "      <th>5</th>\n",
       "      <td>Добавить страницу отзывов клиентов о магазине, что позволит увеличить количество заказов</td>\n",
       "      <td>3</td>\n",
       "      <td>2</td>\n",
       "      <td>2</td>\n",
       "      <td>3</td>\n",
       "      <td>1.333333</td>\n",
       "      <td>4.0</td>\n",
       "    </tr>\n",
       "    <tr>\n",
       "      <th>4</th>\n",
       "      <td>Изменить цвет фона главной страницы, чтобы увеличить вовлеченность пользователей</td>\n",
       "      <td>3</td>\n",
       "      <td>1</td>\n",
       "      <td>1</td>\n",
       "      <td>1</td>\n",
       "      <td>1.000000</td>\n",
       "      <td>3.0</td>\n",
       "    </tr>\n",
       "  </tbody>\n",
       "</table>\n",
       "</div>"
      ],
      "text/plain": [
       "                                                                                                     hypothesis  \\\n",
       "7  Добавить форму подписки на все основные страницы, чтобы собрать базу клиентов для email-рассылок               \n",
       "2  Добавить блоки рекомендаций товаров на сайт интернет магазина, чтобы повысить конверсию и средний чек заказа   \n",
       "0  Добавить два новых канала привлечения трафика, что позволит привлекать на 30% больше пользователей             \n",
       "6  Показать на главной странице баннеры с актуальными акциями и распродажами, чтобы увеличить конверсию           \n",
       "8  Запустить акцию, дающую скидку на товар в день рождения                                                        \n",
       "3  Изменить структура категорий, что увеличит конверсию, т.к. пользователи быстрее найдут нужный товар            \n",
       "1  Запустить собственную службу доставки, что сократит срок доставки заказов                                      \n",
       "5  Добавить страницу отзывов клиентов о магазине, что позволит увеличить количество заказов                       \n",
       "4  Изменить цвет фона главной страницы, чтобы увеличить вовлеченность пользователей                               \n",
       "\n",
       "   reach  impact  confidence  efforts        ice   rice  \n",
       "7  10     7       8           5        11.200000  112.0  \n",
       "2  8      3       7           3        7.000000   56.0   \n",
       "0  3      10      8           6        13.333333  40.0   \n",
       "6  5      3       8           3        8.000000   40.0   \n",
       "8  1      9       9           5        16.200000  16.2   \n",
       "3  8      3       3           8        1.125000   9.0    \n",
       "1  2      5       4           10       2.000000   4.0    \n",
       "5  3      2       2           3        1.333333   4.0    \n",
       "4  3      1       1           1        1.000000   3.0    "
      ]
     },
     "execution_count": 12,
     "metadata": {},
     "output_type": "execute_result"
    }
   ],
   "source": [
    "#добавим новый столбец с подсчетом ICE для гипотез\n",
    "hypothesis['rice'] = hypothesis['reach'] * hypothesis['impact'] * hypothesis['confidence'] / hypothesis['efforts']\n",
    "#отсортируем их по убыванию приоритета\n",
    "hypothesis.sort_values(by='rice', ascending=False)"
   ]
  },
  {
   "cell_type": "markdown",
   "metadata": {},
   "source": [
    "7 гипотеза - самая перспективная по RICE. Затем идут гипотезы 2 и 0. "
   ]
  },
  {
   "cell_type": "markdown",
   "metadata": {},
   "source": [
    "#### Вывод\n",
    "\n",
    "Приоритизация гипотез при применении RICE вместо ICE изменилась в первую очередь для гипотезы 7, потому что ее параметр reach (сколько пользователей затронут изменения) равен 10, она затронет всех пользователей. Гипотеза под номером 0 также осталась приоритетной, хотя ее параметр reach равен 3, параметры impact и confidence у нее самые высокие.\n",
    "\n",
    "Приоритетность гипотезы 8 понизилась после применения фреймворка RICE, и неудивительно, ведь она затронет минимальное количество пользователей, в отличие от гипотезы 2, которая оказалась на 2 месте приоритета после подсчета RICE.\n",
    "\n",
    "Таким образом, кроме силы гипотез, нужно учитывать и охват аудитории."
   ]
  },
  {
   "cell_type": "markdown",
   "metadata": {},
   "source": [
    "### Часть 2. Анализ A/B-теста"
   ]
  },
  {
   "cell_type": "markdown",
   "metadata": {},
   "source": [
    "Проверим есть ли пользователи, которые попали в обе группы теста. "
   ]
  },
  {
   "cell_type": "code",
   "execution_count": 13,
   "metadata": {},
   "outputs": [
    {
     "data": {
      "text/plain": [
       "group    58\n",
       "dtype: int64"
      ]
     },
     "execution_count": 13,
     "metadata": {},
     "output_type": "execute_result"
    }
   ],
   "source": [
    "#количество пользователей, попавших в обе группы\n",
    "orders.groupby('visitor_id').agg({'group' : 'nunique'}).query('group > 1').count()"
   ]
  },
  {
   "cell_type": "code",
   "execution_count": 14,
   "metadata": {},
   "outputs": [],
   "source": [
    "#создаем список пользователей с уникальными visitor_id\n",
    "double_users = (\n",
    "    orders.groupby('visitor_id').agg({'group' : 'nunique'})\n",
    "    .reset_index().query('group > 1')['visitor_id'].unique()\n",
    ")\n",
    "#удаляем этих пользователей из таблицы orders\n",
    "orders = orders.query('visitor_id not in @double_users')"
   ]
  },
  {
   "cell_type": "markdown",
   "metadata": {},
   "source": [
    "#### График кумулятивной выручки по группам"
   ]
  },
  {
   "cell_type": "markdown",
   "metadata": {},
   "source": [
    "Чтобы построить графики, нужно собрать кумулятивные данные. "
   ]
  },
  {
   "cell_type": "code",
   "execution_count": 15,
   "metadata": {},
   "outputs": [
    {
     "data": {
      "text/html": [
       "<div>\n",
       "<style scoped>\n",
       "    .dataframe tbody tr th:only-of-type {\n",
       "        vertical-align: middle;\n",
       "    }\n",
       "\n",
       "    .dataframe tbody tr th {\n",
       "        vertical-align: top;\n",
       "    }\n",
       "\n",
       "    .dataframe thead th {\n",
       "        text-align: right;\n",
       "    }\n",
       "</style>\n",
       "<table border=\"1\" class=\"dataframe\">\n",
       "  <thead>\n",
       "    <tr style=\"text-align: right;\">\n",
       "      <th></th>\n",
       "      <th>date</th>\n",
       "      <th>group</th>\n",
       "    </tr>\n",
       "  </thead>\n",
       "  <tbody>\n",
       "    <tr>\n",
       "      <th>0</th>\n",
       "      <td>2019-08-15</td>\n",
       "      <td>B</td>\n",
       "    </tr>\n",
       "    <tr>\n",
       "      <th>7</th>\n",
       "      <td>2019-08-15</td>\n",
       "      <td>A</td>\n",
       "    </tr>\n",
       "    <tr>\n",
       "      <th>45</th>\n",
       "      <td>2019-08-16</td>\n",
       "      <td>A</td>\n",
       "    </tr>\n",
       "    <tr>\n",
       "      <th>47</th>\n",
       "      <td>2019-08-16</td>\n",
       "      <td>B</td>\n",
       "    </tr>\n",
       "    <tr>\n",
       "      <th>55</th>\n",
       "      <td>2019-08-01</td>\n",
       "      <td>A</td>\n",
       "    </tr>\n",
       "  </tbody>\n",
       "</table>\n",
       "</div>"
      ],
      "text/plain": [
       "         date group\n",
       "0  2019-08-15  B   \n",
       "7  2019-08-15  A   \n",
       "45 2019-08-16  A   \n",
       "47 2019-08-16  B   \n",
       "55 2019-08-01  A   "
      ]
     },
     "execution_count": 15,
     "metadata": {},
     "output_type": "execute_result"
    }
   ],
   "source": [
    "#создадим датафрейм с уникальными парами значений date и group таблицы orders\n",
    "dates_groups = orders[['date', 'group']].drop_duplicates()\n",
    "dates_groups.head()"
   ]
  },
  {
   "cell_type": "code",
   "execution_count": 16,
   "metadata": {},
   "outputs": [
    {
     "data": {
      "text/html": [
       "<div>\n",
       "<style scoped>\n",
       "    .dataframe tbody tr th:only-of-type {\n",
       "        vertical-align: middle;\n",
       "    }\n",
       "\n",
       "    .dataframe tbody tr th {\n",
       "        vertical-align: top;\n",
       "    }\n",
       "\n",
       "    .dataframe thead th {\n",
       "        text-align: right;\n",
       "    }\n",
       "</style>\n",
       "<table border=\"1\" class=\"dataframe\">\n",
       "  <thead>\n",
       "    <tr style=\"text-align: right;\">\n",
       "      <th></th>\n",
       "      <th>date</th>\n",
       "      <th>group</th>\n",
       "      <th>transaction_id</th>\n",
       "      <th>visitor_id</th>\n",
       "      <th>revenue</th>\n",
       "    </tr>\n",
       "  </thead>\n",
       "  <tbody>\n",
       "    <tr>\n",
       "      <th>55</th>\n",
       "      <td>2019-08-01</td>\n",
       "      <td>A</td>\n",
       "      <td>23</td>\n",
       "      <td>19</td>\n",
       "      <td>142779</td>\n",
       "    </tr>\n",
       "    <tr>\n",
       "      <th>66</th>\n",
       "      <td>2019-08-01</td>\n",
       "      <td>B</td>\n",
       "      <td>17</td>\n",
       "      <td>17</td>\n",
       "      <td>59758</td>\n",
       "    </tr>\n",
       "    <tr>\n",
       "      <th>175</th>\n",
       "      <td>2019-08-02</td>\n",
       "      <td>A</td>\n",
       "      <td>42</td>\n",
       "      <td>36</td>\n",
       "      <td>234381</td>\n",
       "    </tr>\n",
       "    <tr>\n",
       "      <th>173</th>\n",
       "      <td>2019-08-02</td>\n",
       "      <td>B</td>\n",
       "      <td>40</td>\n",
       "      <td>39</td>\n",
       "      <td>221801</td>\n",
       "    </tr>\n",
       "    <tr>\n",
       "      <th>291</th>\n",
       "      <td>2019-08-03</td>\n",
       "      <td>A</td>\n",
       "      <td>66</td>\n",
       "      <td>60</td>\n",
       "      <td>346854</td>\n",
       "    </tr>\n",
       "  </tbody>\n",
       "</table>\n",
       "</div>"
      ],
      "text/plain": [
       "          date group  transaction_id  visitor_id  revenue\n",
       "55  2019-08-01  A     23              19          142779 \n",
       "66  2019-08-01  B     17              17          59758  \n",
       "175 2019-08-02  A     42              36          234381 \n",
       "173 2019-08-02  B     40              39          221801 \n",
       "291 2019-08-03  A     66              60          346854 "
      ]
     },
     "execution_count": 16,
     "metadata": {},
     "output_type": "execute_result"
    }
   ],
   "source": [
    "#объявим переменную, в которой будут дата, группы А/В-теста, количество уникальных заказов в группе, \n",
    "#количество уникальных пользователей, совершивших хотя бы 1 заказ и суммарная выручка заказов в группе\n",
    "orders_aggregated = dates_groups.apply(\n",
    "    lambda x: orders[np.logical_and(orders['date'] <= x['date'], orders['group'] == x['group'])].agg({\n",
    "        'date' : 'max',\n",
    "        'group' : 'max',\n",
    "        'transaction_id' : pd.Series.nunique,\n",
    "        'visitor_id' : pd.Series.nunique,\n",
    "        'revenue' : 'sum'}), axis=1).sort_values(by=['date','group']) \n",
    "orders_aggregated.head()"
   ]
  },
  {
   "cell_type": "code",
   "execution_count": 17,
   "metadata": {},
   "outputs": [
    {
     "data": {
      "text/html": [
       "<div>\n",
       "<style scoped>\n",
       "    .dataframe tbody tr th:only-of-type {\n",
       "        vertical-align: middle;\n",
       "    }\n",
       "\n",
       "    .dataframe tbody tr th {\n",
       "        vertical-align: top;\n",
       "    }\n",
       "\n",
       "    .dataframe thead th {\n",
       "        text-align: right;\n",
       "    }\n",
       "</style>\n",
       "<table border=\"1\" class=\"dataframe\">\n",
       "  <thead>\n",
       "    <tr style=\"text-align: right;\">\n",
       "      <th></th>\n",
       "      <th>date</th>\n",
       "      <th>group</th>\n",
       "      <th>visitors</th>\n",
       "    </tr>\n",
       "  </thead>\n",
       "  <tbody>\n",
       "    <tr>\n",
       "      <th>55</th>\n",
       "      <td>2019-08-01</td>\n",
       "      <td>A</td>\n",
       "      <td>719</td>\n",
       "    </tr>\n",
       "    <tr>\n",
       "      <th>66</th>\n",
       "      <td>2019-08-01</td>\n",
       "      <td>B</td>\n",
       "      <td>713</td>\n",
       "    </tr>\n",
       "    <tr>\n",
       "      <th>175</th>\n",
       "      <td>2019-08-02</td>\n",
       "      <td>A</td>\n",
       "      <td>1338</td>\n",
       "    </tr>\n",
       "    <tr>\n",
       "      <th>173</th>\n",
       "      <td>2019-08-02</td>\n",
       "      <td>B</td>\n",
       "      <td>1294</td>\n",
       "    </tr>\n",
       "    <tr>\n",
       "      <th>291</th>\n",
       "      <td>2019-08-03</td>\n",
       "      <td>A</td>\n",
       "      <td>1845</td>\n",
       "    </tr>\n",
       "  </tbody>\n",
       "</table>\n",
       "</div>"
      ],
      "text/plain": [
       "          date group  visitors\n",
       "55  2019-08-01  A     719     \n",
       "66  2019-08-01  B     713     \n",
       "175 2019-08-02  A     1338    \n",
       "173 2019-08-02  B     1294    \n",
       "291 2019-08-03  A     1845    "
      ]
     },
     "execution_count": 17,
     "metadata": {},
     "output_type": "execute_result"
    }
   ],
   "source": [
    "#объявим переменную, в которой будут дата, группы А/В-теста, количество уникальных посетителей в группе \n",
    "visitors_aggregated = dates_groups.apply(\n",
    "    lambda x: visitors[np.logical_and(visitors['date'] <= x['date'], visitors['group'] == x['group'])].agg({\n",
    "        'date' : 'max', \n",
    "        'group' : 'max', \n",
    "        'visitors' : 'sum'}), axis=1).sort_values(by=['date','group'])\n",
    "visitors_aggregated.head()"
   ]
  },
  {
   "cell_type": "code",
   "execution_count": 18,
   "metadata": {
    "scrolled": true
   },
   "outputs": [
    {
     "data": {
      "text/html": [
       "<div>\n",
       "<style scoped>\n",
       "    .dataframe tbody tr th:only-of-type {\n",
       "        vertical-align: middle;\n",
       "    }\n",
       "\n",
       "    .dataframe tbody tr th {\n",
       "        vertical-align: top;\n",
       "    }\n",
       "\n",
       "    .dataframe thead th {\n",
       "        text-align: right;\n",
       "    }\n",
       "</style>\n",
       "<table border=\"1\" class=\"dataframe\">\n",
       "  <thead>\n",
       "    <tr style=\"text-align: right;\">\n",
       "      <th></th>\n",
       "      <th>date</th>\n",
       "      <th>group</th>\n",
       "      <th>orders</th>\n",
       "      <th>buyers</th>\n",
       "      <th>revenue</th>\n",
       "      <th>visitors</th>\n",
       "    </tr>\n",
       "  </thead>\n",
       "  <tbody>\n",
       "    <tr>\n",
       "      <th>0</th>\n",
       "      <td>2019-08-01</td>\n",
       "      <td>A</td>\n",
       "      <td>23</td>\n",
       "      <td>19</td>\n",
       "      <td>142779</td>\n",
       "      <td>719</td>\n",
       "    </tr>\n",
       "    <tr>\n",
       "      <th>1</th>\n",
       "      <td>2019-08-01</td>\n",
       "      <td>B</td>\n",
       "      <td>17</td>\n",
       "      <td>17</td>\n",
       "      <td>59758</td>\n",
       "      <td>713</td>\n",
       "    </tr>\n",
       "    <tr>\n",
       "      <th>2</th>\n",
       "      <td>2019-08-02</td>\n",
       "      <td>A</td>\n",
       "      <td>42</td>\n",
       "      <td>36</td>\n",
       "      <td>234381</td>\n",
       "      <td>1338</td>\n",
       "    </tr>\n",
       "    <tr>\n",
       "      <th>3</th>\n",
       "      <td>2019-08-02</td>\n",
       "      <td>B</td>\n",
       "      <td>40</td>\n",
       "      <td>39</td>\n",
       "      <td>221801</td>\n",
       "      <td>1294</td>\n",
       "    </tr>\n",
       "    <tr>\n",
       "      <th>4</th>\n",
       "      <td>2019-08-03</td>\n",
       "      <td>A</td>\n",
       "      <td>66</td>\n",
       "      <td>60</td>\n",
       "      <td>346854</td>\n",
       "      <td>1845</td>\n",
       "    </tr>\n",
       "  </tbody>\n",
       "</table>\n",
       "</div>"
      ],
      "text/plain": [
       "        date group  orders  buyers  revenue  visitors\n",
       "0 2019-08-01  A     23      19      142779   719     \n",
       "1 2019-08-01  B     17      17      59758    713     \n",
       "2 2019-08-02  A     42      36      234381   1338    \n",
       "3 2019-08-02  B     40      39      221801   1294    \n",
       "4 2019-08-03  A     66      60      346854   1845    "
      ]
     },
     "execution_count": 18,
     "metadata": {},
     "output_type": "execute_result"
    }
   ],
   "source": [
    "#объединим 2 таблицы по колонкам 'date', 'group'\n",
    "cumulative_data = orders_aggregated.merge(\n",
    "    visitors_aggregated, left_on=['date', 'group'], right_on = ['date', 'group'])\n",
    "#присвоим новые имена столбцам в созданной таблице для удоства\n",
    "cumulative_data.columns = ['date', 'group', 'orders', 'buyers', 'revenue', 'visitors']\n",
    "cumulative_data.head()"
   ]
  },
  {
   "cell_type": "code",
   "execution_count": 19,
   "metadata": {},
   "outputs": [
    {
     "data": {
      "image/png": "[encoded data removed]",
      "text/plain": [
       "<Figure size 1008x432 with 1 Axes>"
      ]
     },
     "metadata": {
      "needs_background": "light"
     },
     "output_type": "display_data"
    }
   ],
   "source": [
    "#сохраним данные о датах, выручке и числе заказов в группах A и B в новых переменных и построим график\n",
    "cumulative_revenue_a = cumulative_data[cumulative_data['group']=='A'][['date','revenue', 'orders']]\n",
    "cumulative_revenue_b = cumulative_data[cumulative_data['group']=='B'][['date','revenue', 'orders']]\n",
    "\n",
    "#визуализация графика\n",
    "plt.figure(figsize=(14,6))\n",
    "plt.plot(cumulative_revenue_a['date'], cumulative_revenue_a['revenue'], label='A')\n",
    "plt.plot(cumulative_revenue_b['date'], cumulative_revenue_b['revenue'], label='B')\n",
    "\n",
    "plt.title('Кумулятивная выручка по группам')\n",
    "plt.xlabel('Дата')\n",
    "plt.ylabel('Выручка')\n",
    "plt.legend() \n",
    "#показ графика\n",
    "plt.show()"
   ]
  },
  {
   "cell_type": "markdown",
   "metadata": {},
   "source": [
    "Из графика мы видим, что кумулятивная выручка группы В лидирует, но вероятно, дело в аномально больших заказах или всплеске числа заказов в данной группе и делать выводы еще рано."
   ]
  },
  {
   "cell_type": "markdown",
   "metadata": {},
   "source": [
    "#### График кумулятивного среднего чека по группам"
   ]
  },
  {
   "cell_type": "code",
   "execution_count": 20,
   "metadata": {},
   "outputs": [
    {
     "data": {
      "image/png": "[encoded data removed]",
      "text/plain": [
       "<Figure size 1008x432 with 1 Axes>"
      ]
     },
     "metadata": {
      "needs_background": "light"
     },
     "output_type": "display_data"
    }
   ],
   "source": [
    "#визуализация графика\n",
    "plt.figure(figsize=(14,6))\n",
    "plt.plot(cumulative_revenue_a['date'], cumulative_revenue_a['revenue']/cumulative_revenue_a['orders'], label='A')\n",
    "plt.plot(cumulative_revenue_b['date'], cumulative_revenue_b['revenue']/cumulative_revenue_b['orders'], label='B')\n",
    "\n",
    "plt.title('Кумулятивный средний чек по группам')\n",
    "plt.xlabel('Дата')\n",
    "plt.ylabel('Выручка')\n",
    "plt.legend()\n",
    "#показ графика\n",
    "plt.show()"
   ]
  },
  {
   "cell_type": "markdown",
   "metadata": {},
   "source": [
    "По графику кумулятивного среднего чека по группам также наблюдается резкий скачек у группы В, в сравнении с группой А, что подтверждает наличие аномальных данных."
   ]
  },
  {
   "cell_type": "markdown",
   "metadata": {},
   "source": [
    "##### График относительного изменения кумулятивного среднего чека группы B к группе A"
   ]
  },
  {
   "cell_type": "code",
   "execution_count": 21,
   "metadata": {},
   "outputs": [
    {
     "data": {
      "image/png": "[encoded data removed]",
      "text/plain": [
       "<Figure size 1008x432 with 1 Axes>"
      ]
     },
     "metadata": {
      "needs_background": "light"
     },
     "output_type": "display_data"
    }
   ],
   "source": [
    "#объединим данные о датах, выручке и числе заказов в группах A и B для построения графика\n",
    "merged_cumulative_revenue = cumulative_revenue_a.merge(\n",
    "    cumulative_revenue_b, left_on='date', right_on='date', how='left', suffixes=['_a', '_b'])\n",
    "\n",
    "#визуализация графика\n",
    "plt.figure(figsize=(14,6))\n",
    "plt.plot(merged_cumulative_revenue['date'], \n",
    "         (merged_cumulative_revenue['revenue_b']/merged_cumulative_revenue['orders_b'])/\n",
    "         (merged_cumulative_revenue['revenue_a']/merged_cumulative_revenue['orders_a'])-1)\n",
    "#добавляем ось X\n",
    "plt.axhline(y=0, color='black', linestyle='--') \n",
    "\n",
    "plt.title('Относительное изменение кумулятивного среднего чека группы B к группе')\n",
    "plt.xlabel('Дата')\n",
    "plt.ylabel('Относительное изменение, %')\n",
    "#показ графика\n",
    "plt.show()"
   ]
  },
  {
   "cell_type": "markdown",
   "metadata": {},
   "source": [
    "В нескольких точках графика различия между сегментами резко «скачет». Тут явно присутствуют выбросы."
   ]
  },
  {
   "cell_type": "markdown",
   "metadata": {},
   "source": [
    "#### График кумулятивного среднего количества заказов на посетителя по группам"
   ]
  },
  {
   "cell_type": "code",
   "execution_count": 22,
   "metadata": {},
   "outputs": [
    {
     "data": {
      "image/png": "[encoded data removed]",
      "text/plain": [
       "<Figure size 1008x432 with 1 Axes>"
      ]
     },
     "metadata": {
      "needs_background": "light"
     },
     "output_type": "display_data"
    }
   ],
   "source": [
    "#считаем среднее количество заказов на посетителя\n",
    "cumulative_data['conversion'] = cumulative_data['orders']/cumulative_data['visitors']\n",
    "\n",
    "#отделяем данные по группе A и B\n",
    "cumulative_data_a = cumulative_data[cumulative_data['group']=='A']\n",
    "cumulative_data_b = cumulative_data[cumulative_data['group']=='B']\n",
    "\n",
    "#визуализация графика\n",
    "plt.figure(figsize=(14,6))\n",
    "plt.plot(cumulative_data_a['date'], cumulative_data_a['conversion'], label='A')\n",
    "plt.plot(cumulative_data_b['date'], cumulative_data_b['conversion'], label='B')\n",
    "\n",
    "plt.title('Кумулятивное среднее количество заказов на посетителя по группам')\n",
    "plt.xlabel('Дата')\n",
    "plt.ylabel('Выручка')\n",
    "plt.legend()\n",
    "#показ графика\n",
    "plt.show()"
   ]
  },
  {
   "cell_type": "markdown",
   "metadata": {},
   "source": [
    "В начале теста лидировала группа А, но уже с 5 дня мы наблюдаем спад среднего количества заказов."
   ]
  },
  {
   "cell_type": "markdown",
   "metadata": {},
   "source": [
    "##### График относительного изменения кумулятивного среднего количества заказов на посетителя группы B к группе A"
   ]
  },
  {
   "cell_type": "code",
   "execution_count": 23,
   "metadata": {},
   "outputs": [
    {
     "data": {
      "image/png": "[encoded data removed]",
      "text/plain": [
       "<Figure size 1008x432 with 1 Axes>"
      ]
     },
     "metadata": {
      "needs_background": "light"
     },
     "output_type": "display_data"
    }
   ],
   "source": [
    "\n",
    "merged_сumulative_сonversions = cumulative_data_a[['date','conversion']].merge(\n",
    "    cumulative_data_b[['date','conversion']], left_on='date', right_on='date', how='left', suffixes=['_a', '_b'])\n",
    "\n",
    "#визуализация графика\n",
    "plt.figure(figsize=(14,6))\n",
    "plt.plot(merged_сumulative_сonversions['date'], merged_сumulative_сonversions['conversion_b']/\n",
    "         merged_сumulative_сonversions['conversion_a']-1)\n",
    "\n",
    "plt.title('Относительный прирост кумулятивного среднего количества заказов на посетителя группы B относительно группы A')\n",
    "plt.xlabel('Дата')\n",
    "plt.ylabel('Относительное изменение, %')\n",
    "plt.axhline(y=0, color='black', linestyle='--')\n",
    "plt.axhline(y=0.1, color='grey', linestyle='--')\n",
    "#показ графика\n",
    "plt.show()"
   ]
  },
  {
   "cell_type": "markdown",
   "metadata": {},
   "source": [
    "График различия конверсии между группами показывает, что результаты группы B лучше группы A. \n",
    "\n",
    "9 августа 2019 года у группы В наблюдается прирост в 10%, затем достигает своего пика в 20% и держится на уровне 15% от группы А. "
   ]
  },
  {
   "cell_type": "markdown",
   "metadata": {},
   "source": [
    "#### Точечный график количества заказов по пользователям"
   ]
  },
  {
   "cell_type": "code",
   "execution_count": 24,
   "metadata": {},
   "outputs": [
    {
     "data": {
      "image/png": "[encoded data removed]",
      "text/plain": [
       "<Figure size 1008x432 with 1 Axes>"
      ]
     },
     "metadata": {
      "needs_background": "light"
     },
     "output_type": "display_data"
    }
   ],
   "source": [
    "#найдем число заказов по пользователям\n",
    "orders_by_users = (\n",
    "    orders.groupby('visitor_id', as_index=False)\n",
    "    .agg({'transaction_id': pd.Series.nunique})\n",
    ")\n",
    "orders_by_users.columns = ['visitor_id','orders']\n",
    "orders_by_users.sort_values(by='orders', ascending=False)\n",
    "#серия из чисел от 0 до количества наблюдений в orders_by_users\n",
    "x_values = pd.Series(range(0, len(orders_by_users)))\n",
    "\n",
    "#визуализация графика\n",
    "plt.figure(figsize=(14,6))\n",
    "plt.scatter(x_values, orders_by_users['orders']) \n",
    "plt.title('Распределение количества заказов по пользователям')\n",
    "plt.xlabel('Количество пользователей')\n",
    "plt.ylabel('Количество заказов')\n",
    "#показ графика\n",
    "plt.show()"
   ]
  },
  {
   "cell_type": "markdown",
   "metadata": {},
   "source": [
    "Большинство пользователей делали по 1 заказу, количество пользователей, сделавших более двух заказов мало, посмотрим можно ли считать эти данные аномальными, посчитав выборочные перцентили."
   ]
  },
  {
   "cell_type": "markdown",
   "metadata": {},
   "source": [
    "##### 95-й и 99-й перцентили количества заказов на пользователя"
   ]
  },
  {
   "cell_type": "code",
   "execution_count": 25,
   "metadata": {},
   "outputs": [
    {
     "data": {
      "text/plain": [
       "array([1., 2.])"
      ]
     },
     "execution_count": 25,
     "metadata": {},
     "output_type": "execute_result"
    }
   ],
   "source": [
    "np.percentile(orders_by_users['orders'], [95, 99])"
   ]
  },
  {
   "cell_type": "markdown",
   "metadata": {},
   "source": [
    "Не более 5% пользователей совершали больше 2 заказов и не более 1% пользователей больше 2 заказов. Разумно выбрать не более 2-х заказов на одного пользователя за верхнюю границу числа заказов, и отсеять аномальных пользователей по ней. "
   ]
  },
  {
   "cell_type": "markdown",
   "metadata": {},
   "source": [
    "#### Точечный график стоимостей заказов"
   ]
  },
  {
   "cell_type": "code",
   "execution_count": 26,
   "metadata": {},
   "outputs": [
    {
     "data": {
      "image/png": "[encoded data removed]",
      "text/plain": [
       "<Figure size 1008x432 with 1 Axes>"
      ]
     },
     "metadata": {
      "needs_background": "light"
     },
     "output_type": "display_data"
    }
   ],
   "source": [
    "x_values = pd.Series(range(0, len(orders['revenue'])))\n",
    "\n",
    "#визуализация графика\n",
    "plt.figure(figsize=(14,6))\n",
    "plt.scatter(x_values, orders['revenue']) \n",
    "plt.title('Распределение стоимости заказов')\n",
    "plt.xlabel('Количество заказов')\n",
    "plt.ylabel('Выручка')\n",
    "#показ графика\n",
    "plt.show()"
   ]
  },
  {
   "cell_type": "markdown",
   "metadata": {},
   "source": [
    "Есть выбросы в районе 200 тыс и 1.2 млн, большая часть стоимости заказов до 50 тыс, найдем выборочные перцентили."
   ]
  },
  {
   "cell_type": "markdown",
   "metadata": {},
   "source": [
    "##### 95-й и 99-й перцентили стоимости заказов"
   ]
  },
  {
   "cell_type": "code",
   "execution_count": 27,
   "metadata": {},
   "outputs": [
    {
     "data": {
      "text/plain": [
       "array([26785., 53904.])"
      ]
     },
     "execution_count": 27,
     "metadata": {},
     "output_type": "execute_result"
    }
   ],
   "source": [
    "np.percentile(orders['revenue'], [95, 99])"
   ]
  },
  {
   "cell_type": "markdown",
   "metadata": {},
   "source": [
    "Не больше, чем у 5% заказов чек дороже 26 785, и не больше 1% заказов с чеком от 53904. Значит в основном стоимость заказов приходится до 26 785, это и будет граница, свыше которой будут аномальные заказы."
   ]
  },
  {
   "cell_type": "markdown",
   "metadata": {},
   "source": [
    "#### Статистическая значимость различий в среднем количестве заказов на посетителя между группами по «сырым» данным"
   ]
  },
  {
   "cell_type": "markdown",
   "metadata": {},
   "source": [
    "Начнём с подготовки данных."
   ]
  },
  {
   "cell_type": "code",
   "execution_count": 28,
   "metadata": {},
   "outputs": [],
   "source": [
    "#количество пользователей в выбранную дату в группе A\n",
    "visitors_a_daily = visitors[visitors['group'] == 'A'][['date', 'visitors']]\n",
    "visitors_a_daily.columns = ['date', 'visitors_per_date_a']\n",
    "\n",
    "visitors_a_cummulative = visitors_a_daily.apply(\n",
    "    lambda x: visitors_a_daily[visitors_a_daily['date'] <= x['date']].agg(\n",
    "        {'date': 'max', 'visitors_per_date_a': 'sum'}),axis=1)\n",
    "visitors_a_cummulative.columns = ['date', 'visitors_cummulative_a']\n",
    "\n",
    "#количество пользователей в выбранную дату в группе B\n",
    "visitors_b_daily = visitors[visitors['group'] == 'B'][['date', 'visitors']]\n",
    "visitors_b_daily.columns = ['date', 'visitors_per_date_b']\n",
    "\n",
    "visitors_b_cummulative = visitors_b_daily.apply(\n",
    "    lambda x: visitors_b_daily[visitors_b_daily['date'] <= x['date']].agg(\n",
    "        {'date': 'max', 'visitors_per_date_b': 'sum'}), axis=1)\n",
    "visitors_b_cummulative.columns = ['date', 'visitors_cummulative_b']"
   ]
  },
  {
   "cell_type": "code",
   "execution_count": 29,
   "metadata": {},
   "outputs": [],
   "source": [
    "#суммарное число заказов и суммарная выручка до выбранной даты включительно в группе A\n",
    "orders_a_daily = (\n",
    "    orders[orders['group'] == 'A'][['date', 'transaction_id', 'visitor_id', 'revenue']]\n",
    "    .groupby('date', as_index=False).agg({'transaction_id': pd.Series.nunique, 'revenue': 'sum'})\n",
    ")\n",
    "orders_a_daily.columns = ['date', 'orders_per_date_a', 'revenue_per_date_a']\n",
    "\n",
    "orders_a_cummulative = orders_a_daily.apply(\n",
    "    lambda x: orders_a_daily[orders_a_daily['date'] <= x['date']].agg(\n",
    "        {'date': 'max', 'orders_per_date_a': 'sum', 'revenue_per_date_a': 'sum'}), \n",
    "    axis=1).sort_values(by=['date'])\n",
    "orders_a_cummulative.columns = ['date','orders_cummulative_a','revenue_cummulative_a']\n",
    "\n",
    "#суммарное число заказов и суммарная выручка до выбранной даты включительно в группе B\n",
    "orders_b_daily = (\n",
    "    orders[orders['group'] == 'B'][['date', 'transaction_id', 'visitor_id', 'revenue']]\n",
    "    .groupby('date', as_index=False).agg({'transaction_id': pd.Series.nunique, 'revenue': 'sum'})\n",
    ")\n",
    "orders_b_daily.columns = ['date', 'orders_per_date_b', 'revenue_per_date_b']\n",
    "\n",
    "orders_b_cummulative = orders_b_daily.apply(\n",
    "    lambda x: orders_b_daily[orders_b_daily['date'] <= x['date']].agg(\n",
    "        {'date': 'max', 'orders_per_date_b': 'sum', 'revenue_per_date_b': 'sum'}),\n",
    "    axis=1).sort_values(by=['date'])\n",
    "orders_b_cummulative.columns = ['date', 'orders_cummulative_b', 'revenue_cummulative_b']"
   ]
  },
  {
   "cell_type": "code",
   "execution_count": 30,
   "metadata": {},
   "outputs": [
    {
     "data": {
      "text/html": [
       "<div>\n",
       "<style scoped>\n",
       "    .dataframe tbody tr th:only-of-type {\n",
       "        vertical-align: middle;\n",
       "    }\n",
       "\n",
       "    .dataframe tbody tr th {\n",
       "        vertical-align: top;\n",
       "    }\n",
       "\n",
       "    .dataframe thead th {\n",
       "        text-align: right;\n",
       "    }\n",
       "</style>\n",
       "<table border=\"1\" class=\"dataframe\">\n",
       "  <thead>\n",
       "    <tr style=\"text-align: right;\">\n",
       "      <th></th>\n",
       "      <th>date</th>\n",
       "      <th>orders_per_date_a</th>\n",
       "      <th>revenue_per_date_a</th>\n",
       "      <th>orders_per_date_b</th>\n",
       "      <th>revenue_per_date_b</th>\n",
       "      <th>orders_cummulative_a</th>\n",
       "      <th>revenue_cummulative_a</th>\n",
       "      <th>orders_cummulative_b</th>\n",
       "      <th>revenue_cummulative_b</th>\n",
       "      <th>visitors_per_date_a</th>\n",
       "      <th>visitors_per_date_b</th>\n",
       "      <th>visitors_cummulative_a</th>\n",
       "      <th>visitors_cummulative_b</th>\n",
       "    </tr>\n",
       "  </thead>\n",
       "  <tbody>\n",
       "    <tr>\n",
       "      <th>0</th>\n",
       "      <td>2019-08-01</td>\n",
       "      <td>23</td>\n",
       "      <td>142779</td>\n",
       "      <td>17</td>\n",
       "      <td>59758</td>\n",
       "      <td>23</td>\n",
       "      <td>142779</td>\n",
       "      <td>17</td>\n",
       "      <td>59758</td>\n",
       "      <td>719</td>\n",
       "      <td>713</td>\n",
       "      <td>719</td>\n",
       "      <td>713</td>\n",
       "    </tr>\n",
       "    <tr>\n",
       "      <th>1</th>\n",
       "      <td>2019-08-02</td>\n",
       "      <td>19</td>\n",
       "      <td>91602</td>\n",
       "      <td>23</td>\n",
       "      <td>162043</td>\n",
       "      <td>42</td>\n",
       "      <td>234381</td>\n",
       "      <td>40</td>\n",
       "      <td>221801</td>\n",
       "      <td>619</td>\n",
       "      <td>581</td>\n",
       "      <td>1338</td>\n",
       "      <td>1294</td>\n",
       "    </tr>\n",
       "    <tr>\n",
       "      <th>2</th>\n",
       "      <td>2019-08-03</td>\n",
       "      <td>24</td>\n",
       "      <td>112473</td>\n",
       "      <td>14</td>\n",
       "      <td>67049</td>\n",
       "      <td>66</td>\n",
       "      <td>346854</td>\n",
       "      <td>54</td>\n",
       "      <td>288850</td>\n",
       "      <td>507</td>\n",
       "      <td>509</td>\n",
       "      <td>1845</td>\n",
       "      <td>1803</td>\n",
       "    </tr>\n",
       "    <tr>\n",
       "      <th>3</th>\n",
       "      <td>2019-08-04</td>\n",
       "      <td>11</td>\n",
       "      <td>41176</td>\n",
       "      <td>14</td>\n",
       "      <td>96890</td>\n",
       "      <td>77</td>\n",
       "      <td>388030</td>\n",
       "      <td>68</td>\n",
       "      <td>385740</td>\n",
       "      <td>717</td>\n",
       "      <td>770</td>\n",
       "      <td>2562</td>\n",
       "      <td>2573</td>\n",
       "    </tr>\n",
       "    <tr>\n",
       "      <th>4</th>\n",
       "      <td>2019-08-05</td>\n",
       "      <td>22</td>\n",
       "      <td>86383</td>\n",
       "      <td>21</td>\n",
       "      <td>89908</td>\n",
       "      <td>99</td>\n",
       "      <td>474413</td>\n",
       "      <td>89</td>\n",
       "      <td>475648</td>\n",
       "      <td>756</td>\n",
       "      <td>707</td>\n",
       "      <td>3318</td>\n",
       "      <td>3280</td>\n",
       "    </tr>\n",
       "  </tbody>\n",
       "</table>\n",
       "</div>"
      ],
      "text/plain": [
       "        date  orders_per_date_a  revenue_per_date_a  orders_per_date_b  \\\n",
       "0 2019-08-01  23                 142779              17                  \n",
       "1 2019-08-02  19                 91602               23                  \n",
       "2 2019-08-03  24                 112473              14                  \n",
       "3 2019-08-04  11                 41176               14                  \n",
       "4 2019-08-05  22                 86383               21                  \n",
       "\n",
       "   revenue_per_date_b  orders_cummulative_a  revenue_cummulative_a  \\\n",
       "0  59758               23                    142779                  \n",
       "1  162043              42                    234381                  \n",
       "2  67049               66                    346854                  \n",
       "3  96890               77                    388030                  \n",
       "4  89908               99                    474413                  \n",
       "\n",
       "   orders_cummulative_b  revenue_cummulative_b  visitors_per_date_a  \\\n",
       "0  17                    59758                  719                   \n",
       "1  40                    221801                 619                   \n",
       "2  54                    288850                 507                   \n",
       "3  68                    385740                 717                   \n",
       "4  89                    475648                 756                   \n",
       "\n",
       "   visitors_per_date_b  visitors_cummulative_a  visitors_cummulative_b  \n",
       "0  713                  719                     713                     \n",
       "1  581                  1338                    1294                    \n",
       "2  509                  1845                    1803                    \n",
       "3  770                  2562                    2573                    \n",
       "4  707                  3318                    3280                    "
      ]
     },
     "execution_count": 30,
     "metadata": {},
     "output_type": "execute_result"
    }
   ],
   "source": [
    "#объединение всех таблиц\n",
    "data = (\n",
    "    orders_a_daily.merge(\n",
    "        orders_b_daily, left_on='date', right_on='date', how='left'\n",
    "    )\n",
    "    .merge(orders_a_cummulative, left_on='date', right_on='date', how='left')\n",
    "    .merge(orders_b_cummulative, left_on='date', right_on='date', how='left')\n",
    "    .merge(visitors_a_daily, left_on='date', right_on='date', how='left')\n",
    "    .merge(visitors_b_daily, left_on='date', right_on='date', how='left')\n",
    "    .merge(visitors_a_cummulative, left_on='date', right_on='date', how='left')\n",
    "    .merge(visitors_b_cummulative, left_on='date', right_on='date', how='left')\n",
    ")\n",
    "data.head()"
   ]
  },
  {
   "cell_type": "markdown",
   "metadata": {},
   "source": [
    "Посчитаем статистическую значимость различий в среднем числе заказов на пользователя и среднем чеке между группами по «сырым» данным — без удаления аномальных пользователей.\n",
    "\n",
    "Сформулируем гипотезы. \n",
    "\n",
    "- Нулевая: различий в среднем количестве заказов между группами по «сырым» данным нет\n",
    "\n",
    "- Альтернативная: различия в среднем количестве заказо между группами по «сырым» данным есть"
   ]
  },
  {
   "cell_type": "code",
   "execution_count": 31,
   "metadata": {},
   "outputs": [],
   "source": [
    "#cоздадим переменные orders_by_users_a и orders_by_users_b со столбцами ['visitor_id', 'orders']\n",
    "#в них для пользователей, которые заказывали хотя бы 1 раз, укажем число совершённых заказов\n",
    "orders_by_users_a = (\n",
    "    orders[orders['group'] == 'A']\n",
    "    .groupby('visitor_id', as_index=False).agg({'transaction_id': pd.Series.nunique})\n",
    ")\n",
    "orders_by_users_a.columns = ['visitor_id', 'orders']\n",
    "\n",
    "orders_by_users_b = (\n",
    "    orders[orders['group'] == 'B']\n",
    "    .groupby('visitor_id', as_index=False).agg({'transaction_id': pd.Series.nunique})\n",
    ")\n",
    "orders_by_users_b.columns = ['visitor_id', 'orders'] \n",
    "\n",
    "#объявим переменные sample_a и sample_b, в которых пользователям из разных групп будет соответствовать количество заказов\n",
    "#тем, кто ничего не заказал, будут соответствовать нули. Это нужно, чтобы подготовить выборки к проверке критерием Манна-Уитни\n",
    "sample_a = pd.concat([orders_by_users_a['orders'],pd.Series(0, index=np.arange(\n",
    "        data['visitors_per_date_a'].sum() - len(orders_by_users_a['orders'])), name='orders')], axis=0)\n",
    "\n",
    "sample_b = pd.concat([orders_by_users_b['orders'], pd.Series(0, index=np.arange(\n",
    "        data['visitors_per_date_b'].sum() - len(orders_by_users_b['orders'])), name='orders')], axis=0)"
   ]
  },
  {
   "cell_type": "code",
   "execution_count": 32,
   "metadata": {},
   "outputs": [
    {
     "name": "stdout",
     "output_type": "stream",
     "text": [
      "p-value: 0.011018084110014696\n",
      "Отвергаем нулевую гипотезу\n",
      "Относительное различие в среднем между группами: 0.160\n"
     ]
    }
   ],
   "source": [
    "#применим критерий mannwhitneyu()\n",
    "result = stats.mannwhitneyu(sample_a, sample_b)[1]\n",
    "print('p-value:', result)\n",
    "\n",
    "#вывод об отвержении или неотвержении нулевой гипотезы\n",
    "if result < 0.05:\n",
    "    print('Отвергаем нулевую гипотезу')\n",
    "else:\n",
    "    print('Нет оснований отвергнуть нулевую гипотезу')\n",
    "    \n",
    "#относительное различие в среднем между группами\n",
    "print('Относительное различие в среднем между группами: {0:.3f}'.format(sample_b.mean() / sample_a.mean() - 1))"
   ]
  },
  {
   "cell_type": "markdown",
   "metadata": {},
   "source": [
    "P-value меньше 0.05, потому нулевую гипотезу отвергаем. Анализ «сырых данных» сообщает, что в среднем количестве заказов между группами есть статистически значимые различия. Относительный прирост среднего группы B к конверсии группы A равен 16%.\n",
    "Осталось сравнить средние чеки по «сырым данным», а затем обе метрики ещё раз после удаления выбросов."
   ]
  },
  {
   "cell_type": "markdown",
   "metadata": {},
   "source": [
    "#### Статистическая значимость различий в среднем чеке заказа между группами по «сырым» данным"
   ]
  },
  {
   "cell_type": "markdown",
   "metadata": {},
   "source": [
    "Проверим статистическую значимость различий в среднем чеке между сегментами. Сформулируем гипотезы:\n",
    "\n",
    "- Нулевая гипотеза: различий в среднем чеке между группами по «сырым» нет\n",
    "\n",
    "- Альтернативная гипотеза: различия в среднем чеке между группами по «сырым» есть\n",
    "\n",
    "Чтобы рассчитать статистическую значимость различий в среднем чеке, передадим критерию mannwhitneyu() данные о выручке с заказов и найдём относительные различия в среднем чеке между группами."
   ]
  },
  {
   "cell_type": "code",
   "execution_count": 33,
   "metadata": {},
   "outputs": [
    {
     "name": "stdout",
     "output_type": "stream",
     "text": [
      "p-value: 0.8294908998149533\n",
      "Нет оснований отвергнуть нулевую гипотезу\n",
      "Относительное различие в среднем между группами: 0.287\n"
     ]
    }
   ],
   "source": [
    "result = stats.mannwhitneyu(orders[orders['group']=='A']['revenue'], orders[orders['group']=='B']['revenue'])[1]\n",
    "print('p-value:', result)\n",
    "\n",
    "#вывод об отвержении или неотвержении нулевой гипотезы\n",
    "if result < 0.05:\n",
    "    print('Отвергаем нулевую гипотезу')\n",
    "else:\n",
    "    print('Нет оснований отвергнуть нулевую гипотезу')\n",
    "    \n",
    "print('Относительное различие в среднем между группами: {0:.3f}'\n",
    "      .format(orders[orders['group']=='B']['revenue'].mean()/orders[orders['group']=='A']['revenue'].mean()-1))"
   ]
  },
  {
   "cell_type": "markdown",
   "metadata": {},
   "source": [
    "P-value больше 0.05 — статистически значимых отличий в среднем чеке между группами нет. Кроме того, относительное различие среднего чека между сегментами 28,7%."
   ]
  },
  {
   "cell_type": "markdown",
   "metadata": {},
   "source": [
    "#### Статистическая значимость различий в среднем количестве заказов на посетителя между группами по «очищенным» данным"
   ]
  },
  {
   "cell_type": "markdown",
   "metadata": {},
   "source": [
    "Примем за аномальных пользователей тех, кто совершил более 2 заказов или совершил заказ дороже 26 785. "
   ]
  },
  {
   "cell_type": "code",
   "execution_count": 34,
   "metadata": {},
   "outputs": [
    {
     "data": {
      "text/plain": [
       "58"
      ]
     },
     "execution_count": 34,
     "metadata": {},
     "output_type": "execute_result"
    }
   ],
   "source": [
    "#срезы пользователей с числом заказов больше 2 и и пользователей, совершивших заказы дороже 26 785\n",
    "percentile_orders = np.percentile(orders_by_users['orders'], [99][0])\n",
    "percentile_revenue = np.percentile(orders['revenue'], [95][0])\n",
    "\n",
    "many_user_orders = pd.concat(\n",
    "    [orders_by_users_a[orders_by_users_a['orders'] > percentile_orders]['visitor_id'],\n",
    "     orders_by_users_b[orders_by_users_b['orders'] > percentile_orders]['visitor_id']], axis=0)\n",
    "expensive_user_orders = orders[orders['revenue'] > percentile_revenue]['visitor_id']\n",
    "#объединим их в таблице, удалим дубликаты, отсортируем по возрастанию\n",
    "abnormal_users = (\n",
    "    pd.concat([many_user_orders, expensive_user_orders], axis=0)\n",
    "    .drop_duplicates().sort_values()\n",
    ")\n",
    "#узнаем, сколько всего аномальных пользователей\n",
    "abnormal_users.shape[0]"
   ]
  },
  {
   "cell_type": "code",
   "execution_count": 35,
   "metadata": {},
   "outputs": [
    {
     "name": "stdout",
     "output_type": "stream",
     "text": [
      "p-value: 0.01235203801772639\n",
      "Отвергаем нулевую гипотезу\n",
      "Относительное различие в среднем между группами: 0.182\n"
     ]
    }
   ],
   "source": [
    "#сохраним очищенные данные о заказах\n",
    "sample_a_filtered = pd.concat(\n",
    "    [orders_by_users_a[np.logical_not(orders_by_users_a['visitor_id'].isin(abnormal_users))]['orders'],\n",
    "        pd.Series(0,index=np.arange(data['visitors_per_date_a'].sum() - len(orders_by_users_a['orders'])),\n",
    "            name='orders')], axis=0)\n",
    "\n",
    "sample_b_filtered = pd.concat(\n",
    "    [orders_by_users_b[np.logical_not(orders_by_users_b['visitor_id'].isin(abnormal_users))]['orders'],\n",
    "         pd.Series(0, index=np.arange(data['visitors_per_date_b'].sum() - len(orders_by_users_b['orders'])),\n",
    "               name='orders')], axis=0)\n",
    "\n",
    "result = stats.mannwhitneyu(sample_a_filtered, sample_b_filtered)[1]\n",
    "print('p-value:', result)\n",
    "\n",
    "#вывод об отвержении или неотвержении нулевой гипотезы\n",
    "if result < 0.05:\n",
    "    print('Отвергаем нулевую гипотезу')\n",
    "else:\n",
    "    print('Нет оснований отвергнуть нулевую гипотезу')\n",
    "\n",
    "print('Относительное различие в среднем между группами: {0:.3f}'\n",
    "      .format(sample_b_filtered.mean()/sample_a_filtered.mean()-1))"
   ]
  },
  {
   "cell_type": "markdown",
   "metadata": {},
   "source": [
    "Результаты по среднему количеству заказов практически не изменились. Сегмент B значительно лучше сегмента A, относительный прирост среднего группы B к конверсии группы A равен 18,2%."
   ]
  },
  {
   "cell_type": "markdown",
   "metadata": {},
   "source": [
    "#### Статистическая значимость различий в среднем чеке заказа между группами по «очищенным» данным"
   ]
  },
  {
   "cell_type": "code",
   "execution_count": 36,
   "metadata": {},
   "outputs": [
    {
     "name": "stdout",
     "output_type": "stream",
     "text": [
      "p-value: 0.6458964038091206\n",
      "Нет оснований отвергнуть нулевую гипотезу\n",
      "Относительное различие в среднем между группами: -0.048\n"
     ]
    }
   ],
   "source": [
    "result = stats.mannwhitneyu(orders[np.logical_and(orders['group'] == 'A',\n",
    "                                    np.logical_not(orders['visitor_id'].isin(abnormal_users)))]['revenue'],\n",
    "                            orders[np.logical_and(orders['group'] == 'B', \n",
    "                                  np.logical_not(orders['visitor_id'].isin(abnormal_users)))]['revenue'])[1]\n",
    "print('p-value:', result)\n",
    "\n",
    "#вывод об отвержении или неотвержении нулевой гипотезы\n",
    "if result < 0.05:\n",
    "    print('Отвергаем нулевую гипотезу')\n",
    "else:\n",
    "    print('Нет оснований отвергнуть нулевую гипотезу')\n",
    "    \n",
    "print('Относительное различие в среднем между группами: {0:.3f}'\n",
    "      .format(orders[np.logical_and(orders['group'] == 'B',\n",
    "                    np.logical_not(orders['visitor_id'].isin(abnormal_users)))]['revenue'].mean()\n",
    "        / orders[np.logical_and(orders['group'] == 'A',\n",
    "                np.logical_not(orders['visitor_id'].isin(abnormal_users)))]['revenue'].mean()- 1))"
   ]
  },
  {
   "cell_type": "markdown",
   "metadata": {},
   "source": [
    "Несмотря на то, что показатель p-value и общие выводы практически не изменились, разница между сегментами сократилась с 28,7% до 4,8%. "
   ]
  },
  {
   "cell_type": "markdown",
   "metadata": {},
   "source": [
    "Имеющиеся факты:\n",
    "- Есть статистически значимые различия по среднему количеству заказов между группами как по «сырым», так и по данным после фильтрации аномалий;\n",
    "- Нет статистически значимого различия по среднему чеку между группами ни по «сырым», ни по данным после фильтрации аномалий;\n",
    "- График различия среднего количества заказов между группами сообщает, что результаты группы B лучше группы A и имеют тенденцию к росту;\n",
    "- График различия среднего чека колеблется: он и позволил найти аномалии. Сделать из этого графика определённые выводы нельзя."
   ]
  },
  {
   "cell_type": "markdown",
   "metadata": {},
   "source": [
    "### Общий вывод"
   ]
  },
  {
   "cell_type": "markdown",
   "metadata": {},
   "source": [
    "В ходе нашего исследования были выполнены следующие шаги:\n",
    "\n",
    "1. Загрузка данных и подготовка их к анализу\n",
    "\n",
    "- В датафреймах hypothesis и orders наименования столбцов приведены к корректному виду\n",
    "- Изменен тип данных в столбце с датой в датафреймах orders и visitors.\n",
    "- Данные проверены на отсутствие пропущенных значений и явных дубликатов \n",
    "\n",
    "2. Часть 1. Приоритизация гипотез\n",
    "\n",
    "Применены фреймворки ICE и RICE для приоритизации гипотез:\n",
    "\n",
    "- Наиболее перспективные гипотезы по ICE: 8, 0 и 7\n",
    "- Наиболее перспективные гипотезы по RICE: 7, 2 и 0 \n",
    "\n",
    "Фреймворк RICE учитывает дополнительный параметр reach (охват аудитории), что влияет на изменение приоритизации гипотез, в связи с чем: \n",
    "\n",
    "- гипотеза 7 занимает первое место приоритета, потому что ее параметр reach равен 10, она затронет всех пользователей;\n",
    "\n",
    "- гипотеза 8 понизилась в приоритете и несмотря на высокие показатели impact и confidence, охват у нее самый минимальный из всех гипотез, в отличие от гипотезы 2, которая оказалась на втором месте приоритета после подсчета RICE;\n",
    " \n",
    "- гипотеза 0, занимавшая второе место при использовании фреймворка ICE, с учетом RICE заняла третье место приоритетности.\n",
    "\n",
    "3. Часть 2. Анализ A/B-теста\n",
    "\n",
    "Перед началом анализа были удалены пользователи, которые попали в обе группы теста.\n",
    "\n",
    "Построив графики кумулятивной выручки и среднего чека по группам, мы можем сделать вывод о том, что у группы В показатели лучше, чем у группы А, но причиной тому стало присутствие в данных аномальных значений, что подтверждается графиком относительного изменения кумулятивного среднего чека.\n",
    "\n",
    "Исходя из графиков кумулятивного среднего количества заказов, конверсия группы В выше, начиная с 5 дня, что подтверждает график относительного прироста между группами, в котором прирост держится на уровне 15% от группы А.\n",
    "\n",
    "С помощью точечных графиков и вычисления перцентилей удалось отсеять 58 аномальных пользователей, а именно:\n",
    "\n",
    "- пользователей кто совершил более 2 заказов \n",
    "- пользователей, кто совершил заказ дороже 26 785\n",
    "\n",
    "По результатам статистического анализа установили:\n",
    "\n",
    "- есть статистически значимые различия по среднему количеству заказов между группами как по «сырым», так и по данным после фильтрации аномалий. Относительный прирост среднего группы B к конверсии группы A равен 16% по «сырым» данным и 18,2% после фильтрации.\n",
    "- нет статистически значимого различия по среднему чеку между группами ни по «сырым», ни по данным после фильтрации аномалий. Разница между сегментами сократилась с 28,7% до 4,8%\n",
    "\n",
    "***Рекомендации:***\n",
    "\n",
    "1. Приоритет гипотез 7, 2 и 0:\n",
    " - Добавить форму подписки на все основные страницы, чтобы собрать базу клиентов для email-рассылок\t\n",
    " - Добавить блоки рекомендаций товаров на сайт интернет магазина, чтобы повысить конверсию и средний чек заказа\t\n",
    " - Добавить два новых канала привлечения трафика, что позволит привлекать на 30% больше пользователей.\t\n",
    "\n",
    "\n",
    "2. По результатам A/B-теста рекомендуется остановить тест и зафиксировать победу группы В."
   ]
  }
 ],
 "metadata": {
  "ExecuteTimeLog": [
   {
    "duration": 52,
    "start_time": "2024-10-31T12:20:17.192Z"
   },
   {
    "duration": 1066,
    "start_time": "2024-10-31T12:20:21.203Z"
   },
   {
    "duration": 13,
    "start_time": "2024-10-31T12:20:22.743Z"
   },
   {
    "duration": 20,
    "start_time": "2024-10-31T12:20:35.451Z"
   },
   {
    "duration": 5,
    "start_time": "2024-10-31T12:22:47.115Z"
   },
   {
    "duration": 52,
    "start_time": "2024-10-31T12:24:47.282Z"
   },
   {
    "duration": 18,
    "start_time": "2024-10-31T12:24:54.039Z"
   },
   {
    "duration": 6,
    "start_time": "2024-10-31T12:26:37.154Z"
   },
   {
    "duration": 7,
    "start_time": "2024-10-31T12:26:46.342Z"
   },
   {
    "duration": 4,
    "start_time": "2024-10-31T12:26:48.026Z"
   },
   {
    "duration": 17,
    "start_time": "2024-10-31T12:28:54.730Z"
   },
   {
    "duration": 16,
    "start_time": "2024-10-31T12:29:00.834Z"
   },
   {
    "duration": 20,
    "start_time": "2024-10-31T12:36:42.213Z"
   },
   {
    "duration": 15,
    "start_time": "2024-10-31T12:36:59.844Z"
   },
   {
    "duration": 80,
    "start_time": "2024-10-31T12:45:57.384Z"
   },
   {
    "duration": 17,
    "start_time": "2024-10-31T12:45:57.848Z"
   },
   {
    "duration": 80,
    "start_time": "2024-10-31T12:46:10.812Z"
   },
   {
    "duration": 16,
    "start_time": "2024-10-31T12:46:11.262Z"
   },
   {
    "duration": 29,
    "start_time": "2024-10-31T12:47:08.016Z"
   },
   {
    "duration": 16,
    "start_time": "2024-10-31T12:47:08.464Z"
   },
   {
    "duration": 86,
    "start_time": "2024-10-31T12:50:50.936Z"
   },
   {
    "duration": 79,
    "start_time": "2024-10-31T12:50:58.117Z"
   },
   {
    "duration": 15,
    "start_time": "2024-10-31T12:51:00.292Z"
   },
   {
    "duration": 79,
    "start_time": "2024-10-31T12:52:56.595Z"
   },
   {
    "duration": 17,
    "start_time": "2024-10-31T12:52:57.375Z"
   },
   {
    "duration": 953,
    "start_time": "2024-10-31T12:55:42.631Z"
   },
   {
    "duration": 5,
    "start_time": "2024-10-31T12:56:31.448Z"
   },
   {
    "duration": 6,
    "start_time": "2024-10-31T12:56:32.067Z"
   },
   {
    "duration": 13,
    "start_time": "2024-10-31T12:56:34.615Z"
   },
   {
    "duration": 13,
    "start_time": "2024-10-31T13:02:13.999Z"
   },
   {
    "duration": 13,
    "start_time": "2024-10-31T13:02:24.031Z"
   },
   {
    "duration": 743,
    "start_time": "2024-10-31T21:55:36.574Z"
   },
   {
    "duration": 21,
    "start_time": "2024-10-31T21:55:37.318Z"
   },
   {
    "duration": 5,
    "start_time": "2024-10-31T21:55:37.340Z"
   },
   {
    "duration": 11,
    "start_time": "2024-10-31T21:55:37.346Z"
   },
   {
    "duration": 19,
    "start_time": "2024-10-31T21:55:37.359Z"
   },
   {
    "duration": 13,
    "start_time": "2024-10-31T21:55:37.379Z"
   },
   {
    "duration": 21,
    "start_time": "2024-10-31T23:19:14.615Z"
   },
   {
    "duration": 6,
    "start_time": "2024-10-31T23:20:08.131Z"
   },
   {
    "duration": 7,
    "start_time": "2024-10-31T23:27:56.157Z"
   },
   {
    "duration": 17,
    "start_time": "2024-10-31T23:28:15.138Z"
   },
   {
    "duration": 5,
    "start_time": "2024-10-31T23:29:57.165Z"
   },
   {
    "duration": 4,
    "start_time": "2024-10-31T23:30:43.450Z"
   },
   {
    "duration": 11,
    "start_time": "2024-10-31T23:30:55.273Z"
   },
   {
    "duration": 807,
    "start_time": "2024-11-01T20:22:01.806Z"
   },
   {
    "duration": 20,
    "start_time": "2024-11-01T20:22:02.615Z"
   },
   {
    "duration": 56,
    "start_time": "2024-11-01T20:22:02.637Z"
   },
   {
    "duration": 27,
    "start_time": "2024-11-01T20:22:02.695Z"
   },
   {
    "duration": 117,
    "start_time": "2024-11-01T20:22:02.724Z"
   },
   {
    "duration": 18,
    "start_time": "2024-11-01T20:22:02.843Z"
   },
   {
    "duration": 33,
    "start_time": "2024-11-01T20:22:02.863Z"
   },
   {
    "duration": 15,
    "start_time": "2024-11-01T20:22:02.898Z"
   },
   {
    "duration": 9,
    "start_time": "2024-11-01T20:22:02.914Z"
   },
   {
    "duration": 18,
    "start_time": "2024-11-01T20:22:02.925Z"
   },
   {
    "duration": 39,
    "start_time": "2024-11-01T20:22:02.945Z"
   },
   {
    "duration": 9,
    "start_time": "2024-11-01T20:22:02.986Z"
   },
   {
    "duration": 14,
    "start_time": "2024-11-01T20:29:21.286Z"
   },
   {
    "duration": 18,
    "start_time": "2024-11-01T20:40:19.051Z"
   },
   {
    "duration": 95,
    "start_time": "2024-11-01T20:49:20.889Z"
   },
   {
    "duration": 22,
    "start_time": "2024-11-01T20:49:51.677Z"
   },
   {
    "duration": 204,
    "start_time": "2024-11-01T20:50:59.437Z"
   },
   {
    "duration": 200,
    "start_time": "2024-11-01T20:51:53.592Z"
   },
   {
    "duration": 136,
    "start_time": "2024-11-01T20:56:18.700Z"
   },
   {
    "duration": 14,
    "start_time": "2024-11-01T21:02:29.155Z"
   },
   {
    "duration": 17,
    "start_time": "2024-11-01T21:02:36.031Z"
   },
   {
    "duration": 13,
    "start_time": "2024-11-01T21:02:40.567Z"
   },
   {
    "duration": 293,
    "start_time": "2024-11-01T21:10:50.742Z"
   },
   {
    "duration": 224,
    "start_time": "2024-11-01T21:13:39.030Z"
   },
   {
    "duration": 228,
    "start_time": "2024-11-01T21:26:19.221Z"
   },
   {
    "duration": 264,
    "start_time": "2024-11-01T21:26:47.652Z"
   },
   {
    "duration": 217,
    "start_time": "2024-11-01T21:26:57.840Z"
   },
   {
    "duration": 881,
    "start_time": "2024-11-01T21:39:03.515Z"
   },
   {
    "duration": 176,
    "start_time": "2024-11-01T21:39:28.571Z"
   },
   {
    "duration": 352,
    "start_time": "2024-11-01T21:41:00.639Z"
   },
   {
    "duration": 328,
    "start_time": "2024-11-01T21:41:04.951Z"
   },
   {
    "duration": 223,
    "start_time": "2024-11-01T21:50:19.642Z"
   },
   {
    "duration": 234,
    "start_time": "2024-11-01T21:50:31.767Z"
   },
   {
    "duration": 355,
    "start_time": "2024-11-01T22:00:58.658Z"
   },
   {
    "duration": 340,
    "start_time": "2024-11-01T22:01:06.434Z"
   },
   {
    "duration": 225,
    "start_time": "2024-11-01T22:02:02.349Z"
   },
   {
    "duration": 212,
    "start_time": "2024-11-01T22:02:08.441Z"
   },
   {
    "duration": 403,
    "start_time": "2024-11-01T22:02:15.442Z"
   },
   {
    "duration": 239,
    "start_time": "2024-11-01T22:02:21.907Z"
   },
   {
    "duration": 336,
    "start_time": "2024-11-01T22:02:26.814Z"
   },
   {
    "duration": 328,
    "start_time": "2024-11-01T22:04:40.113Z"
   },
   {
    "duration": 345,
    "start_time": "2024-11-01T22:07:10.737Z"
   },
   {
    "duration": 327,
    "start_time": "2024-11-01T22:07:59.065Z"
   },
   {
    "duration": 746,
    "start_time": "2024-11-02T08:14:04.376Z"
   },
   {
    "duration": 21,
    "start_time": "2024-11-02T08:14:05.124Z"
   },
   {
    "duration": 5,
    "start_time": "2024-11-02T08:14:05.147Z"
   },
   {
    "duration": 64,
    "start_time": "2024-11-02T08:14:05.154Z"
   },
   {
    "duration": 37,
    "start_time": "2024-11-02T08:14:05.219Z"
   },
   {
    "duration": 14,
    "start_time": "2024-11-02T08:14:05.258Z"
   },
   {
    "duration": 42,
    "start_time": "2024-11-02T08:14:05.274Z"
   },
   {
    "duration": 6,
    "start_time": "2024-11-02T08:14:05.318Z"
   },
   {
    "duration": 15,
    "start_time": "2024-11-02T08:14:05.326Z"
   },
   {
    "duration": 21,
    "start_time": "2024-11-02T08:14:05.344Z"
   },
   {
    "duration": 98,
    "start_time": "2024-11-02T08:14:05.367Z"
   },
   {
    "duration": 8,
    "start_time": "2024-11-02T08:14:05.467Z"
   },
   {
    "duration": 32,
    "start_time": "2024-11-02T08:14:05.477Z"
   },
   {
    "duration": 205,
    "start_time": "2024-11-02T08:14:05.510Z"
   },
   {
    "duration": 146,
    "start_time": "2024-11-02T08:14:05.716Z"
   },
   {
    "duration": 14,
    "start_time": "2024-11-02T08:14:05.864Z"
   },
   {
    "duration": 361,
    "start_time": "2024-11-02T08:14:05.879Z"
   },
   {
    "duration": 246,
    "start_time": "2024-11-02T08:14:06.242Z"
   },
   {
    "duration": 317,
    "start_time": "2024-11-02T08:14:06.490Z"
   },
   {
    "duration": 319,
    "start_time": "2024-11-02T08:14:06.808Z"
   },
   {
    "duration": 361,
    "start_time": "2024-11-02T08:14:07.128Z"
   },
   {
    "duration": 17,
    "start_time": "2024-11-02T09:03:01.044Z"
   },
   {
    "duration": 50,
    "start_time": "2024-11-02T09:04:46.737Z"
   },
   {
    "duration": 13,
    "start_time": "2024-11-02T09:05:08.682Z"
   },
   {
    "duration": 141,
    "start_time": "2024-11-02T09:10:14.440Z"
   },
   {
    "duration": 138,
    "start_time": "2024-11-02T09:10:38.688Z"
   },
   {
    "duration": 226,
    "start_time": "2024-11-02T09:14:12.006Z"
   },
   {
    "duration": 281,
    "start_time": "2024-11-02T09:14:26.057Z"
   },
   {
    "duration": 258,
    "start_time": "2024-11-02T09:15:00.077Z"
   },
   {
    "duration": 270,
    "start_time": "2024-11-02T09:15:05.329Z"
   },
   {
    "duration": 319,
    "start_time": "2024-11-02T10:03:13.669Z"
   },
   {
    "duration": 289,
    "start_time": "2024-11-02T10:05:37.356Z"
   },
   {
    "duration": 294,
    "start_time": "2024-11-02T10:11:18.813Z"
   },
   {
    "duration": 6,
    "start_time": "2024-11-02T10:12:06.429Z"
   },
   {
    "duration": 177,
    "start_time": "2024-11-02T10:34:52.102Z"
   },
   {
    "duration": 173,
    "start_time": "2024-11-02T10:41:38.969Z"
   },
   {
    "duration": 1024,
    "start_time": "2024-11-02T10:46:19.752Z"
   },
   {
    "duration": 5,
    "start_time": "2024-11-02T10:46:31.864Z"
   },
   {
    "duration": 5,
    "start_time": "2024-11-02T10:59:40.765Z"
   },
   {
    "duration": 11,
    "start_time": "2024-11-02T11:00:29.334Z"
   },
   {
    "duration": 4,
    "start_time": "2024-11-02T11:00:37.717Z"
   },
   {
    "duration": 5,
    "start_time": "2024-11-02T11:00:46.622Z"
   },
   {
    "duration": 11,
    "start_time": "2024-11-02T11:25:18.737Z"
   },
   {
    "duration": 601,
    "start_time": "2024-11-02T11:52:35.341Z"
   },
   {
    "duration": 1625,
    "start_time": "2024-11-03T17:21:42.757Z"
   },
   {
    "duration": 21,
    "start_time": "2024-11-03T17:21:44.384Z"
   },
   {
    "duration": 5,
    "start_time": "2024-11-03T17:21:44.406Z"
   },
   {
    "duration": 6,
    "start_time": "2024-11-03T17:21:44.414Z"
   },
   {
    "duration": 17,
    "start_time": "2024-11-03T17:21:44.422Z"
   },
   {
    "duration": 14,
    "start_time": "2024-11-03T17:21:44.441Z"
   },
   {
    "duration": 21,
    "start_time": "2024-11-03T17:21:44.457Z"
   },
   {
    "duration": 6,
    "start_time": "2024-11-03T17:21:44.480Z"
   },
   {
    "duration": 42,
    "start_time": "2024-11-03T17:21:44.488Z"
   },
   {
    "duration": 19,
    "start_time": "2024-11-03T17:21:44.533Z"
   },
   {
    "duration": 6,
    "start_time": "2024-11-03T17:21:44.553Z"
   },
   {
    "duration": 16,
    "start_time": "2024-11-03T17:21:44.561Z"
   },
   {
    "duration": 11,
    "start_time": "2024-11-03T17:21:44.579Z"
   },
   {
    "duration": 221,
    "start_time": "2024-11-03T17:21:44.591Z"
   },
   {
    "duration": 138,
    "start_time": "2024-11-03T17:21:44.813Z"
   },
   {
    "duration": 13,
    "start_time": "2024-11-03T17:21:44.953Z"
   },
   {
    "duration": 361,
    "start_time": "2024-11-03T17:21:44.968Z"
   },
   {
    "duration": 228,
    "start_time": "2024-11-03T17:21:45.331Z"
   },
   {
    "duration": 417,
    "start_time": "2024-11-03T17:21:45.561Z"
   },
   {
    "duration": 245,
    "start_time": "2024-11-03T17:21:45.979Z"
   },
   {
    "duration": 328,
    "start_time": "2024-11-03T17:21:46.225Z"
   },
   {
    "duration": 324,
    "start_time": "2024-11-03T17:21:46.555Z"
   },
   {
    "duration": 6,
    "start_time": "2024-11-03T17:21:46.880Z"
   },
   {
    "duration": 194,
    "start_time": "2024-11-03T17:21:46.887Z"
   },
   {
    "duration": 6,
    "start_time": "2024-11-03T17:21:47.083Z"
   },
   {
    "duration": 97,
    "start_time": "2024-11-03T17:34:05.168Z"
   },
   {
    "duration": 9,
    "start_time": "2024-11-03T17:34:54.411Z"
   },
   {
    "duration": 117,
    "start_time": "2024-11-03T17:40:47.659Z"
   },
   {
    "duration": 127,
    "start_time": "2024-11-03T17:41:05.223Z"
   },
   {
    "duration": 30,
    "start_time": "2024-11-03T17:44:16.262Z"
   },
   {
    "duration": 113,
    "start_time": "2024-11-03T17:48:20.937Z"
   },
   {
    "duration": 29,
    "start_time": "2024-11-03T17:48:22.057Z"
   },
   {
    "duration": 18,
    "start_time": "2024-11-03T19:34:47.707Z"
   },
   {
    "duration": 152,
    "start_time": "2024-11-03T19:48:58.918Z"
   },
   {
    "duration": 30,
    "start_time": "2024-11-03T19:51:00.333Z"
   },
   {
    "duration": 32,
    "start_time": "2024-11-03T20:15:45.107Z"
   },
   {
    "duration": 27,
    "start_time": "2024-11-03T20:18:49.363Z"
   },
   {
    "duration": 71,
    "start_time": "2024-11-03T20:18:57.963Z"
   },
   {
    "duration": 28,
    "start_time": "2024-11-03T20:19:02.414Z"
   },
   {
    "duration": 13,
    "start_time": "2024-11-03T20:29:53.669Z"
   },
   {
    "duration": 7,
    "start_time": "2024-11-03T20:42:23.428Z"
   },
   {
    "duration": 6,
    "start_time": "2024-11-03T20:42:29.900Z"
   },
   {
    "duration": 14,
    "start_time": "2024-11-03T20:51:43.139Z"
   },
   {
    "duration": 11,
    "start_time": "2024-11-03T20:52:15.295Z"
   },
   {
    "duration": 28,
    "start_time": "2024-11-03T21:02:13.150Z"
   },
   {
    "duration": 12,
    "start_time": "2024-11-03T21:02:26.642Z"
   },
   {
    "duration": 27,
    "start_time": "2024-11-03T21:02:34.139Z"
   },
   {
    "duration": 1103,
    "start_time": "2024-11-03T21:03:28.047Z"
   },
   {
    "duration": 33,
    "start_time": "2024-11-03T21:03:39.295Z"
   },
   {
    "duration": 18,
    "start_time": "2024-11-03T21:18:47.060Z"
   },
   {
    "duration": 1308,
    "start_time": "2024-11-04T16:12:10.753Z"
   },
   {
    "duration": 20,
    "start_time": "2024-11-04T16:12:12.063Z"
   },
   {
    "duration": 4,
    "start_time": "2024-11-04T16:12:12.085Z"
   },
   {
    "duration": 6,
    "start_time": "2024-11-04T16:12:12.091Z"
   },
   {
    "duration": 13,
    "start_time": "2024-11-04T16:12:12.098Z"
   },
   {
    "duration": 19,
    "start_time": "2024-11-04T16:12:12.112Z"
   },
   {
    "duration": 35,
    "start_time": "2024-11-04T16:12:12.133Z"
   },
   {
    "duration": 7,
    "start_time": "2024-11-04T16:12:12.170Z"
   },
   {
    "duration": 9,
    "start_time": "2024-11-04T16:12:12.178Z"
   },
   {
    "duration": 40,
    "start_time": "2024-11-04T16:12:12.190Z"
   },
   {
    "duration": 20,
    "start_time": "2024-11-04T16:12:12.232Z"
   },
   {
    "duration": 41,
    "start_time": "2024-11-04T16:12:12.254Z"
   },
   {
    "duration": 18,
    "start_time": "2024-11-04T16:12:12.297Z"
   },
   {
    "duration": 197,
    "start_time": "2024-11-04T16:12:12.317Z"
   },
   {
    "duration": 149,
    "start_time": "2024-11-04T16:12:12.515Z"
   },
   {
    "duration": 13,
    "start_time": "2024-11-04T16:12:12.666Z"
   },
   {
    "duration": 391,
    "start_time": "2024-11-04T16:12:12.680Z"
   },
   {
    "duration": 307,
    "start_time": "2024-11-04T16:12:13.073Z"
   },
   {
    "duration": 427,
    "start_time": "2024-11-04T16:12:13.383Z"
   },
   {
    "duration": 334,
    "start_time": "2024-11-04T16:12:13.813Z"
   },
   {
    "duration": 417,
    "start_time": "2024-11-04T16:12:14.150Z"
   },
   {
    "duration": 383,
    "start_time": "2024-11-04T16:12:14.569Z"
   },
   {
    "duration": 12,
    "start_time": "2024-11-04T16:12:14.955Z"
   },
   {
    "duration": 249,
    "start_time": "2024-11-04T16:12:14.970Z"
   },
   {
    "duration": 11,
    "start_time": "2024-11-04T16:12:15.221Z"
   },
   {
    "duration": 144,
    "start_time": "2024-11-04T16:12:15.234Z"
   },
   {
    "duration": 152,
    "start_time": "2024-11-04T16:12:15.381Z"
   },
   {
    "duration": 47,
    "start_time": "2024-11-04T16:12:15.538Z"
   },
   {
    "duration": 315,
    "start_time": "2024-11-04T16:12:15.588Z"
   },
   {
    "duration": 43,
    "start_time": "2024-11-04T16:12:15.905Z"
   },
   {
    "duration": 14,
    "start_time": "2024-11-04T16:12:15.951Z"
   },
   {
    "duration": 32,
    "start_time": "2024-11-04T16:12:15.967Z"
   },
   {
    "duration": 61,
    "start_time": "2024-11-04T16:12:16.001Z"
   },
   {
    "duration": 29,
    "start_time": "2024-11-04T16:12:16.064Z"
   },
   {
    "duration": 11,
    "start_time": "2024-11-04T18:05:29.864Z"
   },
   {
    "duration": 110,
    "start_time": "2024-11-04T18:05:51.287Z"
   },
   {
    "duration": 9,
    "start_time": "2024-11-04T18:07:56.163Z"
   },
   {
    "duration": 14,
    "start_time": "2024-11-04T18:22:44.134Z"
   },
   {
    "duration": 15,
    "start_time": "2024-11-04T18:22:59.317Z"
   },
   {
    "duration": 8,
    "start_time": "2024-11-04T18:23:34.461Z"
   },
   {
    "duration": 9,
    "start_time": "2024-11-04T18:23:52.985Z"
   },
   {
    "duration": 12,
    "start_time": "2024-11-04T18:24:00.896Z"
   },
   {
    "duration": 5,
    "start_time": "2024-11-04T18:24:21.381Z"
   },
   {
    "duration": 5,
    "start_time": "2024-11-04T18:24:29.068Z"
   },
   {
    "duration": 10,
    "start_time": "2024-11-04T18:24:45.005Z"
   },
   {
    "duration": 12,
    "start_time": "2024-11-04T18:58:48.641Z"
   },
   {
    "duration": 12,
    "start_time": "2024-11-04T18:59:00.372Z"
   },
   {
    "duration": 13,
    "start_time": "2024-11-04T19:11:21.621Z"
   },
   {
    "duration": 11,
    "start_time": "2024-11-04T19:11:44.642Z"
   },
   {
    "duration": 71,
    "start_time": "2024-11-04T19:12:43.861Z"
   },
   {
    "duration": 11,
    "start_time": "2024-11-04T19:13:09.855Z"
   },
   {
    "duration": 10,
    "start_time": "2024-11-04T19:13:31.498Z"
   },
   {
    "duration": 10,
    "start_time": "2024-11-04T19:13:39.361Z"
   },
   {
    "duration": 1266,
    "start_time": "2024-11-04T19:15:11.370Z"
   },
   {
    "duration": 20,
    "start_time": "2024-11-04T19:15:12.638Z"
   },
   {
    "duration": 4,
    "start_time": "2024-11-04T19:15:12.660Z"
   },
   {
    "duration": 6,
    "start_time": "2024-11-04T19:15:12.666Z"
   },
   {
    "duration": 12,
    "start_time": "2024-11-04T19:15:12.673Z"
   },
   {
    "duration": 12,
    "start_time": "2024-11-04T19:15:12.686Z"
   },
   {
    "duration": 55,
    "start_time": "2024-11-04T19:15:12.699Z"
   },
   {
    "duration": 6,
    "start_time": "2024-11-04T19:15:12.756Z"
   },
   {
    "duration": 7,
    "start_time": "2024-11-04T19:15:12.764Z"
   },
   {
    "duration": 32,
    "start_time": "2024-11-04T19:15:12.774Z"
   },
   {
    "duration": 5,
    "start_time": "2024-11-04T19:15:12.808Z"
   },
   {
    "duration": 4,
    "start_time": "2024-11-04T19:15:12.820Z"
   },
   {
    "duration": 22,
    "start_time": "2024-11-04T19:15:12.825Z"
   },
   {
    "duration": 9,
    "start_time": "2024-11-04T19:15:12.849Z"
   },
   {
    "duration": 10,
    "start_time": "2024-11-04T19:15:12.860Z"
   },
   {
    "duration": 216,
    "start_time": "2024-11-04T19:15:12.872Z"
   },
   {
    "duration": 138,
    "start_time": "2024-11-04T19:15:13.089Z"
   },
   {
    "duration": 13,
    "start_time": "2024-11-04T19:15:13.228Z"
   },
   {
    "duration": 328,
    "start_time": "2024-11-04T19:15:13.243Z"
   },
   {
    "duration": 241,
    "start_time": "2024-11-04T19:15:13.573Z"
   },
   {
    "duration": 311,
    "start_time": "2024-11-04T19:15:13.821Z"
   },
   {
    "duration": 245,
    "start_time": "2024-11-04T19:15:14.134Z"
   },
   {
    "duration": 350,
    "start_time": "2024-11-04T19:15:14.381Z"
   },
   {
    "duration": 329,
    "start_time": "2024-11-04T19:15:14.733Z"
   },
   {
    "duration": 7,
    "start_time": "2024-11-04T19:15:15.063Z"
   },
   {
    "duration": 199,
    "start_time": "2024-11-04T19:15:15.072Z"
   },
   {
    "duration": 5,
    "start_time": "2024-11-04T19:15:15.273Z"
   },
   {
    "duration": 111,
    "start_time": "2024-11-04T19:15:15.281Z"
   },
   {
    "duration": 133,
    "start_time": "2024-11-04T19:15:15.394Z"
   },
   {
    "duration": 28,
    "start_time": "2024-11-04T19:15:15.529Z"
   },
   {
    "duration": 146,
    "start_time": "2024-11-04T19:15:15.558Z"
   },
   {
    "duration": 36,
    "start_time": "2024-11-04T19:15:15.706Z"
   },
   {
    "duration": 13,
    "start_time": "2024-11-04T19:15:15.744Z"
   },
   {
    "duration": 9,
    "start_time": "2024-11-04T19:15:15.759Z"
   },
   {
    "duration": 62,
    "start_time": "2024-11-04T19:15:15.770Z"
   },
   {
    "duration": 27,
    "start_time": "2024-11-04T19:15:15.834Z"
   },
   {
    "duration": 9,
    "start_time": "2024-11-04T19:18:59.395Z"
   },
   {
    "duration": 10,
    "start_time": "2024-11-04T19:27:41.201Z"
   },
   {
    "duration": 10,
    "start_time": "2024-11-04T19:27:43.133Z"
   },
   {
    "duration": 1192,
    "start_time": "2024-11-04T19:27:48.130Z"
   },
   {
    "duration": 22,
    "start_time": "2024-11-04T19:27:49.324Z"
   },
   {
    "duration": 5,
    "start_time": "2024-11-04T19:27:49.348Z"
   },
   {
    "duration": 31,
    "start_time": "2024-11-04T19:27:49.355Z"
   },
   {
    "duration": 24,
    "start_time": "2024-11-04T19:27:49.388Z"
   },
   {
    "duration": 27,
    "start_time": "2024-11-04T19:27:49.414Z"
   },
   {
    "duration": 19,
    "start_time": "2024-11-04T19:27:49.443Z"
   },
   {
    "duration": 5,
    "start_time": "2024-11-04T19:27:49.463Z"
   },
   {
    "duration": 6,
    "start_time": "2024-11-04T19:27:49.469Z"
   },
   {
    "duration": 19,
    "start_time": "2024-11-04T19:27:49.477Z"
   },
   {
    "duration": 24,
    "start_time": "2024-11-04T19:27:49.498Z"
   },
   {
    "duration": 5,
    "start_time": "2024-11-04T19:27:49.524Z"
   },
   {
    "duration": 12,
    "start_time": "2024-11-04T19:27:49.531Z"
   },
   {
    "duration": 11,
    "start_time": "2024-11-04T19:27:49.545Z"
   },
   {
    "duration": 10,
    "start_time": "2024-11-04T19:27:49.558Z"
   },
   {
    "duration": 242,
    "start_time": "2024-11-04T19:27:49.571Z"
   },
   {
    "duration": 139,
    "start_time": "2024-11-04T19:27:49.815Z"
   },
   {
    "duration": 14,
    "start_time": "2024-11-04T19:27:49.956Z"
   },
   {
    "duration": 311,
    "start_time": "2024-11-04T19:27:49.971Z"
   },
   {
    "duration": 224,
    "start_time": "2024-11-04T19:27:50.284Z"
   },
   {
    "duration": 329,
    "start_time": "2024-11-04T19:27:50.520Z"
   },
   {
    "duration": 240,
    "start_time": "2024-11-04T19:27:50.851Z"
   },
   {
    "duration": 449,
    "start_time": "2024-11-04T19:27:51.093Z"
   },
   {
    "duration": 614,
    "start_time": "2024-11-04T19:27:51.543Z"
   },
   {
    "duration": 6,
    "start_time": "2024-11-04T19:27:52.159Z"
   },
   {
    "duration": 377,
    "start_time": "2024-11-04T19:27:52.166Z"
   },
   {
    "duration": 4,
    "start_time": "2024-11-04T19:27:52.545Z"
   },
   {
    "duration": 199,
    "start_time": "2024-11-04T19:27:52.553Z"
   },
   {
    "duration": 205,
    "start_time": "2024-11-04T19:27:52.753Z"
   },
   {
    "duration": 30,
    "start_time": "2024-11-04T19:27:52.959Z"
   },
   {
    "duration": 139,
    "start_time": "2024-11-04T19:27:52.991Z"
   },
   {
    "duration": 27,
    "start_time": "2024-11-04T19:27:53.132Z"
   },
   {
    "duration": 11,
    "start_time": "2024-11-04T19:27:53.160Z"
   },
   {
    "duration": 12,
    "start_time": "2024-11-04T19:27:53.172Z"
   },
   {
    "duration": 54,
    "start_time": "2024-11-04T19:27:53.186Z"
   },
   {
    "duration": 17,
    "start_time": "2024-11-04T19:27:53.243Z"
   },
   {
    "duration": 1173,
    "start_time": "2024-11-04T23:10:39.839Z"
   },
   {
    "duration": 20,
    "start_time": "2024-11-04T23:10:41.014Z"
   },
   {
    "duration": 5,
    "start_time": "2024-11-04T23:10:41.035Z"
   },
   {
    "duration": 7,
    "start_time": "2024-11-04T23:10:41.041Z"
   },
   {
    "duration": 13,
    "start_time": "2024-11-04T23:10:41.050Z"
   },
   {
    "duration": 12,
    "start_time": "2024-11-04T23:10:41.065Z"
   },
   {
    "duration": 54,
    "start_time": "2024-11-04T23:10:41.079Z"
   },
   {
    "duration": 6,
    "start_time": "2024-11-04T23:10:41.135Z"
   },
   {
    "duration": 22,
    "start_time": "2024-11-04T23:10:41.142Z"
   },
   {
    "duration": 31,
    "start_time": "2024-11-04T23:10:41.167Z"
   },
   {
    "duration": 5,
    "start_time": "2024-11-04T23:10:41.200Z"
   },
   {
    "duration": 15,
    "start_time": "2024-11-04T23:10:41.207Z"
   },
   {
    "duration": 10,
    "start_time": "2024-11-04T23:10:41.223Z"
   },
   {
    "duration": 10,
    "start_time": "2024-11-04T23:10:41.235Z"
   },
   {
    "duration": 9,
    "start_time": "2024-11-04T23:10:41.247Z"
   },
   {
    "duration": 211,
    "start_time": "2024-11-04T23:10:41.258Z"
   },
   {
    "duration": 152,
    "start_time": "2024-11-04T23:10:41.471Z"
   },
   {
    "duration": 56,
    "start_time": "2024-11-04T23:10:41.625Z"
   },
   {
    "duration": 296,
    "start_time": "2024-11-04T23:10:41.682Z"
   },
   {
    "duration": 233,
    "start_time": "2024-11-04T23:10:41.980Z"
   },
   {
    "duration": 435,
    "start_time": "2024-11-04T23:10:42.214Z"
   },
   {
    "duration": 484,
    "start_time": "2024-11-04T23:10:42.651Z"
   },
   {
    "duration": 495,
    "start_time": "2024-11-04T23:10:43.137Z"
   },
   {
    "duration": 513,
    "start_time": "2024-11-04T23:10:43.633Z"
   },
   {
    "duration": 6,
    "start_time": "2024-11-04T23:10:44.148Z"
   },
   {
    "duration": 177,
    "start_time": "2024-11-04T23:10:44.155Z"
   },
   {
    "duration": 5,
    "start_time": "2024-11-04T23:10:44.334Z"
   },
   {
    "duration": 105,
    "start_time": "2024-11-04T23:10:44.342Z"
   },
   {
    "duration": 117,
    "start_time": "2024-11-04T23:10:44.449Z"
   },
   {
    "duration": 27,
    "start_time": "2024-11-04T23:10:44.568Z"
   },
   {
    "duration": 139,
    "start_time": "2024-11-04T23:10:44.597Z"
   },
   {
    "duration": 26,
    "start_time": "2024-11-04T23:10:44.738Z"
   },
   {
    "duration": 11,
    "start_time": "2024-11-04T23:10:44.766Z"
   },
   {
    "duration": 19,
    "start_time": "2024-11-04T23:10:44.778Z"
   },
   {
    "duration": 46,
    "start_time": "2024-11-04T23:10:44.799Z"
   },
   {
    "duration": 14,
    "start_time": "2024-11-04T23:10:44.847Z"
   },
   {
    "duration": 79,
    "start_time": "2024-11-06T09:45:04.781Z"
   },
   {
    "duration": 17,
    "start_time": "2024-11-06T09:45:06.887Z"
   },
   {
    "duration": 20,
    "start_time": "2024-11-06T09:45:12.784Z"
   },
   {
    "duration": 18,
    "start_time": "2024-11-06T09:58:48.727Z"
   },
   {
    "duration": 18,
    "start_time": "2024-11-06T10:04:02.153Z"
   },
   {
    "duration": 15,
    "start_time": "2024-11-06T10:05:05.235Z"
   },
   {
    "duration": 8,
    "start_time": "2024-11-06T10:11:46.696Z"
   },
   {
    "duration": 7,
    "start_time": "2024-11-06T10:11:47.142Z"
   },
   {
    "duration": 6,
    "start_time": "2024-11-06T10:12:48.046Z"
   },
   {
    "duration": 7,
    "start_time": "2024-11-06T10:12:48.447Z"
   },
   {
    "duration": 11,
    "start_time": "2024-11-06T10:14:30.957Z"
   },
   {
    "duration": 11,
    "start_time": "2024-11-06T10:14:31.715Z"
   },
   {
    "duration": 13,
    "start_time": "2024-11-06T10:27:54.039Z"
   },
   {
    "duration": 16,
    "start_time": "2024-11-06T10:27:57.228Z"
   },
   {
    "duration": 5,
    "start_time": "2024-11-06T10:34:48.412Z"
   },
   {
    "duration": 1245,
    "start_time": "2024-11-06T10:34:59.492Z"
   },
   {
    "duration": 20,
    "start_time": "2024-11-06T10:35:00.739Z"
   },
   {
    "duration": 20,
    "start_time": "2024-11-06T10:35:00.761Z"
   },
   {
    "duration": 25,
    "start_time": "2024-11-06T10:35:00.783Z"
   },
   {
    "duration": 29,
    "start_time": "2024-11-06T10:35:00.811Z"
   },
   {
    "duration": 72,
    "start_time": "2024-11-06T10:35:00.842Z"
   },
   {
    "duration": 37,
    "start_time": "2024-11-06T10:35:00.916Z"
   },
   {
    "duration": 91,
    "start_time": "2024-11-06T10:35:00.955Z"
   },
   {
    "duration": 64,
    "start_time": "2024-11-06T10:35:01.048Z"
   },
   {
    "duration": 62,
    "start_time": "2024-11-06T10:35:01.113Z"
   },
   {
    "duration": 53,
    "start_time": "2024-11-06T10:35:01.177Z"
   },
   {
    "duration": 42,
    "start_time": "2024-11-06T10:35:01.232Z"
   },
   {
    "duration": 72,
    "start_time": "2024-11-06T10:35:01.276Z"
   },
   {
    "duration": 43,
    "start_time": "2024-11-06T10:35:01.350Z"
   },
   {
    "duration": 57,
    "start_time": "2024-11-06T10:35:01.395Z"
   },
   {
    "duration": 226,
    "start_time": "2024-11-06T10:35:01.453Z"
   },
   {
    "duration": 142,
    "start_time": "2024-11-06T10:35:01.681Z"
   },
   {
    "duration": 14,
    "start_time": "2024-11-06T10:35:01.824Z"
   },
   {
    "duration": 339,
    "start_time": "2024-11-06T10:35:01.839Z"
   },
   {
    "duration": 258,
    "start_time": "2024-11-06T10:35:02.180Z"
   },
   {
    "duration": 328,
    "start_time": "2024-11-06T10:35:02.440Z"
   },
   {
    "duration": 248,
    "start_time": "2024-11-06T10:35:02.770Z"
   },
   {
    "duration": 341,
    "start_time": "2024-11-06T10:35:03.022Z"
   },
   {
    "duration": 333,
    "start_time": "2024-11-06T10:35:03.365Z"
   },
   {
    "duration": 5,
    "start_time": "2024-11-06T10:35:03.699Z"
   },
   {
    "duration": 230,
    "start_time": "2024-11-06T10:35:03.706Z"
   },
   {
    "duration": 7,
    "start_time": "2024-11-06T10:35:03.938Z"
   },
   {
    "duration": 127,
    "start_time": "2024-11-06T10:35:03.947Z"
   },
   {
    "duration": 161,
    "start_time": "2024-11-06T10:35:04.075Z"
   },
   {
    "duration": 31,
    "start_time": "2024-11-06T10:35:04.237Z"
   },
   {
    "duration": 153,
    "start_time": "2024-11-06T10:35:04.269Z"
   },
   {
    "duration": 28,
    "start_time": "2024-11-06T10:35:04.424Z"
   },
   {
    "duration": 11,
    "start_time": "2024-11-06T10:35:04.454Z"
   },
   {
    "duration": 20,
    "start_time": "2024-11-06T10:35:04.466Z"
   },
   {
    "duration": 57,
    "start_time": "2024-11-06T10:35:04.488Z"
   },
   {
    "duration": 17,
    "start_time": "2024-11-06T10:35:04.547Z"
   },
   {
    "duration": 7,
    "start_time": "2024-11-06T14:45:00.580Z"
   },
   {
    "duration": 5,
    "start_time": "2024-11-06T14:45:08.152Z"
   },
   {
    "duration": 5,
    "start_time": "2024-11-06T14:45:40.668Z"
   },
   {
    "duration": 12,
    "start_time": "2024-11-06T14:46:01.500Z"
   },
   {
    "duration": 12,
    "start_time": "2024-11-06T14:46:33.435Z"
   },
   {
    "duration": 11,
    "start_time": "2024-11-06T14:46:41.965Z"
   },
   {
    "duration": 90,
    "start_time": "2024-11-06T14:48:37.073Z"
   },
   {
    "duration": 112,
    "start_time": "2024-11-06T14:48:37.981Z"
   },
   {
    "duration": 34,
    "start_time": "2024-11-06T14:48:39.625Z"
   },
   {
    "duration": 131,
    "start_time": "2024-11-06T14:48:42.684Z"
   },
   {
    "duration": 30,
    "start_time": "2024-11-06T14:48:44.781Z"
   },
   {
    "duration": 11,
    "start_time": "2024-11-06T14:48:58.181Z"
   },
   {
    "duration": 11,
    "start_time": "2024-11-06T14:49:06.545Z"
   },
   {
    "duration": 31,
    "start_time": "2024-11-06T14:49:10.024Z"
   },
   {
    "duration": 20,
    "start_time": "2024-11-06T14:49:38.629Z"
   },
   {
    "duration": 337,
    "start_time": "2024-11-06T15:05:22.254Z"
   },
   {
    "duration": 446,
    "start_time": "2024-11-06T15:05:59.197Z"
   },
   {
    "duration": 338,
    "start_time": "2024-11-06T15:07:44.313Z"
   },
   {
    "duration": 305,
    "start_time": "2024-11-06T15:07:51.973Z"
   },
   {
    "duration": 1286,
    "start_time": "2024-11-06T15:20:09.940Z"
   },
   {
    "duration": 22,
    "start_time": "2024-11-06T15:20:11.228Z"
   },
   {
    "duration": 17,
    "start_time": "2024-11-06T15:20:11.251Z"
   },
   {
    "duration": 15,
    "start_time": "2024-11-06T15:20:11.270Z"
   },
   {
    "duration": 34,
    "start_time": "2024-11-06T15:20:11.287Z"
   },
   {
    "duration": 9,
    "start_time": "2024-11-06T15:20:11.323Z"
   },
   {
    "duration": 21,
    "start_time": "2024-11-06T15:20:11.333Z"
   },
   {
    "duration": 14,
    "start_time": "2024-11-06T15:20:11.356Z"
   },
   {
    "duration": 9,
    "start_time": "2024-11-06T15:20:11.371Z"
   },
   {
    "duration": 18,
    "start_time": "2024-11-06T15:20:11.382Z"
   },
   {
    "duration": 23,
    "start_time": "2024-11-06T15:20:11.402Z"
   },
   {
    "duration": 14,
    "start_time": "2024-11-06T15:20:11.426Z"
   },
   {
    "duration": 15,
    "start_time": "2024-11-06T15:20:11.441Z"
   },
   {
    "duration": 11,
    "start_time": "2024-11-06T15:20:11.457Z"
   },
   {
    "duration": 10,
    "start_time": "2024-11-06T15:20:11.470Z"
   },
   {
    "duration": 233,
    "start_time": "2024-11-06T15:20:11.482Z"
   },
   {
    "duration": 163,
    "start_time": "2024-11-06T15:20:11.717Z"
   },
   {
    "duration": 14,
    "start_time": "2024-11-06T15:20:11.882Z"
   },
   {
    "duration": 368,
    "start_time": "2024-11-06T15:20:11.898Z"
   },
   {
    "duration": 453,
    "start_time": "2024-11-06T15:20:12.268Z"
   },
   {
    "duration": 506,
    "start_time": "2024-11-06T15:20:12.722Z"
   },
   {
    "duration": 502,
    "start_time": "2024-11-06T15:20:13.230Z"
   },
   {
    "duration": 524,
    "start_time": "2024-11-06T15:20:13.734Z"
   },
   {
    "duration": 314,
    "start_time": "2024-11-06T15:20:14.260Z"
   },
   {
    "duration": 5,
    "start_time": "2024-11-06T15:20:14.577Z"
   },
   {
    "duration": 179,
    "start_time": "2024-11-06T15:20:14.584Z"
   },
   {
    "duration": 6,
    "start_time": "2024-11-06T15:20:14.764Z"
   },
   {
    "duration": 103,
    "start_time": "2024-11-06T15:20:14.773Z"
   },
   {
    "duration": 130,
    "start_time": "2024-11-06T15:20:14.877Z"
   },
   {
    "duration": 42,
    "start_time": "2024-11-06T15:20:15.008Z"
   },
   {
    "duration": 216,
    "start_time": "2024-11-06T15:20:15.052Z"
   },
   {
    "duration": 29,
    "start_time": "2024-11-06T15:20:15.270Z"
   },
   {
    "duration": 43,
    "start_time": "2024-11-06T15:20:15.301Z"
   },
   {
    "duration": 24,
    "start_time": "2024-11-06T15:20:15.346Z"
   },
   {
    "duration": 93,
    "start_time": "2024-11-06T15:20:15.372Z"
   },
   {
    "duration": 66,
    "start_time": "2024-11-06T15:20:15.467Z"
   },
   {
    "duration": 1265,
    "start_time": "2024-11-06T15:36:02.946Z"
   },
   {
    "duration": 20,
    "start_time": "2024-11-06T15:36:04.214Z"
   },
   {
    "duration": 19,
    "start_time": "2024-11-06T15:36:04.236Z"
   },
   {
    "duration": 14,
    "start_time": "2024-11-06T15:36:04.257Z"
   },
   {
    "duration": 10,
    "start_time": "2024-11-06T15:36:04.273Z"
   },
   {
    "duration": 21,
    "start_time": "2024-11-06T15:36:04.285Z"
   },
   {
    "duration": 22,
    "start_time": "2024-11-06T15:36:04.307Z"
   },
   {
    "duration": 10,
    "start_time": "2024-11-06T15:36:04.331Z"
   },
   {
    "duration": 6,
    "start_time": "2024-11-06T15:36:04.342Z"
   },
   {
    "duration": 6,
    "start_time": "2024-11-06T15:36:04.351Z"
   },
   {
    "duration": 36,
    "start_time": "2024-11-06T15:36:04.359Z"
   },
   {
    "duration": 13,
    "start_time": "2024-11-06T15:36:04.396Z"
   },
   {
    "duration": 23,
    "start_time": "2024-11-06T15:36:04.410Z"
   },
   {
    "duration": 24,
    "start_time": "2024-11-06T15:36:04.435Z"
   },
   {
    "duration": 46,
    "start_time": "2024-11-06T15:36:04.461Z"
   },
   {
    "duration": 237,
    "start_time": "2024-11-06T15:36:04.508Z"
   },
   {
    "duration": 141,
    "start_time": "2024-11-06T15:36:04.747Z"
   },
   {
    "duration": 13,
    "start_time": "2024-11-06T15:36:04.890Z"
   },
   {
    "duration": 346,
    "start_time": "2024-11-06T15:36:04.921Z"
   },
   {
    "duration": 356,
    "start_time": "2024-11-06T15:36:05.269Z"
   },
   {
    "duration": 516,
    "start_time": "2024-11-06T15:36:05.626Z"
   },
   {
    "duration": 496,
    "start_time": "2024-11-06T15:36:06.143Z"
   },
   {
    "duration": 518,
    "start_time": "2024-11-06T15:36:06.641Z"
   },
   {
    "duration": 340,
    "start_time": "2024-11-06T15:36:07.161Z"
   },
   {
    "duration": 20,
    "start_time": "2024-11-06T15:36:07.502Z"
   },
   {
    "duration": 166,
    "start_time": "2024-11-06T15:36:07.524Z"
   },
   {
    "duration": 6,
    "start_time": "2024-11-06T15:36:07.692Z"
   },
   {
    "duration": 108,
    "start_time": "2024-11-06T15:36:07.702Z"
   },
   {
    "duration": 129,
    "start_time": "2024-11-06T15:36:07.820Z"
   },
   {
    "duration": 32,
    "start_time": "2024-11-06T15:36:07.951Z"
   },
   {
    "duration": 146,
    "start_time": "2024-11-06T15:36:07.985Z"
   },
   {
    "duration": 29,
    "start_time": "2024-11-06T15:36:08.133Z"
   },
   {
    "duration": 12,
    "start_time": "2024-11-06T15:36:08.164Z"
   },
   {
    "duration": 13,
    "start_time": "2024-11-06T15:36:08.178Z"
   },
   {
    "duration": 33,
    "start_time": "2024-11-06T15:36:08.222Z"
   },
   {
    "duration": 15,
    "start_time": "2024-11-06T15:36:08.257Z"
   },
   {
    "duration": 58,
    "start_time": "2024-11-06T17:33:29.055Z"
   }
  ],
  "kernelspec": {
   "display_name": "Python 3 (ipykernel)",
   "language": "python",
   "name": "python3"
  },
  "language_info": {
   "codemirror_mode": {
    "name": "ipython",
    "version": 3
   },
   "file_extension": ".py",
   "mimetype": "text/x-python",
   "name": "python",
   "nbconvert_exporter": "python",
   "pygments_lexer": "ipython3",
   "version": "3.11.7"
  },
  "toc": {
   "base_numbering": 1,
   "nav_menu": {},
   "number_sections": true,
   "sideBar": true,
   "skip_h1_title": true,
   "title_cell": "Table of Contents",
   "title_sidebar": "Contents",
   "toc_cell": false,
   "toc_position": {
    "height": "calc(100% - 180px)",
    "left": "10px",
    "top": "150px",
    "width": "294px"
   },
   "toc_section_display": true,
   "toc_window_display": true
  }
 },
 "nbformat": 4,
 "nbformat_minor": 4
}
